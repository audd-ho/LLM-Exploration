{
 "cells": [
  {
   "cell_type": "markdown",
   "metadata": {},
   "source": [
    "# Similarity Comparison Function Section"
   ]
  },
  {
   "cell_type": "markdown",
   "metadata": {},
   "source": [
    "### Generic Similarity Comparison Function + Lock Version"
   ]
  },
  {
   "cell_type": "code",
   "execution_count": null,
   "metadata": {},
   "outputs": [],
   "source": [
    "# Generic Similarity Comparison Function (comparison tuples in a list for comparison!)\n",
    "\n",
    "def generic_similarity_comparison_function(embedding_model_function, comparison_tuple_in_list, sort_output = 0):\n",
    "    res_dict = {}\n",
    "    for comp_items in comparison_tuple_in_list:\n",
    "        # possible alternative is below, so that if embedding model only accept one string and return 1d array/tensor then works!!\n",
    "        # comp_emb = [embedding_model_function(comp_items[0]), embedding_model_function(comp_items[1])]\n",
    "        comp_emb = embedding_model_function([comp_items[0], comp_items[1]]) # or just list(comp_items)\n",
    "        cos_sim = cosine_sim(comp_emb[0], comp_emb[1])\n",
    "        res_dict[comp_items] = cos_sim\n",
    "        \n",
    "    # sort by -1 is descending, 0 is no sort, 1 is ascending!\n",
    "    # default is no sort, 0\n",
    "    if sort_output == -1:\n",
    "        res_dict = {comp:comp_score for comp, comp_score in sorted(res_dict.items(), key = lambda dict_item: dict_item[1], reverse=True)}\n",
    "    if sort_output == 1:\n",
    "        res_dict = dict(sorted(res_dict.items(), key = lambda dict_item: dict_item[1], reverse=False))\n",
    "    return res_dict\n",
    "        "
   ]
  },
  {
   "cell_type": "code",
   "execution_count": null,
   "metadata": {},
   "outputs": [],
   "source": [
    "# partial does not allow arguments to be filled with keywords, need strictly positional so prefer not\n",
    "\n",
    "## Error is like:\n",
    "# generic_similarity_comparison_locked_model_MiniLM_L6_v2 = lock_generic_similarity_comparison_function(get_sentence_embedding_MiniLM_L6_v2)\n",
    "# generic_similarity_comparison_locked_model_MiniLM_L6_v2([(\"hi there\", \"the world is bad\"), (\"i like people\", \"people love me\"), (\"the world is green\", \"the ocean is blue\")], sort_output=1)\n",
    "\n",
    "## Fix is need to specific keyword or change embedding callbaack function position and all, by keyword is like:\n",
    "# generic_similarity_comparison_locked_model_MiniLM_L6_v2 = lock_generic_similarity_comparison_function(get_sentence_embedding_MiniLM_L6_v2)\n",
    "# generic_similarity_comparison_locked_model_MiniLM_L6_v2(comparison_tuple_in_list=[(\"hi there\", \"the world is bad\"), (\"i like people\", \"people love me\"), (\"the world is green\", \"the ocean is blue\")], sort_output=1)\n",
    "## see the \"comparison_tuple_in_list=\" specified, for example! ^\n",
    "\n",
    "\"\"\"\n",
    "from functools import partial\n",
    "\n",
    "def lock_generic_similarity_comparison_function(embedding_model_function):\n",
    "    return partial(generic_similarity_comparison_function, embedding_model_function=embedding_model_function)\n",
    "\"\"\"\n",
    "\n",
    "## instead of def new function, lambda approach!\n",
    "\n",
    "def lock_generic_similarity_comparison_function(embedding_model_function):\n",
    "    return lambda comparison_tuple_in_list, sort_output = 0: generic_similarity_comparison_function(embedding_model_function=embedding_model_function, comparison_tuple_in_list=comparison_tuple_in_list, sort_output=sort_output)"
   ]
  },
  {
   "cell_type": "markdown",
   "metadata": {},
   "source": [
    "### ONE Category Similarity Comparison Function + Lock Version"
   ]
  },
  {
   "cell_type": "code",
   "execution_count": null,
   "metadata": {},
   "outputs": [],
   "source": [
    "# ONE Category Similarity Comparison Function (compare to each string in a list!)\n",
    "def single_category_similarity_comparison_function(embedding_model_function, category_single, texts, sort_output = 0):\n",
    "    if type(texts) != list:\n",
    "        texts = [texts]\n",
    "    compiled_tuple_comparison_list = [(text, category) for text, category in zip(texts, [category_single for i in range(len(texts))])]\n",
    "    comparison_result_dict = generic_similarity_comparison_function(embedding_model_function=embedding_model_function, comparison_tuple_in_list=compiled_tuple_comparison_list, sort_output=sort_output)\n",
    "    return comparison_result_dict"
   ]
  },
  {
   "cell_type": "code",
   "execution_count": null,
   "metadata": {},
   "outputs": [],
   "source": [
    "def lock_single_category_similarity_comparison_function(embedding_model_function):\n",
    "    def lockED_single_category_similarity_comparison_function(category_single, texts, sort_output=0): ## sort_output=0 is needed since it can be left blank when called from locked model!\n",
    "        return single_category_similarity_comparison_function(embedding_model_function=embedding_model_function, category_single=category_single, texts=texts, sort_output=sort_output)\n",
    "    return lockED_single_category_similarity_comparison_function"
   ]
  },
  {
   "cell_type": "markdown",
   "metadata": {},
   "source": [
    "### Categories Similarity Comparison Function + Lock Version"
   ]
  },
  {
   "cell_type": "code",
   "execution_count": null,
   "metadata": {},
   "outputs": [],
   "source": [
    "# Categories Similarity Comparison Function (compare to each string in a list!)\n",
    "\n",
    "# sort by -1 is descending, 0 is no sort, 1 is ascending!\n",
    "# default is no sort, 0\n",
    "    \n",
    "def categories_similarity_comparison_function(embedding_model_function, categories, texts, sort_output = 0):\n",
    "    if type(categories) != list:\n",
    "        categories = [categories]\n",
    "    categories_comparison_result_dict = {}\n",
    "    for category in categories:\n",
    "        categories_comparison_result_dict[category] = single_category_similarity_comparison_function(embedding_model_function=embedding_model_function, category_single=category, texts=texts, sort_output=sort_output)\n",
    "    return categories_comparison_result_dict"
   ]
  },
  {
   "cell_type": "code",
   "execution_count": null,
   "metadata": {},
   "outputs": [],
   "source": [
    "\"\"\"\n",
    "from functools import partial\n",
    "\n",
    "def lock_categories_similarity_comparison_function(embedding_model_function):\n",
    "    return partial(categories_similarity_comparison_function, embedding_model_function=embedding_model_function)\n",
    "\"\"\"\n",
    "\n",
    "# lambda approach somewhat!, no keyword in the lambda now, just based off positional cos it can! but the sort_output=0 is a must, so that when call the locked function, if leave blank for it, wont error!\n",
    "def lock_categories_similarity_comparison_function(embedding_model_function):\n",
    "    return lambda categories, texts, sort_output=0: categories_similarity_comparison_function(embedding_model_function, categories, texts, sort_output)"
   ]
  },
  {
   "cell_type": "markdown",
   "metadata": {},
   "source": [
    "#### Comparison Result Display"
   ]
  },
  {
   "cell_type": "code",
   "execution_count": null,
   "metadata": {},
   "outputs": [],
   "source": [
    "# Categories Similarity Result Display\n",
    "\n",
    "# Very specific use case only for \"single_category_similarity_comparison_function\" which returns a dict of compare_key and result_value\n",
    "# Not usable on \"categories_similarity_comparison_function\" since this returns will return dict of dict!\n",
    "\n",
    "def category_similarity_result_display(category_result_dict, sort_display = 0):\n",
    "    print(f\"Category: {list(category_result_dict.keys())[0][1]}\") ## trashy clusterfuck\n",
    "    print(\"Similarity Level:\")\n",
    "    if sort_display == -1:\n",
    "        for comparison_items_tuple, comparison_result in (sorted(category_result_dict.items(), key= lambda dict_item: dict_item[1], reverse=True)):\n",
    "            print(f\"{comparison_items_tuple[0]:30.30} /-/ {comparison_items_tuple[1]:30.30} : {comparison_result:.5}\")\n",
    "    elif sort_display == 1:\n",
    "        for comparison_items_tuple, comparison_result in (sorted(category_result_dict.items(), key= lambda dict_item: dict_item[1], reverse=True)):\n",
    "            print(f\"{comparison_items_tuple[0]:30.30} /-/ {comparison_items_tuple[1]:30.30} : {comparison_result:.5}\")\n",
    "    else:\n",
    "        for comparison_items_tuple, comparison_result in category_result_dict.items():\n",
    "            print(f\"{comparison_items_tuple[0]:30.30} /-/ {comparison_items_tuple[1]:30.30} : {comparison_result:.5}\")"
   ]
  },
  {
   "cell_type": "code",
   "execution_count": null,
   "metadata": {},
   "outputs": [],
   "source": [
    "# Categories Similarity Result Display\n",
    "def categories_similarity_result_display(categories_result_dict, sort_display = 0):\n",
    "    for category, category_similarity_results_dict in categories_result_dict.items():\n",
    "        print(f\"Category: {category}\")\n",
    "        print(\"Similarity Level:\")\n",
    "        if sort_display == -1:\n",
    "            for comparison_items_tuple, comparison_result in (sorted(category_similarity_results_dict.items(), key= lambda dict_item: dict_item[1], reverse=True)):\n",
    "                print(f\"{comparison_items_tuple[0]:30.30} /-/ {comparison_items_tuple[1]:30.30} : {comparison_result:.5}\")\n",
    "        elif sort_display == 1:\n",
    "            for comparison_items_tuple, comparison_result in (sorted(category_similarity_results_dict.items(), key= lambda dict_item: dict_item[1], reverse=True)):\n",
    "                print(f\"{comparison_items_tuple[0]:30.30} /-/ {comparison_items_tuple[1]:30.30} : {comparison_result:.5}\")\n",
    "        else:\n",
    "            for comparison_items_tuple, comparison_result in category_similarity_results_dict.items():\n",
    "                print(f\"{comparison_items_tuple[0]:30.30} /-/ {comparison_items_tuple[1]:30.30} : {comparison_result:.5}\")"
   ]
  },
  {
   "cell_type": "markdown",
   "metadata": {},
   "source": [
    "##### Example Demo"
   ]
  },
  {
   "cell_type": "code",
   "execution_count": null,
   "metadata": {},
   "outputs": [
    {
     "data": {
      "text/plain": [
       "{('i like people', 'people love me'): 0.6048486815689496,\n",
       " ('the world is green', 'the ocean is blue'): 0.4271523653033571,\n",
       " ('hi there', 'the world is bad'): 0.1287177563239086}"
      ]
     },
     "metadata": {},
     "output_type": "display_data"
    }
   ],
   "source": [
    "# Sort -1, descending\n",
    "generic_similarity_comparison_function(get_sentence_embedding_MiniLM_L6_v2, [(\"hi there\", \"the world is bad\"), (\"i like people\", \"people love me\"), (\"the world is green\", \"the ocean is blue\")], sort_output=-1)"
   ]
  },
  {
   "cell_type": "code",
   "execution_count": null,
   "metadata": {},
   "outputs": [
    {
     "data": {
      "text/plain": [
       "{('hi there', 'the world is bad'): 0.1287177563239086,\n",
       " ('i like people', 'people love me'): 0.6048486815689496,\n",
       " ('the world is green', 'the ocean is blue'): 0.4271523653033571}"
      ]
     },
     "metadata": {},
     "output_type": "display_data"
    }
   ],
   "source": [
    "# Sort 0, no sort\n",
    "generic_similarity_comparison_function(get_sentence_embedding_MiniLM_L6_v2, [(\"hi there\", \"the world is bad\"), (\"i like people\", \"people love me\"), (\"the world is green\", \"the ocean is blue\")], sort_output=0)"
   ]
  },
  {
   "cell_type": "code",
   "execution_count": null,
   "metadata": {},
   "outputs": [
    {
     "data": {
      "text/plain": [
       "{('hi there', 'the world is bad'): 0.1287177563239086,\n",
       " ('the world is green', 'the ocean is blue'): 0.4271523653033571,\n",
       " ('i like people', 'people love me'): 0.6048486815689496}"
      ]
     },
     "metadata": {},
     "output_type": "display_data"
    }
   ],
   "source": [
    "# Sort 1, ascending\n",
    "generic_similarity_comparison_function(get_sentence_embedding_MiniLM_L6_v2, [(\"hi there\", \"the world is bad\"), (\"i like people\", \"people love me\"), (\"the world is green\", \"the ocean is blue\")], sort_output=1)"
   ]
  },
  {
   "cell_type": "code",
   "execution_count": null,
   "metadata": {},
   "outputs": [
    {
     "data": {
      "text/plain": [
       "{('hi there', 'the world is bad'): 0.1287177563239086,\n",
       " ('i like people', 'people love me'): 0.6048486815689496,\n",
       " ('the world is green', 'the ocean is blue'): 0.4271523653033571}"
      ]
     },
     "metadata": {},
     "output_type": "display_data"
    }
   ],
   "source": [
    "generic_similarity_comparison_locked_model_MiniLM_L6_v2 = lock_generic_similarity_comparison_function(get_sentence_embedding_MiniLM_L6_v2)\n",
    "generic_similarity_comparison_locked_model_MiniLM_L6_v2([(\"hi there\", \"the world is bad\"), (\"i like people\", \"people love me\"), (\"the world is green\", \"the ocean is blue\")])"
   ]
  },
  {
   "cell_type": "code",
   "execution_count": null,
   "metadata": {},
   "outputs": [
    {
     "data": {
      "text/plain": [
       "{('steak', 'food'): 0.5003130997095016,\n",
       " ('sirloin steak with mushroom sauce', 'food'): 0.2937494543044752,\n",
       " ('laksa bowl', 'food'): 0.259120507793398,\n",
       " ('curry prata', 'food'): 0.2585698555536739,\n",
       " ('laksa', 'food'): 0.21327309103382694,\n",
       " ('prata', 'food'): 0.21317178691606403}"
      ]
     },
     "metadata": {},
     "output_type": "display_data"
    }
   ],
   "source": [
    "# Eg. category food, and texts are foods\n",
    "single_category_similarity_comparison_function(get_sentence_embedding_MiniLM_L6_v2, \"food\", [\"laksa\", \"laksa bowl\", \"prata\", \"curry prata\", \"steak\", \"sirloin steak with mushroom sauce\"], sort_output=-1)"
   ]
  },
  {
   "cell_type": "code",
   "execution_count": null,
   "metadata": {},
   "outputs": [
    {
     "data": {
      "text/plain": [
       "{('steak', 'food'): 0.5003130997095016,\n",
       " ('sirloin steak with mushroom sauce', 'food'): 0.2937494543044752,\n",
       " ('laksa bowl', 'food'): 0.259120507793398,\n",
       " ('curry prata', 'food'): 0.2585698555536739,\n",
       " ('laksa', 'food'): 0.21327309103382694,\n",
       " ('prata', 'food'): 0.21317178691606403}"
      ]
     },
     "metadata": {},
     "output_type": "display_data"
    }
   ],
   "source": [
    "single_category_similarity_comparison_locked_model_MiniLM_L6_v2 = lock_single_category_similarity_comparison_function(get_sentence_embedding_MiniLM_L6_v2)\n",
    "single_category_similarity_comparison_locked_model_MiniLM_L6_v2(\"food\", [\"laksa\", \"laksa bowl\", \"prata\", \"curry prata\", \"steak\", \"sirloin steak with mushroom sauce\"], sort_output=-1)"
   ]
  },
  {
   "cell_type": "code",
   "execution_count": null,
   "metadata": {},
   "outputs": [
    {
     "data": {
      "text/plain": [
       "{'food': {('steak', 'food'): 0.5003130997095016,\n",
       "  ('sirloin steak with mushroom sauce', 'food'): 0.2937494543044752,\n",
       "  ('laksa bowl', 'food'): 0.259120507793398,\n",
       "  ('curry prata', 'food'): 0.2585698555536739,\n",
       "  ('laksa', 'food'): 0.21327309103382694,\n",
       "  ('prata', 'food'): 0.21317178691606403},\n",
       " 'asian food': {('steak', 'asian food'): 0.30798892917323445,\n",
       "  ('curry prata', 'asian food'): 0.30237662711869023,\n",
       "  ('sirloin steak with mushroom sauce', 'asian food'): 0.3007048767274798,\n",
       "  ('laksa bowl', 'asian food'): 0.22997642560937964,\n",
       "  ('laksa', 'asian food'): 0.20722211920235642,\n",
       "  ('prata', 'asian food'): 0.18665660738247442},\n",
       " 'western food': {('steak', 'western food'): 0.39804313466154906,\n",
       "  ('sirloin steak with mushroom sauce', 'western food'): 0.3040080630479595,\n",
       "  ('curry prata', 'western food'): 0.288779802737338,\n",
       "  ('laksa', 'western food'): 0.24079780320414573,\n",
       "  ('laksa bowl', 'western food'): 0.23389015706789013,\n",
       "  ('prata', 'western food'): 0.15397132982047892}}"
      ]
     },
     "metadata": {},
     "output_type": "display_data"
    }
   ],
   "source": [
    "# Eg. Testing multi-categories\n",
    "categories_similarity_comparison_function(get_sentence_embedding_MiniLM_L6_v2, [\"food\", \"asian food\", \"western food\"], [\"laksa\", \"laksa bowl\", \"prata\", \"curry prata\", \"steak\", \"sirloin steak with mushroom sauce\"], sort_output=-1)"
   ]
  },
  {
   "cell_type": "code",
   "execution_count": null,
   "metadata": {},
   "outputs": [
    {
     "data": {
      "text/plain": [
       "{'food': {('laksa', 'food'): 0.21327309103382694,\n",
       "  ('laksa bowl', 'food'): 0.259120507793398,\n",
       "  ('prata', 'food'): 0.21317178691606403,\n",
       "  ('curry prata', 'food'): 0.2585698555536739,\n",
       "  ('steak', 'food'): 0.5003130997095016,\n",
       "  ('sirloin steak with mushroom sauce', 'food'): 0.2937494543044752},\n",
       " 'asian food': {('laksa', 'asian food'): 0.20722211920235642,\n",
       "  ('laksa bowl', 'asian food'): 0.22997642560937964,\n",
       "  ('prata', 'asian food'): 0.18665660738247442,\n",
       "  ('curry prata', 'asian food'): 0.30237662711869023,\n",
       "  ('steak', 'asian food'): 0.30798892917323445,\n",
       "  ('sirloin steak with mushroom sauce', 'asian food'): 0.3007048767274798},\n",
       " 'western food': {('laksa', 'western food'): 0.24079780320414573,\n",
       "  ('laksa bowl', 'western food'): 0.23389015706789013,\n",
       "  ('prata', 'western food'): 0.15397132982047892,\n",
       "  ('curry prata', 'western food'): 0.288779802737338,\n",
       "  ('steak', 'western food'): 0.39804313466154906,\n",
       "  ('sirloin steak with mushroom sauce', 'western food'): 0.3040080630479595}}"
      ]
     },
     "metadata": {},
     "output_type": "display_data"
    }
   ],
   "source": [
    "categories_similarity_comparison_locked_model_MiniLM_L6_v2 = lock_categories_similarity_comparison_function(get_sentence_embedding_MiniLM_L6_v2)\n",
    "categories_similarity_comparison_locked_model_MiniLM_L6_v2([\"food\", \"asian food\", \"western food\"], texts=[\"laksa\", \"laksa bowl\", \"prata\", \"curry prata\", \"steak\", \"sirloin steak with mushroom sauce\"])"
   ]
  },
  {
   "cell_type": "code",
   "execution_count": null,
   "metadata": {},
   "outputs": [
    {
     "name": "stdout",
     "output_type": "stream",
     "text": [
      "Category: food\n",
      "Similarity Level:\n",
      "super prata                    /-/ food                           : 0.16437\n",
      "caifan                         /-/ food                           : 0.21156\n",
      "ramen                          /-/ food                           : 0.43923\n"
     ]
    }
   ],
   "source": [
    "# Very specific use case only for \"single_category_similarity_comparison_function\" which returns a dict of compare_key and result_value\n",
    "# Not usable on \"categories_similarity_comparison_function\" since this returns will return dict of dict!\n",
    "category_similarity_result_display(single_category_similarity_comparison_locked_model_MiniLM_L6_v2(\"food\", [\"super prata\", \"caifan\", \"ramen\"]))"
   ]
  },
  {
   "cell_type": "code",
   "execution_count": null,
   "metadata": {},
   "outputs": [
    {
     "name": "stdout",
     "output_type": "stream",
     "text": [
      "Category: food\n",
      "Similarity Level:\n",
      "steak                          /-/ food                           : 0.50031\n",
      "sirloin steak with mushroom sa /-/ food                           : 0.29375\n",
      "laksa bowl                     /-/ food                           : 0.25912\n",
      "curry prata                    /-/ food                           : 0.25857\n",
      "laksa                          /-/ food                           : 0.21327\n",
      "prata                          /-/ food                           : 0.21317\n",
      "Category: asian food\n",
      "Similarity Level:\n",
      "steak                          /-/ asian food                     : 0.30799\n",
      "curry prata                    /-/ asian food                     : 0.30238\n",
      "sirloin steak with mushroom sa /-/ asian food                     : 0.3007\n",
      "laksa bowl                     /-/ asian food                     : 0.22998\n",
      "laksa                          /-/ asian food                     : 0.20722\n",
      "prata                          /-/ asian food                     : 0.18666\n",
      "Category: western food\n",
      "Similarity Level:\n",
      "steak                          /-/ western food                   : 0.39804\n",
      "sirloin steak with mushroom sa /-/ western food                   : 0.30401\n",
      "curry prata                    /-/ western food                   : 0.28878\n",
      "laksa                          /-/ western food                   : 0.2408\n",
      "laksa bowl                     /-/ western food                   : 0.23389\n",
      "prata                          /-/ western food                   : 0.15397\n"
     ]
    }
   ],
   "source": [
    "# Eg. Testing multi-categories DISPLAY\n",
    "categories_similarity_result_display(categories_similarity_comparison_function(get_sentence_embedding_MiniLM_L6_v2, [\"food\", \"asian food\", \"western food\"], [\"laksa\", \"laksa bowl\", \"prata\", \"curry prata\", \"steak\", \"sirloin steak with mushroom sauce\"]), sort_display=-1)"
   ]
  },
  {
   "cell_type": "markdown",
   "metadata": {},
   "source": [
    "### Categories with \"sub-categories\"/\"synonyms\""
   ]
  },
  {
   "cell_type": "markdown",
   "metadata": {},
   "source": [
    "#### Both Comparisons and Display (General Cateogry with \"sub-categories\"/\"synonyms\")"
   ]
  },
  {
   "cell_type": "markdown",
   "metadata": {},
   "source": [
    "##### Comparisons (General Cateogry with \"sub-categories\"/\"synonyms\" variation)"
   ]
  },
  {
   "cell_type": "code",
   "execution_count": null,
   "metadata": {},
   "outputs": [],
   "source": [
    "## Categories with sub-categories is in format of dictionary where general_category-key:sub-\"categories\"_in_list(actually more like \"synonyms\" of the general categories)-value\n",
    "## returns a dictionary of general_category-key:{sub-\"category\"(general category \"synonyms\")-key:{(xyz_comparison, sub-\"category\"/\"synonym\"):cosine_similarity}}\n",
    "\n",
    "def categories_wsub_similarity_comparison_function(embedding_model_function, categories_wsub_dict, texts, sort_output=0):\n",
    "    categories_wsub_result_dict = {}\n",
    "    for big_general_category, sub_categories in categories_wsub_dict.items():\n",
    "        categories_wsub_result_dict[big_general_category] = categories_similarity_comparison_function(embedding_model_function=embedding_model_function, categories=([big_general_category]+sub_categories), texts=texts, sort_output=sort_output)\n",
    "    return categories_wsub_result_dict"
   ]
  },
  {
   "cell_type": "markdown",
   "metadata": {},
   "source": [
    "##### Comparisons - Lock (General Cateogry with \"sub-categories\"/\"synonyms\" variation)"
   ]
  },
  {
   "cell_type": "code",
   "execution_count": null,
   "metadata": {},
   "outputs": [],
   "source": [
    "def lock_categories_wsub_similarity_comparison_function(embedding_model_function):\n",
    "    return lambda categories_wsub_dict, texts, sort_output=0: categories_wsub_similarity_comparison_function(embedding_model_function=embedding_model_function, categories_wsub_dict=categories_wsub_dict, texts=texts, sort_output=sort_output)"
   ]
  },
  {
   "cell_type": "markdown",
   "metadata": {},
   "source": [
    "##### Display (General Cateogry with \"sub-categories\"/\"synonyms\" variation)"
   ]
  },
  {
   "cell_type": "code",
   "execution_count": null,
   "metadata": {},
   "outputs": [],
   "source": [
    "def categories_wsub_similarity_result_display(categories_wsub_result_dict, sort_display = 0):\n",
    "    for big_general_category, big_wsub_categories_result in categories_wsub_result_dict.items():\n",
    "        print(f\"General Category: {big_general_category}\")\n",
    "        categories_similarity_result_display(big_wsub_categories_result, sort_display=sort_display)\n",
    "        print()"
   ]
  },
  {
   "cell_type": "markdown",
   "metadata": {},
   "source": [
    "#### Display, similar to but variation [Top xxx (Count) and Limit yyy (Value)]"
   ]
  },
  {
   "cell_type": "code",
   "execution_count": null,
   "metadata": {},
   "outputs": [],
   "source": [
    "## Top xxx and Limit yyy, display function different mainly\n",
    "\n",
    "# Prep\n",
    "def categories_similarity_result_display_top_limit(categories_result_dict, top_many = 5, limit_value = 0.5):\n",
    "    for category, category_similarity_results_dict in categories_result_dict.items():\n",
    "        print(f\"Sub-Categories: {category}\")\n",
    "        print(f\"Similarity Level Of Top {top_many} (Limit={limit_value}):\")\n",
    "        num_count = 0\n",
    "        #if sort_display == -1:\n",
    "        for comparison_items_tuple, comparison_result in (sorted(category_similarity_results_dict.items(), key= lambda dict_item: dict_item[1], reverse=True)):\n",
    "            if num_count == top_many or comparison_result < limit_value:\n",
    "                break\n",
    "            print(f\"{comparison_items_tuple[0]:30.30} /-/ {comparison_items_tuple[1]:30.30} : {comparison_result:.5}\")\n",
    "            num_count += 1\n",
    "        \"\"\"\n",
    "        elif sort_display == 1:\n",
    "            for comparison_items_tuple, comparison_result in (sorted(category_similarity_results_dict.items(), key= lambda dict_item: dict_item[1], reverse=True)):\n",
    "                if num_count == top_many or comparison_result < limit_value:\n",
    "                    break\n",
    "                print(f\"{comparison_items_tuple[0]:30.30} /-/ {comparison_items_tuple[1]:30.30} : {comparison_result:.5}\")\n",
    "        else:\n",
    "            for comparison_items_tuple, comparison_result in category_similarity_results_dict.items():\n",
    "                if num_count == top_many or comparison_result < limit_value:\n",
    "                    break\n",
    "                print(f\"{comparison_items_tuple[0]:30.30} /-/ {comparison_items_tuple[1]:30.30} : {comparison_result:.5}\")\n",
    "        \"\"\"\n",
    "# Actual using function\n",
    "def categories_wsub_similarity_result_display_top_limit(categories_wsub_result_dict, top_many = 5, limit_value = 0.5):\n",
    "    for big_general_category, big_wsub_categories_result in categories_wsub_result_dict.items():\n",
    "        print(f\"General Category: {big_general_category}\")\n",
    "        general_category_subcats = tuple(big_wsub_categories_result.keys())\n",
    "        subcat_combined_dicts = {}\n",
    "        for subcat_dicts in big_wsub_categories_result.values():\n",
    "            subcat_combined_dicts = subcat_combined_dicts | subcat_dicts\n",
    "        #sorted_subcat_combined_dicts = {comp_tuple:comp_res for comp_tuple, comp_res in sorted(subcat_combined_dicts.items(), key = lambda dict_item: dict_item[1], reverse=True)}\n",
    "        categories_similarity_result_display_top_limit({general_category_subcats: subcat_combined_dicts}, top_many=top_many, limit_value=limit_value)\n",
    "        print()"
   ]
  },
  {
   "cell_type": "markdown",
   "metadata": {},
   "source": [
    "##### Example Demo"
   ]
  },
  {
   "cell_type": "code",
   "execution_count": null,
   "metadata": {},
   "outputs": [
    {
     "data": {
      "text/plain": [
       "{'Passage provided for business purpose': {'Passage provided for business purpose': {('Employees receive free flight benefits ',\n",
       "    'Passage provided for business purpose'): 0.14779233235003653,\n",
       "   ('to return to home country once a year and',\n",
       "    'Passage provided for business purpose'): 0.23613265901235564,\n",
       "   (' free flight benefits for business trips',\n",
       "    'Passage provided for business purpose'): 0.29568490649739965},\n",
       "  'Air tickets for business trip': {('Employees receive free flight benefits ',\n",
       "    'Air tickets for business trip'): 0.4639808954117372,\n",
       "   ('to return to home country once a year and',\n",
       "    'Air tickets for business trip'): 0.14540735152911588,\n",
       "   (' free flight benefits for business trips',\n",
       "    'Air tickets for business trip'): 0.6598189842771236},\n",
       "  'Air tickets for work purposes': {('Employees receive free flight benefits ',\n",
       "    'Air tickets for work purposes'): 0.5376104533584114,\n",
       "   ('to return to home country once a year and',\n",
       "    'Air tickets for work purposes'): 0.17531932735985858,\n",
       "   (' free flight benefits for business trips',\n",
       "    'Air tickets for work purposes'): 0.4950128993725118},\n",
       "  'Flight for business trip': {('Employees receive free flight benefits ',\n",
       "    'Flight for business trip'): 0.435762301470959,\n",
       "   ('to return to home country once a year and',\n",
       "    'Flight for business trip'): 0.25174570017998144,\n",
       "   (' free flight benefits for business trips',\n",
       "    'Flight for business trip'): 0.7536517813135932},\n",
       "  'Flight for work purposes': {('Employees receive free flight benefits ',\n",
       "    'Flight for work purposes'): 0.5511253221175141,\n",
       "   ('to return to home country once a year and',\n",
       "    'Flight for work purposes'): 0.2963659526055269,\n",
       "   (' free flight benefits for business trips',\n",
       "    'Flight for work purposes'): 0.6096248255738319},\n",
       "  'Travel incidental to employment': {('Employees receive free flight benefits ',\n",
       "    'Travel incidental to employment'): 0.39301368059022956,\n",
       "   ('to return to home country once a year and',\n",
       "    'Travel incidental to employment'): 0.3872685632273945,\n",
       "   (' free flight benefits for business trips',\n",
       "    'Travel incidental to employment'): 0.44624883322649134}},\n",
       " 'Passage provided when taking up employment and upon termination': {'Passage provided when taking up employment and upon termination': {('Employees receive free flight benefits ',\n",
       "    'Passage provided when taking up employment and upon termination'): 0.21868298163832403,\n",
       "   ('to return to home country once a year and',\n",
       "    'Passage provided when taking up employment and upon termination'): 0.18954677690810262,\n",
       "   (' free flight benefits for business trips',\n",
       "    'Passage provided when taking up employment and upon termination'): 0.09119117726133678},\n",
       "  'Air tickets back to home country after contract end': {('Employees receive free flight benefits ',\n",
       "    'Air tickets back to home country after contract end'): 0.30093577859713627,\n",
       "   ('to return to home country once a year and',\n",
       "    'Air tickets back to home country after contract end'): 0.36042882892695643,\n",
       "   (' free flight benefits for business trips',\n",
       "    'Air tickets back to home country after contract end'): 0.3095408398241093},\n",
       "  'Air tickets back to home country after termination of employment': {('Employees receive free flight benefits ',\n",
       "    'Air tickets back to home country after termination of employment'): 0.43415698362247235,\n",
       "   ('to return to home country once a year and',\n",
       "    'Air tickets back to home country after termination of employment'): 0.351968917273837,\n",
       "   (' free flight benefits for business trips',\n",
       "    'Air tickets back to home country after termination of employment'): 0.3505791343838498},\n",
       "  'Air tickets to work in Singapore': {('Employees receive free flight benefits ',\n",
       "    'Air tickets to work in Singapore'): 0.44262971324371864,\n",
       "   ('to return to home country once a year and',\n",
       "    'Air tickets to work in Singapore'): 0.16416035054066946,\n",
       "   (' free flight benefits for business trips',\n",
       "    'Air tickets to work in Singapore'): 0.3745299206916572},\n",
       "  'Flight back to home country after contract end': {('Employees receive free flight benefits ',\n",
       "    'Flight back to home country after contract end'): 0.22879137461995946,\n",
       "   ('to return to home country once a year and',\n",
       "    'Flight back to home country after contract end'): 0.4951524049674279,\n",
       "   (' free flight benefits for business trips',\n",
       "    'Flight back to home country after contract end'): 0.30337465747288683},\n",
       "  'Flight back to home country after termination of employment': {('Employees receive free flight benefits ',\n",
       "    'Flight back to home country after termination of employment'): 0.36049679568918713,\n",
       "   ('to return to home country once a year and',\n",
       "    'Flight back to home country after termination of employment'): 0.4381619780422173,\n",
       "   (' free flight benefits for business trips',\n",
       "    'Flight back to home country after termination of employment'): 0.3190605163520106},\n",
       "  'Flight to work in Singapore': {('Employees receive free flight benefits ',\n",
       "    'Flight to work in Singapore'): 0.39243984840253016,\n",
       "   ('to return to home country once a year and',\n",
       "    'Flight to work in Singapore'): 0.22750227947471324,\n",
       "   (' free flight benefits for business trips',\n",
       "    'Flight to work in Singapore'): 0.3923574507372793}},\n",
       " 'Home leave passage': {'Home leave passage': {('Employees receive free flight benefits ',\n",
       "    'Home leave passage'): 0.16376386148499494,\n",
       "   ('to return to home country once a year and',\n",
       "    'Home leave passage'): 0.41805832558384304,\n",
       "   (' free flight benefits for business trips',\n",
       "    'Home leave passage'): 0.1710042399611213},\n",
       "  'Air passage benefit': {('Employees receive free flight benefits ',\n",
       "    'Air passage benefit'): 0.4717066074745732,\n",
       "   ('to return to home country once a year and',\n",
       "    'Air passage benefit'): 0.24060433713629004,\n",
       "   (' free flight benefits for business trips',\n",
       "    'Air passage benefit'): 0.5176624065540667},\n",
       "  'Air tickets to home country': {('Employees receive free flight benefits ',\n",
       "    'Air tickets to home country'): 0.3469180402218514,\n",
       "   ('to return to home country once a year and',\n",
       "    'Air tickets to home country'): 0.38250976489666777,\n",
       "   (' free flight benefits for business trips',\n",
       "    'Air tickets to home country'): 0.38708819585485815},\n",
       "  'Flight to home country': {('Employees receive free flight benefits ',\n",
       "    'Flight to home country'): 0.26720465266595306,\n",
       "   ('to return to home country once a year and',\n",
       "    'Flight to home country'): 0.565318392098334,\n",
       "   (' free flight benefits for business trips',\n",
       "    'Flight to home country'): 0.41699008606212845}}}"
      ]
     },
     "metadata": {},
     "output_type": "display_data"
    }
   ],
   "source": [
    "categories_wsub_similarity_comparison_function(get_sentence_embedding_MiniLM_L6_v2, cat_wsub_demo, hlp_biz_demo_cut_third)"
   ]
  },
  {
   "cell_type": "code",
   "execution_count": null,
   "metadata": {},
   "outputs": [
    {
     "name": "stdout",
     "output_type": "stream",
     "text": [
      "General Category: Passage provided for business purpose\n",
      "Category: Passage provided for business purpose\n",
      "Similarity Level:\n",
      " free flight benefits for busi /-/ Passage provided for business  : 0.29568\n",
      "to return to home country once /-/ Passage provided for business  : 0.23613\n",
      "Employees receive free flight  /-/ Passage provided for business  : 0.14779\n",
      "Category: Air tickets for business trip\n",
      "Similarity Level:\n",
      " free flight benefits for busi /-/ Air tickets for business trip  : 0.65982\n",
      "Employees receive free flight  /-/ Air tickets for business trip  : 0.46398\n",
      "to return to home country once /-/ Air tickets for business trip  : 0.14541\n",
      "Category: Air tickets for work purposes\n",
      "Similarity Level:\n",
      "Employees receive free flight  /-/ Air tickets for work purposes  : 0.53761\n",
      " free flight benefits for busi /-/ Air tickets for work purposes  : 0.49501\n",
      "to return to home country once /-/ Air tickets for work purposes  : 0.17532\n",
      "Category: Flight for business trip\n",
      "Similarity Level:\n",
      " free flight benefits for busi /-/ Flight for business trip       : 0.75365\n",
      "Employees receive free flight  /-/ Flight for business trip       : 0.43576\n",
      "to return to home country once /-/ Flight for business trip       : 0.25175\n",
      "Category: Flight for work purposes\n",
      "Similarity Level:\n",
      " free flight benefits for busi /-/ Flight for work purposes       : 0.60962\n",
      "Employees receive free flight  /-/ Flight for work purposes       : 0.55113\n",
      "to return to home country once /-/ Flight for work purposes       : 0.29637\n",
      "Category: Travel incidental to employment\n",
      "Similarity Level:\n",
      " free flight benefits for busi /-/ Travel incidental to employmen : 0.44625\n",
      "Employees receive free flight  /-/ Travel incidental to employmen : 0.39301\n",
      "to return to home country once /-/ Travel incidental to employmen : 0.38727\n",
      "\n",
      "General Category: Passage provided when taking up employment and upon termination\n",
      "Category: Passage provided when taking up employment and upon termination\n",
      "Similarity Level:\n",
      "Employees receive free flight  /-/ Passage provided when taking u : 0.21868\n",
      "to return to home country once /-/ Passage provided when taking u : 0.18955\n",
      " free flight benefits for busi /-/ Passage provided when taking u : 0.091191\n",
      "Category: Air tickets back to home country after contract end\n",
      "Similarity Level:\n",
      "to return to home country once /-/ Air tickets back to home count : 0.36043\n",
      " free flight benefits for busi /-/ Air tickets back to home count : 0.30954\n",
      "Employees receive free flight  /-/ Air tickets back to home count : 0.30094\n",
      "Category: Air tickets back to home country after termination of employment\n",
      "Similarity Level:\n",
      "Employees receive free flight  /-/ Air tickets back to home count : 0.43416\n",
      "to return to home country once /-/ Air tickets back to home count : 0.35197\n",
      " free flight benefits for busi /-/ Air tickets back to home count : 0.35058\n",
      "Category: Air tickets to work in Singapore\n",
      "Similarity Level:\n",
      "Employees receive free flight  /-/ Air tickets to work in Singapo : 0.44263\n",
      " free flight benefits for busi /-/ Air tickets to work in Singapo : 0.37453\n",
      "to return to home country once /-/ Air tickets to work in Singapo : 0.16416\n",
      "Category: Flight back to home country after contract end\n",
      "Similarity Level:\n",
      "to return to home country once /-/ Flight back to home country af : 0.49515\n",
      " free flight benefits for busi /-/ Flight back to home country af : 0.30337\n",
      "Employees receive free flight  /-/ Flight back to home country af : 0.22879\n",
      "Category: Flight back to home country after termination of employment\n",
      "Similarity Level:\n",
      "to return to home country once /-/ Flight back to home country af : 0.43816\n",
      "Employees receive free flight  /-/ Flight back to home country af : 0.3605\n",
      " free flight benefits for busi /-/ Flight back to home country af : 0.31906\n",
      "Category: Flight to work in Singapore\n",
      "Similarity Level:\n",
      "Employees receive free flight  /-/ Flight to work in Singapore    : 0.39244\n",
      " free flight benefits for busi /-/ Flight to work in Singapore    : 0.39236\n",
      "to return to home country once /-/ Flight to work in Singapore    : 0.2275\n",
      "\n",
      "General Category: Home leave passage\n",
      "Category: Home leave passage\n",
      "Similarity Level:\n",
      "to return to home country once /-/ Home leave passage             : 0.41806\n",
      " free flight benefits for busi /-/ Home leave passage             : 0.171\n",
      "Employees receive free flight  /-/ Home leave passage             : 0.16376\n",
      "Category: Air passage benefit\n",
      "Similarity Level:\n",
      " free flight benefits for busi /-/ Air passage benefit            : 0.51766\n",
      "Employees receive free flight  /-/ Air passage benefit            : 0.47171\n",
      "to return to home country once /-/ Air passage benefit            : 0.2406\n",
      "Category: Air tickets to home country\n",
      "Similarity Level:\n",
      " free flight benefits for busi /-/ Air tickets to home country    : 0.38709\n",
      "to return to home country once /-/ Air tickets to home country    : 0.38251\n",
      "Employees receive free flight  /-/ Air tickets to home country    : 0.34692\n",
      "Category: Flight to home country\n",
      "Similarity Level:\n",
      "to return to home country once /-/ Flight to home country         : 0.56532\n",
      " free flight benefits for busi /-/ Flight to home country         : 0.41699\n",
      "Employees receive free flight  /-/ Flight to home country         : 0.2672\n",
      "\n"
     ]
    }
   ],
   "source": [
    "categories_wsub_similarity_result_display(categories_wsub_similarity_comparison_function(get_sentence_embedding_MiniLM_L6_v2, cat_wsub_demo, hlp_biz_demo_cut_third), sort_display=-1)"
   ]
  },
  {
   "cell_type": "code",
   "execution_count": null,
   "metadata": {},
   "outputs": [
    {
     "name": "stdout",
     "output_type": "stream",
     "text": [
      "General Category: Passage provided for business purpose\n",
      "Sub-Categories: ('Passage provided for business purpose', 'Air tickets for business trip', 'Air tickets for work purposes', 'Flight for business trip', 'Flight for work purposes', 'Travel incidental to employment')\n",
      "Similarity Level Of Top 3 (Limit=0.55):\n",
      " free flight benefits for busi /-/ Flight for business trip       : 0.75365\n",
      " free flight benefits for busi /-/ Air tickets for business trip  : 0.65982\n",
      " free flight benefits for busi /-/ Flight for work purposes       : 0.60962\n",
      "\n",
      "General Category: Passage provided when taking up employment and upon termination\n",
      "Sub-Categories: ('Passage provided when taking up employment and upon termination', 'Air tickets back to home country after contract end', 'Air tickets back to home country after termination of employment', 'Air tickets to work in Singapore', 'Flight back to home country after contract end', 'Flight back to home country after termination of employment', 'Flight to work in Singapore')\n",
      "Similarity Level Of Top 3 (Limit=0.55):\n",
      "\n",
      "General Category: Home leave passage\n",
      "Sub-Categories: ('Home leave passage', 'Air passage benefit', 'Air tickets to home country', 'Flight to home country')\n",
      "Similarity Level Of Top 3 (Limit=0.55):\n",
      "to return to home country once /-/ Flight to home country         : 0.56532\n",
      "\n"
     ]
    }
   ],
   "source": [
    "categories_wsub_similarity_result_display_top_limit(categories_wsub_similarity_comparison_function(get_sentence_embedding_MiniLM_L6_v2, cat_wsub_demo, hlp_biz_demo_cut_third), top_many=3, limit_value=0.55)"
   ]
  },
  {
   "cell_type": "markdown",
   "metadata": {},
   "source": [
    "### Categories Resorting (To Different Format) Function"
   ]
  },
  {
   "cell_type": "markdown",
   "metadata": {},
   "source": [
    "#### Sorting and Organising Within a Category (Refers To \"sub-categories\"/\"synonyms\")"
   ]
  },
  {
   "cell_type": "code",
   "execution_count": null,
   "metadata": {},
   "outputs": [],
   "source": [
    "def categories_wsub_similarity_comparison_resort_function(categories_wsub_similarity_comparison_result_dict, get_inner_list = False, sort_within_cat=0, top_many_wsub = 3, limit_value = 0.5):\n",
    "    resorted_categories_wsub_similarity_comparison_dict = {}\n",
    "    if limit_value < 0:\n",
    "        if sort_within_cat == -1:\n",
    "            limit_value = 0\n",
    "        if sort_within_cat == 0:\n",
    "            limit_value = None\n",
    "        if sort_within_cat == 1:\n",
    "            limit_value = 1\n",
    "    \n",
    "    if get_inner_list:\n",
    "        for category, sub_syn_cat_dict in categories_wsub_similarity_comparison_result_dict.items():\n",
    "            resorted_categories_wsub_similarity_comparison_dict[category] = []\n",
    "            for sub_syn_cat_text_tuple_pred_dict in sub_syn_cat_dict.values():\n",
    "                for sub_syn_cat_text_tuple, pred in sub_syn_cat_text_tuple_pred_dict.items():\n",
    "                    if sort_within_cat == 0 or (sort_within_cat == -1 and pred >= limit_value) or (sort_within_cat == 1 and pred <= limit_value):    \n",
    "                        resorted_categories_wsub_similarity_comparison_dict[category].append((sub_syn_cat_text_tuple, pred))\n",
    "        # sorting below is within a category itself\n",
    "        for category, comparison_tuple_pred_tuple in resorted_categories_wsub_similarity_comparison_dict.items():\n",
    "            if sort_within_cat == -1:\n",
    "                resorted_categories_wsub_similarity_comparison_dict[category] = list(sorted(comparison_tuple_pred_tuple, key= lambda tuple_item: tuple_item[1], reverse=True))[:top_many_wsub]\n",
    "            if sort_within_cat == 0:\n",
    "                resorted_categories_wsub_similarity_comparison_dict[category] = list(comparison_tuple_pred_tuple)[:top_many_wsub]\n",
    "            if sort_within_cat == 1:\n",
    "                resorted_categories_wsub_similarity_comparison_dict[category] = list(sorted(comparison_tuple_pred_tuple, key= lambda tuple_item: tuple_item[1], reverse=False))[:top_many_wsub]\n",
    "        return resorted_categories_wsub_similarity_comparison_dict\n",
    "            \n",
    "    else:    \n",
    "        for category, sub_syn_cat_dict in categories_wsub_similarity_comparison_result_dict.items():\n",
    "            resorted_categories_wsub_similarity_comparison_dict[category] = {}\n",
    "            for sub_syn_cat_text_tuple_pred_dict in sub_syn_cat_dict.values():\n",
    "                for sub_syn_cat_text_tuple, pred in sub_syn_cat_text_tuple_pred_dict.items():\n",
    "                    if sort_within_cat == 0 or (sort_within_cat == -1 and pred >= limit_value) or (sort_within_cat == 1 and pred <= limit_value):    \n",
    "                        resorted_categories_wsub_similarity_comparison_dict[category][sub_syn_cat_text_tuple] = pred\n",
    "        # sorting below is within a category itself\n",
    "        for category, comparison_tuple_pred_dict in resorted_categories_wsub_similarity_comparison_dict.items():\n",
    "            if sort_within_cat == -1:\n",
    "                resorted_categories_wsub_similarity_comparison_dict[category] = dict(list(sorted(comparison_tuple_pred_dict.items(), key= lambda dict_item: dict_item[1], reverse=True))[:top_many_wsub])\n",
    "            if sort_within_cat == 0:\n",
    "                resorted_categories_wsub_similarity_comparison_dict[category] = dict(list(comparison_tuple_pred_dict.items())[:top_many_wsub])\n",
    "            if sort_within_cat == 1:\n",
    "                resorted_categories_wsub_similarity_comparison_dict[category] = dict(list(sorted(comparison_tuple_pred_dict.items(), key= lambda dict_item: dict_item[1], reverse=False))[:top_many_wsub])\n",
    "    return resorted_categories_wsub_similarity_comparison_dict"
   ]
  },
  {
   "cell_type": "markdown",
   "metadata": {},
   "source": [
    "#### Sorting and Organising Between Categories (Refers To Different Categories In General) - Most to Least"
   ]
  },
  {
   "cell_type": "code",
   "execution_count": null,
   "metadata": {},
   "outputs": [],
   "source": [
    "## No Sorting Order, all made for the cleaning function, but the code is there but the argument is removed and relevant code portion is commented out, after all, for no sort, how to determine top xxx category, the top or bottom!!\n",
    "\n",
    "def categories_wsub_similarity_comparison_resort_cleaning_function(resorted_categories_wsub_similarity_comparison_dict, get_inner_list = False, get_list = False, top_many_cat = 3):\n",
    "    resultant_cleaned_list = []\n",
    "    if get_inner_list:\n",
    "        for category, comparison_tuple_pred_pair_tuple_list in resorted_categories_wsub_similarity_comparison_dict.items():\n",
    "            for comparison_tuple, pred in comparison_tuple_pred_pair_tuple_list:\n",
    "                resultant_cleaned_list.append((category, (comparison_tuple, pred)))\n",
    "    else:\n",
    "        for category, comparison_tuple_pred_pair_dict in resorted_categories_wsub_similarity_comparison_dict.items():\n",
    "            for comparison_tuple, pred in comparison_tuple_pred_pair_dict.items():\n",
    "                resultant_cleaned_list.append((category, (comparison_tuple, pred)))\n",
    "    \"\"\"\n",
    "    # sort_cats args gone!! since cleaning is for top many, so no point giving option here, just restrict to just most to least!!\n",
    "    if sort_cats == -1:\n",
    "        sorted_resultant_cleaned_list = list(sorted(resultant_cleaned_list, key=lambda list_element: list_element[1][1], reverse=True))\n",
    "    if sort_cats == 0:\n",
    "        sorted_resultant_cleaned_list = resultant_cleaned_list\n",
    "    if sort_cats == 1:\n",
    "        sorted_resultant_cleaned_list = list(sorted(resultant_cleaned_list, key=lambda list_element: list_element[1][1], reverse=False))\n",
    "    \"\"\"\n",
    "    sorted_resultant_cleaned_list = list(sorted(resultant_cleaned_list, key=lambda list_element: list_element[1][1], reverse=True))[:top_many_cat]\n",
    "    if get_list:\n",
    "        return sorted_resultant_cleaned_list\n",
    "    \"\"\"\n",
    "    # for this to work with getting back a dict, which is sorted correctly, the \"top_many_wsub\" argument in previous function need to be 1\n",
    "    ## if not, very wonky, since category as key means \"top_many_cat\" has to be <= number of category, else weird, and if \"top_many_wsub\" is not 1, the method below not so direct, need to ensure only add to dict once, and if category added then no more replacement!\n",
    "    ### a possible alternative but unpreferred, so just keep \"top_many_wsub\" at 1 if following into this function!!\n",
    "    \n",
    "    sorted_resultant_cleaned_list_dict = {}\n",
    "    for cat, tuple_pair in sorted_resultant_cleaned_list:\n",
    "        if cat not in sorted_resultant_cleaned_list_dict:\n",
    "            sorted_resultant_cleaned_list_dict[cat] = tuple_pair\n",
    "    return sorted_resultant_cleaned_list_dict\n",
    "    \"\"\"\n",
    "    return dict(sorted_resultant_cleaned_list)"
   ]
  },
  {
   "cell_type": "markdown",
   "metadata": {},
   "source": [
    "#### New Resorted Format Display"
   ]
  },
  {
   "cell_type": "code",
   "execution_count": null,
   "metadata": {},
   "outputs": [],
   "source": [
    "def cleaned_categories_wsub_similarity_comparison_resorted_result_display(cleaned_resorted_compare_result, get_list):\n",
    "    if get_list:\n",
    "        for label, comparison_tuple_pred_pair_tuple in cleaned_resorted_compare_result:\n",
    "            print(f\"Category: {label}\")\n",
    "            print(f\"{comparison_tuple_pred_pair_tuple[0][0]:30.30} /-/ {comparison_tuple_pred_pair_tuple[0][1]:30.30}: {comparison_tuple_pred_pair_tuple[1]:.5}\")\n",
    "            print()\n",
    "    else:\n",
    "        for label, comparison_tuple_pred_pair_tuple in cleaned_resorted_compare_result.items():\n",
    "            print(f\"Category: {label}\")\n",
    "            print(f\"{comparison_tuple_pred_pair_tuple[0][0]:30.30} /-/ {comparison_tuple_pred_pair_tuple[0][1]:30.30}: {comparison_tuple_pred_pair_tuple[1]:.5}\")\n",
    "            print()"
   ]
  },
  {
   "cell_type": "markdown",
   "metadata": {},
   "source": [
    "##### Example Demo"
   ]
  },
  {
   "cell_type": "code",
   "execution_count": null,
   "metadata": {},
   "outputs": [
    {
     "data": {
      "text/plain": [
       "{'Passage provided for business purpose': [(('a year and',\n",
       "    'Air tickets for work purposes'),\n",
       "   0.03580521225597774),\n",
       "  (('a year and', 'Air tickets for business trip'), 0.0504765864001799),\n",
       "  (('a year and', 'Passage provided for business purpose'),\n",
       "   0.06552286772996774)],\n",
       " 'Passage provided when taking up employment and upon termination': [(('a year and',\n",
       "    'Air tickets to work in Singapore'),\n",
       "   0.030742087031399204),\n",
       "  (('a year and',\n",
       "    'Air tickets back to home country after termination of employment'),\n",
       "   0.05293060206713229),\n",
       "  (('a year and',\n",
       "    'Flight back to home country after termination of employment'),\n",
       "   0.0552523757358474)],\n",
       " 'Home leave passage': [(('a year and', 'Air tickets to home country'),\n",
       "   0.056946677215592184),\n",
       "  (('a year and', 'Air passage benefit'), 0.06636109112551498)]}"
      ]
     },
     "metadata": {},
     "output_type": "display_data"
    }
   ],
   "source": [
    "# Arguments to use for function\n",
    "get_inner_list = True\n",
    "sort_within_cat = 1\n",
    "top_many_wsub = 3\n",
    "limit_value = 0.07\n",
    "\n",
    "categories_wsub_similarity_comparison_resort_function(categories_wsub_similarity_comparison_result_dict=categories_wsub_similarity_comparison_function(get_sentence_embedding_MiniLM_L6_v2, categories_wsub_dict=cat_wsub_demo, texts=splitted_sentence_text), get_inner_list=get_inner_list, sort_within_cat=sort_within_cat, top_many_wsub=top_many_wsub, limit_value=limit_value)"
   ]
  },
  {
   "cell_type": "code",
   "execution_count": null,
   "metadata": {},
   "outputs": [
    {
     "data": {
      "text/plain": [
       "{'Passage provided for business purpose': (('free flight benefits for business trips',\n",
       "   'Flight for business trip'),\n",
       "  0.7536517813135932),\n",
       " 'Home leave passage': (('to return to home country once',\n",
       "   'Flight to home country'),\n",
       "  0.6656597017594097)}"
      ]
     },
     "metadata": {},
     "output_type": "display_data"
    }
   ],
   "source": [
    "# Arguments to use for function\n",
    "get_inner_list = True\n",
    "sort_within_cat = -1\n",
    "top_many_wsub = 1\n",
    "limit_value = -1\n",
    "\n",
    "top_many_cat = 2\n",
    "get_list = False\n",
    "\n",
    "categories_wsub_similarity_comparison_resort_cleaning_function(resorted_categories_wsub_similarity_comparison_dict=categories_wsub_similarity_comparison_resort_function(categories_wsub_similarity_comparison_result_dict=categories_wsub_similarity_comparison_function(get_sentence_embedding_MiniLM_L6_v2, categories_wsub_dict=cat_wsub_demo, texts=splitted_sentence_text), get_inner_list=get_inner_list, sort_within_cat=sort_within_cat, top_many_wsub=top_many_wsub, limit_value=limit_value), get_inner_list=get_inner_list, get_list=get_list, top_many_cat=top_many_cat)"
   ]
  },
  {
   "cell_type": "code",
   "execution_count": null,
   "metadata": {},
   "outputs": [
    {
     "name": "stdout",
     "output_type": "stream",
     "text": [
      "Category: Passage provided for business purpose\n",
      "free flight benefits for busin /-/ Flight for business trip      : 0.75365\n",
      "\n",
      "Category: Home leave passage\n",
      "to return to home country once /-/ Flight to home country        : 0.66566\n",
      "\n"
     ]
    }
   ],
   "source": [
    "# Arguments to use for function\n",
    "get_inner_list = True\n",
    "sort_within_cat = -1\n",
    "top_many_wsub = 1\n",
    "limit_value = 0.6\n",
    "\n",
    "top_many_cat = 3\n",
    "get_list = True\n",
    "        \n",
    "cleaned_categories_wsub_similarity_comparison_resorted_result_display(categories_wsub_similarity_comparison_resort_cleaning_function(resorted_categories_wsub_similarity_comparison_dict=categories_wsub_similarity_comparison_resort_function(categories_wsub_similarity_comparison_result_dict=categories_wsub_similarity_comparison_function(get_sentence_embedding_MiniLM_L6_v2, categories_wsub_dict=cat_wsub_demo, texts=splitted_sentence_text), get_inner_list=get_inner_list, sort_within_cat=sort_within_cat, top_many_wsub=top_many_wsub, limit_value=limit_value), get_inner_list=get_inner_list, get_list=get_list, top_many_cat=top_many_cat), get_list=get_list)"
   ]
  },
  {
   "cell_type": "code",
   "execution_count": null,
   "metadata": {},
   "outputs": [
    {
     "name": "stdout",
     "output_type": "stream",
     "text": [
      "Category: Passage provided for business purpose\n",
      "free flight benefits for busin /-/ Flight for business trip      : 0.75365\n",
      "\n",
      "Category: Home leave passage\n",
      "to return to home country once /-/ Flight to home country        : 0.66566\n",
      "\n",
      "Category: Passage provided when taking up employment and upon termination\n",
      "to return to home country once /-/ Flight back to home country af: 0.59888\n",
      "\n"
     ]
    }
   ],
   "source": [
    "# Arguments to use for function\n",
    "get_inner_list = True\n",
    "sort_within_cat = -1\n",
    "top_many_wsub = 1\n",
    "limit_value = 0.5\n",
    "\n",
    "top_many_cat = 3\n",
    "get_list = True\n",
    "        \n",
    "cleaned_categories_wsub_similarity_comparison_resorted_result_display(categories_wsub_similarity_comparison_resort_cleaning_function(resorted_categories_wsub_similarity_comparison_dict=categories_wsub_similarity_comparison_resort_function(categories_wsub_similarity_comparison_result_dict=categories_wsub_similarity_comparison_function(get_sentence_embedding_MiniLM_L6_v2, categories_wsub_dict=cat_wsub_demo, texts=splitted_sentence_text), get_inner_list=get_inner_list, sort_within_cat=sort_within_cat, top_many_wsub=top_many_wsub, limit_value=limit_value), get_inner_list=get_inner_list, get_list=get_list, top_many_cat=top_many_cat), get_list=get_list)"
   ]
  }
 ],
 "metadata": {
  "language_info": {
   "name": "python"
  }
 },
 "nbformat": 4,
 "nbformat_minor": 2
}
