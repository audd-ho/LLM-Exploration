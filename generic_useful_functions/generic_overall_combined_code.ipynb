{
 "cells": [
  {
   "cell_type": "markdown",
   "metadata": {},
   "source": [
    "# Overall Useful Functions\n",
    "- ```get_length(embedding_1d)```\n",
    "- ```normalise_embedding(embedding_1d)```\n",
    "- ```get_normalise_embedding(embedding_1d)```\n",
    "- ```cosine_sim(embedding_1, embedding_2)```\n",
    "- ```norm_ed_cosine_sim(embedding_1, embedding_2)```\n",
    "- ```generic_sent_cos_sim(model_emb_func, t1, t2, additional_nesting = False)```"
   ]
  },
  {
   "cell_type": "code",
   "execution_count": null,
   "metadata": {},
   "outputs": [],
   "source": [
    "## Overall Useful Functions\n",
    "\n",
    "import torch\n",
    "import math\n",
    "import numpy as np\n",
    "def get_length(embedding_1d):\n",
    "    sum = 0\n",
    "    for i in embedding_1d:\n",
    "        sum+=(i**2)\n",
    "    return math.sqrt(sum)\n",
    "def normalise_embedding(embedding_1d):\n",
    "    length = get_length(embedding_1d)\n",
    "    for i in range(len(embedding_1d)):\n",
    "        embedding_1d[i] /= length\n",
    "def get_normalise_embedding(embedding_1d):\n",
    "    if type(embedding_1d) is torch.Tensor:\n",
    "        temp_embedding_1d = (embedding_1d.detach().numpy()).copy()\n",
    "    else:\n",
    "        temp_embedding_1d = embedding_1d.copy()\n",
    "    length = get_length(temp_embedding_1d)\n",
    "    for i in range(len(temp_embedding_1d)):\n",
    "        temp_embedding_1d[i] /= length\n",
    "    return temp_embedding_1d\n",
    "\n",
    "\n",
    "def cosine_sim(embedding_1, embedding_2):\n",
    "    embedding_1 = get_normalise_embedding(embedding_1)\n",
    "    embedding_2 = get_normalise_embedding(embedding_2)\n",
    "    sim_sum = 0\n",
    "    for e_1, e_2 in zip(embedding_1, embedding_2):\n",
    "        sim_sum += (e_1*e_2)\n",
    "    return sim_sum\n",
    "def norm_ed_cosine_sim(embedding_1, embedding_2):\n",
    "    sim_sum = 0\n",
    "    for e_1, e_2 in zip(embedding_1, embedding_2):\n",
    "        sim_sum += (e_1*e_2)\n",
    "    return sim_sum"
   ]
  },
  {
   "cell_type": "code",
   "execution_count": null,
   "metadata": {},
   "outputs": [],
   "source": [
    "## Cosine Similarity -- Embedding Model\n",
    "\n",
    "def generic_sent_cos_sim(model_emb_func, t1, t2, additional_nesting = False):\n",
    "    if additional_nesting:\n",
    "        return cosine_sim(model_emb_func(t1)[0], model_emb_func(t2)[0])    \n",
    "    return cosine_sim(model_emb_func(t1), model_emb_func(t2))"
   ]
  },
  {
   "cell_type": "code",
   "execution_count": null,
   "metadata": {},
   "outputs": [],
   "source": [
    "## Embedding Model's Function / Model's Embedding Function\n",
    "# Returns a 1d tensor with the embedding\n",
    "# if list of input string, then 2d tensor, each 1d tensor inside the 2d tensor correspond to each input string in list\n",
    "\n",
    "def embedding_model_function(text): ## single string or a list of strings\n",
    "    return torch.tensor([1, 2, 3, 4, 5, 6]) ## eg\n",
    "\n",
    "## EXAMPLE ABOVE (ONLY AN EXAMPLE)\n",
    "### Format of this function is important!"
   ]
  },
  {
   "cell_type": "code",
   "execution_count": null,
   "metadata": {},
   "outputs": [],
   "source": [
    "#Mean Pooling - Take attention mask into account for correct averaging\n",
    "def mean_pooling(model_output, attention_mask):\n",
    "    token_embeddings = model_output[0] #First element of model_output contains all token embeddings\n",
    "    input_mask_expanded = attention_mask.unsqueeze(-1).expand(token_embeddings.size()).float()\n",
    "    return torch.sum(token_embeddings * input_mask_expanded, 1) / torch.clamp(input_mask_expanded.sum(1), min=1e-9)"
   ]
  },
  {
   "cell_type": "code",
   "execution_count": null,
   "metadata": {},
   "outputs": [],
   "source": [
    "# normalise tensor, but i think 1d tensor cannot? need to be inside another tensor to work?? idk, need read on docs or more maybe!\n",
    "sentence_embeddings = torch.nn.functional.normalize(sentence_embeddings, p=2, dim=1)"
   ]
  },
  {
   "cell_type": "code",
   "execution_count": null,
   "metadata": {},
   "outputs": [],
   "source": [
    "#Mean Pooling - Take attention mask into account for correct averaging\n",
    "def mean_pooling(model_output, attention_mask):\n",
    "    token_embeddings = model_output[0] #First element of model_output contains all token embeddings\n",
    "    input_mask_expanded = attention_mask.unsqueeze(-1).expand(token_embeddings.size()).float()\n",
    "    \"\"\"\n",
    "    print(attention_mask.shape, attention_mask)\n",
    "    print(attention_mask.unsqueeze(-1).shape, attention_mask.unsqueeze(-1))\n",
    "    print(input_mask_expanded)\n",
    "    print(len(input_mask_expanded), token_embeddings.size(), input_mask_expanded.size())\n",
    "    \"\"\"\n",
    "    return torch.sum(token_embeddings * input_mask_expanded, 1) / torch.clamp(input_mask_expanded.sum(1), min=1e-9)"
   ]
  },
  {
   "cell_type": "code",
   "execution_count": null,
   "metadata": {},
   "outputs": [],
   "source": []
  },
  {
   "cell_type": "markdown",
   "metadata": {},
   "source": [
    "# Semantic Segmentation Function Section"
   ]
  },
  {
   "cell_type": "code",
   "execution_count": null,
   "metadata": {},
   "outputs": [],
   "source": [
    "## Semantic Segmentation Function PREPARATION FUNCTIONS\n",
    "\n",
    "from itertools import islice\n",
    "\n",
    "def window(seq, n=3):\n",
    "    it = iter(seq)\n",
    "    result = tuple(islice(it, n))\n",
    "    if len(result) == n:\n",
    "        yield result\n",
    "    for elem in it:\n",
    "        result = result[1:] + (elem,)\n",
    "        yield result\n",
    "        \n",
    "        \n",
    "        \n",
    "        \n",
    "def climb(co_score_list, list_index, mode = \"l\"):\n",
    "    res_score = 0\n",
    "    if mode == \"l\":\n",
    "        while (list_index >= 0):\n",
    "            if co_score_list[list_index] > res_score:\n",
    "                res_score = co_score_list[list_index]\n",
    "                list_index -= 1\n",
    "            else:\n",
    "                break\n",
    "        return res_score\n",
    "    else:\n",
    "        list_len = len(co_score_list)\n",
    "        while (list_index < list_len):\n",
    "            if co_score_list[list_index] > res_score:\n",
    "                res_score = co_score_list[list_index]\n",
    "                list_index += 1\n",
    "            else:\n",
    "                break\n",
    "        return res_score\n",
    "    \n",
    "def get_depth_score_list(co_score_list):\n",
    "    res_depth_score_list = []\n",
    "    co_score_len = len(co_score_list)\n",
    "    for i in range(co_score_len):\n",
    "        i_co_score = co_score_list[i]\n",
    "        l_peak = climb(co_score_list, i, \"l\")\n",
    "        r_peak = climb(co_score_list, i, \"r\")\n",
    "        i_depth_score = 0.5 * (l_peak + r_peak - (2*i_co_score))\n",
    "        res_depth_score_list.append(i_depth_score)\n",
    "    return np.array(res_depth_score_list)\n",
    "\n",
    "\n",
    "\n",
    "\n",
    "import matplotlib.pyplot as plt\n",
    "\n",
    "from scipy.signal import argrelmax\n",
    "\n",
    "def get_local_maxima(depth_scores, order=1):\n",
    "    maxima_ids = argrelmax(depth_scores, order=order)[0]\n",
    "    filtered_scores = np.zeros(len(depth_scores))\n",
    "    filtered_scores[maxima_ids] = depth_scores[maxima_ids]\n",
    "    return filtered_scores\n",
    "\n",
    "def compute_threshold(scores): ## maybe can make this more picky, by making threshold higher, like (np.std(s) / 3) or /4 or more instead?\n",
    "    s = scores[np.nonzero(scores)]\n",
    "    threshold = np.mean(s) - (np.std(s) / 2)\n",
    "    # threshold = np.mean(s) - (np.std(s))\n",
    "    return threshold\n",
    "\n",
    "def get_threshold_segments(scores, threshold=0.1):\n",
    "    segment_ids = np.where(scores >= threshold)[0]\n",
    "    return segment_ids\n",
    "\n",
    "\n",
    "\n",
    "\n",
    "def primitively_naive_tokeniser(text):\n",
    "    toks_list = text.split(\" \")\n",
    "    return toks_list"
   ]
  },
  {
   "cell_type": "code",
   "execution_count": null,
   "metadata": {},
   "outputs": [],
   "source": [
    "## Semantic Segmentation Function Portions\n",
    "\n",
    "WINDOW_SIZE = 3\n",
    "\n",
    "def sentence_to_sliding_window(sentence_s):\n",
    "    sentence_words_toks = primitively_naive_tokeniser(sentence_s)\n",
    "    window_size_split = list(window(sentence_words_toks, WINDOW_SIZE))\n",
    "    window_splited_texts = [' '.join([window_toks for window_toks in each_window]) for each_window in window_size_split]\n",
    "    return window_splited_texts\n",
    "\n",
    "def coherence_score_list_from_embedding_list(window_splited_embedding_list):\n",
    "    coherence_scores_list = [cosine_sim(pair[0], pair[1]) for pair in zip(window_splited_embedding_list[:-1], window_splited_embedding_list[1:])]\n",
    "    return coherence_scores_list\n",
    "\n",
    "def plot_data_points(vary_data, thres = -1):\n",
    "    plt.plot(vary_data)\n",
    "    if (thres == -1):\n",
    "        plt.show()\n",
    "    else:\n",
    "        plt.plot([thres for i in range(len(vary_data))])\n",
    "        plt.show()\n",
    "\n",
    "def filtered_indexes_list_to_splitted_segments_by_semantics(original_sent, filtered_indexes_list):\n",
    "    sentence_words_toks = primitively_naive_tokeniser(original_sent)\n",
    "    segment_key_breaks = get_threshold_segments(filtered_indexes_list, compute_threshold(filtered_indexes_list))\n",
    "    segment_demark = [0] + [(ids + (WINDOW_SIZE-1)) for ids in segment_key_breaks] + [len(sentence_words_toks)]\n",
    "    segment_demark_intervals = list(zip(segment_demark[:-1], segment_demark[1:]))\n",
    "    resultant_segments_after_split_by_interval = [\" \".join(sentence_words_toks[interval_points[0]:interval_points[1]]) for interval_points in segment_demark_intervals]\n",
    "    return resultant_segments_after_split_by_interval"
   ]
  },
  {
   "cell_type": "code",
   "execution_count": null,
   "metadata": {},
   "outputs": [],
   "source": [
    "## Semantic Segmentation Function\n",
    "\n",
    "def semantic_segmentation_function(embedding_model_function, sentence_text, intermediate_status = False, graph_status = False):\n",
    "    windowed_parts = sentence_to_sliding_window(sentence_text)\n",
    "    if intermediate_status:\n",
    "        print(f\"windowed_parts: {windowed_parts}\")\n",
    "    \n",
    "    # if ensure \"embedding_model_function\" accept only 1 string and return 1d array/tensor then can use the below code, current should still work!!, as long as return 1d array for single string!!\n",
    "    # embedding_list = [embedding_model_function(windowed_part) for windowed_part in windowed_parts]\n",
    "    \n",
    "    ## if list of input strings can produce 2d array/tensor automatically, then can just use below one!!, only 1 time embed bunch at once!!\n",
    "    embedding_list = embedding_model_function(windowed_parts)\n",
    "    if intermediate_status:\n",
    "        print(f\"embedding_list: {embedding_list}\")\n",
    "    \"\"\"\n",
    "    if graph_status:\n",
    "        print(\"Embedding List Plot\") # bad! like no use\n",
    "        plot_data_points(embedding_list) # bad! like no use\n",
    "    \"\"\"\n",
    "    \n",
    "    windowed_parts_coherence_score_list = coherence_score_list_from_embedding_list(embedding_list)\n",
    "    if intermediate_status:\n",
    "        print(f\"windowed_parts_coherence_score_list: {windowed_parts_coherence_score_list}\")\n",
    "    if graph_status:\n",
    "        print(\"Coherence Score Plot:\")\n",
    "        plot_data_points(windowed_parts_coherence_score_list)\n",
    "    \n",
    "    windowed_parts_depth_score_list = get_depth_score_list(windowed_parts_coherence_score_list)\n",
    "    if intermediate_status:\n",
    "        print(f\"windowed_parts_depth_score_list: {windowed_parts_depth_score_list}\")\n",
    "    if graph_status:\n",
    "        print(\"Depth Score Plot:\")\n",
    "        plot_data_points(windowed_parts_depth_score_list)\n",
    "    \n",
    "    windowed_parts_filtered_depth_score_list = get_local_maxima(windowed_parts_depth_score_list)\n",
    "    if intermediate_status:\n",
    "        print(f\"windowed_parts_filtered_depth_score_list: {windowed_parts_filtered_depth_score_list}\")\n",
    "    if graph_status:\n",
    "        print(\"Filtered Depth Score Plot:\")\n",
    "        plot_data_points(windowed_parts_filtered_depth_score_list)\n",
    "    \n",
    "    filtered_threshold = compute_threshold(windowed_parts_filtered_depth_score_list)\n",
    "    if intermediate_status:\n",
    "        print(f\"filtered_threshold: {filtered_threshold}\")\n",
    "    if graph_status:\n",
    "        print(\"Filtered Depth Score With Threshold Line Plot:\")\n",
    "        plot_data_points(windowed_parts_filtered_depth_score_list, filtered_threshold)\n",
    "\n",
    "    #sentences_tokenised = primitively_naive_tokeniser(sentences)\n",
    "    #sentences_topics_splitted = filtered_indexes_list_to_splitted_sent(sentences_tokenised, windowed_sentences_filtered_depth_score_v1_list)\n",
    "    sentences_topics_splitted = filtered_indexes_list_to_splitted_segments_by_semantics(sentence_text, windowed_parts_filtered_depth_score_list)\n",
    "    return sentences_topics_splitted"
   ]
  },
  {
   "cell_type": "code",
   "execution_count": null,
   "metadata": {},
   "outputs": [],
   "source": [
    "# Lock Model\n",
    "def lock_semantic_segmentation_function(embedding_model_function):\n",
    "    def lockED_semantic_segmentation_function(sentence_text, intermediate_status = False, graph_status = False): # all these default params need to have because the locked function can have the option to leave the args blank for them to let it be default!\n",
    "        return semantic_segmentation_function(embedding_model_function=embedding_model_function, sentence_text=sentence_text, intermediate_status=intermediate_status, graph_status=graph_status)\n",
    "    return lockED_semantic_segmentation_function"
   ]
  },
  {
   "cell_type": "markdown",
   "metadata": {},
   "source": [
    "##### Example Demo"
   ]
  },
  {
   "cell_type": "code",
   "execution_count": null,
   "metadata": {},
   "outputs": [
    {
     "data": {
      "text/plain": [
       "['Employees receive free flight benefits',\n",
       " 'to return to home country once',\n",
       " 'a year and',\n",
       " 'free flight benefits for business trips']"
      ]
     },
     "metadata": {},
     "output_type": "display_data"
    }
   ],
   "source": [
    "# Eg. \"get_sentence_embedding_MiniLM_L6_v2\" embedding and statuses = False\n",
    "semantic_segmentation_function(get_sentence_embedding_MiniLM_L6_v2, \"Employees receive free flight benefits to return to home country once a year and free flight benefits for business trips\", intermediate_status=False, graph_status=False)"
   ]
  },
  {
   "cell_type": "code",
   "execution_count": null,
   "metadata": {},
   "outputs": [
    {
     "data": {
      "text/plain": [
       "['Employees receive free flight benefits',\n",
       " 'to return to home country once',\n",
       " 'a year and',\n",
       " 'free flight benefits for business trips']"
      ]
     },
     "metadata": {},
     "output_type": "display_data"
    }
   ],
   "source": [
    "# Locked Model\n",
    "semantic_segmentation_locked_model_MiniLM_L6_v2 = lock_semantic_segmentation_function(get_sentence_embedding_MiniLM_L6_v2)\n",
    "semantic_segmentation_locked_model_MiniLM_L6_v2(\"Employees receive free flight benefits to return to home country once a year and free flight benefits for business trips\", intermediate_status=False, graph_status=False)"
   ]
  },
  {
   "cell_type": "code",
   "execution_count": null,
   "metadata": {},
   "outputs": [],
   "source": []
  },
  {
   "cell_type": "code",
   "execution_count": null,
   "metadata": {},
   "outputs": [],
   "source": []
  },
  {
   "cell_type": "markdown",
   "metadata": {},
   "source": [
    "# Similarity Comparison Function Section"
   ]
  },
  {
   "cell_type": "markdown",
   "metadata": {},
   "source": [
    "### Generic Similarity Comparison Function + Lock Version"
   ]
  },
  {
   "cell_type": "code",
   "execution_count": null,
   "metadata": {},
   "outputs": [],
   "source": [
    "# Generic Similarity Comparison Function (comparison tuples in a list for comparison!)\n",
    "\n",
    "def generic_similarity_comparison_function(embedding_model_function, comparison_tuple_in_list, sort_output = 0):\n",
    "    res_dict = {}\n",
    "    for comp_items in comparison_tuple_in_list:\n",
    "        # possible alternative is below, so that if embedding model only accept one string and return 1d array/tensor then works!!\n",
    "        # comp_emb = [embedding_model_function(comp_items[0]), embedding_model_function(comp_items[1])]\n",
    "        comp_emb = embedding_model_function([comp_items[0], comp_items[1]]) # or just list(comp_items)\n",
    "        cos_sim = cosine_sim(comp_emb[0], comp_emb[1])\n",
    "        res_dict[comp_items] = cos_sim\n",
    "        \n",
    "    # sort by -1 is descending, 0 is no sort, 1 is ascending!\n",
    "    # default is no sort, 0\n",
    "    if sort_output == -1:\n",
    "        res_dict = {comp:comp_score for comp, comp_score in sorted(res_dict.items(), key = lambda dict_item: dict_item[1], reverse=True)}\n",
    "    if sort_output == 1:\n",
    "        res_dict = dict(sorted(res_dict.items(), key = lambda dict_item: dict_item[1], reverse=False))\n",
    "    return res_dict\n",
    "        "
   ]
  },
  {
   "cell_type": "code",
   "execution_count": null,
   "metadata": {},
   "outputs": [],
   "source": [
    "# partial does not allow arguments to be filled with keywords, need strictly positional so prefer not\n",
    "\n",
    "## Error is like:\n",
    "# generic_similarity_comparison_locked_model_MiniLM_L6_v2 = lock_generic_similarity_comparison_function(get_sentence_embedding_MiniLM_L6_v2)\n",
    "# generic_similarity_comparison_locked_model_MiniLM_L6_v2([(\"hi there\", \"the world is bad\"), (\"i like people\", \"people love me\"), (\"the world is green\", \"the ocean is blue\")], sort_output=1)\n",
    "\n",
    "## Fix is need to specific keyword or change embedding callbaack function position and all, by keyword is like:\n",
    "# generic_similarity_comparison_locked_model_MiniLM_L6_v2 = lock_generic_similarity_comparison_function(get_sentence_embedding_MiniLM_L6_v2)\n",
    "# generic_similarity_comparison_locked_model_MiniLM_L6_v2(comparison_tuple_in_list=[(\"hi there\", \"the world is bad\"), (\"i like people\", \"people love me\"), (\"the world is green\", \"the ocean is blue\")], sort_output=1)\n",
    "## see the \"comparison_tuple_in_list=\" specified, for example! ^\n",
    "\n",
    "\"\"\"\n",
    "from functools import partial\n",
    "\n",
    "def lock_generic_similarity_comparison_function(embedding_model_function):\n",
    "    return partial(generic_similarity_comparison_function, embedding_model_function=embedding_model_function)\n",
    "\"\"\"\n",
    "\n",
    "## instead of def new function, lambda approach!\n",
    "\n",
    "def lock_generic_similarity_comparison_function(embedding_model_function):\n",
    "    return lambda comparison_tuple_in_list, sort_output = 0: generic_similarity_comparison_function(embedding_model_function=embedding_model_function, comparison_tuple_in_list=comparison_tuple_in_list, sort_output=sort_output)"
   ]
  },
  {
   "cell_type": "markdown",
   "metadata": {},
   "source": [
    "### ONE Category Similarity Comparison Function + Lock Version"
   ]
  },
  {
   "cell_type": "code",
   "execution_count": null,
   "metadata": {},
   "outputs": [],
   "source": [
    "# ONE Category Similarity Comparison Function (compare to each string in a list!)\n",
    "def single_category_similarity_comparison_function(embedding_model_function, category_single, texts, sort_output = 0):\n",
    "    if type(texts) != list:\n",
    "        texts = [texts]\n",
    "    compiled_tuple_comparison_list = [(text, category) for text, category in zip(texts, [category_single for i in range(len(texts))])]\n",
    "    comparison_result_dict = generic_similarity_comparison_function(embedding_model_function=embedding_model_function, comparison_tuple_in_list=compiled_tuple_comparison_list, sort_output=sort_output)\n",
    "    return comparison_result_dict"
   ]
  },
  {
   "cell_type": "code",
   "execution_count": null,
   "metadata": {},
   "outputs": [],
   "source": [
    "def lock_single_category_similarity_comparison_function(embedding_model_function):\n",
    "    def lockED_single_category_similarity_comparison_function(category_single, texts, sort_output=0): ## sort_output=0 is needed since it can be left blank when called from locked model!\n",
    "        return single_category_similarity_comparison_function(embedding_model_function=embedding_model_function, category_single=category_single, texts=texts, sort_output=sort_output)\n",
    "    return lockED_single_category_similarity_comparison_function"
   ]
  },
  {
   "cell_type": "markdown",
   "metadata": {},
   "source": [
    "### Categories Similarity Comparison Function + Lock Version"
   ]
  },
  {
   "cell_type": "code",
   "execution_count": null,
   "metadata": {},
   "outputs": [],
   "source": [
    "# Categories Similarity Comparison Function (compare to each string in a list!)\n",
    "\n",
    "# sort by -1 is descending, 0 is no sort, 1 is ascending!\n",
    "# default is no sort, 0\n",
    "    \n",
    "def categories_similarity_comparison_function(embedding_model_function, categories, texts, sort_output = 0):\n",
    "    if type(categories) != list:\n",
    "        categories = [categories]\n",
    "    categories_comparison_result_dict = {}\n",
    "    for category in categories:\n",
    "        categories_comparison_result_dict[category] = single_category_similarity_comparison_function(embedding_model_function=embedding_model_function, category_single=category, texts=texts, sort_output=sort_output)\n",
    "    return categories_comparison_result_dict"
   ]
  },
  {
   "cell_type": "code",
   "execution_count": null,
   "metadata": {},
   "outputs": [],
   "source": [
    "\"\"\"\n",
    "from functools import partial\n",
    "\n",
    "def lock_categories_similarity_comparison_function(embedding_model_function):\n",
    "    return partial(categories_similarity_comparison_function, embedding_model_function=embedding_model_function)\n",
    "\"\"\"\n",
    "\n",
    "# lambda approach somewhat!, no keyword in the lambda now, just based off positional cos it can! but the sort_output=0 is a must, so that when call the locked function, if leave blank for it, wont error!\n",
    "def lock_categories_similarity_comparison_function(embedding_model_function):\n",
    "    return lambda categories, texts, sort_output=0: categories_similarity_comparison_function(embedding_model_function, categories, texts, sort_output)"
   ]
  },
  {
   "cell_type": "markdown",
   "metadata": {},
   "source": [
    "#### Comparison Result Display"
   ]
  },
  {
   "cell_type": "code",
   "execution_count": null,
   "metadata": {},
   "outputs": [],
   "source": [
    "# Categories Similarity Result Display\n",
    "\n",
    "# Very specific use case only for \"single_category_similarity_comparison_function\" which returns a dict of compare_key and result_value\n",
    "# Not usable on \"categories_similarity_comparison_function\" since this returns will return dict of dict!\n",
    "\n",
    "def category_similarity_result_display(category_result_dict, sort_display = 0):\n",
    "    print(f\"Category: {list(category_result_dict.keys())[0][1]}\") ## trashy clusterfuck\n",
    "    print(\"Similarity Level:\")\n",
    "    if sort_display == -1:\n",
    "        for comparison_items_tuple, comparison_result in (sorted(category_result_dict.items(), key= lambda dict_item: dict_item[1], reverse=True)):\n",
    "            print(f\"{comparison_items_tuple[0]:30.30} /-/ {comparison_items_tuple[1]:30.30} : {comparison_result:.5}\")\n",
    "    elif sort_display == 1:\n",
    "        for comparison_items_tuple, comparison_result in (sorted(category_result_dict.items(), key= lambda dict_item: dict_item[1], reverse=True)):\n",
    "            print(f\"{comparison_items_tuple[0]:30.30} /-/ {comparison_items_tuple[1]:30.30} : {comparison_result:.5}\")\n",
    "    else:\n",
    "        for comparison_items_tuple, comparison_result in category_result_dict.items():\n",
    "            print(f\"{comparison_items_tuple[0]:30.30} /-/ {comparison_items_tuple[1]:30.30} : {comparison_result:.5}\")"
   ]
  },
  {
   "cell_type": "code",
   "execution_count": null,
   "metadata": {},
   "outputs": [],
   "source": [
    "# Categories Similarity Result Display\n",
    "def categories_similarity_result_display(categories_result_dict, sort_display = 0):\n",
    "    for category, category_similarity_results_dict in categories_result_dict.items():\n",
    "        print(f\"Category: {category}\")\n",
    "        print(\"Similarity Level:\")\n",
    "        if sort_display == -1:\n",
    "            for comparison_items_tuple, comparison_result in (sorted(category_similarity_results_dict.items(), key= lambda dict_item: dict_item[1], reverse=True)):\n",
    "                print(f\"{comparison_items_tuple[0]:30.30} /-/ {comparison_items_tuple[1]:30.30} : {comparison_result:.5}\")\n",
    "        elif sort_display == 1:\n",
    "            for comparison_items_tuple, comparison_result in (sorted(category_similarity_results_dict.items(), key= lambda dict_item: dict_item[1], reverse=True)):\n",
    "                print(f\"{comparison_items_tuple[0]:30.30} /-/ {comparison_items_tuple[1]:30.30} : {comparison_result:.5}\")\n",
    "        else:\n",
    "            for comparison_items_tuple, comparison_result in category_similarity_results_dict.items():\n",
    "                print(f\"{comparison_items_tuple[0]:30.30} /-/ {comparison_items_tuple[1]:30.30} : {comparison_result:.5}\")"
   ]
  },
  {
   "cell_type": "markdown",
   "metadata": {},
   "source": [
    "##### Example Demo"
   ]
  },
  {
   "cell_type": "code",
   "execution_count": null,
   "metadata": {},
   "outputs": [
    {
     "data": {
      "text/plain": [
       "{('i like people', 'people love me'): 0.6048486815689496,\n",
       " ('the world is green', 'the ocean is blue'): 0.4271523653033571,\n",
       " ('hi there', 'the world is bad'): 0.1287177563239086}"
      ]
     },
     "metadata": {},
     "output_type": "display_data"
    }
   ],
   "source": [
    "# Sort -1, descending\n",
    "generic_similarity_comparison_function(get_sentence_embedding_MiniLM_L6_v2, [(\"hi there\", \"the world is bad\"), (\"i like people\", \"people love me\"), (\"the world is green\", \"the ocean is blue\")], sort_output=-1)"
   ]
  },
  {
   "cell_type": "code",
   "execution_count": null,
   "metadata": {},
   "outputs": [
    {
     "data": {
      "text/plain": [
       "{('hi there', 'the world is bad'): 0.1287177563239086,\n",
       " ('i like people', 'people love me'): 0.6048486815689496,\n",
       " ('the world is green', 'the ocean is blue'): 0.4271523653033571}"
      ]
     },
     "metadata": {},
     "output_type": "display_data"
    }
   ],
   "source": [
    "# Sort 0, no sort\n",
    "generic_similarity_comparison_function(get_sentence_embedding_MiniLM_L6_v2, [(\"hi there\", \"the world is bad\"), (\"i like people\", \"people love me\"), (\"the world is green\", \"the ocean is blue\")], sort_output=0)"
   ]
  },
  {
   "cell_type": "code",
   "execution_count": null,
   "metadata": {},
   "outputs": [
    {
     "data": {
      "text/plain": [
       "{('hi there', 'the world is bad'): 0.1287177563239086,\n",
       " ('the world is green', 'the ocean is blue'): 0.4271523653033571,\n",
       " ('i like people', 'people love me'): 0.6048486815689496}"
      ]
     },
     "metadata": {},
     "output_type": "display_data"
    }
   ],
   "source": [
    "# Sort 1, ascending\n",
    "generic_similarity_comparison_function(get_sentence_embedding_MiniLM_L6_v2, [(\"hi there\", \"the world is bad\"), (\"i like people\", \"people love me\"), (\"the world is green\", \"the ocean is blue\")], sort_output=1)"
   ]
  },
  {
   "cell_type": "code",
   "execution_count": null,
   "metadata": {},
   "outputs": [
    {
     "data": {
      "text/plain": [
       "{('hi there', 'the world is bad'): 0.1287177563239086,\n",
       " ('i like people', 'people love me'): 0.6048486815689496,\n",
       " ('the world is green', 'the ocean is blue'): 0.4271523653033571}"
      ]
     },
     "metadata": {},
     "output_type": "display_data"
    }
   ],
   "source": [
    "generic_similarity_comparison_locked_model_MiniLM_L6_v2 = lock_generic_similarity_comparison_function(get_sentence_embedding_MiniLM_L6_v2)\n",
    "generic_similarity_comparison_locked_model_MiniLM_L6_v2([(\"hi there\", \"the world is bad\"), (\"i like people\", \"people love me\"), (\"the world is green\", \"the ocean is blue\")])"
   ]
  },
  {
   "cell_type": "code",
   "execution_count": null,
   "metadata": {},
   "outputs": [
    {
     "data": {
      "text/plain": [
       "{('steak', 'food'): 0.5003130997095016,\n",
       " ('sirloin steak with mushroom sauce', 'food'): 0.2937494543044752,\n",
       " ('laksa bowl', 'food'): 0.259120507793398,\n",
       " ('curry prata', 'food'): 0.2585698555536739,\n",
       " ('laksa', 'food'): 0.21327309103382694,\n",
       " ('prata', 'food'): 0.21317178691606403}"
      ]
     },
     "metadata": {},
     "output_type": "display_data"
    }
   ],
   "source": [
    "# Eg. category food, and texts are foods\n",
    "single_category_similarity_comparison_function(get_sentence_embedding_MiniLM_L6_v2, \"food\", [\"laksa\", \"laksa bowl\", \"prata\", \"curry prata\", \"steak\", \"sirloin steak with mushroom sauce\"], sort_output=-1)"
   ]
  },
  {
   "cell_type": "code",
   "execution_count": null,
   "metadata": {},
   "outputs": [
    {
     "data": {
      "text/plain": [
       "{('steak', 'food'): 0.5003130997095016,\n",
       " ('sirloin steak with mushroom sauce', 'food'): 0.2937494543044752,\n",
       " ('laksa bowl', 'food'): 0.259120507793398,\n",
       " ('curry prata', 'food'): 0.2585698555536739,\n",
       " ('laksa', 'food'): 0.21327309103382694,\n",
       " ('prata', 'food'): 0.21317178691606403}"
      ]
     },
     "metadata": {},
     "output_type": "display_data"
    }
   ],
   "source": [
    "single_category_similarity_comparison_locked_model_MiniLM_L6_v2 = lock_single_category_similarity_comparison_function(get_sentence_embedding_MiniLM_L6_v2)\n",
    "single_category_similarity_comparison_locked_model_MiniLM_L6_v2(\"food\", [\"laksa\", \"laksa bowl\", \"prata\", \"curry prata\", \"steak\", \"sirloin steak with mushroom sauce\"], sort_output=-1)"
   ]
  },
  {
   "cell_type": "code",
   "execution_count": null,
   "metadata": {},
   "outputs": [
    {
     "data": {
      "text/plain": [
       "{'food': {('steak', 'food'): 0.5003130997095016,\n",
       "  ('sirloin steak with mushroom sauce', 'food'): 0.2937494543044752,\n",
       "  ('laksa bowl', 'food'): 0.259120507793398,\n",
       "  ('curry prata', 'food'): 0.2585698555536739,\n",
       "  ('laksa', 'food'): 0.21327309103382694,\n",
       "  ('prata', 'food'): 0.21317178691606403},\n",
       " 'asian food': {('steak', 'asian food'): 0.30798892917323445,\n",
       "  ('curry prata', 'asian food'): 0.30237662711869023,\n",
       "  ('sirloin steak with mushroom sauce', 'asian food'): 0.3007048767274798,\n",
       "  ('laksa bowl', 'asian food'): 0.22997642560937964,\n",
       "  ('laksa', 'asian food'): 0.20722211920235642,\n",
       "  ('prata', 'asian food'): 0.18665660738247442},\n",
       " 'western food': {('steak', 'western food'): 0.39804313466154906,\n",
       "  ('sirloin steak with mushroom sauce', 'western food'): 0.3040080630479595,\n",
       "  ('curry prata', 'western food'): 0.288779802737338,\n",
       "  ('laksa', 'western food'): 0.24079780320414573,\n",
       "  ('laksa bowl', 'western food'): 0.23389015706789013,\n",
       "  ('prata', 'western food'): 0.15397132982047892}}"
      ]
     },
     "metadata": {},
     "output_type": "display_data"
    }
   ],
   "source": [
    "# Eg. Testing multi-categories\n",
    "categories_similarity_comparison_function(get_sentence_embedding_MiniLM_L6_v2, [\"food\", \"asian food\", \"western food\"], [\"laksa\", \"laksa bowl\", \"prata\", \"curry prata\", \"steak\", \"sirloin steak with mushroom sauce\"], sort_output=-1)"
   ]
  },
  {
   "cell_type": "code",
   "execution_count": null,
   "metadata": {},
   "outputs": [
    {
     "data": {
      "text/plain": [
       "{'food': {('laksa', 'food'): 0.21327309103382694,\n",
       "  ('laksa bowl', 'food'): 0.259120507793398,\n",
       "  ('prata', 'food'): 0.21317178691606403,\n",
       "  ('curry prata', 'food'): 0.2585698555536739,\n",
       "  ('steak', 'food'): 0.5003130997095016,\n",
       "  ('sirloin steak with mushroom sauce', 'food'): 0.2937494543044752},\n",
       " 'asian food': {('laksa', 'asian food'): 0.20722211920235642,\n",
       "  ('laksa bowl', 'asian food'): 0.22997642560937964,\n",
       "  ('prata', 'asian food'): 0.18665660738247442,\n",
       "  ('curry prata', 'asian food'): 0.30237662711869023,\n",
       "  ('steak', 'asian food'): 0.30798892917323445,\n",
       "  ('sirloin steak with mushroom sauce', 'asian food'): 0.3007048767274798},\n",
       " 'western food': {('laksa', 'western food'): 0.24079780320414573,\n",
       "  ('laksa bowl', 'western food'): 0.23389015706789013,\n",
       "  ('prata', 'western food'): 0.15397132982047892,\n",
       "  ('curry prata', 'western food'): 0.288779802737338,\n",
       "  ('steak', 'western food'): 0.39804313466154906,\n",
       "  ('sirloin steak with mushroom sauce', 'western food'): 0.3040080630479595}}"
      ]
     },
     "metadata": {},
     "output_type": "display_data"
    }
   ],
   "source": [
    "categories_similarity_comparison_locked_model_MiniLM_L6_v2 = lock_categories_similarity_comparison_function(get_sentence_embedding_MiniLM_L6_v2)\n",
    "categories_similarity_comparison_locked_model_MiniLM_L6_v2([\"food\", \"asian food\", \"western food\"], texts=[\"laksa\", \"laksa bowl\", \"prata\", \"curry prata\", \"steak\", \"sirloin steak with mushroom sauce\"])"
   ]
  },
  {
   "cell_type": "code",
   "execution_count": null,
   "metadata": {},
   "outputs": [
    {
     "name": "stdout",
     "output_type": "stream",
     "text": [
      "Category: food\n",
      "Similarity Level:\n",
      "super prata                    /-/ food                           : 0.16437\n",
      "caifan                         /-/ food                           : 0.21156\n",
      "ramen                          /-/ food                           : 0.43923\n"
     ]
    }
   ],
   "source": [
    "# Very specific use case only for \"single_category_similarity_comparison_function\" which returns a dict of compare_key and result_value\n",
    "# Not usable on \"categories_similarity_comparison_function\" since this returns will return dict of dict!\n",
    "category_similarity_result_display(single_category_similarity_comparison_locked_model_MiniLM_L6_v2(\"food\", [\"super prata\", \"caifan\", \"ramen\"]))"
   ]
  },
  {
   "cell_type": "code",
   "execution_count": null,
   "metadata": {},
   "outputs": [
    {
     "name": "stdout",
     "output_type": "stream",
     "text": [
      "Category: food\n",
      "Similarity Level:\n",
      "steak                          /-/ food                           : 0.50031\n",
      "sirloin steak with mushroom sa /-/ food                           : 0.29375\n",
      "laksa bowl                     /-/ food                           : 0.25912\n",
      "curry prata                    /-/ food                           : 0.25857\n",
      "laksa                          /-/ food                           : 0.21327\n",
      "prata                          /-/ food                           : 0.21317\n",
      "Category: asian food\n",
      "Similarity Level:\n",
      "steak                          /-/ asian food                     : 0.30799\n",
      "curry prata                    /-/ asian food                     : 0.30238\n",
      "sirloin steak with mushroom sa /-/ asian food                     : 0.3007\n",
      "laksa bowl                     /-/ asian food                     : 0.22998\n",
      "laksa                          /-/ asian food                     : 0.20722\n",
      "prata                          /-/ asian food                     : 0.18666\n",
      "Category: western food\n",
      "Similarity Level:\n",
      "steak                          /-/ western food                   : 0.39804\n",
      "sirloin steak with mushroom sa /-/ western food                   : 0.30401\n",
      "curry prata                    /-/ western food                   : 0.28878\n",
      "laksa                          /-/ western food                   : 0.2408\n",
      "laksa bowl                     /-/ western food                   : 0.23389\n",
      "prata                          /-/ western food                   : 0.15397\n"
     ]
    }
   ],
   "source": [
    "# Eg. Testing multi-categories DISPLAY\n",
    "categories_similarity_result_display(categories_similarity_comparison_function(get_sentence_embedding_MiniLM_L6_v2, [\"food\", \"asian food\", \"western food\"], [\"laksa\", \"laksa bowl\", \"prata\", \"curry prata\", \"steak\", \"sirloin steak with mushroom sauce\"]), sort_display=-1)"
   ]
  },
  {
   "cell_type": "markdown",
   "metadata": {},
   "source": [
    "### Categories with \"sub-categories\"/\"synonyms\""
   ]
  },
  {
   "cell_type": "markdown",
   "metadata": {},
   "source": [
    "#### Both Comparisons and Display (General Cateogry with \"sub-categories\"/\"synonyms\")"
   ]
  },
  {
   "cell_type": "markdown",
   "metadata": {},
   "source": [
    "##### Comparisons (General Cateogry with \"sub-categories\"/\"synonyms\" variation)"
   ]
  },
  {
   "cell_type": "code",
   "execution_count": null,
   "metadata": {},
   "outputs": [],
   "source": [
    "## Categories with sub-categories is in format of dictionary where general_category-key:sub-\"categories\"_in_list(actually more like \"synonyms\" of the general categories)-value\n",
    "## returns a dictionary of general_category-key:{sub-\"category\"(general category \"synonyms\")-key:{(xyz_comparison, sub-\"category\"/\"synonym\"):cosine_similarity}}\n",
    "\n",
    "def categories_wsub_similarity_comparison_function(embedding_model_function, categories_wsub_dict, texts, sort_output=0):\n",
    "    categories_wsub_result_dict = {}\n",
    "    for big_general_category, sub_categories in categories_wsub_dict.items():\n",
    "        categories_wsub_result_dict[big_general_category] = categories_similarity_comparison_function(embedding_model_function=embedding_model_function, categories=([big_general_category]+sub_categories), texts=texts, sort_output=sort_output)\n",
    "    return categories_wsub_result_dict"
   ]
  },
  {
   "cell_type": "markdown",
   "metadata": {},
   "source": [
    "##### Comparisons - Lock (General Cateogry with \"sub-categories\"/\"synonyms\" variation)"
   ]
  },
  {
   "cell_type": "code",
   "execution_count": null,
   "metadata": {},
   "outputs": [],
   "source": [
    "def lock_categories_wsub_similarity_comparison_function(embedding_model_function):\n",
    "    return lambda categories_wsub_dict, texts, sort_output=0: categories_wsub_similarity_comparison_function(embedding_model_function=embedding_model_function, categories_wsub_dict=categories_wsub_dict, texts=texts, sort_output=sort_output)"
   ]
  },
  {
   "cell_type": "markdown",
   "metadata": {},
   "source": [
    "##### Display (General Cateogry with \"sub-categories\"/\"synonyms\" variation)"
   ]
  },
  {
   "cell_type": "code",
   "execution_count": null,
   "metadata": {},
   "outputs": [],
   "source": [
    "def categories_wsub_similarity_result_display(categories_wsub_result_dict, sort_display = 0):\n",
    "    for big_general_category, big_wsub_categories_result in categories_wsub_result_dict.items():\n",
    "        print(f\"General Category: {big_general_category}\")\n",
    "        categories_similarity_result_display(big_wsub_categories_result, sort_display=sort_display)\n",
    "        print()"
   ]
  },
  {
   "cell_type": "markdown",
   "metadata": {},
   "source": [
    "#### Display, similar to but variation [Top xxx (Count) and Limit yyy (Value)]"
   ]
  },
  {
   "cell_type": "code",
   "execution_count": null,
   "metadata": {},
   "outputs": [],
   "source": [
    "## Top xxx and Limit yyy, display function different mainly\n",
    "\n",
    "# Prep\n",
    "def categories_similarity_result_display_top_limit(categories_result_dict, top_many = 5, limit_value = 0.5):\n",
    "    for category, category_similarity_results_dict in categories_result_dict.items():\n",
    "        print(f\"Sub-Categories: {category}\")\n",
    "        print(f\"Similarity Level Of Top {top_many} (Limit={limit_value}):\")\n",
    "        num_count = 0\n",
    "        #if sort_display == -1:\n",
    "        for comparison_items_tuple, comparison_result in (sorted(category_similarity_results_dict.items(), key= lambda dict_item: dict_item[1], reverse=True)):\n",
    "            if num_count == top_many or comparison_result < limit_value:\n",
    "                break\n",
    "            print(f\"{comparison_items_tuple[0]:30.30} /-/ {comparison_items_tuple[1]:30.30} : {comparison_result:.5}\")\n",
    "            num_count += 1\n",
    "        \"\"\"\n",
    "        elif sort_display == 1:\n",
    "            for comparison_items_tuple, comparison_result in (sorted(category_similarity_results_dict.items(), key= lambda dict_item: dict_item[1], reverse=True)):\n",
    "                if num_count == top_many or comparison_result < limit_value:\n",
    "                    break\n",
    "                print(f\"{comparison_items_tuple[0]:30.30} /-/ {comparison_items_tuple[1]:30.30} : {comparison_result:.5}\")\n",
    "        else:\n",
    "            for comparison_items_tuple, comparison_result in category_similarity_results_dict.items():\n",
    "                if num_count == top_many or comparison_result < limit_value:\n",
    "                    break\n",
    "                print(f\"{comparison_items_tuple[0]:30.30} /-/ {comparison_items_tuple[1]:30.30} : {comparison_result:.5}\")\n",
    "        \"\"\"\n",
    "# Actual using function\n",
    "def categories_wsub_similarity_result_display_top_limit(categories_wsub_result_dict, top_many = 5, limit_value = 0.5):\n",
    "    for big_general_category, big_wsub_categories_result in categories_wsub_result_dict.items():\n",
    "        print(f\"General Category: {big_general_category}\")\n",
    "        general_category_subcats = tuple(big_wsub_categories_result.keys())\n",
    "        subcat_combined_dicts = {}\n",
    "        for subcat_dicts in big_wsub_categories_result.values():\n",
    "            subcat_combined_dicts = subcat_combined_dicts | subcat_dicts\n",
    "        #sorted_subcat_combined_dicts = {comp_tuple:comp_res for comp_tuple, comp_res in sorted(subcat_combined_dicts.items(), key = lambda dict_item: dict_item[1], reverse=True)}\n",
    "        categories_similarity_result_display_top_limit({general_category_subcats: subcat_combined_dicts}, top_many=top_many, limit_value=limit_value)\n",
    "        print()"
   ]
  },
  {
   "cell_type": "markdown",
   "metadata": {},
   "source": [
    "##### Example Demo"
   ]
  },
  {
   "cell_type": "code",
   "execution_count": null,
   "metadata": {},
   "outputs": [
    {
     "data": {
      "text/plain": [
       "{'Passage provided for business purpose': {'Passage provided for business purpose': {('Employees receive free flight benefits ',\n",
       "    'Passage provided for business purpose'): 0.14779233235003653,\n",
       "   ('to return to home country once a year and',\n",
       "    'Passage provided for business purpose'): 0.23613265901235564,\n",
       "   (' free flight benefits for business trips',\n",
       "    'Passage provided for business purpose'): 0.29568490649739965},\n",
       "  'Air tickets for business trip': {('Employees receive free flight benefits ',\n",
       "    'Air tickets for business trip'): 0.4639808954117372,\n",
       "   ('to return to home country once a year and',\n",
       "    'Air tickets for business trip'): 0.14540735152911588,\n",
       "   (' free flight benefits for business trips',\n",
       "    'Air tickets for business trip'): 0.6598189842771236},\n",
       "  'Air tickets for work purposes': {('Employees receive free flight benefits ',\n",
       "    'Air tickets for work purposes'): 0.5376104533584114,\n",
       "   ('to return to home country once a year and',\n",
       "    'Air tickets for work purposes'): 0.17531932735985858,\n",
       "   (' free flight benefits for business trips',\n",
       "    'Air tickets for work purposes'): 0.4950128993725118},\n",
       "  'Flight for business trip': {('Employees receive free flight benefits ',\n",
       "    'Flight for business trip'): 0.435762301470959,\n",
       "   ('to return to home country once a year and',\n",
       "    'Flight for business trip'): 0.25174570017998144,\n",
       "   (' free flight benefits for business trips',\n",
       "    'Flight for business trip'): 0.7536517813135932},\n",
       "  'Flight for work purposes': {('Employees receive free flight benefits ',\n",
       "    'Flight for work purposes'): 0.5511253221175141,\n",
       "   ('to return to home country once a year and',\n",
       "    'Flight for work purposes'): 0.2963659526055269,\n",
       "   (' free flight benefits for business trips',\n",
       "    'Flight for work purposes'): 0.6096248255738319},\n",
       "  'Travel incidental to employment': {('Employees receive free flight benefits ',\n",
       "    'Travel incidental to employment'): 0.39301368059022956,\n",
       "   ('to return to home country once a year and',\n",
       "    'Travel incidental to employment'): 0.3872685632273945,\n",
       "   (' free flight benefits for business trips',\n",
       "    'Travel incidental to employment'): 0.44624883322649134}},\n",
       " 'Passage provided when taking up employment and upon termination': {'Passage provided when taking up employment and upon termination': {('Employees receive free flight benefits ',\n",
       "    'Passage provided when taking up employment and upon termination'): 0.21868298163832403,\n",
       "   ('to return to home country once a year and',\n",
       "    'Passage provided when taking up employment and upon termination'): 0.18954677690810262,\n",
       "   (' free flight benefits for business trips',\n",
       "    'Passage provided when taking up employment and upon termination'): 0.09119117726133678},\n",
       "  'Air tickets back to home country after contract end': {('Employees receive free flight benefits ',\n",
       "    'Air tickets back to home country after contract end'): 0.30093577859713627,\n",
       "   ('to return to home country once a year and',\n",
       "    'Air tickets back to home country after contract end'): 0.36042882892695643,\n",
       "   (' free flight benefits for business trips',\n",
       "    'Air tickets back to home country after contract end'): 0.3095408398241093},\n",
       "  'Air tickets back to home country after termination of employment': {('Employees receive free flight benefits ',\n",
       "    'Air tickets back to home country after termination of employment'): 0.43415698362247235,\n",
       "   ('to return to home country once a year and',\n",
       "    'Air tickets back to home country after termination of employment'): 0.351968917273837,\n",
       "   (' free flight benefits for business trips',\n",
       "    'Air tickets back to home country after termination of employment'): 0.3505791343838498},\n",
       "  'Air tickets to work in Singapore': {('Employees receive free flight benefits ',\n",
       "    'Air tickets to work in Singapore'): 0.44262971324371864,\n",
       "   ('to return to home country once a year and',\n",
       "    'Air tickets to work in Singapore'): 0.16416035054066946,\n",
       "   (' free flight benefits for business trips',\n",
       "    'Air tickets to work in Singapore'): 0.3745299206916572},\n",
       "  'Flight back to home country after contract end': {('Employees receive free flight benefits ',\n",
       "    'Flight back to home country after contract end'): 0.22879137461995946,\n",
       "   ('to return to home country once a year and',\n",
       "    'Flight back to home country after contract end'): 0.4951524049674279,\n",
       "   (' free flight benefits for business trips',\n",
       "    'Flight back to home country after contract end'): 0.30337465747288683},\n",
       "  'Flight back to home country after termination of employment': {('Employees receive free flight benefits ',\n",
       "    'Flight back to home country after termination of employment'): 0.36049679568918713,\n",
       "   ('to return to home country once a year and',\n",
       "    'Flight back to home country after termination of employment'): 0.4381619780422173,\n",
       "   (' free flight benefits for business trips',\n",
       "    'Flight back to home country after termination of employment'): 0.3190605163520106},\n",
       "  'Flight to work in Singapore': {('Employees receive free flight benefits ',\n",
       "    'Flight to work in Singapore'): 0.39243984840253016,\n",
       "   ('to return to home country once a year and',\n",
       "    'Flight to work in Singapore'): 0.22750227947471324,\n",
       "   (' free flight benefits for business trips',\n",
       "    'Flight to work in Singapore'): 0.3923574507372793}},\n",
       " 'Home leave passage': {'Home leave passage': {('Employees receive free flight benefits ',\n",
       "    'Home leave passage'): 0.16376386148499494,\n",
       "   ('to return to home country once a year and',\n",
       "    'Home leave passage'): 0.41805832558384304,\n",
       "   (' free flight benefits for business trips',\n",
       "    'Home leave passage'): 0.1710042399611213},\n",
       "  'Air passage benefit': {('Employees receive free flight benefits ',\n",
       "    'Air passage benefit'): 0.4717066074745732,\n",
       "   ('to return to home country once a year and',\n",
       "    'Air passage benefit'): 0.24060433713629004,\n",
       "   (' free flight benefits for business trips',\n",
       "    'Air passage benefit'): 0.5176624065540667},\n",
       "  'Air tickets to home country': {('Employees receive free flight benefits ',\n",
       "    'Air tickets to home country'): 0.3469180402218514,\n",
       "   ('to return to home country once a year and',\n",
       "    'Air tickets to home country'): 0.38250976489666777,\n",
       "   (' free flight benefits for business trips',\n",
       "    'Air tickets to home country'): 0.38708819585485815},\n",
       "  'Flight to home country': {('Employees receive free flight benefits ',\n",
       "    'Flight to home country'): 0.26720465266595306,\n",
       "   ('to return to home country once a year and',\n",
       "    'Flight to home country'): 0.565318392098334,\n",
       "   (' free flight benefits for business trips',\n",
       "    'Flight to home country'): 0.41699008606212845}}}"
      ]
     },
     "metadata": {},
     "output_type": "display_data"
    }
   ],
   "source": [
    "categories_wsub_similarity_comparison_function(get_sentence_embedding_MiniLM_L6_v2, cat_wsub_demo, hlp_biz_demo_cut_third)"
   ]
  },
  {
   "cell_type": "code",
   "execution_count": null,
   "metadata": {},
   "outputs": [
    {
     "name": "stdout",
     "output_type": "stream",
     "text": [
      "General Category: Passage provided for business purpose\n",
      "Category: Passage provided for business purpose\n",
      "Similarity Level:\n",
      " free flight benefits for busi /-/ Passage provided for business  : 0.29568\n",
      "to return to home country once /-/ Passage provided for business  : 0.23613\n",
      "Employees receive free flight  /-/ Passage provided for business  : 0.14779\n",
      "Category: Air tickets for business trip\n",
      "Similarity Level:\n",
      " free flight benefits for busi /-/ Air tickets for business trip  : 0.65982\n",
      "Employees receive free flight  /-/ Air tickets for business trip  : 0.46398\n",
      "to return to home country once /-/ Air tickets for business trip  : 0.14541\n",
      "Category: Air tickets for work purposes\n",
      "Similarity Level:\n",
      "Employees receive free flight  /-/ Air tickets for work purposes  : 0.53761\n",
      " free flight benefits for busi /-/ Air tickets for work purposes  : 0.49501\n",
      "to return to home country once /-/ Air tickets for work purposes  : 0.17532\n",
      "Category: Flight for business trip\n",
      "Similarity Level:\n",
      " free flight benefits for busi /-/ Flight for business trip       : 0.75365\n",
      "Employees receive free flight  /-/ Flight for business trip       : 0.43576\n",
      "to return to home country once /-/ Flight for business trip       : 0.25175\n",
      "Category: Flight for work purposes\n",
      "Similarity Level:\n",
      " free flight benefits for busi /-/ Flight for work purposes       : 0.60962\n",
      "Employees receive free flight  /-/ Flight for work purposes       : 0.55113\n",
      "to return to home country once /-/ Flight for work purposes       : 0.29637\n",
      "Category: Travel incidental to employment\n",
      "Similarity Level:\n",
      " free flight benefits for busi /-/ Travel incidental to employmen : 0.44625\n",
      "Employees receive free flight  /-/ Travel incidental to employmen : 0.39301\n",
      "to return to home country once /-/ Travel incidental to employmen : 0.38727\n",
      "\n",
      "General Category: Passage provided when taking up employment and upon termination\n",
      "Category: Passage provided when taking up employment and upon termination\n",
      "Similarity Level:\n",
      "Employees receive free flight  /-/ Passage provided when taking u : 0.21868\n",
      "to return to home country once /-/ Passage provided when taking u : 0.18955\n",
      " free flight benefits for busi /-/ Passage provided when taking u : 0.091191\n",
      "Category: Air tickets back to home country after contract end\n",
      "Similarity Level:\n",
      "to return to home country once /-/ Air tickets back to home count : 0.36043\n",
      " free flight benefits for busi /-/ Air tickets back to home count : 0.30954\n",
      "Employees receive free flight  /-/ Air tickets back to home count : 0.30094\n",
      "Category: Air tickets back to home country after termination of employment\n",
      "Similarity Level:\n",
      "Employees receive free flight  /-/ Air tickets back to home count : 0.43416\n",
      "to return to home country once /-/ Air tickets back to home count : 0.35197\n",
      " free flight benefits for busi /-/ Air tickets back to home count : 0.35058\n",
      "Category: Air tickets to work in Singapore\n",
      "Similarity Level:\n",
      "Employees receive free flight  /-/ Air tickets to work in Singapo : 0.44263\n",
      " free flight benefits for busi /-/ Air tickets to work in Singapo : 0.37453\n",
      "to return to home country once /-/ Air tickets to work in Singapo : 0.16416\n",
      "Category: Flight back to home country after contract end\n",
      "Similarity Level:\n",
      "to return to home country once /-/ Flight back to home country af : 0.49515\n",
      " free flight benefits for busi /-/ Flight back to home country af : 0.30337\n",
      "Employees receive free flight  /-/ Flight back to home country af : 0.22879\n",
      "Category: Flight back to home country after termination of employment\n",
      "Similarity Level:\n",
      "to return to home country once /-/ Flight back to home country af : 0.43816\n",
      "Employees receive free flight  /-/ Flight back to home country af : 0.3605\n",
      " free flight benefits for busi /-/ Flight back to home country af : 0.31906\n",
      "Category: Flight to work in Singapore\n",
      "Similarity Level:\n",
      "Employees receive free flight  /-/ Flight to work in Singapore    : 0.39244\n",
      " free flight benefits for busi /-/ Flight to work in Singapore    : 0.39236\n",
      "to return to home country once /-/ Flight to work in Singapore    : 0.2275\n",
      "\n",
      "General Category: Home leave passage\n",
      "Category: Home leave passage\n",
      "Similarity Level:\n",
      "to return to home country once /-/ Home leave passage             : 0.41806\n",
      " free flight benefits for busi /-/ Home leave passage             : 0.171\n",
      "Employees receive free flight  /-/ Home leave passage             : 0.16376\n",
      "Category: Air passage benefit\n",
      "Similarity Level:\n",
      " free flight benefits for busi /-/ Air passage benefit            : 0.51766\n",
      "Employees receive free flight  /-/ Air passage benefit            : 0.47171\n",
      "to return to home country once /-/ Air passage benefit            : 0.2406\n",
      "Category: Air tickets to home country\n",
      "Similarity Level:\n",
      " free flight benefits for busi /-/ Air tickets to home country    : 0.38709\n",
      "to return to home country once /-/ Air tickets to home country    : 0.38251\n",
      "Employees receive free flight  /-/ Air tickets to home country    : 0.34692\n",
      "Category: Flight to home country\n",
      "Similarity Level:\n",
      "to return to home country once /-/ Flight to home country         : 0.56532\n",
      " free flight benefits for busi /-/ Flight to home country         : 0.41699\n",
      "Employees receive free flight  /-/ Flight to home country         : 0.2672\n",
      "\n"
     ]
    }
   ],
   "source": [
    "categories_wsub_similarity_result_display(categories_wsub_similarity_comparison_function(get_sentence_embedding_MiniLM_L6_v2, cat_wsub_demo, hlp_biz_demo_cut_third), sort_display=-1)"
   ]
  },
  {
   "cell_type": "code",
   "execution_count": null,
   "metadata": {},
   "outputs": [
    {
     "name": "stdout",
     "output_type": "stream",
     "text": [
      "General Category: Passage provided for business purpose\n",
      "Sub-Categories: ('Passage provided for business purpose', 'Air tickets for business trip', 'Air tickets for work purposes', 'Flight for business trip', 'Flight for work purposes', 'Travel incidental to employment')\n",
      "Similarity Level Of Top 3 (Limit=0.55):\n",
      " free flight benefits for busi /-/ Flight for business trip       : 0.75365\n",
      " free flight benefits for busi /-/ Air tickets for business trip  : 0.65982\n",
      " free flight benefits for busi /-/ Flight for work purposes       : 0.60962\n",
      "\n",
      "General Category: Passage provided when taking up employment and upon termination\n",
      "Sub-Categories: ('Passage provided when taking up employment and upon termination', 'Air tickets back to home country after contract end', 'Air tickets back to home country after termination of employment', 'Air tickets to work in Singapore', 'Flight back to home country after contract end', 'Flight back to home country after termination of employment', 'Flight to work in Singapore')\n",
      "Similarity Level Of Top 3 (Limit=0.55):\n",
      "\n",
      "General Category: Home leave passage\n",
      "Sub-Categories: ('Home leave passage', 'Air passage benefit', 'Air tickets to home country', 'Flight to home country')\n",
      "Similarity Level Of Top 3 (Limit=0.55):\n",
      "to return to home country once /-/ Flight to home country         : 0.56532\n",
      "\n"
     ]
    }
   ],
   "source": [
    "categories_wsub_similarity_result_display_top_limit(categories_wsub_similarity_comparison_function(get_sentence_embedding_MiniLM_L6_v2, cat_wsub_demo, hlp_biz_demo_cut_third), top_many=3, limit_value=0.55)"
   ]
  },
  {
   "cell_type": "markdown",
   "metadata": {},
   "source": [
    "### Categories Resorting (To Different Format) Function"
   ]
  },
  {
   "cell_type": "markdown",
   "metadata": {},
   "source": [
    "#### Sorting and Organising Within a Category (Refers To \"sub-categories\"/\"synonyms\")"
   ]
  },
  {
   "cell_type": "code",
   "execution_count": null,
   "metadata": {},
   "outputs": [],
   "source": [
    "def categories_wsub_similarity_comparison_resort_function(categories_wsub_similarity_comparison_result_dict, get_inner_list = False, sort_within_cat=0, top_many_wsub = 3, limit_value = 0.5):\n",
    "    resorted_categories_wsub_similarity_comparison_dict = {}\n",
    "    if limit_value < 0:\n",
    "        if sort_within_cat == -1:\n",
    "            limit_value = 0\n",
    "        if sort_within_cat == 0:\n",
    "            limit_value = None\n",
    "        if sort_within_cat == 1:\n",
    "            limit_value = 1\n",
    "    \n",
    "    if get_inner_list:\n",
    "        for category, sub_syn_cat_dict in categories_wsub_similarity_comparison_result_dict.items():\n",
    "            resorted_categories_wsub_similarity_comparison_dict[category] = []\n",
    "            for sub_syn_cat_text_tuple_pred_dict in sub_syn_cat_dict.values():\n",
    "                for sub_syn_cat_text_tuple, pred in sub_syn_cat_text_tuple_pred_dict.items():\n",
    "                    if sort_within_cat == 0 or (sort_within_cat == -1 and pred >= limit_value) or (sort_within_cat == 1 and pred <= limit_value):    \n",
    "                        resorted_categories_wsub_similarity_comparison_dict[category].append((sub_syn_cat_text_tuple, pred))\n",
    "        # sorting below is within a category itself\n",
    "        for category, comparison_tuple_pred_tuple in resorted_categories_wsub_similarity_comparison_dict.items():\n",
    "            if sort_within_cat == -1:\n",
    "                resorted_categories_wsub_similarity_comparison_dict[category] = list(sorted(comparison_tuple_pred_tuple, key= lambda tuple_item: tuple_item[1], reverse=True))[:top_many_wsub]\n",
    "            if sort_within_cat == 0:\n",
    "                resorted_categories_wsub_similarity_comparison_dict[category] = list(comparison_tuple_pred_tuple)[:top_many_wsub]\n",
    "            if sort_within_cat == 1:\n",
    "                resorted_categories_wsub_similarity_comparison_dict[category] = list(sorted(comparison_tuple_pred_tuple, key= lambda tuple_item: tuple_item[1], reverse=False))[:top_many_wsub]\n",
    "        return resorted_categories_wsub_similarity_comparison_dict\n",
    "            \n",
    "    else:    \n",
    "        for category, sub_syn_cat_dict in categories_wsub_similarity_comparison_result_dict.items():\n",
    "            resorted_categories_wsub_similarity_comparison_dict[category] = {}\n",
    "            for sub_syn_cat_text_tuple_pred_dict in sub_syn_cat_dict.values():\n",
    "                for sub_syn_cat_text_tuple, pred in sub_syn_cat_text_tuple_pred_dict.items():\n",
    "                    if sort_within_cat == 0 or (sort_within_cat == -1 and pred >= limit_value) or (sort_within_cat == 1 and pred <= limit_value):    \n",
    "                        resorted_categories_wsub_similarity_comparison_dict[category][sub_syn_cat_text_tuple] = pred\n",
    "        # sorting below is within a category itself\n",
    "        for category, comparison_tuple_pred_dict in resorted_categories_wsub_similarity_comparison_dict.items():\n",
    "            if sort_within_cat == -1:\n",
    "                resorted_categories_wsub_similarity_comparison_dict[category] = dict(list(sorted(comparison_tuple_pred_dict.items(), key= lambda dict_item: dict_item[1], reverse=True))[:top_many_wsub])\n",
    "            if sort_within_cat == 0:\n",
    "                resorted_categories_wsub_similarity_comparison_dict[category] = dict(list(comparison_tuple_pred_dict.items())[:top_many_wsub])\n",
    "            if sort_within_cat == 1:\n",
    "                resorted_categories_wsub_similarity_comparison_dict[category] = dict(list(sorted(comparison_tuple_pred_dict.items(), key= lambda dict_item: dict_item[1], reverse=False))[:top_many_wsub])\n",
    "    return resorted_categories_wsub_similarity_comparison_dict"
   ]
  },
  {
   "cell_type": "markdown",
   "metadata": {},
   "source": [
    "#### Sorting and Organising Between Categories (Refers To Different Categories In General) - Most to Least"
   ]
  },
  {
   "cell_type": "code",
   "execution_count": null,
   "metadata": {},
   "outputs": [],
   "source": [
    "## No Sorting Order, all made for the cleaning function, but the code is there but the argument is removed and relevant code portion is commented out, after all, for no sort, how to determine top xxx category, the top or bottom!!\n",
    "\n",
    "def categories_wsub_similarity_comparison_resort_cleaning_function(resorted_categories_wsub_similarity_comparison_dict, get_inner_list = False, get_list = False, top_many_cat = 3):\n",
    "    resultant_cleaned_list = []\n",
    "    if get_inner_list:\n",
    "        for category, comparison_tuple_pred_pair_tuple_list in resorted_categories_wsub_similarity_comparison_dict.items():\n",
    "            for comparison_tuple, pred in comparison_tuple_pred_pair_tuple_list:\n",
    "                resultant_cleaned_list.append((category, (comparison_tuple, pred)))\n",
    "    else:\n",
    "        for category, comparison_tuple_pred_pair_dict in resorted_categories_wsub_similarity_comparison_dict.items():\n",
    "            for comparison_tuple, pred in comparison_tuple_pred_pair_dict.items():\n",
    "                resultant_cleaned_list.append((category, (comparison_tuple, pred)))\n",
    "    \"\"\"\n",
    "    # sort_cats args gone!! since cleaning is for top many, so no point giving option here, just restrict to just most to least!!\n",
    "    if sort_cats == -1:\n",
    "        sorted_resultant_cleaned_list = list(sorted(resultant_cleaned_list, key=lambda list_element: list_element[1][1], reverse=True))\n",
    "    if sort_cats == 0:\n",
    "        sorted_resultant_cleaned_list = resultant_cleaned_list\n",
    "    if sort_cats == 1:\n",
    "        sorted_resultant_cleaned_list = list(sorted(resultant_cleaned_list, key=lambda list_element: list_element[1][1], reverse=False))\n",
    "    \"\"\"\n",
    "    sorted_resultant_cleaned_list = list(sorted(resultant_cleaned_list, key=lambda list_element: list_element[1][1], reverse=True))[:top_many_cat]\n",
    "    if get_list:\n",
    "        return sorted_resultant_cleaned_list\n",
    "    \"\"\"\n",
    "    # for this to work with getting back a dict, which is sorted correctly, the \"top_many_wsub\" argument in previous function need to be 1\n",
    "    ## if not, very wonky, since category as key means \"top_many_cat\" has to be <= number of category, else weird, and if \"top_many_wsub\" is not 1, the method below not so direct, need to ensure only add to dict once, and if category added then no more replacement!\n",
    "    ### a possible alternative but unpreferred, so just keep \"top_many_wsub\" at 1 if following into this function!!\n",
    "    \n",
    "    sorted_resultant_cleaned_list_dict = {}\n",
    "    for cat, tuple_pair in sorted_resultant_cleaned_list:\n",
    "        if cat not in sorted_resultant_cleaned_list_dict:\n",
    "            sorted_resultant_cleaned_list_dict[cat] = tuple_pair\n",
    "    return sorted_resultant_cleaned_list_dict\n",
    "    \"\"\"\n",
    "    return dict(sorted_resultant_cleaned_list)"
   ]
  },
  {
   "cell_type": "markdown",
   "metadata": {},
   "source": [
    "#### New Resorted Format Display"
   ]
  },
  {
   "cell_type": "code",
   "execution_count": null,
   "metadata": {},
   "outputs": [],
   "source": [
    "def cleaned_categories_wsub_similarity_comparison_resorted_result_display(cleaned_resorted_compare_result, get_list):\n",
    "    if get_list:\n",
    "        for label, comparison_tuple_pred_pair_tuple in cleaned_resorted_compare_result:\n",
    "            print(f\"Category: {label}\")\n",
    "            print(f\"{comparison_tuple_pred_pair_tuple[0][0]:30.30} /-/ {comparison_tuple_pred_pair_tuple[0][1]:30.30}: {comparison_tuple_pred_pair_tuple[1]:.5}\")\n",
    "            print()\n",
    "    else:\n",
    "        for label, comparison_tuple_pred_pair_tuple in cleaned_resorted_compare_result.items():\n",
    "            print(f\"Category: {label}\")\n",
    "            print(f\"{comparison_tuple_pred_pair_tuple[0][0]:30.30} /-/ {comparison_tuple_pred_pair_tuple[0][1]:30.30}: {comparison_tuple_pred_pair_tuple[1]:.5}\")\n",
    "            print()"
   ]
  },
  {
   "cell_type": "markdown",
   "metadata": {},
   "source": [
    "##### Example Demo"
   ]
  },
  {
   "cell_type": "code",
   "execution_count": null,
   "metadata": {},
   "outputs": [
    {
     "data": {
      "text/plain": [
       "{'Passage provided for business purpose': [(('a year and',\n",
       "    'Air tickets for work purposes'),\n",
       "   0.03580521225597774),\n",
       "  (('a year and', 'Air tickets for business trip'), 0.0504765864001799),\n",
       "  (('a year and', 'Passage provided for business purpose'),\n",
       "   0.06552286772996774)],\n",
       " 'Passage provided when taking up employment and upon termination': [(('a year and',\n",
       "    'Air tickets to work in Singapore'),\n",
       "   0.030742087031399204),\n",
       "  (('a year and',\n",
       "    'Air tickets back to home country after termination of employment'),\n",
       "   0.05293060206713229),\n",
       "  (('a year and',\n",
       "    'Flight back to home country after termination of employment'),\n",
       "   0.0552523757358474)],\n",
       " 'Home leave passage': [(('a year and', 'Air tickets to home country'),\n",
       "   0.056946677215592184),\n",
       "  (('a year and', 'Air passage benefit'), 0.06636109112551498)]}"
      ]
     },
     "metadata": {},
     "output_type": "display_data"
    }
   ],
   "source": [
    "# Arguments to use for function\n",
    "get_inner_list = True\n",
    "sort_within_cat = 1\n",
    "top_many_wsub = 3\n",
    "limit_value = 0.07\n",
    "\n",
    "categories_wsub_similarity_comparison_resort_function(categories_wsub_similarity_comparison_result_dict=categories_wsub_similarity_comparison_function(get_sentence_embedding_MiniLM_L6_v2, categories_wsub_dict=cat_wsub_demo, texts=splitted_sentence_text), get_inner_list=get_inner_list, sort_within_cat=sort_within_cat, top_many_wsub=top_many_wsub, limit_value=limit_value)"
   ]
  },
  {
   "cell_type": "code",
   "execution_count": null,
   "metadata": {},
   "outputs": [
    {
     "data": {
      "text/plain": [
       "{'Passage provided for business purpose': (('free flight benefits for business trips',\n",
       "   'Flight for business trip'),\n",
       "  0.7536517813135932),\n",
       " 'Home leave passage': (('to return to home country once',\n",
       "   'Flight to home country'),\n",
       "  0.6656597017594097)}"
      ]
     },
     "metadata": {},
     "output_type": "display_data"
    }
   ],
   "source": [
    "# Arguments to use for function\n",
    "get_inner_list = True\n",
    "sort_within_cat = -1\n",
    "top_many_wsub = 1\n",
    "limit_value = -1\n",
    "\n",
    "top_many_cat = 2\n",
    "get_list = False\n",
    "\n",
    "categories_wsub_similarity_comparison_resort_cleaning_function(resorted_categories_wsub_similarity_comparison_dict=categories_wsub_similarity_comparison_resort_function(categories_wsub_similarity_comparison_result_dict=categories_wsub_similarity_comparison_function(get_sentence_embedding_MiniLM_L6_v2, categories_wsub_dict=cat_wsub_demo, texts=splitted_sentence_text), get_inner_list=get_inner_list, sort_within_cat=sort_within_cat, top_many_wsub=top_many_wsub, limit_value=limit_value), get_inner_list=get_inner_list, get_list=get_list, top_many_cat=top_many_cat)"
   ]
  },
  {
   "cell_type": "code",
   "execution_count": null,
   "metadata": {},
   "outputs": [
    {
     "name": "stdout",
     "output_type": "stream",
     "text": [
      "Category: Passage provided for business purpose\n",
      "free flight benefits for busin /-/ Flight for business trip      : 0.75365\n",
      "\n",
      "Category: Home leave passage\n",
      "to return to home country once /-/ Flight to home country        : 0.66566\n",
      "\n"
     ]
    }
   ],
   "source": [
    "# Arguments to use for function\n",
    "get_inner_list = True\n",
    "sort_within_cat = -1\n",
    "top_many_wsub = 1\n",
    "limit_value = 0.6\n",
    "\n",
    "top_many_cat = 3\n",
    "get_list = True\n",
    "        \n",
    "cleaned_categories_wsub_similarity_comparison_resorted_result_display(categories_wsub_similarity_comparison_resort_cleaning_function(resorted_categories_wsub_similarity_comparison_dict=categories_wsub_similarity_comparison_resort_function(categories_wsub_similarity_comparison_result_dict=categories_wsub_similarity_comparison_function(get_sentence_embedding_MiniLM_L6_v2, categories_wsub_dict=cat_wsub_demo, texts=splitted_sentence_text), get_inner_list=get_inner_list, sort_within_cat=sort_within_cat, top_many_wsub=top_many_wsub, limit_value=limit_value), get_inner_list=get_inner_list, get_list=get_list, top_many_cat=top_many_cat), get_list=get_list)"
   ]
  },
  {
   "cell_type": "code",
   "execution_count": null,
   "metadata": {},
   "outputs": [
    {
     "name": "stdout",
     "output_type": "stream",
     "text": [
      "Category: Passage provided for business purpose\n",
      "free flight benefits for busin /-/ Flight for business trip      : 0.75365\n",
      "\n",
      "Category: Home leave passage\n",
      "to return to home country once /-/ Flight to home country        : 0.66566\n",
      "\n",
      "Category: Passage provided when taking up employment and upon termination\n",
      "to return to home country once /-/ Flight back to home country af: 0.59888\n",
      "\n"
     ]
    }
   ],
   "source": [
    "# Arguments to use for function\n",
    "get_inner_list = True\n",
    "sort_within_cat = -1\n",
    "top_many_wsub = 1\n",
    "limit_value = 0.5\n",
    "\n",
    "top_many_cat = 3\n",
    "get_list = True\n",
    "        \n",
    "cleaned_categories_wsub_similarity_comparison_resorted_result_display(categories_wsub_similarity_comparison_resort_cleaning_function(resorted_categories_wsub_similarity_comparison_dict=categories_wsub_similarity_comparison_resort_function(categories_wsub_similarity_comparison_result_dict=categories_wsub_similarity_comparison_function(get_sentence_embedding_MiniLM_L6_v2, categories_wsub_dict=cat_wsub_demo, texts=splitted_sentence_text), get_inner_list=get_inner_list, sort_within_cat=sort_within_cat, top_many_wsub=top_many_wsub, limit_value=limit_value), get_inner_list=get_inner_list, get_list=get_list, top_many_cat=top_many_cat), get_list=get_list)"
   ]
  },
  {
   "cell_type": "markdown",
   "metadata": {},
   "source": [
    "# Zero Shot Classification Function Section"
   ]
  },
  {
   "cell_type": "markdown",
   "metadata": {},
   "source": [
    "### Generic Zero Shot Classification Function + Lock Version"
   ]
  },
  {
   "cell_type": "code",
   "execution_count": null,
   "metadata": {},
   "outputs": [],
   "source": [
    "def classify_sentence(classifier, candidate_labels, sequence_to_classify, multi_label = True):\n",
    "    result_dict = {}\n",
    "    classifier_results = classifier(sequence_to_classify, candidate_labels, multi_label=multi_label)\n",
    "    if type(classifier_results) != list:\n",
    "        classifier_results = [classifier_results]\n",
    "    for classifier_result in classifier_results:\n",
    "        result_dict[classifier_result[\"sequence\"]] = {label:label_prob for label,label_prob in zip(classifier_result[\"labels\"], classifier_result[\"scores\"])}\n",
    "    return result_dict"
   ]
  },
  {
   "cell_type": "code",
   "execution_count": null,
   "metadata": {},
   "outputs": [],
   "source": [
    "def lock_classify_sentence(classifier):\n",
    "    return lambda candidate_labels, sequence_to_classify, multi_label = True: classify_sentence(classifier=classifier, candidate_labels=candidate_labels, sequence_to_classify=sequence_to_classify, multi_label=multi_label)"
   ]
  },
  {
   "cell_type": "markdown",
   "metadata": {},
   "source": [
    "### Categories Classification Function (+ Resort Format Function) + Lock Version"
   ]
  },
  {
   "cell_type": "code",
   "execution_count": null,
   "metadata": {},
   "outputs": [],
   "source": [
    "def categories_classification_function(classification_model_function, categories_candidate_labels, texts, multi_label = True, sort_output = 0):\n",
    "    classification_results = classify_sentence(classifier=classification_model_function, candidate_labels=categories_candidate_labels, sequence_to_classify=texts, multi_label=multi_label)\n",
    "    final_classified_dict = {}\n",
    "    if sort_output == -1:\n",
    "        final_classified_dict = classification_results\n",
    "        return final_classified_dict\n",
    "    if sort_output == 0:\n",
    "        for seq in texts:\n",
    "            final_classified_dict[seq] = {label:classification_results[seq][label] for label in categories_candidate_labels}\n",
    "        return final_classified_dict\n",
    "    if sort_output == 1:\n",
    "        for seq in texts:\n",
    "            pre_sort = {label:classification_results[seq][label] for label in categories_candidate_labels}\n",
    "            final_classified_dict[seq] = {label:label_pred for label, label_pred in sorted(pre_sort.items(), key = lambda dict_item: dict_item[1])}\n",
    "        return final_classified_dict\n",
    "\n",
    "## Resort Format Function\n",
    "def categories_classification_additional_resort_function(seq_classified_dictionary, categories_candidate_labels, sort_output = 0, top_many = 5, limit_value = 0.5):\n",
    "    if limit_value < 0:\n",
    "        if sort_output == -1:\n",
    "            limit_value = 0\n",
    "        if sort_output == 0:\n",
    "            limit_value = None\n",
    "        if sort_output == 1:\n",
    "            limit_value = 1\n",
    "    resorted_classification_dict = {label:{} for label in categories_candidate_labels}\n",
    "    for seq, label_to_label_pred_dict in seq_classified_dictionary.items():\n",
    "        for label in categories_candidate_labels:\n",
    "            if sort_output == -1:\n",
    "                if label_to_label_pred_dict[label] >= limit_value:\n",
    "                    resorted_classification_dict[label][seq] = label_to_label_pred_dict[label]\n",
    "            if sort_output == 0:\n",
    "                # limit_value no meaning here since no sorting so no >= or <= to base off\n",
    "                resorted_classification_dict[label][seq] = label_to_label_pred_dict[label]\n",
    "            if sort_output == 1:\n",
    "                if label_to_label_pred_dict[label] <= limit_value:\n",
    "                    resorted_classification_dict[label][seq] = label_to_label_pred_dict[label]\n",
    "    if sort_output == -1:\n",
    "        for label in categories_candidate_labels:\n",
    "            resorted_classification_dict[label] = dict(sorted(resorted_classification_dict[label].items(), key = lambda dict_item: dict_item[1], reverse=True))\n",
    "    if sort_output == 0:\n",
    "        resorted_classification_dict = resorted_classification_dict\n",
    "    if sort_output == 1:\n",
    "        for label in categories_candidate_labels:\n",
    "            resorted_classification_dict[label] = dict(sorted(resorted_classification_dict[label].items(), key = lambda dict_item: dict_item[1], reverse=False))\n",
    "    \n",
    "    if top_many >= 0:\n",
    "        for label in categories_candidate_labels:\n",
    "            resorted_classification_dict[label] = dict(list(resorted_classification_dict[label].items())[:top_many])\n",
    "    return resorted_classification_dict"
   ]
  },
  {
   "cell_type": "code",
   "execution_count": null,
   "metadata": {},
   "outputs": [],
   "source": [
    "def lock_categories_classification_function(classification_model_function):\n",
    "    return lambda categories_candidate_labels, texts, multi_label = True, sort_output = 0 : categories_classification_function(classification_model_function=classification_model_function, categories_candidate_labels=categories_candidate_labels, texts=texts, multi_label = multi_label, sort_output = sort_output)\n"
   ]
  },
  {
   "cell_type": "markdown",
   "metadata": {},
   "source": [
    "#### Classification Result Display"
   ]
  },
  {
   "cell_type": "code",
   "execution_count": null,
   "metadata": {},
   "outputs": [],
   "source": [
    "def categories_classification_resorted_result_display(classification_resorted_dictionary_result, sort_display = 0, top_many = 5, limit_value = 0.5):\n",
    "    if limit_value < 0:\n",
    "        if sort_display == -1:\n",
    "            limit_value = 0\n",
    "        if sort_display == 0:\n",
    "            limit_value = None\n",
    "        if sort_display == 1:\n",
    "            limit_value = 1\n",
    "    if top_many > 0:\n",
    "        for label, seq_pred_dict in classification_resorted_dictionary_result.items():\n",
    "            print(f\"Category: {label}\")\n",
    "            if sort_display == -1:\n",
    "                for seq, pred in dict(sorted(list(seq_pred_dict.items()), key=lambda list_dict_tuple: list_dict_tuple[1], reverse=True)[:top_many]).items():\n",
    "                    if pred >= limit_value:\n",
    "                        print(f\"{seq:65.65}: {pred:.5}\")\n",
    "            if sort_display == 0:\n",
    "                ## if no sorting, then top xxx and limit yyy does not make sense so not applicable here\n",
    "                for seq, pred in seq_pred_dict.items():\n",
    "                    print(f\"{seq:65.65}: {pred:.5}\")\n",
    "            if sort_display == 1:\n",
    "                for seq, pred in dict(sorted(list(seq_pred_dict.items()), key=lambda list_dict_tuple: list_dict_tuple[1], reverse=False)[:top_many]).items():\n",
    "                    if pred <= limit_value:\n",
    "                        print(f\"{seq:65.65}: {pred:.5}\")\n",
    "            print()\n",
    "    else:\n",
    "        for label, seq_pred_dict in classification_resorted_dictionary_result.items():\n",
    "            print(f\"Category: {label}\")\n",
    "            if sort_display == -1:\n",
    "                for seq, pred in dict(sorted(seq_pred_dict.items(), key=lambda list_dict_tuple: list_dict_tuple[1], reverse=True)).items():\n",
    "                    if pred >= limit_value:\n",
    "                        print(f\"{seq:65.65}: {pred:.5}\")\n",
    "            if sort_display == 0:\n",
    "                ## if no sorting, then top xxx and limit yyy does not make sense so not applicable here\n",
    "                for seq, pred in seq_pred_dict.items():\n",
    "                    print(f\"{seq:65.65}: {pred:.5}\")\n",
    "            if sort_display == 1:\n",
    "                for seq, pred in dict(sorted(seq_pred_dict.items(), key=lambda list_dict_tuple: list_dict_tuple[1], reverse=False)).items():\n",
    "                    if pred <= limit_value:\n",
    "                        print(f\"{seq:65.65}: {pred:.5}\")\n",
    "            print()"
   ]
  },
  {
   "cell_type": "markdown",
   "metadata": {},
   "source": [
    "##### Example Demo"
   ]
  },
  {
   "cell_type": "code",
   "execution_count": null,
   "metadata": {},
   "outputs": [
    {
     "data": {
      "text/plain": [
       "{'one day i will see the world': {'travel': 0.994157612323761,\n",
       "  'exploration': 0.92877596616745,\n",
       "  'dancing': 0.005361784249544144,\n",
       "  'cooking': 0.0016605753917247057},\n",
       " 'i will explore sweden next semester': {'travel': 0.9911717772483826,\n",
       "  'exploration': 0.9684410691261292,\n",
       "  'dancing': 0.0032393524888902903,\n",
       "  'cooking': 0.00020078456145711243},\n",
       " 'I love popping and locking!': {'exploration': 0.7612733244895935,\n",
       "  'dancing': 0.22573687136173248,\n",
       "  'cooking': 0.17265444993972778,\n",
       "  'travel': 0.0074744801968336105}}"
      ]
     },
     "metadata": {},
     "output_type": "display_data"
    }
   ],
   "source": [
    "classify_sentence(bart_mnli_classifier, candidate_possible_labels, sequences_list, multi_label=True)"
   ]
  },
  {
   "cell_type": "code",
   "execution_count": null,
   "metadata": {},
   "outputs": [
    {
     "data": {
      "text/plain": [
       "{'one day i will see the world': {'travel': 0.8104696869850159,\n",
       "  'exploration': 0.1847233921289444,\n",
       "  'dancing': 0.0025745946913957596,\n",
       "  'cooking': 0.0022323287557810545}}"
      ]
     },
     "metadata": {},
     "output_type": "display_data"
    }
   ],
   "source": [
    "classify_sentence(bart_mnli_classifier, candidate_possible_labels, sequences_list[0], multi_label=False)"
   ]
  },
  {
   "cell_type": "code",
   "execution_count": null,
   "metadata": {},
   "outputs": [
    {
     "data": {
      "text/plain": [
       "{'one day i will see the world': {'travel': 0.994157612323761,\n",
       "  'exploration': 0.92877596616745,\n",
       "  'dancing': 0.005361784249544144,\n",
       "  'cooking': 0.0016605753917247057},\n",
       " 'i will explore sweden next semester': {'travel': 0.9911717772483826,\n",
       "  'exploration': 0.9684410691261292,\n",
       "  'dancing': 0.0032393524888902903,\n",
       "  'cooking': 0.00020078456145711243},\n",
       " 'I love popping and locking!': {'exploration': 0.7612733244895935,\n",
       "  'dancing': 0.22573687136173248,\n",
       "  'cooking': 0.17265444993972778,\n",
       "  'travel': 0.0074744801968336105}}"
      ]
     },
     "metadata": {},
     "output_type": "display_data"
    }
   ],
   "source": [
    "categories_classification_function(bart_mnli_classifier, candidate_possible_labels, sequences_list, sort_output=-1)"
   ]
  },
  {
   "cell_type": "code",
   "execution_count": null,
   "metadata": {},
   "outputs": [
    {
     "data": {
      "text/plain": [
       "{'travel': {'one day i will see the world': 0.994157612323761,\n",
       "  'i will explore sweden next semester': 0.9911717772483826},\n",
       " 'cooking': {},\n",
       " 'dancing': {},\n",
       " 'exploration': {'i will explore sweden next semester': 0.9684410691261292,\n",
       "  'one day i will see the world': 0.92877596616745,\n",
       "  'I love popping and locking!': 0.7612733244895935}}"
      ]
     },
     "metadata": {},
     "output_type": "display_data"
    }
   ],
   "source": [
    "categories_classification_additional_resort_function(categories_classification_function(bart_mnli_classifier, candidate_possible_labels, sequences_list, sort_output=-1), candidate_possible_labels, sort_output=-1, top_many=5, limit_value=0.5)"
   ]
  },
  {
   "cell_type": "code",
   "execution_count": null,
   "metadata": {},
   "outputs": [
    {
     "name": "stdout",
     "output_type": "stream",
     "text": [
      "Category: travel\n",
      "one day i will see the world : 0.994157612323761\n",
      "i will explore sweden next semester : 0.9911717772483826\n",
      "\n",
      "Category: cooking\n",
      "\n",
      "Category: dancing\n",
      "\n",
      "Category: exploration\n",
      "i will explore sweden next semester : 0.9684410691261292\n",
      "one day i will see the world : 0.92877596616745\n",
      "I love popping and locking! : 0.7612733244895935\n",
      "\n"
     ]
    }
   ],
   "source": [
    "categories_classification_resorted_result_display(categories_classification_additional_resort_function(categories_classification_function(bart_mnli_classifier, candidate_possible_labels, sequences_list, sort_output=-1), candidate_possible_labels, sort_output=-1, top_many=5, limit_value=0.5),sort_display=-1, top_many=-1, limit_value=-1)"
   ]
  },
  {
   "cell_type": "code",
   "execution_count": null,
   "metadata": {},
   "outputs": [
    {
     "data": {
      "text/plain": [
       "{'one day i will see the world': {'travel': 0.994157612323761,\n",
       "  'cooking': 0.0016605753917247057,\n",
       "  'dancing': 0.005361784249544144,\n",
       "  'exploration': 0.92877596616745},\n",
       " 'i will explore sweden next semester': {'travel': 0.9911717772483826,\n",
       "  'cooking': 0.00020078456145711243,\n",
       "  'dancing': 0.0032393524888902903,\n",
       "  'exploration': 0.9684410691261292},\n",
       " 'I love popping and locking!': {'travel': 0.0074744801968336105,\n",
       "  'cooking': 0.17265444993972778,\n",
       "  'dancing': 0.22573687136173248,\n",
       "  'exploration': 0.7612733244895935}}"
      ]
     },
     "metadata": {},
     "output_type": "display_data"
    }
   ],
   "source": [
    "categories_classification_function(bart_mnli_classifier, candidate_possible_labels, sequences_list, sort_output=0)"
   ]
  },
  {
   "cell_type": "code",
   "execution_count": null,
   "metadata": {},
   "outputs": [
    {
     "data": {
      "text/plain": [
       "{'travel': {'one day i will see the world': 0.994157612323761,\n",
       "  'i will explore sweden next semester': 0.9911717772483826},\n",
       " 'cooking': {},\n",
       " 'dancing': {},\n",
       " 'exploration': {'one day i will see the world': 0.92877596616745,\n",
       "  'i will explore sweden next semester': 0.9684410691261292,\n",
       "  'I love popping and locking!': 0.7612733244895935}}"
      ]
     },
     "metadata": {},
     "output_type": "display_data"
    }
   ],
   "source": [
    "categories_classification_additional_resort_function(categories_classification_function(bart_mnli_classifier, candidate_possible_labels, sequences_list, sort_output=0), candidate_possible_labels, sort_output=0, top_many=5, limit_value=0.5)"
   ]
  },
  {
   "cell_type": "code",
   "execution_count": null,
   "metadata": {},
   "outputs": [
    {
     "name": "stdout",
     "output_type": "stream",
     "text": [
      "Category: travel\n",
      "one day i will see the world : 0.994157612323761\n",
      "i will explore sweden next semester : 0.9911717772483826\n",
      "I love popping and locking! : 0.0074744801968336105\n",
      "\n",
      "Category: cooking\n",
      "one day i will see the world : 0.0016605753917247057\n",
      "i will explore sweden next semester : 0.00020078456145711243\n",
      "I love popping and locking! : 0.17265444993972778\n",
      "\n",
      "Category: dancing\n",
      "one day i will see the world : 0.005361784249544144\n",
      "i will explore sweden next semester : 0.0032393524888902903\n",
      "I love popping and locking! : 0.22573687136173248\n",
      "\n",
      "Category: exploration\n",
      "one day i will see the world : 0.92877596616745\n",
      "i will explore sweden next semester : 0.9684410691261292\n",
      "I love popping and locking! : 0.7612733244895935\n",
      "\n"
     ]
    }
   ],
   "source": [
    "categories_classification_resorted_result_display(categories_classification_additional_resort_function(categories_classification_function(bart_mnli_classifier, candidate_possible_labels, sequences_list, sort_output=-1), candidate_possible_labels, sort_output=0, top_many=5, limit_value=0.5),sort_display=0, top_many=-1, limit_value=-1)"
   ]
  },
  {
   "cell_type": "code",
   "execution_count": null,
   "metadata": {},
   "outputs": [
    {
     "data": {
      "text/plain": [
       "{'one day i will see the world': {'cooking': 0.0016605753917247057,\n",
       "  'dancing': 0.005361784249544144,\n",
       "  'exploration': 0.92877596616745,\n",
       "  'travel': 0.994157612323761},\n",
       " 'i will explore sweden next semester': {'cooking': 0.00020078456145711243,\n",
       "  'dancing': 0.0032393524888902903,\n",
       "  'exploration': 0.9684410691261292,\n",
       "  'travel': 0.9911717772483826},\n",
       " 'I love popping and locking!': {'travel': 0.0074744801968336105,\n",
       "  'cooking': 0.17265444993972778,\n",
       "  'dancing': 0.22573687136173248,\n",
       "  'exploration': 0.7612733244895935}}"
      ]
     },
     "metadata": {},
     "output_type": "display_data"
    }
   ],
   "source": [
    "categories_classification_function(bart_mnli_classifier, candidate_possible_labels, sequences_list, sort_output=1)"
   ]
  },
  {
   "cell_type": "code",
   "execution_count": null,
   "metadata": {},
   "outputs": [
    {
     "data": {
      "text/plain": [
       "{'travel': {'i will explore sweden next semester': 0.9911717772483826,\n",
       "  'one day i will see the world': 0.994157612323761},\n",
       " 'cooking': {},\n",
       " 'dancing': {},\n",
       " 'exploration': {'I love popping and locking!': 0.7612733244895935,\n",
       "  'one day i will see the world': 0.92877596616745,\n",
       "  'i will explore sweden next semester': 0.9684410691261292}}"
      ]
     },
     "metadata": {},
     "output_type": "display_data"
    }
   ],
   "source": [
    "categories_classification_additional_resort_function(categories_classification_function(bart_mnli_classifier, candidate_possible_labels, sequences_list, sort_output=1), candidate_possible_labels, sort_output=1, top_many=5, limit_value=0.5)"
   ]
  },
  {
   "cell_type": "code",
   "execution_count": null,
   "metadata": {},
   "outputs": [
    {
     "name": "stdout",
     "output_type": "stream",
     "text": [
      "Category: travel\n",
      "I love popping and locking! : 0.0074744801968336105\n",
      "\n",
      "Category: cooking\n",
      "i will explore sweden next semester : 0.00020078456145711243\n",
      "one day i will see the world : 0.0016605753917247057\n",
      "I love popping and locking! : 0.17265444993972778\n",
      "\n",
      "Category: dancing\n",
      "i will explore sweden next semester : 0.0032393524888902903\n",
      "one day i will see the world : 0.005361784249544144\n",
      "I love popping and locking! : 0.22573687136173248\n",
      "\n",
      "Category: exploration\n",
      "\n"
     ]
    }
   ],
   "source": [
    "categories_classification_resorted_result_display(categories_classification_additional_resort_function(categories_classification_function(bart_mnli_classifier, candidate_possible_labels, sequences_list, sort_output=-1), candidate_possible_labels, sort_output=1, top_many=5, limit_value=0.5),sort_display=1, top_many=-1, limit_value=-1)"
   ]
  },
  {
   "cell_type": "markdown",
   "metadata": {},
   "source": [
    "#### Additional Cleaning Up Function, Into Different Format + Display "
   ]
  },
  {
   "cell_type": "code",
   "execution_count": null,
   "metadata": {},
   "outputs": [],
   "source": [
    "def categories_classification_additional_resort_cleaning_function(classification_resorted_dictionary_result, get_list = False, top_many_cat = 3, limit_value = 0.5):\n",
    "    #return dict(list(dict(sorted(list(classification_resorted_dictionary_result.items()), key=lambda tuple_value_dict: list(tuple_value_dict[1].values())[0], reverse=True)).items())[:top_many_cat])\n",
    "    cleaned_classification_resorted_dictionary_result = {}\n",
    "    for label, seq_pred_dict in classification_resorted_dictionary_result.items():\n",
    "        ## the \"if\" part and the \"for\" part is done so that if seq_pred_dict.items() is empty, then next(iter()) wont crash if solely use it!!\n",
    "        \"\"\"\n",
    "        if len(seq_pred_dict) > 0:\n",
    "            cleaned_classification_resorted_dictionary_result[label] = next(iter(seq_pred_dict.items()))\n",
    "        \"\"\"\n",
    "        for seq, pred in seq_pred_dict.items():\n",
    "            cleaned_classification_resorted_dictionary_result[label] = (seq, pred)\n",
    "        ### if label dont have any that fits limit_value restriction, then the label wont appear in the dict at the end!!, not in this version at least!!!\n",
    "    cleaned_classification_resorted_dictionary_result = dict(sorted(cleaned_classification_resorted_dictionary_result.items(), key=lambda dict_item: dict_item[1][1], reverse=True))\n",
    "    if get_list:\n",
    "        return list(cleaned_classification_resorted_dictionary_result.items())[:top_many_cat]\n",
    "    return dict(list(cleaned_classification_resorted_dictionary_result.items())[:top_many_cat])\n",
    "\n",
    "\n",
    "def cleaned_categories_classification_resorted_result_display(cleaned_classification_resorted_result, get_list):\n",
    "    if get_list:\n",
    "        for label, seq_pred_tuple in cleaned_classification_resorted_result:\n",
    "            print(f\"Category: {label}\")\n",
    "            print(f\"{seq_pred_tuple[0]:65.65}: {seq_pred_tuple[1]:.5}\")\n",
    "            print()\n",
    "    else:\n",
    "        for label, seq_pred_tuple in cleaned_classification_resorted_result.items():\n",
    "            print(f\"Category: {label}\")\n",
    "            print(f\"{seq_pred_tuple[0]:65.65}: {seq_pred_tuple[1]:.5}\")\n",
    "            print()"
   ]
  },
  {
   "cell_type": "markdown",
   "metadata": {},
   "source": [
    "##### Example Demo"
   ]
  },
  {
   "cell_type": "code",
   "execution_count": null,
   "metadata": {},
   "outputs": [
    {
     "data": {
      "text/plain": [
       "{'travel': ('one day i will see the world', 0.994157612323761),\n",
       " 'exploration': ('i will explore sweden next semester', 0.9684410691261292),\n",
       " 'dancing': ('I love popping and locking!', 0.22573687136173248)}"
      ]
     },
     "metadata": {},
     "output_type": "display_data"
    }
   ],
   "source": [
    "## the sort_output = -1 and top_many = 1 is both impt!!!\n",
    "\n",
    "# Arguments to use for function\n",
    "limit_value = 0.1\n",
    "top_many_cat = 3\n",
    "get_list = False\n",
    "\n",
    "categories_classification_additional_resort_cleaning_function(classification_resorted_dictionary_result=categories_classification_additional_resort_function(categories_classification_function(bart_mnli_classifier, candidate_possible_labels, sequences_list, sort_output=-1), candidate_possible_labels, sort_output=-1, top_many=1, limit_value=limit_value), get_list=get_list, top_many_cat=top_many_cat, limit_value=limit_value)"
   ]
  },
  {
   "cell_type": "code",
   "execution_count": null,
   "metadata": {},
   "outputs": [
    {
     "name": "stdout",
     "output_type": "stream",
     "text": [
      "Category: travel\n",
      "one day i will see the world: 0.994157612323761\n",
      "\n",
      "Category: exploration\n",
      "i will explore sweden next semester: 0.9684410691261292\n",
      "\n"
     ]
    }
   ],
   "source": [
    "# Arguments to use for function\n",
    "limit_value = 0.1\n",
    "top_many_cat = 2\n",
    "get_list = True\n",
    "\n",
    "cleaned_categories_classification_resorted_result_display(cleaned_classification_resorted_result=categories_classification_additional_resort_cleaning_function(classification_resorted_dictionary_result=categories_classification_additional_resort_function(categories_classification_function(bart_mnli_classifier, candidate_possible_labels, sequences_list, sort_output=-1), candidate_possible_labels, sort_output=-1, top_many=1, limit_value=limit_value), get_list=get_list, top_many_cat=top_many_cat, limit_value=limit_value), get_list=get_list)\n"
   ]
  },
  {
   "cell_type": "markdown",
   "metadata": {},
   "source": [
    "# Overall Combined Function + Lock"
   ]
  },
  {
   "cell_type": "markdown",
   "metadata": {},
   "source": [
    "## Overall Combined Function (Similarity Comparison)"
   ]
  },
  {
   "cell_type": "code",
   "execution_count": null,
   "metadata": {},
   "outputs": [],
   "source": [
    "# Overall Combined Function (Similarity Comparison)\n",
    "\n",
    "def split_and_compare(split_embed_function, compare_embed_function, categories, sentence_text, intermediate = False, graph = False, sort_compare = 0, display_split = True , display_end = True, sort_display = 0):\n",
    "    splitted_sentence_text = semantic_segmentation_function(embedding_model_function=split_embed_function, sentence_text=sentence_text, intermediate_status=intermediate, graph_status=graph)\n",
    "    if display_split:\n",
    "        print(f\"Splitted texts: {splitted_sentence_text}\")\n",
    "    compare_result = categories_similarity_comparison_function(embedding_model_function=compare_embed_function, categories=categories, texts=splitted_sentence_text, sort_output=sort_compare)\n",
    "    if display_end:\n",
    "        categories_similarity_result_display(compare_result, sort_display=sort_display)\n",
    "    return splitted_sentence_text, compare_result\n",
    "    "
   ]
  },
  {
   "cell_type": "code",
   "execution_count": null,
   "metadata": {},
   "outputs": [],
   "source": [
    "## Lock split and compare overall combined function\n",
    "def lock_split_and_compare(split_embed_function, compare_embed_function):\n",
    "    return lambda categories, sentence_text, intermediate = False, graph = False, sort_compare = 0, display_split = True, display_end = True, sort_display = 0: split_and_compare(split_embed_function=split_embed_function, compare_embed_function=compare_embed_function, categories=categories, sentence_text=sentence_text, intermediate=intermediate, graph=graph, sort_compare=sort_compare, display_split=display_split, display_end=display_end, sort_display=sort_display)\n",
    "    # SyntaxError: positional argument follows keyword argument\n",
    "    # return lambda categories, sentence_text, intermediate = False, graph = False, sort_compare = 0, display_end = True, sort_display = 0: split_and_compare(split_embed_function=split_embed_function, compare_embed_function=compare_embed_function, categories, sentence_text, intermediate = False, graph = False, sort_compare = 0, display_end = True, sort_display = 0)\n",
    "\n",
    "### OR !!\n",
    "\n",
    "def lock_split_and_compare(split_embed_function, compare_embed_function):\n",
    "    def lockED_split_and_compare(categories, sentence_text, intermediate = False, graph = False, sort_compare = 0, display_split = True , display_end = True, sort_display = 0):\n",
    "        return split_and_compare(split_embed_function, compare_embed_function, categories, sentence_text, intermediate = intermediate, graph = graph, sort_compare = sort_compare, display_split = display_split , display_end = display_end, sort_display = sort_display)\n",
    "    return lockED_split_and_compare\n"
   ]
  },
  {
   "cell_type": "markdown",
   "metadata": {},
   "source": [
    "##### Example Demo"
   ]
  },
  {
   "cell_type": "code",
   "execution_count": null,
   "metadata": {},
   "outputs": [],
   "source": [
    "demo_cat = [\"food\", \"asian food\", \"western food\", \"Home Leave Passage\", \"Employee flight benefits\", \"subsidised flight tickets for employees to go home\", \"covered business trip expenses\"]\n",
    "demo_sent = \"Employees receive free flight benefits to return to home country once a year and free flight benefits for business trips\""
   ]
  },
  {
   "cell_type": "code",
   "execution_count": null,
   "metadata": {},
   "outputs": [
    {
     "name": "stdout",
     "output_type": "stream",
     "text": [
      "Splitted texts: ['Employees receive free flight benefits', 'to return to home country once', 'a year and', 'free flight benefits for business trips']\n",
      "Category: food\n",
      "Similarity Level:\n",
      "to return to home country once /-/ food                           : 0.20525\n",
      "a year and                     /-/ food                           : 0.18797\n",
      "free flight benefits for busin /-/ food                           : 0.02749\n",
      "Employees receive free flight  /-/ food                           : -0.0047651\n",
      "Category: asian food\n",
      "Similarity Level:\n",
      "to return to home country once /-/ asian food                     : 0.16057\n",
      "a year and                     /-/ asian food                     : 0.061953\n",
      "free flight benefits for busin /-/ asian food                     : 0.042717\n",
      "Employees receive free flight  /-/ asian food                     : 0.017726\n",
      "Category: western food\n",
      "Similarity Level:\n",
      "to return to home country once /-/ western food                   : 0.22035\n",
      "a year and                     /-/ western food                   : 0.11257\n",
      "free flight benefits for busin /-/ western food                   : 0.061861\n",
      "Employees receive free flight  /-/ western food                   : -0.028699\n",
      "Category: Home Leave Passage\n",
      "Similarity Level:\n",
      "to return to home country once /-/ Home Leave Passage             : 0.48484\n",
      "free flight benefits for busin /-/ Home Leave Passage             : 0.171\n",
      "Employees receive free flight  /-/ Home Leave Passage             : 0.16376\n",
      "a year and                     /-/ Home Leave Passage             : 0.090728\n",
      "Category: Employee flight benefits\n",
      "Similarity Level:\n",
      "Employees receive free flight  /-/ Employee flight benefits       : 0.83031\n",
      "free flight benefits for busin /-/ Employee flight benefits       : 0.70319\n",
      "to return to home country once /-/ Employee flight benefits       : 0.16534\n",
      "a year and                     /-/ Employee flight benefits       : 0.069246\n",
      "Category: subsidised flight tickets for employees to go home\n",
      "Similarity Level:\n",
      "Employees receive free flight  /-/ subsidised flight tickets for  : 0.58175\n",
      "free flight benefits for busin /-/ subsidised flight tickets for  : 0.51884\n",
      "to return to home country once /-/ subsidised flight tickets for  : 0.25625\n",
      "a year and                     /-/ subsidised flight tickets for  : -0.0037449\n",
      "Category: covered business trip expenses\n",
      "Similarity Level:\n",
      "free flight benefits for busin /-/ covered business trip expenses : 0.64277\n",
      "Employees receive free flight  /-/ covered business trip expenses : 0.35371\n",
      "to return to home country once /-/ covered business trip expenses : 0.20381\n",
      "a year and                     /-/ covered business trip expenses : 0.079076\n"
     ]
    }
   ],
   "source": [
    "split_and_compare(get_sentence_embedding_MiniLM_L6_v2, get_sentence_embedding_MiniLM_L6_v2, demo_cat, demo_sent, graph=False, sort_display=-1)\n",
    "pass"
   ]
  },
  {
   "cell_type": "code",
   "execution_count": null,
   "metadata": {},
   "outputs": [
    {
     "name": "stdout",
     "output_type": "stream",
     "text": [
      "Splitted texts: ['Employees receive free flight benefits', 'to return to home country once', 'a year and', 'free flight benefits for business trips']\n",
      "Category: food\n",
      "Similarity Level:\n",
      "to return to home country once /-/ food                           : 0.20525\n",
      "a year and                     /-/ food                           : 0.18797\n",
      "free flight benefits for busin /-/ food                           : 0.02749\n",
      "Employees receive free flight  /-/ food                           : -0.0047651\n",
      "Category: asian food\n",
      "Similarity Level:\n",
      "to return to home country once /-/ asian food                     : 0.16057\n",
      "a year and                     /-/ asian food                     : 0.061953\n",
      "free flight benefits for busin /-/ asian food                     : 0.042717\n",
      "Employees receive free flight  /-/ asian food                     : 0.017726\n",
      "Category: western food\n",
      "Similarity Level:\n",
      "to return to home country once /-/ western food                   : 0.22035\n",
      "a year and                     /-/ western food                   : 0.11257\n",
      "free flight benefits for busin /-/ western food                   : 0.061861\n",
      "Employees receive free flight  /-/ western food                   : -0.028699\n",
      "Category: Home Leave Passage\n",
      "Similarity Level:\n",
      "to return to home country once /-/ Home Leave Passage             : 0.48484\n",
      "free flight benefits for busin /-/ Home Leave Passage             : 0.171\n",
      "Employees receive free flight  /-/ Home Leave Passage             : 0.16376\n",
      "a year and                     /-/ Home Leave Passage             : 0.090728\n",
      "Category: Employee flight benefits\n",
      "Similarity Level:\n",
      "Employees receive free flight  /-/ Employee flight benefits       : 0.83031\n",
      "free flight benefits for busin /-/ Employee flight benefits       : 0.70319\n",
      "to return to home country once /-/ Employee flight benefits       : 0.16534\n",
      "a year and                     /-/ Employee flight benefits       : 0.069246\n",
      "Category: subsidised flight tickets for employees to go home\n",
      "Similarity Level:\n",
      "Employees receive free flight  /-/ subsidised flight tickets for  : 0.58175\n",
      "free flight benefits for busin /-/ subsidised flight tickets for  : 0.51884\n",
      "to return to home country once /-/ subsidised flight tickets for  : 0.25625\n",
      "a year and                     /-/ subsidised flight tickets for  : -0.0037449\n",
      "Category: covered business trip expenses\n",
      "Similarity Level:\n",
      "free flight benefits for busin /-/ covered business trip expenses : 0.64277\n",
      "Employees receive free flight  /-/ covered business trip expenses : 0.35371\n",
      "to return to home country once /-/ covered business trip expenses : 0.20381\n",
      "a year and                     /-/ covered business trip expenses : 0.079076\n"
     ]
    }
   ],
   "source": [
    "locked_split_MiniLM_L6_v2_and_compare_MiniLM_L6_v2 = lock_split_and_compare(get_sentence_embedding_MiniLM_L6_v2, get_sentence_embedding_MiniLM_L6_v2)\n",
    "locked_split_MiniLM_L6_v2_and_compare_MiniLM_L6_v2(demo_cat, demo_sent, sort_display=-1)\n",
    "pass"
   ]
  },
  {
   "cell_type": "markdown",
   "metadata": {},
   "source": [
    "### Split and Compare Variations"
   ]
  },
  {
   "cell_type": "markdown",
   "metadata": {},
   "source": [
    "#### Split and Compare (with \"sub-categories\"/\"synonyms\" of general category)"
   ]
  },
  {
   "cell_type": "markdown",
   "metadata": {},
   "source": [
    "##### Overall Function (General Category with \"sub-categories\"/\"synonyms\" variation)"
   ]
  },
  {
   "cell_type": "code",
   "execution_count": null,
   "metadata": {},
   "outputs": [],
   "source": [
    "def split_and_compare_wsub(split_embed_function, compare_embed_function, categories_wsub, sentence_text, intermediate = False, graph = False, sort_compare = 0, display_split = True , display_end = True, sort_display = 0):\n",
    "    splitted_sentence_text = semantic_segmentation_function(embedding_model_function=split_embed_function, sentence_text=sentence_text, intermediate_status=intermediate, graph_status=graph)\n",
    "    if display_split:\n",
    "        print(f\"Splitted texts: {splitted_sentence_text}\")\n",
    "    compare_result = categories_wsub_similarity_comparison_function(embedding_model_function=compare_embed_function, categories_wsub_dict=categories_wsub, texts=splitted_sentence_text, sort_output=sort_compare)\n",
    "    if display_end:\n",
    "        categories_wsub_similarity_result_display(compare_result, sort_display=sort_display)\n",
    "    return splitted_sentence_text, compare_result"
   ]
  },
  {
   "cell_type": "markdown",
   "metadata": {},
   "source": [
    "##### Overall Function - Lock (General Category with \"sub-categories\"/\"synonyms\" variation)"
   ]
  },
  {
   "cell_type": "code",
   "execution_count": null,
   "metadata": {},
   "outputs": [],
   "source": [
    "def lock_split_and_compare_wsub(split_embed_function, compare_embed_function):\n",
    "    def lockED_split_and_compare_wsub(categories_wsub, sentence_text, intermediate = False, graph = False, sort_compare = 0, display_split = True , display_end = True, sort_display = 0):\n",
    "        return split_and_compare_wsub(split_embed_function, compare_embed_function, categories_wsub=categories_wsub, sentence_text=sentence_text, intermediate = intermediate, graph = graph, sort_compare = sort_compare, display_split = display_split , display_end = display_end, sort_display = sort_display)\n",
    "    return lockED_split_and_compare_wsub"
   ]
  },
  {
   "cell_type": "markdown",
   "metadata": {},
   "source": [
    "#### Split and Compare [Top (Count) & Limit (Value)] - Display"
   ]
  },
  {
   "cell_type": "markdown",
   "metadata": {},
   "source": [
    "##### Overall Function [Top xxx (Count) and Limit yyy (Value)]"
   ]
  },
  {
   "cell_type": "code",
   "execution_count": null,
   "metadata": {},
   "outputs": [],
   "source": [
    "def split_and_compare_wsub_top_limit(split_embed_function, compare_embed_function, categories_wsub, sentence_text, intermediate = False, graph = False, sort_compare = 0, display_split = True , display_end = True, top_many = 5, limit_value = 0.5):\n",
    "    splitted_sentence_text = semantic_segmentation_function(embedding_model_function=split_embed_function, sentence_text=sentence_text, intermediate_status=intermediate, graph_status=graph)\n",
    "    if display_split:\n",
    "        print(f\"Splitted texts: {splitted_sentence_text}\")\n",
    "    compare_result = categories_wsub_similarity_comparison_function(embedding_model_function=compare_embed_function, categories_wsub_dict=categories_wsub, texts=splitted_sentence_text, sort_output=sort_compare)\n",
    "    if display_end:\n",
    "        categories_wsub_similarity_result_display_top_limit(compare_result, top_many=top_many, limit_value=limit_value)\n",
    "    return splitted_sentence_text, compare_result"
   ]
  },
  {
   "cell_type": "markdown",
   "metadata": {},
   "source": [
    "##### Overall Function - Lock [Top xxx (Count) and Limit yyy (Value)]"
   ]
  },
  {
   "cell_type": "code",
   "execution_count": null,
   "metadata": {},
   "outputs": [],
   "source": [
    "def lock_split_and_compare_wsub_top_limit(split_embed_function, compare_embed_function):\n",
    "    return lambda categories_wsub, sentence_text, intermediate = False, graph = False, sort_compare = 0, display_split = True , display_end = True, top_many = 5, limit_value = 0.5:split_and_compare_wsub_top_limit(split_embed_function=split_embed_function, compare_embed_function=compare_embed_function, categories_wsub=categories_wsub, sentence_text=sentence_text, intermediate = intermediate, graph = graph, sort_compare = sort_compare, display_split = display_split , display_end = display_end, top_many = top_many, limit_value = limit_value)"
   ]
  },
  {
   "cell_type": "markdown",
   "metadata": {},
   "source": [
    "##### Example Demo"
   ]
  },
  {
   "cell_type": "code",
   "execution_count": null,
   "metadata": {},
   "outputs": [],
   "source": [
    "cat_wsub_demo = {\"Passage provided for business purpose\": [\"Air tickets for business trip\", \"Air tickets for work purposes\", \"Flight for business trip\", \"Flight for work purposes\", \"Travel incidental to employment\"],\n",
    "            \"Passage provided when taking up employment and upon termination\": [\"Air tickets back to home country after contract end\", \"Air tickets back to home country after termination of employment\", \"Air tickets to work in Singapore\", \"Flight back to home country after contract end\", \"Flight back to home country after termination of employment\", \"Flight to work in Singapore\"],\n",
    "            \"Home leave passage\": [\"Air passage benefit\", \"Air tickets to home country\", \"Flight to home country\"]}\n",
    "hlp_biz_demo = \"Employees receive free flight benefits to return to home country once a year and free flight benefits for business trips\""
   ]
  },
  {
   "cell_type": "code",
   "execution_count": null,
   "metadata": {},
   "outputs": [
    {
     "name": "stdout",
     "output_type": "stream",
     "text": [
      "Splitted texts: ['Employees receive free flight benefits', 'to return to home country once', 'a year and', 'free flight benefits for business trips']\n",
      "General Category: Passage provided for business purpose\n",
      "Category: Passage provided for business purpose\n",
      "Similarity Level:\n",
      "free flight benefits for busin /-/ Passage provided for business  : 0.29568\n",
      "to return to home country once /-/ Passage provided for business  : 0.17853\n",
      "Employees receive free flight  /-/ Passage provided for business  : 0.14779\n",
      "a year and                     /-/ Passage provided for business  : 0.065523\n",
      "Category: Air tickets for business trip\n",
      "Similarity Level:\n",
      "free flight benefits for busin /-/ Air tickets for business trip  : 0.65982\n",
      "Employees receive free flight  /-/ Air tickets for business trip  : 0.46398\n",
      "to return to home country once /-/ Air tickets for business trip  : 0.11836\n",
      "a year and                     /-/ Air tickets for business trip  : 0.050477\n",
      "Category: Air tickets for work purposes\n",
      "Similarity Level:\n",
      "Employees receive free flight  /-/ Air tickets for work purposes  : 0.53761\n",
      "free flight benefits for busin /-/ Air tickets for work purposes  : 0.49501\n",
      "to return to home country once /-/ Air tickets for work purposes  : 0.14008\n",
      "a year and                     /-/ Air tickets for work purposes  : 0.035805\n",
      "Category: Flight for business trip\n",
      "Similarity Level:\n",
      "free flight benefits for busin /-/ Flight for business trip       : 0.75365\n",
      "Employees receive free flight  /-/ Flight for business trip       : 0.43576\n",
      "to return to home country once /-/ Flight for business trip       : 0.24188\n",
      "a year and                     /-/ Flight for business trip       : 0.095928\n",
      "Category: Flight for work purposes\n",
      "Similarity Level:\n",
      "free flight benefits for busin /-/ Flight for work purposes       : 0.60962\n",
      "Employees receive free flight  /-/ Flight for work purposes       : 0.55113\n",
      "to return to home country once /-/ Flight for work purposes       : 0.28963\n",
      "a year and                     /-/ Flight for work purposes       : 0.08249\n",
      "Category: Travel incidental to employment\n",
      "Similarity Level:\n",
      "free flight benefits for busin /-/ Travel incidental to employmen : 0.44625\n",
      "to return to home country once /-/ Travel incidental to employmen : 0.39618\n",
      "Employees receive free flight  /-/ Travel incidental to employmen : 0.39301\n",
      "a year and                     /-/ Travel incidental to employmen : 0.077406\n",
      "\n",
      "General Category: Passage provided when taking up employment and upon termination\n",
      "Category: Passage provided when taking up employment and upon termination\n",
      "Similarity Level:\n",
      "Employees receive free flight  /-/ Passage provided when taking u : 0.21868\n",
      "to return to home country once /-/ Passage provided when taking u : 0.16139\n",
      "a year and                     /-/ Passage provided when taking u : 0.13826\n",
      "free flight benefits for busin /-/ Passage provided when taking u : 0.091191\n",
      "Category: Air tickets back to home country after contract end\n",
      "Similarity Level:\n",
      "to return to home country once /-/ Air tickets back to home count : 0.44958\n",
      "free flight benefits for busin /-/ Air tickets back to home count : 0.30954\n",
      "Employees receive free flight  /-/ Air tickets back to home count : 0.30094\n",
      "a year and                     /-/ Air tickets back to home count : 0.055655\n",
      "Category: Air tickets back to home country after termination of employment\n",
      "Similarity Level:\n",
      "Employees receive free flight  /-/ Air tickets back to home count : 0.43416\n",
      "to return to home country once /-/ Air tickets back to home count : 0.42927\n",
      "free flight benefits for busin /-/ Air tickets back to home count : 0.35058\n",
      "a year and                     /-/ Air tickets back to home count : 0.052931\n",
      "Category: Air tickets to work in Singapore\n",
      "Similarity Level:\n",
      "Employees receive free flight  /-/ Air tickets to work in Singapo : 0.44263\n",
      "free flight benefits for busin /-/ Air tickets to work in Singapo : 0.37453\n",
      "to return to home country once /-/ Air tickets to work in Singapo : 0.17735\n",
      "a year and                     /-/ Air tickets to work in Singapo : 0.030742\n",
      "Category: Flight back to home country after contract end\n",
      "Similarity Level:\n",
      "to return to home country once /-/ Flight back to home country af : 0.59888\n",
      "free flight benefits for busin /-/ Flight back to home country af : 0.30337\n",
      "Employees receive free flight  /-/ Flight back to home country af : 0.22879\n",
      "a year and                     /-/ Flight back to home country af : 0.068576\n",
      "Category: Flight back to home country after termination of employment\n",
      "Similarity Level:\n",
      "to return to home country once /-/ Flight back to home country af : 0.53374\n",
      "Employees receive free flight  /-/ Flight back to home country af : 0.3605\n",
      "free flight benefits for busin /-/ Flight back to home country af : 0.31906\n",
      "a year and                     /-/ Flight back to home country af : 0.055252\n",
      "Category: Flight to work in Singapore\n",
      "Similarity Level:\n",
      "Employees receive free flight  /-/ Flight to work in Singapore    : 0.39244\n",
      "free flight benefits for busin /-/ Flight to work in Singapore    : 0.39236\n",
      "to return to home country once /-/ Flight to work in Singapore    : 0.25966\n",
      "a year and                     /-/ Flight to work in Singapore    : 0.060395\n",
      "\n",
      "General Category: Home leave passage\n",
      "Category: Home leave passage\n",
      "Similarity Level:\n",
      "to return to home country once /-/ Home leave passage             : 0.48484\n",
      "free flight benefits for busin /-/ Home leave passage             : 0.171\n",
      "Employees receive free flight  /-/ Home leave passage             : 0.16376\n",
      "a year and                     /-/ Home leave passage             : 0.090728\n",
      "Category: Air passage benefit\n",
      "Similarity Level:\n",
      "free flight benefits for busin /-/ Air passage benefit            : 0.51766\n",
      "Employees receive free flight  /-/ Air passage benefit            : 0.47171\n",
      "to return to home country once /-/ Air passage benefit            : 0.19576\n",
      "a year and                     /-/ Air passage benefit            : 0.066361\n",
      "Category: Air tickets to home country\n",
      "Similarity Level:\n",
      "to return to home country once /-/ Air tickets to home country    : 0.43281\n",
      "free flight benefits for busin /-/ Air tickets to home country    : 0.38709\n",
      "Employees receive free flight  /-/ Air tickets to home country    : 0.34692\n",
      "a year and                     /-/ Air tickets to home country    : 0.056947\n",
      "Category: Flight to home country\n",
      "Similarity Level:\n",
      "to return to home country once /-/ Flight to home country         : 0.66566\n",
      "free flight benefits for busin /-/ Flight to home country         : 0.41699\n",
      "Employees receive free flight  /-/ Flight to home country         : 0.2672\n",
      "a year and                     /-/ Flight to home country         : 0.10164\n",
      "\n"
     ]
    }
   ],
   "source": [
    "split_and_compare_wsub(get_sentence_embedding_MiniLM_L6_v2, get_sentence_embedding_MiniLM_L6_v2, cat_wsub_demo, hlp_biz_demo, sort_display=-1)\n",
    "pass"
   ]
  },
  {
   "cell_type": "code",
   "execution_count": null,
   "metadata": {},
   "outputs": [
    {
     "name": "stdout",
     "output_type": "stream",
     "text": [
      "Splitted texts: ['Employees receive free flight benefits', 'to return to home country once', 'a year and', 'free flight benefits for business trips']\n",
      "General Category: Passage provided for business purpose\n",
      "Category: Passage provided for business purpose\n",
      "Similarity Level:\n",
      "free flight benefits for busin /-/ Passage provided for business  : 0.60146\n",
      "to return to home country once /-/ Passage provided for business  : 0.55901\n",
      "Employees receive free flight  /-/ Passage provided for business  : 0.52735\n",
      "a year and                     /-/ Passage provided for business  : 0.49561\n",
      "Category: Air tickets for business trip\n",
      "Similarity Level:\n",
      "free flight benefits for busin /-/ Air tickets for business trip  : 0.80979\n",
      "Employees receive free flight  /-/ Air tickets for business trip  : 0.66801\n",
      "to return to home country once /-/ Air tickets for business trip  : 0.57646\n",
      "a year and                     /-/ Air tickets for business trip  : 0.39768\n",
      "Category: Air tickets for work purposes\n",
      "Similarity Level:\n",
      "free flight benefits for busin /-/ Air tickets for work purposes  : 0.72739\n",
      "Employees receive free flight  /-/ Air tickets for work purposes  : 0.70209\n",
      "to return to home country once /-/ Air tickets for work purposes  : 0.59682\n",
      "a year and                     /-/ Air tickets for work purposes  : 0.42154\n",
      "Category: Flight for business trip\n",
      "Similarity Level:\n",
      "free flight benefits for busin /-/ Flight for business trip       : 0.81393\n",
      "Employees receive free flight  /-/ Flight for business trip       : 0.67844\n",
      "to return to home country once /-/ Flight for business trip       : 0.57625\n",
      "a year and                     /-/ Flight for business trip       : 0.40711\n",
      "Category: Flight for work purposes\n",
      "Similarity Level:\n",
      "free flight benefits for busin /-/ Flight for work purposes       : 0.77811\n",
      "Employees receive free flight  /-/ Flight for work purposes       : 0.75365\n",
      "to return to home country once /-/ Flight for work purposes       : 0.64286\n",
      "a year and                     /-/ Flight for work purposes       : 0.44423\n",
      "Category: Travel incidental to employment\n",
      "Similarity Level:\n",
      "to return to home country once /-/ Travel incidental to employmen : 0.64426\n",
      "free flight benefits for busin /-/ Travel incidental to employmen : 0.62527\n",
      "Employees receive free flight  /-/ Travel incidental to employmen : 0.62516\n",
      "a year and                     /-/ Travel incidental to employmen : 0.44644\n",
      "\n",
      "General Category: Passage provided when taking up employment and upon termination\n",
      "Category: Passage provided when taking up employment and upon termination\n",
      "Similarity Level:\n",
      "to return to home country once /-/ Passage provided when taking u : 0.56062\n",
      "Employees receive free flight  /-/ Passage provided when taking u : 0.52564\n",
      "a year and                     /-/ Passage provided when taking u : 0.49901\n",
      "free flight benefits for busin /-/ Passage provided when taking u : 0.46923\n",
      "Category: Air tickets back to home country after contract end\n",
      "Similarity Level:\n",
      "to return to home country once /-/ Air tickets back to home count : 0.74698\n",
      "free flight benefits for busin /-/ Air tickets back to home count : 0.62131\n",
      "Employees receive free flight  /-/ Air tickets back to home count : 0.60203\n",
      "a year and                     /-/ Air tickets back to home count : 0.41225\n",
      "Category: Air tickets back to home country after termination of employment\n",
      "Similarity Level:\n",
      "to return to home country once /-/ Air tickets back to home count : 0.7318\n",
      "Employees receive free flight  /-/ Air tickets back to home count : 0.62413\n",
      "free flight benefits for busin /-/ Air tickets back to home count : 0.60233\n",
      "a year and                     /-/ Air tickets back to home count : 0.41105\n",
      "Category: Air tickets to work in Singapore\n",
      "Similarity Level:\n",
      "free flight benefits for busin /-/ Air tickets to work in Singapo : 0.61602\n",
      "Employees receive free flight  /-/ Air tickets to work in Singapo : 0.60457\n",
      "to return to home country once /-/ Air tickets to work in Singapo : 0.55455\n",
      "a year and                     /-/ Air tickets to work in Singapo : 0.35689\n",
      "Category: Flight back to home country after contract end\n",
      "Similarity Level:\n",
      "to return to home country once /-/ Flight back to home country af : 0.78216\n",
      "free flight benefits for busin /-/ Flight back to home country af : 0.65095\n",
      "Employees receive free flight  /-/ Flight back to home country af : 0.64553\n",
      "a year and                     /-/ Flight back to home country af : 0.42421\n",
      "Category: Flight back to home country after termination of employment\n",
      "Similarity Level:\n",
      "to return to home country once /-/ Flight back to home country af : 0.76614\n",
      "Employees receive free flight  /-/ Flight back to home country af : 0.64015\n",
      "free flight benefits for busin /-/ Flight back to home country af : 0.61818\n",
      "a year and                     /-/ Flight back to home country af : 0.42893\n",
      "Category: Flight to work in Singapore\n",
      "Similarity Level:\n",
      "Employees receive free flight  /-/ Flight to work in Singapore    : 0.63317\n",
      "free flight benefits for busin /-/ Flight to work in Singapore    : 0.62732\n",
      "to return to home country once /-/ Flight to work in Singapore    : 0.5889\n",
      "a year and                     /-/ Flight to work in Singapore    : 0.37109\n",
      "\n",
      "General Category: Home leave passage\n",
      "Category: Home leave passage\n",
      "Similarity Level:\n",
      "to return to home country once /-/ Home leave passage             : 0.71609\n",
      "Employees receive free flight  /-/ Home leave passage             : 0.54749\n",
      "free flight benefits for busin /-/ Home leave passage             : 0.5253\n",
      "a year and                     /-/ Home leave passage             : 0.47873\n",
      "Category: Air passage benefit\n",
      "Similarity Level:\n",
      "free flight benefits for busin /-/ Air passage benefit            : 0.66233\n",
      "Employees receive free flight  /-/ Air passage benefit            : 0.65242\n",
      "to return to home country once /-/ Air passage benefit            : 0.52055\n",
      "a year and                     /-/ Air passage benefit            : 0.45422\n",
      "Category: Air tickets to home country\n",
      "Similarity Level:\n",
      "to return to home country once /-/ Air tickets to home country    : 0.74304\n",
      "free flight benefits for busin /-/ Air tickets to home country    : 0.62115\n",
      "Employees receive free flight  /-/ Air tickets to home country    : 0.57833\n",
      "a year and                     /-/ Air tickets to home country    : 0.41076\n",
      "Category: Flight to home country\n",
      "Similarity Level:\n",
      "to return to home country once /-/ Flight to home country         : 0.79283\n",
      "free flight benefits for busin /-/ Flight to home country         : 0.60874\n",
      "Employees receive free flight  /-/ Flight to home country         : 0.58972\n",
      "a year and                     /-/ Flight to home country         : 0.4152\n",
      "\n"
     ]
    }
   ],
   "source": [
    "split_and_compare_wsub(get_sentence_embedding_MiniLM_L6_v2, get_sentence_embedding_bge, cat_wsub_demo, hlp_biz_demo, sort_display=-1)\n",
    "pass"
   ]
  },
  {
   "cell_type": "code",
   "execution_count": null,
   "metadata": {},
   "outputs": [
    {
     "name": "stdout",
     "output_type": "stream",
     "text": [
      "Splitted texts: ['Employees receive free flight benefits to', 'return to home country once', 'a year and', 'free flight benefits for business trips']\n",
      "General Category: Passage provided for business purpose\n",
      "Category: Passage provided for business purpose\n",
      "Similarity Level:\n",
      "free flight benefits for busin /-/ Passage provided for business  : 0.29568\n",
      "Employees receive free flight  /-/ Passage provided for business  : 0.16618\n",
      "a year and                     /-/ Passage provided for business  : 0.065523\n",
      "return to home country once    /-/ Passage provided for business  : 0.039441\n",
      "Category: Air tickets for business trip\n",
      "Similarity Level:\n",
      "free flight benefits for busin /-/ Air tickets for business trip  : 0.65982\n",
      "Employees receive free flight  /-/ Air tickets for business trip  : 0.46172\n",
      "return to home country once    /-/ Air tickets for business trip  : 0.081763\n",
      "a year and                     /-/ Air tickets for business trip  : 0.050477\n",
      "Category: Air tickets for work purposes\n",
      "Similarity Level:\n",
      "Employees receive free flight  /-/ Air tickets for work purposes  : 0.53308\n",
      "free flight benefits for busin /-/ Air tickets for work purposes  : 0.49501\n",
      "return to home country once    /-/ Air tickets for work purposes  : 0.08416\n",
      "a year and                     /-/ Air tickets for work purposes  : 0.035805\n",
      "Category: Flight for business trip\n",
      "Similarity Level:\n",
      "free flight benefits for busin /-/ Flight for business trip       : 0.75365\n",
      "Employees receive free flight  /-/ Flight for business trip       : 0.43684\n",
      "return to home country once    /-/ Flight for business trip       : 0.209\n",
      "a year and                     /-/ Flight for business trip       : 0.095928\n",
      "Category: Flight for work purposes\n",
      "Similarity Level:\n",
      "free flight benefits for busin /-/ Flight for work purposes       : 0.60962\n",
      "Employees receive free flight  /-/ Flight for work purposes       : 0.54411\n",
      "return to home country once    /-/ Flight for work purposes       : 0.22787\n",
      "a year and                     /-/ Flight for work purposes       : 0.08249\n",
      "Category: Travel incidental to employment\n",
      "Similarity Level:\n",
      "free flight benefits for busin /-/ Travel incidental to employmen : 0.44625\n",
      "Employees receive free flight  /-/ Travel incidental to employmen : 0.40233\n",
      "return to home country once    /-/ Travel incidental to employmen : 0.38862\n",
      "a year and                     /-/ Travel incidental to employmen : 0.077406\n",
      "\n",
      "General Category: Passage provided when taking up employment and upon termination\n",
      "Category: Passage provided when taking up employment and upon termination\n",
      "Similarity Level:\n",
      "Employees receive free flight  /-/ Passage provided when taking u : 0.22899\n",
      "a year and                     /-/ Passage provided when taking u : 0.13826\n",
      "return to home country once    /-/ Passage provided when taking u : 0.10605\n",
      "free flight benefits for busin /-/ Passage provided when taking u : 0.091191\n",
      "Category: Air tickets back to home country after contract end\n",
      "Similarity Level:\n",
      "return to home country once    /-/ Air tickets back to home count : 0.48595\n",
      "free flight benefits for busin /-/ Air tickets back to home count : 0.30954\n",
      "Employees receive free flight  /-/ Air tickets back to home count : 0.30079\n",
      "a year and                     /-/ Air tickets back to home count : 0.055655\n",
      "Category: Air tickets back to home country after termination of employment\n",
      "Similarity Level:\n",
      "return to home country once    /-/ Air tickets back to home count : 0.47499\n",
      "Employees receive free flight  /-/ Air tickets back to home count : 0.43146\n",
      "free flight benefits for busin /-/ Air tickets back to home count : 0.35058\n",
      "a year and                     /-/ Air tickets back to home count : 0.052931\n",
      "Category: Air tickets to work in Singapore\n",
      "Similarity Level:\n",
      "Employees receive free flight  /-/ Air tickets to work in Singapo : 0.43971\n",
      "free flight benefits for busin /-/ Air tickets to work in Singapo : 0.37453\n",
      "return to home country once    /-/ Air tickets to work in Singapo : 0.14933\n",
      "a year and                     /-/ Air tickets to work in Singapo : 0.030742\n",
      "Category: Flight back to home country after contract end\n",
      "Similarity Level:\n",
      "return to home country once    /-/ Flight back to home country af : 0.65324\n",
      "free flight benefits for busin /-/ Flight back to home country af : 0.30337\n",
      "Employees receive free flight  /-/ Flight back to home country af : 0.23272\n",
      "a year and                     /-/ Flight back to home country af : 0.068576\n",
      "Category: Flight back to home country after termination of employment\n",
      "Similarity Level:\n",
      "return to home country once    /-/ Flight back to home country af : 0.59572\n",
      "Employees receive free flight  /-/ Flight back to home country af : 0.36064\n",
      "free flight benefits for busin /-/ Flight back to home country af : 0.31906\n",
      "a year and                     /-/ Flight back to home country af : 0.055252\n",
      "Category: Flight to work in Singapore\n",
      "Similarity Level:\n",
      "Employees receive free flight  /-/ Flight to work in Singapore    : 0.39452\n",
      "free flight benefits for busin /-/ Flight to work in Singapore    : 0.39236\n",
      "return to home country once    /-/ Flight to work in Singapore    : 0.23757\n",
      "a year and                     /-/ Flight to work in Singapore    : 0.060395\n",
      "\n",
      "General Category: Home leave passage\n",
      "Category: Home leave passage\n",
      "Similarity Level:\n",
      "return to home country once    /-/ Home leave passage             : 0.44885\n",
      "free flight benefits for busin /-/ Home leave passage             : 0.171\n",
      "Employees receive free flight  /-/ Home leave passage             : 0.16865\n",
      "a year and                     /-/ Home leave passage             : 0.090728\n",
      "Category: Air passage benefit\n",
      "Similarity Level:\n",
      "free flight benefits for busin /-/ Air passage benefit            : 0.51766\n",
      "Employees receive free flight  /-/ Air passage benefit            : 0.46612\n",
      "return to home country once    /-/ Air passage benefit            : 0.10216\n",
      "a year and                     /-/ Air passage benefit            : 0.066361\n",
      "Category: Air tickets to home country\n",
      "Similarity Level:\n",
      "return to home country once    /-/ Air tickets to home country    : 0.4029\n",
      "free flight benefits for busin /-/ Air tickets to home country    : 0.38709\n",
      "Employees receive free flight  /-/ Air tickets to home country    : 0.34251\n",
      "a year and                     /-/ Air tickets to home country    : 0.056947\n",
      "Category: Flight to home country\n",
      "Similarity Level:\n",
      "return to home country once    /-/ Flight to home country         : 0.65674\n",
      "free flight benefits for busin /-/ Flight to home country         : 0.41699\n",
      "Employees receive free flight  /-/ Flight to home country         : 0.26619\n",
      "a year and                     /-/ Flight to home country         : 0.10164\n",
      "\n"
     ]
    }
   ],
   "source": [
    "split_and_compare_wsub(get_sentence_embedding_bge, get_sentence_embedding_MiniLM_L6_v2, cat_wsub_demo, hlp_biz_demo, sort_display=-1)\n",
    "pass"
   ]
  },
  {
   "cell_type": "code",
   "execution_count": null,
   "metadata": {},
   "outputs": [
    {
     "name": "stdout",
     "output_type": "stream",
     "text": [
      "Splitted texts: ['Employees receive free flight benefits to', 'return to home country once', 'a year and', 'free flight benefits for business trips']\n",
      "General Category: Passage provided for business purpose\n",
      "Category: Passage provided for business purpose\n",
      "Similarity Level:\n",
      "free flight benefits for busin /-/ Passage provided for business  : 0.60146\n",
      "Employees receive free flight  /-/ Passage provided for business  : 0.54829\n",
      "return to home country once    /-/ Passage provided for business  : 0.54396\n",
      "a year and                     /-/ Passage provided for business  : 0.49561\n",
      "Category: Air tickets for business trip\n",
      "Similarity Level:\n",
      "free flight benefits for busin /-/ Air tickets for business trip  : 0.80979\n",
      "Employees receive free flight  /-/ Air tickets for business trip  : 0.70321\n",
      "return to home country once    /-/ Air tickets for business trip  : 0.57358\n",
      "a year and                     /-/ Air tickets for business trip  : 0.39768\n",
      "Category: Air tickets for work purposes\n",
      "Similarity Level:\n",
      "Employees receive free flight  /-/ Air tickets for work purposes  : 0.72803\n",
      "free flight benefits for busin /-/ Air tickets for work purposes  : 0.72739\n",
      "return to home country once    /-/ Air tickets for work purposes  : 0.58392\n",
      "a year and                     /-/ Air tickets for work purposes  : 0.42154\n",
      "Category: Flight for business trip\n",
      "Similarity Level:\n",
      "free flight benefits for busin /-/ Flight for business trip       : 0.81393\n",
      "Employees receive free flight  /-/ Flight for business trip       : 0.71784\n",
      "return to home country once    /-/ Flight for business trip       : 0.57278\n",
      "a year and                     /-/ Flight for business trip       : 0.40711\n",
      "Category: Flight for work purposes\n",
      "Similarity Level:\n",
      "free flight benefits for busin /-/ Flight for work purposes       : 0.77811\n",
      "Employees receive free flight  /-/ Flight for work purposes       : 0.7757\n",
      "return to home country once    /-/ Flight for work purposes       : 0.63074\n",
      "a year and                     /-/ Flight for work purposes       : 0.44423\n",
      "Category: Travel incidental to employment\n",
      "Similarity Level:\n",
      "Employees receive free flight  /-/ Travel incidental to employmen : 0.65757\n",
      "return to home country once    /-/ Travel incidental to employmen : 0.64921\n",
      "free flight benefits for busin /-/ Travel incidental to employmen : 0.62527\n",
      "a year and                     /-/ Travel incidental to employmen : 0.44644\n",
      "\n",
      "General Category: Passage provided when taking up employment and upon termination\n",
      "Category: Passage provided when taking up employment and upon termination\n",
      "Similarity Level:\n",
      "return to home country once    /-/ Passage provided when taking u : 0.54774\n",
      "Employees receive free flight  /-/ Passage provided when taking u : 0.54683\n",
      "a year and                     /-/ Passage provided when taking u : 0.49901\n",
      "free flight benefits for busin /-/ Passage provided when taking u : 0.46923\n",
      "Category: Air tickets back to home country after contract end\n",
      "Similarity Level:\n",
      "return to home country once    /-/ Air tickets back to home count : 0.74354\n",
      "Employees receive free flight  /-/ Air tickets back to home count : 0.64817\n",
      "free flight benefits for busin /-/ Air tickets back to home count : 0.62131\n",
      "a year and                     /-/ Air tickets back to home count : 0.41225\n",
      "Category: Air tickets back to home country after termination of employment\n",
      "Similarity Level:\n",
      "return to home country once    /-/ Air tickets back to home count : 0.72549\n",
      "Employees receive free flight  /-/ Air tickets back to home count : 0.66786\n",
      "free flight benefits for busin /-/ Air tickets back to home count : 0.60233\n",
      "a year and                     /-/ Air tickets back to home count : 0.41105\n",
      "Category: Air tickets to work in Singapore\n",
      "Similarity Level:\n",
      "Employees receive free flight  /-/ Air tickets to work in Singapo : 0.64815\n",
      "free flight benefits for busin /-/ Air tickets to work in Singapo : 0.61602\n",
      "return to home country once    /-/ Air tickets to work in Singapo : 0.55439\n",
      "a year and                     /-/ Air tickets to work in Singapo : 0.35689\n",
      "Category: Flight back to home country after contract end\n",
      "Similarity Level:\n",
      "return to home country once    /-/ Flight back to home country af : 0.77253\n",
      "Employees receive free flight  /-/ Flight back to home country af : 0.68495\n",
      "free flight benefits for busin /-/ Flight back to home country af : 0.65095\n",
      "a year and                     /-/ Flight back to home country af : 0.42421\n",
      "Category: Flight back to home country after termination of employment\n",
      "Similarity Level:\n",
      "return to home country once    /-/ Flight back to home country af : 0.75649\n",
      "Employees receive free flight  /-/ Flight back to home country af : 0.68296\n",
      "free flight benefits for busin /-/ Flight back to home country af : 0.61818\n",
      "a year and                     /-/ Flight back to home country af : 0.42893\n",
      "Category: Flight to work in Singapore\n",
      "Similarity Level:\n",
      "Employees receive free flight  /-/ Flight to work in Singapore    : 0.67509\n",
      "free flight benefits for busin /-/ Flight to work in Singapore    : 0.62732\n",
      "return to home country once    /-/ Flight to work in Singapore    : 0.59071\n",
      "a year and                     /-/ Flight to work in Singapore    : 0.37109\n",
      "\n",
      "General Category: Home leave passage\n",
      "Category: Home leave passage\n",
      "Similarity Level:\n",
      "return to home country once    /-/ Home leave passage             : 0.71822\n",
      "Employees receive free flight  /-/ Home leave passage             : 0.58595\n",
      "free flight benefits for busin /-/ Home leave passage             : 0.5253\n",
      "a year and                     /-/ Home leave passage             : 0.47873\n",
      "Category: Air passage benefit\n",
      "Similarity Level:\n",
      "free flight benefits for busin /-/ Air passage benefit            : 0.66233\n",
      "Employees receive free flight  /-/ Air passage benefit            : 0.64837\n",
      "return to home country once    /-/ Air passage benefit            : 0.52026\n",
      "a year and                     /-/ Air passage benefit            : 0.45422\n",
      "Category: Air tickets to home country\n",
      "Similarity Level:\n",
      "return to home country once    /-/ Air tickets to home country    : 0.73821\n",
      "Employees receive free flight  /-/ Air tickets to home country    : 0.63455\n",
      "free flight benefits for busin /-/ Air tickets to home country    : 0.62115\n",
      "a year and                     /-/ Air tickets to home country    : 0.41076\n",
      "Category: Flight to home country\n",
      "Similarity Level:\n",
      "return to home country once    /-/ Flight to home country         : 0.78412\n",
      "Employees receive free flight  /-/ Flight to home country         : 0.648\n",
      "free flight benefits for busin /-/ Flight to home country         : 0.60874\n",
      "a year and                     /-/ Flight to home country         : 0.4152\n",
      "\n"
     ]
    }
   ],
   "source": [
    "split_and_compare_wsub(get_sentence_embedding_bge, get_sentence_embedding_bge, cat_wsub_demo, hlp_biz_demo, sort_display=-1)\n",
    "pass"
   ]
  },
  {
   "cell_type": "code",
   "execution_count": null,
   "metadata": {},
   "outputs": [
    {
     "name": "stdout",
     "output_type": "stream",
     "text": [
      "Splitted texts: ['Employees receive free flight benefits', 'to return to home country once', 'a year and', 'free flight benefits for business trips']\n",
      "General Category: Passage provided for business purpose\n",
      "Sub-Categories: ('Passage provided for business purpose', 'Air tickets for business trip', 'Air tickets for work purposes', 'Flight for business trip', 'Flight for work purposes', 'Travel incidental to employment')\n",
      "Similarity Level Of Top 3 (Limit=0.5):\n",
      "free flight benefits for busin /-/ Flight for business trip       : 0.75365\n",
      "free flight benefits for busin /-/ Air tickets for business trip  : 0.65982\n",
      "free flight benefits for busin /-/ Flight for work purposes       : 0.60962\n",
      "\n",
      "General Category: Passage provided when taking up employment and upon termination\n",
      "Sub-Categories: ('Passage provided when taking up employment and upon termination', 'Air tickets back to home country after contract end', 'Air tickets back to home country after termination of employment', 'Air tickets to work in Singapore', 'Flight back to home country after contract end', 'Flight back to home country after termination of employment', 'Flight to work in Singapore')\n",
      "Similarity Level Of Top 3 (Limit=0.5):\n",
      "to return to home country once /-/ Flight back to home country af : 0.59888\n",
      "to return to home country once /-/ Flight back to home country af : 0.53374\n",
      "\n",
      "General Category: Home leave passage\n",
      "Sub-Categories: ('Home leave passage', 'Air passage benefit', 'Air tickets to home country', 'Flight to home country')\n",
      "Similarity Level Of Top 3 (Limit=0.5):\n",
      "to return to home country once /-/ Flight to home country         : 0.66566\n",
      "free flight benefits for busin /-/ Air passage benefit            : 0.51766\n",
      "\n"
     ]
    }
   ],
   "source": [
    "split_and_compare_wsub_top_limit(get_sentence_embedding_MiniLM_L6_v2, get_sentence_embedding_MiniLM_L6_v2, cat_wsub_demo, hlp_biz_demo, top_many=3, limit_value=0.5)\n",
    "pass"
   ]
  },
  {
   "cell_type": "code",
   "execution_count": null,
   "metadata": {},
   "outputs": [],
   "source": [
    "minilm62_bge_s_c1 = lock_split_and_compare(get_sentence_embedding_MiniLM_L6_v2, get_sentence_embedding_bge)\n",
    "bge_minilm62_s_c2 = lock_split_and_compare_wsub(get_sentence_embedding_bge, get_sentence_embedding_MiniLM_L6_v2)\n",
    "\n",
    "minilm62_minilm62_s_c3 = lock_split_and_compare_wsub_top_limit(get_sentence_embedding_MiniLM_L6_v2, get_sentence_embedding_MiniLM_L6_v2)\n",
    "bge_bge_s_c3 = lock_split_and_compare_wsub_top_limit(get_sentence_embedding_bge, get_sentence_embedding_bge)"
   ]
  },
  {
   "cell_type": "code",
   "execution_count": null,
   "metadata": {},
   "outputs": [
    {
     "name": "stdout",
     "output_type": "stream",
     "text": [
      "Splitted texts: ['Employees receive free flight benefits', 'to return to home country once', 'a year and', 'free flight benefits for business trips']\n",
      "Category: Passage provided for business purpose\n",
      "Similarity Level:\n",
      "Employees receive free flight  /-/ Passage provided for business  : 0.52735\n",
      "to return to home country once /-/ Passage provided for business  : 0.55901\n",
      "a year and                     /-/ Passage provided for business  : 0.49561\n",
      "free flight benefits for busin /-/ Passage provided for business  : 0.60146\n"
     ]
    },
    {
     "data": {
      "text/plain": [
       "(['Employees receive free flight benefits',\n",
       "  'to return to home country once',\n",
       "  'a year and',\n",
       "  'free flight benefits for business trips'],\n",
       " {'Passage provided for business purpose': {('Employees receive free flight benefits',\n",
       "    'Passage provided for business purpose'): 0.5273454640409909,\n",
       "   ('to return to home country once',\n",
       "    'Passage provided for business purpose'): 0.5590083551667142,\n",
       "   ('a year and', 'Passage provided for business purpose'): 0.4956094203318848,\n",
       "   ('free flight benefits for business trips',\n",
       "    'Passage provided for business purpose'): 0.6014551911575552}})"
      ]
     },
     "metadata": {},
     "output_type": "display_data"
    }
   ],
   "source": [
    "minilm62_bge_s_c1(list(cat_wsub_demo.keys())[0], hlp_biz_demo, )"
   ]
  },
  {
   "cell_type": "code",
   "execution_count": null,
   "metadata": {},
   "outputs": [
    {
     "name": "stdout",
     "output_type": "stream",
     "text": [
      "Splitted texts: ['Employees receive free flight benefits to', 'return to home country once', 'a year and', 'free flight benefits for business trips']\n",
      "General Category: Passage provided for business purpose\n",
      "Category: Passage provided for business purpose\n",
      "Similarity Level:\n",
      "Employees receive free flight  /-/ Passage provided for business  : 0.16618\n",
      "return to home country once    /-/ Passage provided for business  : 0.039441\n",
      "a year and                     /-/ Passage provided for business  : 0.065523\n",
      "free flight benefits for busin /-/ Passage provided for business  : 0.29568\n",
      "Category: Air tickets for business trip\n",
      "Similarity Level:\n",
      "Employees receive free flight  /-/ Air tickets for business trip  : 0.46172\n",
      "return to home country once    /-/ Air tickets for business trip  : 0.081763\n",
      "a year and                     /-/ Air tickets for business trip  : 0.050477\n",
      "free flight benefits for busin /-/ Air tickets for business trip  : 0.65982\n",
      "Category: Air tickets for work purposes\n",
      "Similarity Level:\n",
      "Employees receive free flight  /-/ Air tickets for work purposes  : 0.53308\n",
      "return to home country once    /-/ Air tickets for work purposes  : 0.08416\n",
      "a year and                     /-/ Air tickets for work purposes  : 0.035805\n",
      "free flight benefits for busin /-/ Air tickets for work purposes  : 0.49501\n",
      "Category: Flight for business trip\n",
      "Similarity Level:\n",
      "Employees receive free flight  /-/ Flight for business trip       : 0.43684\n",
      "return to home country once    /-/ Flight for business trip       : 0.209\n",
      "a year and                     /-/ Flight for business trip       : 0.095928\n",
      "free flight benefits for busin /-/ Flight for business trip       : 0.75365\n",
      "Category: Flight for work purposes\n",
      "Similarity Level:\n",
      "Employees receive free flight  /-/ Flight for work purposes       : 0.54411\n",
      "return to home country once    /-/ Flight for work purposes       : 0.22787\n",
      "a year and                     /-/ Flight for work purposes       : 0.08249\n",
      "free flight benefits for busin /-/ Flight for work purposes       : 0.60962\n",
      "Category: Travel incidental to employment\n",
      "Similarity Level:\n",
      "Employees receive free flight  /-/ Travel incidental to employmen : 0.40233\n",
      "return to home country once    /-/ Travel incidental to employmen : 0.38862\n",
      "a year and                     /-/ Travel incidental to employmen : 0.077406\n",
      "free flight benefits for busin /-/ Travel incidental to employmen : 0.44625\n",
      "\n",
      "General Category: Passage provided when taking up employment and upon termination\n",
      "Category: Passage provided when taking up employment and upon termination\n",
      "Similarity Level:\n",
      "Employees receive free flight  /-/ Passage provided when taking u : 0.22899\n",
      "return to home country once    /-/ Passage provided when taking u : 0.10605\n",
      "a year and                     /-/ Passage provided when taking u : 0.13826\n",
      "free flight benefits for busin /-/ Passage provided when taking u : 0.091191\n",
      "Category: Air tickets back to home country after contract end\n",
      "Similarity Level:\n",
      "Employees receive free flight  /-/ Air tickets back to home count : 0.30079\n",
      "return to home country once    /-/ Air tickets back to home count : 0.48595\n",
      "a year and                     /-/ Air tickets back to home count : 0.055655\n",
      "free flight benefits for busin /-/ Air tickets back to home count : 0.30954\n",
      "Category: Air tickets back to home country after termination of employment\n",
      "Similarity Level:\n",
      "Employees receive free flight  /-/ Air tickets back to home count : 0.43146\n",
      "return to home country once    /-/ Air tickets back to home count : 0.47499\n",
      "a year and                     /-/ Air tickets back to home count : 0.052931\n",
      "free flight benefits for busin /-/ Air tickets back to home count : 0.35058\n",
      "Category: Air tickets to work in Singapore\n",
      "Similarity Level:\n",
      "Employees receive free flight  /-/ Air tickets to work in Singapo : 0.43971\n",
      "return to home country once    /-/ Air tickets to work in Singapo : 0.14933\n",
      "a year and                     /-/ Air tickets to work in Singapo : 0.030742\n",
      "free flight benefits for busin /-/ Air tickets to work in Singapo : 0.37453\n",
      "Category: Flight back to home country after contract end\n",
      "Similarity Level:\n",
      "Employees receive free flight  /-/ Flight back to home country af : 0.23272\n",
      "return to home country once    /-/ Flight back to home country af : 0.65324\n",
      "a year and                     /-/ Flight back to home country af : 0.068576\n",
      "free flight benefits for busin /-/ Flight back to home country af : 0.30337\n",
      "Category: Flight back to home country after termination of employment\n",
      "Similarity Level:\n",
      "Employees receive free flight  /-/ Flight back to home country af : 0.36064\n",
      "return to home country once    /-/ Flight back to home country af : 0.59572\n",
      "a year and                     /-/ Flight back to home country af : 0.055252\n",
      "free flight benefits for busin /-/ Flight back to home country af : 0.31906\n",
      "Category: Flight to work in Singapore\n",
      "Similarity Level:\n",
      "Employees receive free flight  /-/ Flight to work in Singapore    : 0.39452\n",
      "return to home country once    /-/ Flight to work in Singapore    : 0.23757\n",
      "a year and                     /-/ Flight to work in Singapore    : 0.060395\n",
      "free flight benefits for busin /-/ Flight to work in Singapore    : 0.39236\n",
      "\n",
      "General Category: Home leave passage\n",
      "Category: Home leave passage\n",
      "Similarity Level:\n",
      "Employees receive free flight  /-/ Home leave passage             : 0.16865\n",
      "return to home country once    /-/ Home leave passage             : 0.44885\n",
      "a year and                     /-/ Home leave passage             : 0.090728\n",
      "free flight benefits for busin /-/ Home leave passage             : 0.171\n",
      "Category: Air passage benefit\n",
      "Similarity Level:\n",
      "Employees receive free flight  /-/ Air passage benefit            : 0.46612\n",
      "return to home country once    /-/ Air passage benefit            : 0.10216\n",
      "a year and                     /-/ Air passage benefit            : 0.066361\n",
      "free flight benefits for busin /-/ Air passage benefit            : 0.51766\n",
      "Category: Air tickets to home country\n",
      "Similarity Level:\n",
      "Employees receive free flight  /-/ Air tickets to home country    : 0.34251\n",
      "return to home country once    /-/ Air tickets to home country    : 0.4029\n",
      "a year and                     /-/ Air tickets to home country    : 0.056947\n",
      "free flight benefits for busin /-/ Air tickets to home country    : 0.38709\n",
      "Category: Flight to home country\n",
      "Similarity Level:\n",
      "Employees receive free flight  /-/ Flight to home country         : 0.26619\n",
      "return to home country once    /-/ Flight to home country         : 0.65674\n",
      "a year and                     /-/ Flight to home country         : 0.10164\n",
      "free flight benefits for busin /-/ Flight to home country         : 0.41699\n",
      "\n"
     ]
    }
   ],
   "source": [
    "bge_minilm62_s_c2(cat_wsub_demo, hlp_biz_demo)\n",
    "pass"
   ]
  },
  {
   "cell_type": "code",
   "execution_count": null,
   "metadata": {},
   "outputs": [
    {
     "name": "stdout",
     "output_type": "stream",
     "text": [
      "Splitted texts: ['Employees receive free flight benefits to', 'return to home country once', 'a year and', 'free flight benefits for business trips']\n",
      "General Category: Passage provided for business purpose\n",
      "Sub-Categories: ('Passage provided for business purpose', 'Air tickets for business trip', 'Air tickets for work purposes', 'Flight for business trip', 'Flight for work purposes', 'Travel incidental to employment')\n",
      "Similarity Level Of Top 3 (Limit=0.5):\n",
      "free flight benefits for busin /-/ Flight for business trip       : 0.81393\n",
      "free flight benefits for busin /-/ Air tickets for business trip  : 0.80979\n",
      "free flight benefits for busin /-/ Flight for work purposes       : 0.77811\n",
      "\n",
      "General Category: Passage provided when taking up employment and upon termination\n",
      "Sub-Categories: ('Passage provided when taking up employment and upon termination', 'Air tickets back to home country after contract end', 'Air tickets back to home country after termination of employment', 'Air tickets to work in Singapore', 'Flight back to home country after contract end', 'Flight back to home country after termination of employment', 'Flight to work in Singapore')\n",
      "Similarity Level Of Top 3 (Limit=0.5):\n",
      "return to home country once    /-/ Flight back to home country af : 0.77253\n",
      "return to home country once    /-/ Flight back to home country af : 0.75649\n",
      "return to home country once    /-/ Air tickets back to home count : 0.74354\n",
      "\n",
      "General Category: Home leave passage\n",
      "Sub-Categories: ('Home leave passage', 'Air passage benefit', 'Air tickets to home country', 'Flight to home country')\n",
      "Similarity Level Of Top 3 (Limit=0.5):\n",
      "return to home country once    /-/ Flight to home country         : 0.78412\n",
      "return to home country once    /-/ Air tickets to home country    : 0.73821\n",
      "return to home country once    /-/ Home leave passage             : 0.71822\n",
      "\n"
     ]
    }
   ],
   "source": [
    "bge_bge_s_c3(cat_wsub_demo, hlp_biz_demo, top_many=3)\n",
    "pass"
   ]
  },
  {
   "cell_type": "code",
   "execution_count": null,
   "metadata": {},
   "outputs": [
    {
     "name": "stdout",
     "output_type": "stream",
     "text": [
      "Splitted texts: ['Employees receive free flight benefits', 'to return to home country once', 'a year and', 'free flight benefits for business trips']\n",
      "General Category: Passage provided for business purpose\n",
      "Sub-Categories: ('Passage provided for business purpose', 'Air tickets for business trip', 'Air tickets for work purposes', 'Flight for business trip', 'Flight for work purposes', 'Travel incidental to employment')\n",
      "Similarity Level Of Top 3 (Limit=0.5):\n",
      "free flight benefits for busin /-/ Flight for business trip       : 0.75365\n",
      "free flight benefits for busin /-/ Air tickets for business trip  : 0.65982\n",
      "free flight benefits for busin /-/ Flight for work purposes       : 0.60962\n",
      "\n",
      "General Category: Passage provided when taking up employment and upon termination\n",
      "Sub-Categories: ('Passage provided when taking up employment and upon termination', 'Air tickets back to home country after contract end', 'Air tickets back to home country after termination of employment', 'Air tickets to work in Singapore', 'Flight back to home country after contract end', 'Flight back to home country after termination of employment', 'Flight to work in Singapore')\n",
      "Similarity Level Of Top 3 (Limit=0.5):\n",
      "to return to home country once /-/ Flight back to home country af : 0.59888\n",
      "to return to home country once /-/ Flight back to home country af : 0.53374\n",
      "\n",
      "General Category: Home leave passage\n",
      "Sub-Categories: ('Home leave passage', 'Air passage benefit', 'Air tickets to home country', 'Flight to home country')\n",
      "Similarity Level Of Top 3 (Limit=0.5):\n",
      "to return to home country once /-/ Flight to home country         : 0.66566\n",
      "free flight benefits for busin /-/ Air passage benefit            : 0.51766\n",
      "\n"
     ]
    }
   ],
   "source": [
    "minilm62_minilm62_s_c3(cat_wsub_demo, hlp_biz_demo, top_many=3)\n",
    "pass"
   ]
  },
  {
   "cell_type": "markdown",
   "metadata": {},
   "source": [
    "### Split And Compare (Cleaned Up Top and Limit) + Lock Version"
   ]
  },
  {
   "cell_type": "code",
   "execution_count": null,
   "metadata": {},
   "outputs": [],
   "source": [
    "def split_and_compare_wsub_top_limit_cleaned(split_embed_function, compare_embed_function, categories_wsub, sentence_text, intermediate = False, graph = False, sort_compare = 0, get_inner_list = False, get_list = False, display_split = True , display_end = True, top_many_cat = 3, limit_value = 0.5, extra_clean_output=False):\n",
    "    splitted_sentence_text = semantic_segmentation_function(embedding_model_function=split_embed_function, sentence_text=sentence_text, intermediate_status=intermediate, graph_status=graph)\n",
    "    if display_split:\n",
    "        print(f\"Splitted texts: {splitted_sentence_text}\")\n",
    "    compare_result = categories_wsub_similarity_comparison_function(embedding_model_function=compare_embed_function, categories_wsub_dict=categories_wsub, texts=splitted_sentence_text, sort_output=sort_compare)\n",
    "    resorted_compare_result = categories_wsub_similarity_comparison_resort_function(categories_wsub_similarity_comparison_result_dict=compare_result, get_inner_list=get_inner_list, sort_within_cat=-1, top_many_wsub=1, limit_value=limit_value) ## sort_within_cat=-1, top_many_wsub=1 are both need!! for the purpose of this cleaning up function part!!\n",
    "    cleaned_resorted_compare_result = categories_wsub_similarity_comparison_resort_cleaning_function(resorted_categories_wsub_similarity_comparison_dict=resorted_compare_result, get_inner_list=get_inner_list, get_list=get_list, top_many_cat=top_many_cat)\n",
    "    if display_end:\n",
    "        cleaned_categories_wsub_similarity_comparison_resorted_result_display(cleaned_resorted_compare_result, get_list=get_list)\n",
    "    if extra_clean_output:\n",
    "        if get_list:\n",
    "            return splitted_sentence_text, [(category, compare_sim_tuple[1]) for category, compare_sim_tuple in cleaned_resorted_compare_result]\n",
    "        else:\n",
    "            return splitted_sentence_text, {category:compare_sim_tuple[1] for category, compare_sim_tuple in cleaned_resorted_compare_result.items()}\n",
    "    return splitted_sentence_text, cleaned_resorted_compare_result"
   ]
  },
  {
   "cell_type": "code",
   "execution_count": null,
   "metadata": {},
   "outputs": [],
   "source": [
    "def lock_split_and_compare_wsub_top_limit_cleaned(split_embed_function, compare_embed_function):\n",
    "    return lambda categories_wsub, sentence_text, intermediate = False, graph = False, sort_compare = 0, get_inner_list = False, get_list = False, display_split = True , display_end = True, top_many_cat = 3, limit_value = 0.5, extra_clean_output=False: split_and_compare_wsub_top_limit_cleaned(split_embed_function=split_embed_function, compare_embed_function=compare_embed_function, categories_wsub=categories_wsub, sentence_text=sentence_text, intermediate = intermediate, graph = graph, sort_compare = sort_compare, get_inner_list = get_inner_list, get_list = get_list, display_split = display_split , display_end = display_end, top_many_cat = top_many_cat, limit_value = limit_value, extra_clean_output=extra_clean_output)"
   ]
  },
  {
   "cell_type": "markdown",
   "metadata": {},
   "source": [
    "##### Example Demo"
   ]
  },
  {
   "cell_type": "code",
   "execution_count": null,
   "metadata": {},
   "outputs": [
    {
     "name": "stdout",
     "output_type": "stream",
     "text": [
      "Splitted texts: ['Employees receive free flight benefits', 'to return to home country once', 'a year and', 'free flight benefits for business trips']\n",
      "Category: Passage provided for business purpose\n",
      "free flight benefits for busin /-/ Flight for business trip      : 0.75365\n",
      "\n",
      "Category: Home leave passage\n",
      "to return to home country once /-/ Flight to home country        : 0.66566\n",
      "\n"
     ]
    },
    {
     "data": {
      "text/plain": [
       "(['Employees receive free flight benefits',\n",
       "  'to return to home country once',\n",
       "  'a year and',\n",
       "  'free flight benefits for business trips'],\n",
       " {'Passage provided for business purpose': (('free flight benefits for business trips',\n",
       "    'Flight for business trip'),\n",
       "   0.7536517813135932),\n",
       "  'Home leave passage': (('to return to home country once',\n",
       "    'Flight to home country'),\n",
       "   0.6656597017594097)})"
      ]
     },
     "metadata": {},
     "output_type": "display_data"
    }
   ],
   "source": [
    "split_and_compare_wsub_top_limit_cleaned(get_sentence_embedding_MiniLM_L6_v2, get_sentence_embedding_MiniLM_L6_v2, cat_wsub_demo, hlp_biz_demo, display_end=True, get_inner_list=False, get_list=False, top_many_cat=2)"
   ]
  },
  {
   "cell_type": "code",
   "execution_count": null,
   "metadata": {},
   "outputs": [
    {
     "name": "stdout",
     "output_type": "stream",
     "text": [
      "Splitted texts: ['Employees receive free flight benefits', 'to return to home country once', 'a year and', 'free flight benefits for business trips']\n",
      "Category: Passage provided for business purpose\n",
      "free flight benefits for busin /-/ Flight for business trip      : 0.75365\n",
      "\n",
      "Category: Home leave passage\n",
      "to return to home country once /-/ Flight to home country        : 0.66566\n",
      "\n"
     ]
    },
    {
     "data": {
      "text/plain": [
       "(['Employees receive free flight benefits',\n",
       "  'to return to home country once',\n",
       "  'a year and',\n",
       "  'free flight benefits for business trips'],\n",
       " [('Passage provided for business purpose', 0.7536517813135932),\n",
       "  ('Home leave passage', 0.6656597017594097)])"
      ]
     },
     "metadata": {},
     "output_type": "display_data"
    }
   ],
   "source": [
    "split_and_compare_wsub_top_limit_cleaned(get_sentence_embedding_MiniLM_L6_v2, get_sentence_embedding_MiniLM_L6_v2, cat_wsub_demo, hlp_biz_demo, display_end=True, get_inner_list=False, get_list=True, top_many_cat=2, extra_clean_output=True)"
   ]
  },
  {
   "cell_type": "markdown",
   "metadata": {},
   "source": [
    "## Overall Combined Function (Zero Shot Classification)"
   ]
  },
  {
   "cell_type": "markdown",
   "metadata": {},
   "source": [
    "### Normal Split and Classify + Lock Version"
   ]
  },
  {
   "cell_type": "code",
   "execution_count": null,
   "metadata": {},
   "outputs": [],
   "source": [
    "## Split and Classify, using Zero Shot Classification\n",
    "def split_and_classify(split_embed_function, classify_function, candidate_possible_labels, sentence_text, intermediate = False, graph = False, multi_label=True, sort_classify = 0, additional_resort = True, display_split = True , display_end = True, sort_display = 0):\n",
    "    splitted_sentence_text = semantic_segmentation_function(embedding_model_function=split_embed_function, sentence_text=sentence_text, intermediate_status=intermediate, graph_status=graph)\n",
    "    if display_split:\n",
    "        print(f\"Splitted texts: {splitted_sentence_text}\")\n",
    "    classification_result = categories_classification_function(classification_model_function=classify_function, categories_candidate_labels=candidate_possible_labels, texts=splitted_sentence_text, multi_label=multi_label, sort_output=sort_classify)\n",
    "    if additional_resort:\n",
    "        resorted_classification_result = categories_classification_additional_resort_function(seq_classified_dictionary=classification_result, categories_candidate_labels=candidate_possible_labels, sort_output=sort_classify, top_many=-1, limit_value=0)\n",
    "    if display_end:\n",
    "        display_usage_resorted_classification_result = categories_classification_additional_resort_function(seq_classified_dictionary=classification_result, categories_candidate_labels=candidate_possible_labels, sort_output=0, top_many=-1, limit_value=-1)\n",
    "        categories_classification_resorted_result_display(classification_resorted_dictionary_result=display_usage_resorted_classification_result, sort_display=sort_display, top_many=-1, limit_value=-1)\n",
    "    if additional_resort:\n",
    "        return splitted_sentence_text, resorted_classification_result\n",
    "    return splitted_sentence_text, classification_result"
   ]
  },
  {
   "cell_type": "code",
   "execution_count": null,
   "metadata": {},
   "outputs": [],
   "source": [
    "def lock_split_and_classify(split_embed_function, classify_function):\n",
    "    return lambda candidate_possible_labels, sentence_text, intermediate = False, graph = False, multi_label=True, sort_classify = 0, additional_resort = True, display_split = True , display_end = True, sort_display = 0: split_and_classify(split_embed_function=split_embed_function, classify_function=classify_function, candidate_possible_labels=candidate_possible_labels, sentence_text=sentence_text, intermediate = intermediate, graph = graph, multi_label=multi_label, sort_classify = sort_classify, additional_resort = additional_resort, display_split = display_split , display_end = display_end, sort_display = sort_display)"
   ]
  },
  {
   "cell_type": "markdown",
   "metadata": {},
   "source": [
    "### Split and Classify [Top xxx (Count) and Limit yyy (Value)] + Lock Version"
   ]
  },
  {
   "cell_type": "code",
   "execution_count": null,
   "metadata": {},
   "outputs": [],
   "source": [
    "def split_and_classify_top_limit(split_embed_function, classify_function, candidate_possible_labels, sentence_text, intermediate = False, graph = False, multi_label=True, sort_classify = 0, additional_resort = True, display_split = True , display_end = True, sort_display = 0, top_many=5, limit_value=0.5):\n",
    "    splitted_sentence_text = semantic_segmentation_function(embedding_model_function=split_embed_function, sentence_text=sentence_text, intermediate_status=intermediate, graph_status=graph)\n",
    "    if display_split:\n",
    "        print(f\"Splitted texts: {splitted_sentence_text}\")\n",
    "    classification_result = categories_classification_function(classification_model_function=classify_function, categories_candidate_labels=candidate_possible_labels, texts=splitted_sentence_text, multi_label=multi_label, sort_output=sort_classify)\n",
    "    if additional_resort:\n",
    "        resorted_classification_result = categories_classification_additional_resort_function(seq_classified_dictionary=classification_result, categories_candidate_labels=candidate_possible_labels, sort_output=sort_classify, top_many=top_many, limit_value=limit_value)\n",
    "    if display_end:\n",
    "        display_usage_resorted_classification_result = categories_classification_additional_resort_function(seq_classified_dictionary=classification_result, categories_candidate_labels=candidate_possible_labels, sort_output=0, top_many=-1, limit_value=-1)\n",
    "        categories_classification_resorted_result_display(classification_resorted_dictionary_result=display_usage_resorted_classification_result, sort_display=sort_display, top_many=top_many, limit_value=limit_value)\n",
    "    if additional_resort:\n",
    "        return splitted_sentence_text, resorted_classification_result\n",
    "    return splitted_sentence_text, classification_result"
   ]
  },
  {
   "cell_type": "code",
   "execution_count": null,
   "metadata": {},
   "outputs": [],
   "source": [
    "def lock_split_and_classify_top_limit(split_embed_function, classify_function):\n",
    "    return lambda candidate_possible_labels, sentence_text, intermediate = False, graph = False, multi_label=True, sort_classify = 0, additional_resort = True, display_split = True , display_end = True, sort_display = 0, top_many=5, limit_value=0.5: split_and_classify_top_limit(split_embed_function=split_embed_function, classify_function=classify_function, candidate_possible_labels=candidate_possible_labels, sentence_text=sentence_text, intermediate = intermediate, graph = graph, multi_label=multi_label, sort_classify = sort_classify, additional_resort = additional_resort, display_split = display_split , display_end = display_end, sort_display = sort_display, top_many=top_many, limit_value=limit_value)"
   ]
  },
  {
   "cell_type": "markdown",
   "metadata": {},
   "source": [
    "### Split And Classify (Cleaned Up Top and Limit) + Lock Version"
   ]
  },
  {
   "cell_type": "code",
   "execution_count": null,
   "metadata": {},
   "outputs": [],
   "source": [
    "def split_and_classify_top_limit_cleaned(split_embed_function, classify_function, candidate_possible_labels, sentence_text, intermediate = False, graph = False, multi_label=True, get_list = False, display_split = True , display_end = True, top_many_cat=3, limit_value=0.5, extra_clean_output=False):\n",
    "    splitted_sentence_text = semantic_segmentation_function(embedding_model_function=split_embed_function, sentence_text=sentence_text, intermediate_status=intermediate, graph_status=graph)\n",
    "    if display_split:\n",
    "        print(f\"Splitted texts: {splitted_sentence_text}\")\n",
    "    classification_result = categories_classification_function(classification_model_function=classify_function, categories_candidate_labels=candidate_possible_labels, texts=splitted_sentence_text, multi_label=multi_label)\n",
    "    resorted_classification_result = categories_classification_additional_resort_function(seq_classified_dictionary=classification_result, categories_candidate_labels=candidate_possible_labels, sort_output=-1, top_many=1, limit_value=limit_value) # the sort_output = -1 and top_many = 1 is both impt!!!\n",
    "    cleaned_classification_resorted_result = categories_classification_additional_resort_cleaning_function(classification_resorted_dictionary_result=resorted_classification_result, get_list=get_list, top_many_cat=top_many_cat, limit_value=limit_value)\n",
    "\n",
    "    if display_end:\n",
    "        cleaned_categories_classification_resorted_result_display(cleaned_classification_resorted_result=cleaned_classification_resorted_result, get_list=get_list)\n",
    "    \n",
    "    if extra_clean_output:\n",
    "        if get_list:\n",
    "            return splitted_sentence_text, [(category_label, seq_pred_tuple[1]) for category_label, seq_pred_tuple in cleaned_classification_resorted_result]\n",
    "        else:\n",
    "            return splitted_sentence_text, {category_label:seq_pred_tuple[1] for category_label, seq_pred_tuple in cleaned_classification_resorted_result.items()}\n",
    "    return splitted_sentence_text, cleaned_classification_resorted_result"
   ]
  },
  {
   "cell_type": "code",
   "execution_count": null,
   "metadata": {},
   "outputs": [],
   "source": [
    "def lock_split_and_classify_top_limit_cleaned(split_embed_function, classify_function):\n",
    "    return lambda candidate_possible_labels, sentence_text, intermediate = False, graph = False, multi_label=True, get_list=False, display_split = True , display_end = True, top_many_cat=3, limit_value=0.5, extra_clean_output=False: split_and_classify_top_limit_cleaned(split_embed_function=split_embed_function, classify_function=classify_function, candidate_possible_labels=candidate_possible_labels, sentence_text=sentence_text, intermediate = intermediate, graph = graph, multi_label=multi_label, get_list=get_list, display_split = display_split , display_end = display_end, top_many_cat=top_many_cat, limit_value=limit_value, extra_clean_output=extra_clean_output)"
   ]
  },
  {
   "cell_type": "markdown",
   "metadata": {},
   "source": [
    "##### Example Demo"
   ]
  },
  {
   "cell_type": "code",
   "execution_count": null,
   "metadata": {},
   "outputs": [
    {
     "name": "stdout",
     "output_type": "stream",
     "text": [
      "Splitted texts: ['Employees receive free flight benefits', 'to return to home country once', 'a year and', 'free flight benefits for business trips']\n",
      "Category: Passage provided for business purpose\n",
      "Employees receive free flight benefits : 0.964426577091217\n",
      "to return to home country once : 0.13720235228538513\n",
      "a year and : 0.5728473663330078\n",
      "free flight benefits for business trips : 0.9442800283432007\n",
      "\n",
      "Category: Passage provided when taking up employment and upon termination\n",
      "Employees receive free flight benefits : 0.48903337121009827\n",
      "to return to home country once : 0.06560046970844269\n",
      "a year and : 0.2950785160064697\n",
      "free flight benefits for business trips : 0.010641817934811115\n",
      "\n",
      "Category: Home leave passage\n",
      "Employees receive free flight benefits : 0.49825218319892883\n",
      "to return to home country once : 0.9193651676177979\n",
      "a year and : 0.12018565833568573\n",
      "free flight benefits for business trips : 0.07301679998636246\n",
      "\n"
     ]
    },
    {
     "data": {
      "text/plain": [
       "(['Employees receive free flight benefits',\n",
       "  'to return to home country once',\n",
       "  'a year and',\n",
       "  'free flight benefits for business trips'],\n",
       " {'Passage provided for business purpose': {'Employees receive free flight benefits': 0.964426577091217,\n",
       "   'free flight benefits for business trips': 0.9442800283432007,\n",
       "   'a year and': 0.5728473663330078,\n",
       "   'to return to home country once': 0.13720235228538513},\n",
       "  'Passage provided when taking up employment and upon termination': {'Employees receive free flight benefits': 0.48903337121009827,\n",
       "   'a year and': 0.2950785160064697,\n",
       "   'to return to home country once': 0.06560046970844269,\n",
       "   'free flight benefits for business trips': 0.010641817934811115},\n",
       "  'Home leave passage': {'to return to home country once': 0.9193651676177979,\n",
       "   'Employees receive free flight benefits': 0.49825218319892883,\n",
       "   'a year and': 0.12018565833568573,\n",
       "   'free flight benefits for business trips': 0.07301679998636246}})"
      ]
     },
     "metadata": {},
     "output_type": "display_data"
    }
   ],
   "source": [
    "split_and_classify(get_sentence_embedding_MiniLM_L6_v2, bart_mnli_classifier, new_temp_l_cat, hlp_biz_demo, sort_classify=-1)"
   ]
  },
  {
   "cell_type": "code",
   "execution_count": null,
   "metadata": {},
   "outputs": [
    {
     "name": "stdout",
     "output_type": "stream",
     "text": [
      "Splitted texts: ['Employees receive free flight benefits', 'to return to home country once', 'a year and', 'free flight benefits for business trips']\n",
      "Category: Passage provided for business purpose\n",
      "Employees receive free flight benefits : 0.964426577091217\n",
      "to return to home country once : 0.13720235228538513\n",
      "a year and : 0.5728473663330078\n",
      "free flight benefits for business trips : 0.9442800283432007\n",
      "\n",
      "Category: Passage provided when taking up employment and upon termination\n",
      "Employees receive free flight benefits : 0.48903337121009827\n",
      "to return to home country once : 0.06560046970844269\n",
      "a year and : 0.2950785160064697\n",
      "free flight benefits for business trips : 0.010641817934811115\n",
      "\n",
      "Category: Home leave passage\n",
      "Employees receive free flight benefits : 0.49825218319892883\n",
      "to return to home country once : 0.9193651676177979\n",
      "a year and : 0.12018565833568573\n",
      "free flight benefits for business trips : 0.07301679998636246\n",
      "\n"
     ]
    }
   ],
   "source": [
    "split_and_classify_top_limit(get_sentence_embedding_MiniLM_L6_v2, bart_mnli_classifier, new_temp_l_cat, hlp_biz_demo, display_end=True, sort_classify=-1, top_many=3, limit_value=-1)\n",
    "pass\n"
   ]
  },
  {
   "cell_type": "code",
   "execution_count": null,
   "metadata": {},
   "outputs": [
    {
     "name": "stdout",
     "output_type": "stream",
     "text": [
      "Splitted texts: ['Employees receive free flight benefits', 'to return to home country once', 'a year and', 'free flight benefits for business trips']\n",
      "Category: Passage provided for business purpose\n",
      "Employees receive free flight benefits : 0.964426577091217\n",
      "free flight benefits for business trips : 0.9442800283432007\n",
      "\n",
      "Category: Passage provided when taking up employment and upon termination\n",
      "Employees receive free flight benefits : 0.48903337121009827\n",
      "\n",
      "Category: Home leave passage\n",
      "to return to home country once : 0.9193651676177979\n",
      "Employees receive free flight benefits : 0.49825218319892883\n",
      "\n"
     ]
    }
   ],
   "source": [
    "split_and_classify_top_limit(get_sentence_embedding_MiniLM_L6_v2, bart_mnli_classifier, new_temp_l_cat, hlp_biz_demo, display_end=True, sort_classify=-1, sort_display=-1, top_many=2, limit_value=0.45)\n",
    "pass"
   ]
  },
  {
   "cell_type": "code",
   "execution_count": null,
   "metadata": {},
   "outputs": [
    {
     "name": "stdout",
     "output_type": "stream",
     "text": [
      "Splitted texts: ['Employees receive free flight benefits', 'to return to home country once', 'a year and', 'free flight benefits for business trips']\n",
      "Category: Passage provided for business purpose\n",
      "Employees receive free flight benefits: 0.964426577091217\n",
      "\n",
      "Category: Home leave passage\n",
      "to return to home country once: 0.9193651676177979\n",
      "\n"
     ]
    }
   ],
   "source": [
    "split_and_classify_top_limit_cleaned(get_sentence_embedding_MiniLM_L6_v2, bart_mnli_classifier, new_temp_l_cat, hlp_biz_demo, display_end=True, get_list=True, top_many_cat=2, limit_value=0.5)\n",
    "pass"
   ]
  },
  {
   "cell_type": "code",
   "execution_count": null,
   "metadata": {},
   "outputs": [
    {
     "name": "stdout",
     "output_type": "stream",
     "text": [
      "Splitted texts: ['Employees receive free flight benefits', 'to return to home country once', 'a year and', 'free flight benefits for business trips']\n",
      "Category: Passage provided for business purpose\n",
      "Employees receive free flight benefits                           : 0.96443\n",
      "\n",
      "Category: Home leave passage\n",
      "to return to home country once                                   : 0.91937\n",
      "\n"
     ]
    },
    {
     "data": {
      "text/plain": [
       "(['Employees receive free flight benefits',\n",
       "  'to return to home country once',\n",
       "  'a year and',\n",
       "  'free flight benefits for business trips'],\n",
       " {'Passage provided for business purpose': 0.964426577091217,\n",
       "  'Home leave passage': 0.9193651676177979})"
      ]
     },
     "metadata": {},
     "output_type": "display_data"
    }
   ],
   "source": [
    "split_and_classify_top_limit_cleaned(get_sentence_embedding_MiniLM_L6_v2, bart_mnli_classifier, new_temp_l_cat, hlp_biz_demo, display_end=True, get_list=False, top_many_cat=2, limit_value=0.5, extra_clean_output=True)"
   ]
  }
 ],
 "metadata": {
  "language_info": {
   "name": "python"
  }
 },
 "nbformat": 4,
 "nbformat_minor": 2
}
