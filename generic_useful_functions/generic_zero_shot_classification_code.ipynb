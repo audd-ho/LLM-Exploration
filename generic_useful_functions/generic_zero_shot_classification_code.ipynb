{
 "cells": [
  {
   "cell_type": "markdown",
   "metadata": {},
   "source": [
    "# Zero Shot Classification Function Section"
   ]
  },
  {
   "cell_type": "markdown",
   "metadata": {},
   "source": [
    "### Generic Zero Shot Classification Function + Lock Version"
   ]
  },
  {
   "cell_type": "code",
   "execution_count": null,
   "metadata": {},
   "outputs": [],
   "source": [
    "def classify_sentence(classifier, candidate_labels, sequence_to_classify, multi_label = True):\n",
    "    result_dict = {}\n",
    "    classifier_results = classifier(sequence_to_classify, candidate_labels, multi_label=multi_label)\n",
    "    if type(classifier_results) != list:\n",
    "        classifier_results = [classifier_results]\n",
    "    for classifier_result in classifier_results:\n",
    "        result_dict[classifier_result[\"sequence\"]] = {label:label_prob for label,label_prob in zip(classifier_result[\"labels\"], classifier_result[\"scores\"])}\n",
    "    return result_dict"
   ]
  },
  {
   "cell_type": "code",
   "execution_count": null,
   "metadata": {},
   "outputs": [],
   "source": [
    "def lock_classify_sentence(classifier):\n",
    "    return lambda candidate_labels, sequence_to_classify, multi_label = True: classify_sentence(classifier=classifier, candidate_labels=candidate_labels, sequence_to_classify=sequence_to_classify, multi_label=multi_label)"
   ]
  },
  {
   "cell_type": "markdown",
   "metadata": {},
   "source": [
    "### Categories Classification Function (+ Resort Format Function) + Lock Version"
   ]
  },
  {
   "cell_type": "code",
   "execution_count": null,
   "metadata": {},
   "outputs": [],
   "source": [
    "def categories_classification_function(classification_model_function, categories_candidate_labels, texts, multi_label = True, sort_output = 0):\n",
    "    classification_results = classify_sentence(classifier=classification_model_function, candidate_labels=categories_candidate_labels, sequence_to_classify=texts, multi_label=multi_label)\n",
    "    final_classified_dict = {}\n",
    "    if sort_output == -1:\n",
    "        final_classified_dict = classification_results\n",
    "        return final_classified_dict\n",
    "    if sort_output == 0:\n",
    "        for seq in texts:\n",
    "            final_classified_dict[seq] = {label:classification_results[seq][label] for label in categories_candidate_labels}\n",
    "        return final_classified_dict\n",
    "    if sort_output == 1:\n",
    "        for seq in texts:\n",
    "            pre_sort = {label:classification_results[seq][label] for label in categories_candidate_labels}\n",
    "            final_classified_dict[seq] = {label:label_pred for label, label_pred in sorted(pre_sort.items(), key = lambda dict_item: dict_item[1])}\n",
    "        return final_classified_dict\n",
    "\n",
    "## Resort Format Function\n",
    "def categories_classification_additional_resort_function(seq_classified_dictionary, categories_candidate_labels, sort_output = 0, top_many = 5, limit_value = 0.5):\n",
    "    if limit_value < 0:\n",
    "        if sort_output == -1:\n",
    "            limit_value = 0\n",
    "        if sort_output == 0:\n",
    "            limit_value = None\n",
    "        if sort_output == 1:\n",
    "            limit_value = 1\n",
    "    resorted_classification_dict = {label:{} for label in categories_candidate_labels}\n",
    "    for seq, label_to_label_pred_dict in seq_classified_dictionary.items():\n",
    "        for label in categories_candidate_labels:\n",
    "            if sort_output == -1:\n",
    "                if label_to_label_pred_dict[label] >= limit_value:\n",
    "                    resorted_classification_dict[label][seq] = label_to_label_pred_dict[label]\n",
    "            if sort_output == 0:\n",
    "                # limit_value no meaning here since no sorting so no >= or <= to base off\n",
    "                resorted_classification_dict[label][seq] = label_to_label_pred_dict[label]\n",
    "            if sort_output == 1:\n",
    "                if label_to_label_pred_dict[label] <= limit_value:\n",
    "                    resorted_classification_dict[label][seq] = label_to_label_pred_dict[label]\n",
    "    if sort_output == -1:\n",
    "        for label in categories_candidate_labels:\n",
    "            resorted_classification_dict[label] = dict(sorted(resorted_classification_dict[label].items(), key = lambda dict_item: dict_item[1], reverse=True))\n",
    "    if sort_output == 0:\n",
    "        resorted_classification_dict = resorted_classification_dict\n",
    "    if sort_output == 1:\n",
    "        for label in categories_candidate_labels:\n",
    "            resorted_classification_dict[label] = dict(sorted(resorted_classification_dict[label].items(), key = lambda dict_item: dict_item[1], reverse=False))\n",
    "    \n",
    "    if top_many >= 0:\n",
    "        for label in categories_candidate_labels:\n",
    "            resorted_classification_dict[label] = dict(list(resorted_classification_dict[label].items())[:top_many])\n",
    "    return resorted_classification_dict"
   ]
  },
  {
   "cell_type": "code",
   "execution_count": null,
   "metadata": {},
   "outputs": [],
   "source": [
    "def lock_categories_classification_function(classification_model_function):\n",
    "    return lambda categories_candidate_labels, texts, multi_label = True, sort_output = 0 : categories_classification_function(classification_model_function=classification_model_function, categories_candidate_labels=categories_candidate_labels, texts=texts, multi_label = multi_label, sort_output = sort_output)\n"
   ]
  },
  {
   "cell_type": "markdown",
   "metadata": {},
   "source": [
    "#### Classification Result Display"
   ]
  },
  {
   "cell_type": "code",
   "execution_count": null,
   "metadata": {},
   "outputs": [],
   "source": [
    "def categories_classification_resorted_result_display(classification_resorted_dictionary_result, sort_display = 0, top_many = 5, limit_value = 0.5):\n",
    "    if limit_value < 0:\n",
    "        if sort_display == -1:\n",
    "            limit_value = 0\n",
    "        if sort_display == 0:\n",
    "            limit_value = None\n",
    "        if sort_display == 1:\n",
    "            limit_value = 1\n",
    "    if top_many > 0:\n",
    "        for label, seq_pred_dict in classification_resorted_dictionary_result.items():\n",
    "            print(f\"Category: {label}\")\n",
    "            if sort_display == -1:\n",
    "                for seq, pred in dict(sorted(list(seq_pred_dict.items()), key=lambda list_dict_tuple: list_dict_tuple[1], reverse=True)[:top_many]).items():\n",
    "                    if pred >= limit_value:\n",
    "                        print(f\"{seq:65.65}: {pred:.5}\")\n",
    "            if sort_display == 0:\n",
    "                ## if no sorting, then top xxx and limit yyy does not make sense so not applicable here\n",
    "                for seq, pred in seq_pred_dict.items():\n",
    "                    print(f\"{seq:65.65}: {pred:.5}\")\n",
    "            if sort_display == 1:\n",
    "                for seq, pred in dict(sorted(list(seq_pred_dict.items()), key=lambda list_dict_tuple: list_dict_tuple[1], reverse=False)[:top_many]).items():\n",
    "                    if pred <= limit_value:\n",
    "                        print(f\"{seq:65.65}: {pred:.5}\")\n",
    "            print()\n",
    "    else:\n",
    "        for label, seq_pred_dict in classification_resorted_dictionary_result.items():\n",
    "            print(f\"Category: {label}\")\n",
    "            if sort_display == -1:\n",
    "                for seq, pred in dict(sorted(seq_pred_dict.items(), key=lambda list_dict_tuple: list_dict_tuple[1], reverse=True)).items():\n",
    "                    if pred >= limit_value:\n",
    "                        print(f\"{seq:65.65}: {pred:.5}\")\n",
    "            if sort_display == 0:\n",
    "                ## if no sorting, then top xxx and limit yyy does not make sense so not applicable here\n",
    "                for seq, pred in seq_pred_dict.items():\n",
    "                    print(f\"{seq:65.65}: {pred:.5}\")\n",
    "            if sort_display == 1:\n",
    "                for seq, pred in dict(sorted(seq_pred_dict.items(), key=lambda list_dict_tuple: list_dict_tuple[1], reverse=False)).items():\n",
    "                    if pred <= limit_value:\n",
    "                        print(f\"{seq:65.65}: {pred:.5}\")\n",
    "            print()"
   ]
  },
  {
   "cell_type": "markdown",
   "metadata": {},
   "source": [
    "##### Example Demo"
   ]
  },
  {
   "cell_type": "code",
   "execution_count": null,
   "metadata": {},
   "outputs": [
    {
     "data": {
      "text/plain": [
       "{'one day i will see the world': {'travel': 0.994157612323761,\n",
       "  'exploration': 0.92877596616745,\n",
       "  'dancing': 0.005361784249544144,\n",
       "  'cooking': 0.0016605753917247057},\n",
       " 'i will explore sweden next semester': {'travel': 0.9911717772483826,\n",
       "  'exploration': 0.9684410691261292,\n",
       "  'dancing': 0.0032393524888902903,\n",
       "  'cooking': 0.00020078456145711243},\n",
       " 'I love popping and locking!': {'exploration': 0.7612733244895935,\n",
       "  'dancing': 0.22573687136173248,\n",
       "  'cooking': 0.17265444993972778,\n",
       "  'travel': 0.0074744801968336105}}"
      ]
     },
     "metadata": {},
     "output_type": "display_data"
    }
   ],
   "source": [
    "classify_sentence(bart_mnli_classifier, candidate_possible_labels, sequences_list, multi_label=True)"
   ]
  },
  {
   "cell_type": "code",
   "execution_count": null,
   "metadata": {},
   "outputs": [
    {
     "data": {
      "text/plain": [
       "{'one day i will see the world': {'travel': 0.8104696869850159,\n",
       "  'exploration': 0.1847233921289444,\n",
       "  'dancing': 0.0025745946913957596,\n",
       "  'cooking': 0.0022323287557810545}}"
      ]
     },
     "metadata": {},
     "output_type": "display_data"
    }
   ],
   "source": [
    "classify_sentence(bart_mnli_classifier, candidate_possible_labels, sequences_list[0], multi_label=False)"
   ]
  },
  {
   "cell_type": "code",
   "execution_count": null,
   "metadata": {},
   "outputs": [
    {
     "data": {
      "text/plain": [
       "{'one day i will see the world': {'travel': 0.994157612323761,\n",
       "  'exploration': 0.92877596616745,\n",
       "  'dancing': 0.005361784249544144,\n",
       "  'cooking': 0.0016605753917247057},\n",
       " 'i will explore sweden next semester': {'travel': 0.9911717772483826,\n",
       "  'exploration': 0.9684410691261292,\n",
       "  'dancing': 0.0032393524888902903,\n",
       "  'cooking': 0.00020078456145711243},\n",
       " 'I love popping and locking!': {'exploration': 0.7612733244895935,\n",
       "  'dancing': 0.22573687136173248,\n",
       "  'cooking': 0.17265444993972778,\n",
       "  'travel': 0.0074744801968336105}}"
      ]
     },
     "metadata": {},
     "output_type": "display_data"
    }
   ],
   "source": [
    "categories_classification_function(bart_mnli_classifier, candidate_possible_labels, sequences_list, sort_output=-1)"
   ]
  },
  {
   "cell_type": "code",
   "execution_count": null,
   "metadata": {},
   "outputs": [
    {
     "data": {
      "text/plain": [
       "{'travel': {'one day i will see the world': 0.994157612323761,\n",
       "  'i will explore sweden next semester': 0.9911717772483826},\n",
       " 'cooking': {},\n",
       " 'dancing': {},\n",
       " 'exploration': {'i will explore sweden next semester': 0.9684410691261292,\n",
       "  'one day i will see the world': 0.92877596616745,\n",
       "  'I love popping and locking!': 0.7612733244895935}}"
      ]
     },
     "metadata": {},
     "output_type": "display_data"
    }
   ],
   "source": [
    "categories_classification_additional_resort_function(categories_classification_function(bart_mnli_classifier, candidate_possible_labels, sequences_list, sort_output=-1), candidate_possible_labels, sort_output=-1, top_many=5, limit_value=0.5)"
   ]
  },
  {
   "cell_type": "code",
   "execution_count": null,
   "metadata": {},
   "outputs": [
    {
     "name": "stdout",
     "output_type": "stream",
     "text": [
      "Category: travel\n",
      "one day i will see the world                                     : 0.99416\n",
      "i will explore sweden next semester                              : 0.99117\n",
      "\n",
      "Category: cooking\n",
      "\n",
      "Category: dancing\n",
      "\n",
      "Category: exploration\n",
      "i will explore sweden next semester                              : 0.96844\n",
      "one day i will see the world                                     : 0.92878\n",
      "I love popping and locking!                                      : 0.76127\n",
      "\n"
     ]
    }
   ],
   "source": [
    "categories_classification_resorted_result_display(categories_classification_additional_resort_function(categories_classification_function(bart_mnli_classifier, candidate_possible_labels, sequences_list, sort_output=-1), candidate_possible_labels, sort_output=-1, top_many=5, limit_value=0.5),sort_display=-1, top_many=-1, limit_value=-1)"
   ]
  },
  {
   "cell_type": "code",
   "execution_count": null,
   "metadata": {},
   "outputs": [
    {
     "data": {
      "text/plain": [
       "{'one day i will see the world': {'travel': 0.994157612323761,\n",
       "  'cooking': 0.0016605753917247057,\n",
       "  'dancing': 0.005361784249544144,\n",
       "  'exploration': 0.92877596616745},\n",
       " 'i will explore sweden next semester': {'travel': 0.9911717772483826,\n",
       "  'cooking': 0.00020078456145711243,\n",
       "  'dancing': 0.0032393524888902903,\n",
       "  'exploration': 0.9684410691261292},\n",
       " 'I love popping and locking!': {'travel': 0.0074744801968336105,\n",
       "  'cooking': 0.17265444993972778,\n",
       "  'dancing': 0.22573687136173248,\n",
       "  'exploration': 0.7612733244895935}}"
      ]
     },
     "metadata": {},
     "output_type": "display_data"
    }
   ],
   "source": [
    "categories_classification_function(bart_mnli_classifier, candidate_possible_labels, sequences_list, sort_output=0)"
   ]
  },
  {
   "cell_type": "code",
   "execution_count": null,
   "metadata": {},
   "outputs": [
    {
     "data": {
      "text/plain": [
       "{'travel': {'one day i will see the world': 0.994157612323761,\n",
       "  'i will explore sweden next semester': 0.9911717772483826},\n",
       " 'cooking': {},\n",
       " 'dancing': {},\n",
       " 'exploration': {'one day i will see the world': 0.92877596616745,\n",
       "  'i will explore sweden next semester': 0.9684410691261292,\n",
       "  'I love popping and locking!': 0.7612733244895935}}"
      ]
     },
     "metadata": {},
     "output_type": "display_data"
    }
   ],
   "source": [
    "categories_classification_additional_resort_function(categories_classification_function(bart_mnli_classifier, candidate_possible_labels, sequences_list, sort_output=0), candidate_possible_labels, sort_output=0, top_many=5, limit_value=0.5)"
   ]
  },
  {
   "cell_type": "code",
   "execution_count": null,
   "metadata": {},
   "outputs": [
    {
     "name": "stdout",
     "output_type": "stream",
     "text": [
      "Category: travel\n",
      "one day i will see the world                                     : 0.99416\n",
      "i will explore sweden next semester                              : 0.99117\n",
      "I love popping and locking!                                      : 0.0074745\n",
      "\n",
      "Category: cooking\n",
      "one day i will see the world                                     : 0.0016606\n",
      "i will explore sweden next semester                              : 0.00020078\n",
      "I love popping and locking!                                      : 0.17265\n",
      "\n",
      "Category: dancing\n",
      "one day i will see the world                                     : 0.0053618\n",
      "i will explore sweden next semester                              : 0.0032394\n",
      "I love popping and locking!                                      : 0.22574\n",
      "\n",
      "Category: exploration\n",
      "one day i will see the world                                     : 0.92878\n",
      "i will explore sweden next semester                              : 0.96844\n",
      "I love popping and locking!                                      : 0.76127\n",
      "\n"
     ]
    }
   ],
   "source": [
    "categories_classification_resorted_result_display(categories_classification_additional_resort_function(categories_classification_function(bart_mnli_classifier, candidate_possible_labels, sequences_list, sort_output=-1), candidate_possible_labels, sort_output=0, top_many=5, limit_value=0.5),sort_display=0, top_many=-1, limit_value=-1)"
   ]
  },
  {
   "cell_type": "code",
   "execution_count": null,
   "metadata": {},
   "outputs": [
    {
     "data": {
      "text/plain": [
       "{'one day i will see the world': {'cooking': 0.0016605753917247057,\n",
       "  'dancing': 0.005361784249544144,\n",
       "  'exploration': 0.92877596616745,\n",
       "  'travel': 0.994157612323761},\n",
       " 'i will explore sweden next semester': {'cooking': 0.00020078456145711243,\n",
       "  'dancing': 0.0032393524888902903,\n",
       "  'exploration': 0.9684410691261292,\n",
       "  'travel': 0.9911717772483826},\n",
       " 'I love popping and locking!': {'travel': 0.0074744801968336105,\n",
       "  'cooking': 0.17265444993972778,\n",
       "  'dancing': 0.22573687136173248,\n",
       "  'exploration': 0.7612733244895935}}"
      ]
     },
     "metadata": {},
     "output_type": "display_data"
    }
   ],
   "source": [
    "categories_classification_function(bart_mnli_classifier, candidate_possible_labels, sequences_list, sort_output=1)"
   ]
  },
  {
   "cell_type": "code",
   "execution_count": null,
   "metadata": {},
   "outputs": [
    {
     "data": {
      "text/plain": [
       "{'travel': {'i will explore sweden next semester': 0.9911717772483826,\n",
       "  'one day i will see the world': 0.994157612323761},\n",
       " 'cooking': {},\n",
       " 'dancing': {},\n",
       " 'exploration': {'I love popping and locking!': 0.7612733244895935,\n",
       "  'one day i will see the world': 0.92877596616745,\n",
       "  'i will explore sweden next semester': 0.9684410691261292}}"
      ]
     },
     "metadata": {},
     "output_type": "display_data"
    }
   ],
   "source": [
    "categories_classification_additional_resort_function(categories_classification_function(bart_mnli_classifier, candidate_possible_labels, sequences_list, sort_output=1), candidate_possible_labels, sort_output=1, top_many=5, limit_value=0.5)"
   ]
  },
  {
   "cell_type": "code",
   "execution_count": null,
   "metadata": {},
   "outputs": [
    {
     "name": "stdout",
     "output_type": "stream",
     "text": [
      "Category: travel\n",
      "I love popping and locking!                                      : 0.0074745\n",
      "\n",
      "Category: cooking\n",
      "i will explore sweden next semester                              : 0.00020078\n",
      "one day i will see the world                                     : 0.0016606\n",
      "I love popping and locking!                                      : 0.17265\n",
      "\n",
      "Category: dancing\n",
      "i will explore sweden next semester                              : 0.0032394\n",
      "one day i will see the world                                     : 0.0053618\n",
      "I love popping and locking!                                      : 0.22574\n",
      "\n",
      "Category: exploration\n",
      "\n"
     ]
    }
   ],
   "source": [
    "categories_classification_resorted_result_display(categories_classification_additional_resort_function(categories_classification_function(bart_mnli_classifier, candidate_possible_labels, sequences_list, sort_output=-1), candidate_possible_labels, sort_output=1, top_many=5, limit_value=0.5),sort_display=1, top_many=-1, limit_value=-1)"
   ]
  },
  {
   "cell_type": "markdown",
   "metadata": {},
   "source": [
    "#### Additional Cleaning Up Function, Into Different Format + Display "
   ]
  },
  {
   "cell_type": "code",
   "execution_count": null,
   "metadata": {},
   "outputs": [],
   "source": [
    "def categories_classification_additional_resort_cleaning_function(classification_resorted_dictionary_result, get_list = False, top_many_cat = 3, limit_value = 0.5):\n",
    "    #return dict(list(dict(sorted(list(classification_resorted_dictionary_result.items()), key=lambda tuple_value_dict: list(tuple_value_dict[1].values())[0], reverse=True)).items())[:top_many_cat])\n",
    "    cleaned_classification_resorted_dictionary_result = {}\n",
    "    for label, seq_pred_dict in classification_resorted_dictionary_result.items():\n",
    "        ## the \"if\" part and the \"for\" part is done so that if seq_pred_dict.items() is empty, then next(iter()) wont crash if solely use it!!\n",
    "        \"\"\"\n",
    "        if len(seq_pred_dict) > 0:\n",
    "            cleaned_classification_resorted_dictionary_result[label] = next(iter(seq_pred_dict.items()))\n",
    "        \"\"\"\n",
    "        for seq, pred in seq_pred_dict.items():\n",
    "            cleaned_classification_resorted_dictionary_result[label] = (seq, pred)\n",
    "        ### if label dont have any that fits limit_value restriction, then the label wont appear in the dict at the end!!, not in this version at least!!!\n",
    "    cleaned_classification_resorted_dictionary_result = dict(sorted(cleaned_classification_resorted_dictionary_result.items(), key=lambda dict_item: dict_item[1][1], reverse=True))\n",
    "    if get_list:\n",
    "        return list(cleaned_classification_resorted_dictionary_result.items())[:top_many_cat]\n",
    "    return dict(list(cleaned_classification_resorted_dictionary_result.items())[:top_many_cat])\n",
    "\n",
    "\n",
    "def cleaned_categories_classification_resorted_result_display(cleaned_classification_resorted_result, get_list):\n",
    "    if get_list:\n",
    "        for label, seq_pred_tuple in cleaned_classification_resorted_result:\n",
    "            print(f\"Category: {label}\")\n",
    "            print(f\"{seq_pred_tuple[0]:65.65}: {seq_pred_tuple[1]:.5}\")\n",
    "            print()\n",
    "    else:\n",
    "        for label, seq_pred_tuple in cleaned_classification_resorted_result.items():\n",
    "            print(f\"Category: {label}\")\n",
    "            print(f\"{seq_pred_tuple[0]:65.65}: {seq_pred_tuple[1]:.5}\")\n",
    "            print()"
   ]
  },
  {
   "cell_type": "markdown",
   "metadata": {},
   "source": [
    "##### Example Demo"
   ]
  },
  {
   "cell_type": "code",
   "execution_count": null,
   "metadata": {},
   "outputs": [
    {
     "data": {
      "text/plain": [
       "{'travel': ('one day i will see the world', 0.994157612323761),\n",
       " 'exploration': ('i will explore sweden next semester', 0.9684410691261292),\n",
       " 'dancing': ('I love popping and locking!', 0.22573687136173248)}"
      ]
     },
     "metadata": {},
     "output_type": "display_data"
    }
   ],
   "source": [
    "## the sort_output = -1 and top_many = 1 is both impt!!!\n",
    "\n",
    "# Arguments to use for function\n",
    "limit_value = 0.1\n",
    "top_many_cat = 3\n",
    "get_list = False\n",
    "\n",
    "categories_classification_additional_resort_cleaning_function(classification_resorted_dictionary_result=categories_classification_additional_resort_function(categories_classification_function(bart_mnli_classifier, candidate_possible_labels, sequences_list, sort_output=-1), candidate_possible_labels, sort_output=-1, top_many=1, limit_value=limit_value), get_list=get_list, top_many_cat=top_many_cat, limit_value=limit_value)"
   ]
  },
  {
   "cell_type": "code",
   "execution_count": null,
   "metadata": {},
   "outputs": [
    {
     "name": "stdout",
     "output_type": "stream",
     "text": [
      "Category: travel\n",
      "one day i will see the world                                     : 0.99416\n",
      "\n",
      "Category: exploration\n",
      "i will explore sweden next semester                              : 0.96844\n",
      "\n"
     ]
    }
   ],
   "source": [
    "# Arguments to use for function\n",
    "limit_value = 0.1\n",
    "top_many_cat = 2\n",
    "get_list = True\n",
    "\n",
    "cleaned_categories_classification_resorted_result_display(cleaned_classification_resorted_result=categories_classification_additional_resort_cleaning_function(classification_resorted_dictionary_result=categories_classification_additional_resort_function(categories_classification_function(bart_mnli_classifier, candidate_possible_labels, sequences_list, sort_output=-1), candidate_possible_labels, sort_output=-1, top_many=1, limit_value=limit_value), get_list=get_list, top_many_cat=top_many_cat, limit_value=limit_value), get_list=get_list)\n"
   ]
  }
 ],
 "metadata": {
  "language_info": {
   "name": "python"
  }
 },
 "nbformat": 4,
 "nbformat_minor": 2
}
