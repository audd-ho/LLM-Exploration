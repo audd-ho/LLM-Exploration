{
 "cells": [
  {
   "cell_type": "code",
   "execution_count": 1,
   "metadata": {},
   "outputs": [],
   "source": [
    "## not neccesarily sentence level segmentation\n",
    "## could be segments within a sentence as well!!\n",
    "\n"
   ]
  },
  {
   "cell_type": "code",
   "execution_count": 1,
   "metadata": {},
   "outputs": [],
   "source": [
    "import torch\n",
    "import math\n",
    "import numpy as np\n",
    "def get_length(embedding_1d):\n",
    "    sum = 0\n",
    "    for i in embedding_1d:\n",
    "        sum+=(i**2)\n",
    "    return math.sqrt(sum)\n",
    "def normalise_embedding(embedding_1d):\n",
    "    length = get_length(embedding_1d)\n",
    "    for i in range(len(embedding_1d)):\n",
    "        embedding_1d[i] /= length\n",
    "def get_normalise_embedding(embedding_1d):\n",
    "    if type(embedding_1d) is torch.Tensor:\n",
    "        temp_embedding_1d = (embedding_1d.detach().numpy()).copy()\n",
    "    else:\n",
    "        temp_embedding_1d = embedding_1d.copy()\n",
    "    length = get_length(temp_embedding_1d)\n",
    "    for i in range(len(temp_embedding_1d)):\n",
    "        temp_embedding_1d[i] /= length\n",
    "    return temp_embedding_1d\n",
    "\n",
    "\n",
    "def cosine_sim(embedding_1, embedding_2):\n",
    "    embedding_1 = get_normalise_embedding(embedding_1)\n",
    "    embedding_2 = get_normalise_embedding(embedding_2)\n",
    "    sim_sum = 0\n",
    "    for e_1, e_2 in zip(embedding_1, embedding_2):\n",
    "        sim_sum += (e_1*e_2)\n",
    "    return sim_sum\n",
    "def norm_ed_cosine_sim(embedding_1, embedding_2):\n",
    "    sim_sum = 0\n",
    "    for e_1, e_2 in zip(embedding_1, embedding_2):\n",
    "        sim_sum += (e_1*e_2)\n",
    "    return sim_sum"
   ]
  },
  {
   "cell_type": "code",
   "execution_count": null,
   "metadata": {},
   "outputs": [],
   "source": [
    "\n",
    "\n",
    "\n",
    "\n",
    "## can be an attempt of the tokenizer version here if need be\n",
    "'''\n",
    "# Load model directly\n",
    "from transformers import AutoTokenizer, AutoModel\n",
    "\n",
    "tokenizer = AutoTokenizer.from_pretrained(\"sentence-transformers/all-MiniLM-L6-v2\")\n",
    "model = AutoModel.from_pretrained(\"sentence-transformers/all-MiniLM-L6-v2\")\n",
    "'''"
   ]
  },
  {
   "cell_type": "code",
   "execution_count": 2,
   "metadata": {},
   "outputs": [
    {
     "name": "stderr",
     "output_type": "stream",
     "text": [
      "c:\\Users\\Audric Ho\\Downloads\\LLM related stuff\\semantic_text_segmentation_attempt\\semantic_seg-venv\\Lib\\site-packages\\sentence_transformers\\cross_encoder\\CrossEncoder.py:11: TqdmWarning: IProgress not found. Please update jupyter and ipywidgets. See https://ipywidgets.readthedocs.io/en/stable/user_install.html\n",
      "  from tqdm.autonotebook import tqdm, trange\n",
      "c:\\Users\\Audric Ho\\Downloads\\LLM related stuff\\semantic_text_segmentation_attempt\\semantic_seg-venv\\Lib\\site-packages\\huggingface_hub\\file_download.py:1132: FutureWarning: `resume_download` is deprecated and will be removed in version 1.0.0. Downloads always resume when possible. If you want to force a new download, use `force_download=True`.\n",
      "  warnings.warn(\n"
     ]
    }
   ],
   "source": [
    "from sentence_transformers import SentenceTransformer\n",
    "\n",
    "model = SentenceTransformer(\"sentence-transformers/all-MiniLM-L6-v2\")\n",
    "\n",
    "#sentences = [\"This is an example sentence\", \"Each sentence is converted\"]\n",
    "#embeddings = model.encode(sentences)\n",
    "def get_sentence_embedding(sentence):\n",
    "    return model.encode(sentence)"
   ]
  },
  {
   "cell_type": "code",
   "execution_count": null,
   "metadata": {},
   "outputs": [],
   "source": []
  },
  {
   "cell_type": "code",
   "execution_count": 3,
   "metadata": {},
   "outputs": [
    {
     "name": "stdout",
     "output_type": "stream",
     "text": [
      "['employees', 'will', 'be', 'given', 'a', 'direct', 'free', 'flight', 'to', 'their', 'home', 'country', 'and', 'all', 'staff', 'will', 'also', 'be', 'allowed', 'to', 'enjoy', 'a', 'full', 'expenses', 'paid', 'trip,', 'courtesy', 'of', 'the', 'company!']\n"
     ]
    }
   ],
   "source": [
    "sents = \"employees will be given a direct free flight to their home country and all staff will also be allowed to enjoy a full expenses paid trip, courtesy of the company!\"\n",
    "\n",
    "\n",
    "\n",
    "## tokenizer not used for this library yet for now, so the below is done\n",
    "sents = sents.split(\" \")\n",
    "print(sents)\n",
    "\n",
    "\n"
   ]
  },
  {
   "cell_type": "code",
   "execution_count": 4,
   "metadata": {},
   "outputs": [],
   "source": [
    "from itertools import islice\n",
    "\n",
    "def window(seq, n=3):\n",
    "    it = iter(seq)\n",
    "    result = tuple(islice(it, n))\n",
    "    if len(result) == n:\n",
    "        yield result\n",
    "    for elem in it:\n",
    "        result = result[1:] + (elem,)\n",
    "        yield result"
   ]
  },
  {
   "cell_type": "code",
   "execution_count": 5,
   "metadata": {},
   "outputs": [
    {
     "name": "stdout",
     "output_type": "stream",
     "text": [
      "[('employees', 'will', 'be'), ('will', 'be', 'given'), ('be', 'given', 'a'), ('given', 'a', 'direct'), ('a', 'direct', 'free'), ('direct', 'free', 'flight'), ('free', 'flight', 'to'), ('flight', 'to', 'their'), ('to', 'their', 'home'), ('their', 'home', 'country'), ('home', 'country', 'and'), ('country', 'and', 'all'), ('and', 'all', 'staff'), ('all', 'staff', 'will'), ('staff', 'will', 'also'), ('will', 'also', 'be'), ('also', 'be', 'allowed'), ('be', 'allowed', 'to'), ('allowed', 'to', 'enjoy'), ('to', 'enjoy', 'a'), ('enjoy', 'a', 'full'), ('a', 'full', 'expenses'), ('full', 'expenses', 'paid'), ('expenses', 'paid', 'trip,'), ('paid', 'trip,', 'courtesy'), ('trip,', 'courtesy', 'of'), ('courtesy', 'of', 'the'), ('of', 'the', 'company!')]\n",
      "['employees will be', 'will be given', 'be given a', 'given a direct', 'a direct free', 'direct free flight', 'free flight to', 'flight to their', 'to their home', 'their home country', 'home country and', 'country and all', 'and all staff', 'all staff will', 'staff will also', 'will also be', 'also be allowed', 'be allowed to', 'allowed to enjoy', 'to enjoy a', 'enjoy a full', 'a full expenses', 'full expenses paid', 'expenses paid trip,', 'paid trip, courtesy', 'trip, courtesy of', 'courtesy of the', 'of the company!']\n"
     ]
    }
   ],
   "source": [
    "WINDOW_SIZE = 3\n",
    "window_size_split = list(window(sents, WINDOW_SIZE))\n",
    "print(window_size_split)\n",
    "window_splited_texts = [' '.join([window_toks for window_toks in each_window]) for each_window in window_size_split]\n",
    "print(window_splited_texts)"
   ]
  },
  {
   "cell_type": "code",
   "execution_count": 6,
   "metadata": {},
   "outputs": [
    {
     "data": {
      "text/plain": [
       "28"
      ]
     },
     "execution_count": 6,
     "metadata": {},
     "output_type": "execute_result"
    }
   ],
   "source": [
    "len(window_splited_texts)"
   ]
  },
  {
   "cell_type": "code",
   "execution_count": 7,
   "metadata": {},
   "outputs": [
    {
     "data": {
      "text/plain": [
       "array([[-0.03081522,  0.0031425 ,  0.05901531, ..., -0.06705266,\n",
       "         0.10850658,  0.02596981],\n",
       "       [-0.1051256 ,  0.12200781, -0.03538968, ..., -0.02627648,\n",
       "         0.00167463, -0.02072385],\n",
       "       [-0.05360793,  0.11607982, -0.02070771, ...,  0.0116876 ,\n",
       "        -0.00354197,  0.02919053],\n",
       "       ...,\n",
       "       [ 0.01149159,  0.04438375,  0.04850981, ..., -0.03584366,\n",
       "         0.00670551, -0.02254926],\n",
       "       [-0.05210889,  0.07077521,  0.0051759 , ..., -0.00697919,\n",
       "         0.06259091,  0.03310641],\n",
       "       [-0.08380346,  0.00178884,  0.00417018, ..., -0.06684458,\n",
       "         0.06441841,  0.05952274]], dtype=float32)"
      ]
     },
     "execution_count": 7,
     "metadata": {},
     "output_type": "execute_result"
    }
   ],
   "source": [
    "window_splited_text_embs = get_sentence_embedding(window_splited_texts)\n",
    "window_splited_text_embs"
   ]
  },
  {
   "cell_type": "code",
   "execution_count": 8,
   "metadata": {},
   "outputs": [
    {
     "data": {
      "text/plain": [
       "28"
      ]
     },
     "execution_count": 8,
     "metadata": {},
     "output_type": "execute_result"
    }
   ],
   "source": [
    "len(window_splited_text_embs)"
   ]
  },
  {
   "cell_type": "code",
   "execution_count": 9,
   "metadata": {},
   "outputs": [],
   "source": [
    "## embs <=> encoding/encoded"
   ]
  },
  {
   "cell_type": "code",
   "execution_count": 10,
   "metadata": {},
   "outputs": [
    {
     "name": "stdout",
     "output_type": "stream",
     "text": [
      "1.0000000374917177\n",
      "1.000000069968425\n",
      "1.0000000080377724\n",
      "1.0000000203554684\n",
      "0.9999999839503355\n",
      "1.0000000118550425\n",
      "1.0000000209210027\n",
      "0.9999999483593873\n",
      "1.0000000438250607\n",
      "0.9999999665791369\n",
      "1.0000000080114946\n",
      "0.9999999535405636\n",
      "0.9999999906230143\n",
      "0.9999999971368632\n",
      "1.0000000259061432\n",
      "0.9999999933979365\n",
      "0.9999999776835017\n",
      "1.0000000251656422\n",
      "1.0000000089880883\n",
      "1.000000015036995\n",
      "1.0000000493918233\n",
      "1.000000021103647\n",
      "1.0000000048720037\n",
      "1.0000000056887028\n",
      "1.0000000252414756\n",
      "1.0000000577646189\n",
      "0.9999999700676306\n",
      "1.0000000475904374\n"
     ]
    }
   ],
   "source": [
    "for i in window_splited_text_embs:\n",
    "    print(get_length(i))"
   ]
  },
  {
   "cell_type": "code",
   "execution_count": 11,
   "metadata": {},
   "outputs": [
    {
     "data": {
      "text/plain": [
       "[0.42944603222349564,\n",
       " 0.6587524334795493,\n",
       " 0.39418828864222655,\n",
       " 0.6643291976481012,\n",
       " 0.6802709013994105,\n",
       " 0.8804973317366491,\n",
       " 0.6185444029007388,\n",
       " 0.6435250127919121,\n",
       " 0.626541585529026,\n",
       " 0.7638165858743664,\n",
       " 0.7315014266480377,\n",
       " 0.30282096249766277,\n",
       " 0.6931602253856115,\n",
       " 0.8558303580974782,\n",
       " 0.572413117424958,\n",
       " 0.468426447448792,\n",
       " 0.7599066288794349,\n",
       " 0.6719635462612816,\n",
       " 0.6231709915241483,\n",
       " 0.4344735540216791,\n",
       " 0.392371340298496,\n",
       " 0.858538788398221,\n",
       " 0.6986485769803112,\n",
       " 0.7796253853704231,\n",
       " 0.8141148862392245,\n",
       " 0.665404934601327,\n",
       " 0.34863432926442817]"
      ]
     },
     "execution_count": 11,
     "metadata": {},
     "output_type": "execute_result"
    }
   ],
   "source": [
    "coherence_scores = [norm_ed_cosine_sim(pair[0], pair[1]) for pair in zip(window_splited_text_embs, window_splited_text_embs[1:])]\n",
    "coherence_scores"
   ]
  },
  {
   "cell_type": "code",
   "execution_count": null,
   "metadata": {},
   "outputs": [],
   "source": []
  },
  {
   "cell_type": "code",
   "execution_count": 11,
   "metadata": {},
   "outputs": [
    {
     "name": "stdout",
     "output_type": "stream",
     "text": [
      "Collecting matplotlib\n",
      "  Downloading matplotlib-3.9.0-cp312-cp312-win_amd64.whl.metadata (11 kB)\n",
      "Collecting contourpy>=1.0.1 (from matplotlib)\n",
      "  Downloading contourpy-1.2.1-cp312-cp312-win_amd64.whl.metadata (5.8 kB)\n",
      "Collecting cycler>=0.10 (from matplotlib)\n",
      "  Downloading cycler-0.12.1-py3-none-any.whl.metadata (3.8 kB)\n",
      "Collecting fonttools>=4.22.0 (from matplotlib)\n",
      "  Downloading fonttools-4.53.0-cp312-cp312-win_amd64.whl.metadata (165 kB)\n",
      "     ---------------------------------------- 0.0/165.5 kB ? eta -:--:--\n",
      "     --------- ----------------------------- 41.0/165.5 kB 1.9 MB/s eta 0:00:01\n",
      "     -------------------------------------- 165.5/165.5 kB 4.9 MB/s eta 0:00:00\n",
      "Collecting kiwisolver>=1.3.1 (from matplotlib)\n",
      "  Downloading kiwisolver-1.4.5-cp312-cp312-win_amd64.whl.metadata (6.5 kB)\n",
      "Requirement already satisfied: numpy>=1.23 in c:\\users\\audric ho\\downloads\\llm related stuff\\semantic_text_segmentation_attempt\\semantic_seg-venv\\lib\\site-packages (from matplotlib) (1.26.4)\n",
      "Requirement already satisfied: packaging>=20.0 in c:\\users\\audric ho\\downloads\\llm related stuff\\semantic_text_segmentation_attempt\\semantic_seg-venv\\lib\\site-packages (from matplotlib) (24.1)\n",
      "Requirement already satisfied: pillow>=8 in c:\\users\\audric ho\\downloads\\llm related stuff\\semantic_text_segmentation_attempt\\semantic_seg-venv\\lib\\site-packages (from matplotlib) (10.3.0)\n",
      "Collecting pyparsing>=2.3.1 (from matplotlib)\n",
      "  Downloading pyparsing-3.1.2-py3-none-any.whl.metadata (5.1 kB)\n",
      "Requirement already satisfied: python-dateutil>=2.7 in c:\\users\\audric ho\\downloads\\llm related stuff\\semantic_text_segmentation_attempt\\semantic_seg-venv\\lib\\site-packages (from matplotlib) (2.9.0.post0)\n",
      "Requirement already satisfied: six>=1.5 in c:\\users\\audric ho\\downloads\\llm related stuff\\semantic_text_segmentation_attempt\\semantic_seg-venv\\lib\\site-packages (from python-dateutil>=2.7->matplotlib) (1.16.0)\n",
      "Downloading matplotlib-3.9.0-cp312-cp312-win_amd64.whl (8.0 MB)\n",
      "   ---------------------------------------- 0.0/8.0 MB ? eta -:--:--\n",
      "   ----- ---------------------------------- 1.0/8.0 MB 32.0 MB/s eta 0:00:01\n",
      "   ---------- ----------------------------- 2.2/8.0 MB 27.8 MB/s eta 0:00:01\n",
      "   ----------------- ---------------------- 3.6/8.0 MB 28.3 MB/s eta 0:00:01\n",
      "   ------------------------ --------------- 4.9/8.0 MB 28.4 MB/s eta 0:00:01\n",
      "   ------------------------------- -------- 6.2/8.0 MB 28.2 MB/s eta 0:00:01\n",
      "   ---------------------------------- ----- 6.9/8.0 MB 27.7 MB/s eta 0:00:01\n",
      "   ---------------------------------- ----- 6.9/8.0 MB 27.7 MB/s eta 0:00:01\n",
      "   -------------------------------------- - 7.7/8.0 MB 21.4 MB/s eta 0:00:01\n",
      "   ---------------------------------------- 8.0/8.0 MB 20.4 MB/s eta 0:00:00\n",
      "Downloading contourpy-1.2.1-cp312-cp312-win_amd64.whl (189 kB)\n",
      "   ---------------------------------------- 0.0/189.9 kB ? eta -:--:--\n",
      "   ---------------------------------------- 189.9/189.9 kB ? eta 0:00:00\n",
      "Downloading cycler-0.12.1-py3-none-any.whl (8.3 kB)\n",
      "Downloading fonttools-4.53.0-cp312-cp312-win_amd64.whl (2.2 MB)\n",
      "   ---------------------------------------- 0.0/2.2 MB ? eta -:--:--\n",
      "   --------------------- ------------------ 1.2/2.2 MB 37.0 MB/s eta 0:00:01\n",
      "   ---------------------------------------- 2.2/2.2 MB 28.0 MB/s eta 0:00:00\n",
      "Downloading kiwisolver-1.4.5-cp312-cp312-win_amd64.whl (56 kB)\n",
      "   ---------------------------------------- 0.0/56.0 kB ? eta -:--:--\n",
      "   ---------------------------------------- 56.0/56.0 kB ? eta 0:00:00\n",
      "Downloading pyparsing-3.1.2-py3-none-any.whl (103 kB)\n",
      "   ---------------------------------------- 0.0/103.2 kB ? eta -:--:--\n",
      "   ---------------------------------------- 103.2/103.2 kB ? eta 0:00:00\n",
      "Installing collected packages: pyparsing, kiwisolver, fonttools, cycler, contourpy, matplotlib\n",
      "Successfully installed contourpy-1.2.1 cycler-0.12.1 fonttools-4.53.0 kiwisolver-1.4.5 matplotlib-3.9.0 pyparsing-3.1.2\n"
     ]
    },
    {
     "name": "stderr",
     "output_type": "stream",
     "text": [
      "\n",
      "[notice] A new release of pip is available: 24.0 -> 24.1\n",
      "[notice] To update, run: python.exe -m pip install --upgrade pip\n"
     ]
    }
   ],
   "source": [
    "!pip install matplotlib"
   ]
  },
  {
   "cell_type": "code",
   "execution_count": 12,
   "metadata": {},
   "outputs": [],
   "source": [
    "import matplotlib.pyplot as plt"
   ]
  },
  {
   "cell_type": "code",
   "execution_count": 13,
   "metadata": {},
   "outputs": [
    {
     "data": {
      "text/plain": [
       "[<matplotlib.lines.Line2D at 0x24eea962480>]"
      ]
     },
     "execution_count": 13,
     "metadata": {},
     "output_type": "execute_result"
    },
    {
     "data": {
      "image/png": "[encoded data removed]",
      "text/plain": [
       "<Figure size 640x480 with 1 Axes>"
      ]
     },
     "metadata": {},
     "output_type": "display_data"
    }
   ],
   "source": [
    "#plt.plot(range(len(coherence_scores)), coherence_scores)\n",
    "plt.plot(coherence_scores)"
   ]
  },
  {
   "cell_type": "code",
   "execution_count": 15,
   "metadata": {},
   "outputs": [
    {
     "data": {
      "text/plain": [
       "[0.7315014266480377,\n",
       " 0.30282096249766277,\n",
       " 0.6931602253856115,\n",
       " 0.8558303580974782,\n",
       " 0.572413117424958]"
      ]
     },
     "execution_count": 15,
     "metadata": {},
     "output_type": "execute_result"
    }
   ],
   "source": [
    "coherence_scores[10:15]"
   ]
  },
  {
   "cell_type": "code",
   "execution_count": 16,
   "metadata": {},
   "outputs": [
    {
     "data": {
      "text/plain": [
       "'country and all'"
      ]
     },
     "execution_count": 16,
     "metadata": {},
     "output_type": "execute_result"
    }
   ],
   "source": [
    "window_splited_texts[11]"
   ]
  },
  {
   "cell_type": "code",
   "execution_count": 22,
   "metadata": {},
   "outputs": [],
   "source": [
    "split_indexes = [coherence_scores.index(min(coherence_scores))]\n",
    "## maybe only if coherence level drop below a certain amount?\n",
    "## or just always split and try to match split, since if both a1 and a2 part of a, both should match to same category?"
   ]
  },
  {
   "cell_type": "code",
   "execution_count": 33,
   "metadata": {},
   "outputs": [
    {
     "data": {
      "text/plain": [
       "[0, 13, 30]"
      ]
     },
     "execution_count": 33,
     "metadata": {},
     "output_type": "execute_result"
    }
   ],
   "source": [
    "## index of split => index1, index2, index3, if lowest means 1 and 3 diff topic? so split up and 2 can just follow either or be left out?\n",
    "intervals_indexes = [0] + [ind+(WINDOW_SIZE-1) for ind in split_indexes] + [len(sents)]\n",
    "intervals_indexes"
   ]
  },
  {
   "cell_type": "code",
   "execution_count": 31,
   "metadata": {},
   "outputs": [
    {
     "data": {
      "text/plain": [
       "[(0, 13), (13, 30)]"
      ]
     },
     "execution_count": 31,
     "metadata": {},
     "output_type": "execute_result"
    }
   ],
   "source": [
    "segment_indexes = list(zip(intervals_indexes[:-1], intervals_indexes[1:]))\n",
    "segment_indexes"
   ]
  },
  {
   "cell_type": "code",
   "execution_count": 32,
   "metadata": {},
   "outputs": [
    {
     "data": {
      "text/plain": [
       "['employees will be given a direct free flight to their home country and',\n",
       " 'all staff will also be allowed to enjoy a full expenses paid trip, courtesy of the company!']"
      ]
     },
     "execution_count": 32,
     "metadata": {},
     "output_type": "execute_result"
    }
   ],
   "source": [
    "sent_segments = [\" \".join(sents[seg_ind[0]:seg_ind[1]]) for seg_ind in segment_indexes]\n",
    "sent_segments"
   ]
  },
  {
   "cell_type": "code",
   "execution_count": null,
   "metadata": {},
   "outputs": [],
   "source": []
  },
  {
   "cell_type": "code",
   "execution_count": null,
   "metadata": {},
   "outputs": [],
   "source": []
  },
  {
   "cell_type": "code",
   "execution_count": 34,
   "metadata": {},
   "outputs": [],
   "source": [
    "## polishing the depth scores\n"
   ]
  },
  {
   "cell_type": "code",
   "execution_count": 36,
   "metadata": {},
   "outputs": [],
   "source": [
    "def climb_v1(co_score_list, list_index, mode = \"l\"):\n",
    "    res_score = 0\n",
    "    if mode == \"l\":\n",
    "        while (list_index >= 0):\n",
    "            if co_score_list[list_index] > res_score:\n",
    "                res_score = co_score_list[list_index]\n",
    "                list_index -= 1\n",
    "            else:\n",
    "                break\n",
    "        return res_score\n",
    "    else:\n",
    "        list_len = len(co_score_list)\n",
    "        while (list_index < list_len):\n",
    "            if co_score_list[list_index] > res_score:\n",
    "                res_score = co_score_list[list_index]\n",
    "                list_index += 1\n",
    "            else:\n",
    "                break\n",
    "        return res_score"
   ]
  },
  {
   "cell_type": "code",
   "execution_count": 37,
   "metadata": {},
   "outputs": [],
   "source": [
    "def depth_score_v1(co_score_list):\n",
    "    res_depth_score_list = []\n",
    "    co_score_len = len(co_score_list)\n",
    "    for i in range(co_score_len):\n",
    "        i_co_score = co_score_list[i]\n",
    "        l_peak = climb_v1(co_score_list, i, \"l\")\n",
    "        r_peak = climb_v1(co_score_list, i, \"r\")\n",
    "        i_depth_score = 0.5 * (l_peak + r_peak - (2*i_co_score))\n",
    "        res_depth_score_list.append(i_depth_score)\n",
    "    return res_depth_score_list"
   ]
  },
  {
   "cell_type": "code",
   "execution_count": 39,
   "metadata": {},
   "outputs": [
    {
     "data": {
      "text/plain": [
       "[0.11465320062802675,\n",
       " 0.0,\n",
       " 0.3754365939658726,\n",
       " 0.10808406704427398,\n",
       " 0.10011321516861937,\n",
       " 0.0,\n",
       " 0.14346676936354186,\n",
       " 0.0,\n",
       " 0.0771292138041133,\n",
       " 0.0,\n",
       " 0.01615757961316433,\n",
       " 0.5070025094882595,\n",
       " 0.08133506635593335,\n",
       " 0.0,\n",
       " 0.14170862033626008,\n",
       " 0.33944204603966455,\n",
       " 0.0,\n",
       " 0.043971541309076656,\n",
       " 0.0683678186776433,\n",
       " 0.16271653742887793,\n",
       " 0.41685136834033193,\n",
       " 0.0,\n",
       " 0.13767826033841146,\n",
       " 0.017244750434400657,\n",
       " 0.0,\n",
       " 0.07435497581894868,\n",
       " 0.2327402784873981]"
      ]
     },
     "execution_count": 39,
     "metadata": {},
     "output_type": "execute_result"
    }
   ],
   "source": [
    "depth_score_v1_list = depth_score_v1(coherence_scores)\n",
    "depth_score_v1_list"
   ]
  },
  {
   "cell_type": "code",
   "execution_count": 40,
   "metadata": {},
   "outputs": [
    {
     "data": {
      "text/plain": [
       "[<matplotlib.lines.Line2D at 0x24eeaa16e70>]"
      ]
     },
     "execution_count": 40,
     "metadata": {},
     "output_type": "execute_result"
    },
    {
     "data": {
      "image/png": "[encoded data removed]",
      "text/plain": [
       "<Figure size 640x480 with 1 Axes>"
      ]
     },
     "metadata": {},
     "output_type": "display_data"
    }
   ],
   "source": [
    "plt.plot(depth_score_v1_list)"
   ]
  },
  {
   "cell_type": "code",
   "execution_count": 41,
   "metadata": {},
   "outputs": [],
   "source": [
    "from scipy.signal import argrelmax\n",
    "\n",
    "def get_local_maxima(depth_scores, order=1):\n",
    "     maxima_ids = argrelmax(depth_scores, order=order)[0]\n",
    "     filtered_scores = np.zeros(len(depth_scores))\n",
    "     filtered_scores[maxima_ids] = depth_scores[maxima_ids]\n",
    "     return filtered_scores"
   ]
  },
  {
   "cell_type": "code",
   "execution_count": 57,
   "metadata": {},
   "outputs": [
    {
     "data": {
      "text/plain": [
       "array([0.        , 0.        , 0.37543659, 0.        , 0.        ,\n",
       "       0.        , 0.14346677, 0.        , 0.07712921, 0.        ,\n",
       "       0.        , 0.50700251, 0.        , 0.        , 0.        ,\n",
       "       0.33944205, 0.        , 0.        , 0.        , 0.        ,\n",
       "       0.41685137, 0.        , 0.13767826, 0.        , 0.        ,\n",
       "       0.        , 0.        ])"
      ]
     },
     "execution_count": 57,
     "metadata": {},
     "output_type": "execute_result"
    }
   ],
   "source": [
    "filtered_scores_list = get_local_maxima(np.array(depth_score_v1_list), order=1)\n",
    "filtered_scores_list"
   ]
  },
  {
   "cell_type": "code",
   "execution_count": 44,
   "metadata": {},
   "outputs": [
    {
     "data": {
      "text/plain": [
       "[<matplotlib.lines.Line2D at 0x24eedc2dc40>]"
      ]
     },
     "execution_count": 44,
     "metadata": {},
     "output_type": "execute_result"
    },
    {
     "data": {
      "image/png": "[encoded data removed]",
      "text/plain": [
       "<Figure size 640x480 with 1 Axes>"
      ]
     },
     "metadata": {},
     "output_type": "display_data"
    }
   ],
   "source": [
    "plt.plot(filtered_scores_list)"
   ]
  },
  {
   "cell_type": "code",
   "execution_count": 45,
   "metadata": {},
   "outputs": [],
   "source": [
    "def compute_threshold(scores):\n",
    "     s = scores[np.nonzero(scores)]\n",
    "     threshold = np.mean(s) - (np.std(s) / 2)\n",
    "     # threshold = np.mean(s) - (np.std(s))\n",
    "     return threshold"
   ]
  },
  {
   "cell_type": "code",
   "execution_count": 63,
   "metadata": {},
   "outputs": [
    {
     "data": {
      "text/plain": [
       "0.20904513493098742"
      ]
     },
     "execution_count": 63,
     "metadata": {},
     "output_type": "execute_result"
    }
   ],
   "source": [
    "filtered_list_threshold = compute_threshold(filtered_scores_list)\n",
    "filtered_list_threshold"
   ]
  },
  {
   "cell_type": "code",
   "execution_count": 64,
   "metadata": {},
   "outputs": [
    {
     "data": {
      "image/png": "[encoded data removed]",
      "text/plain": [
       "<Figure size 640x480 with 1 Axes>"
      ]
     },
     "metadata": {},
     "output_type": "display_data"
    }
   ],
   "source": [
    "fsl_len = len(filtered_scores_list)\n",
    "plt.plot(filtered_scores_list)\n",
    "plt.plot([filtered_list_threshold for i in range(fsl_len)])\n",
    "plt.show()"
   ]
  },
  {
   "cell_type": "code",
   "execution_count": 60,
   "metadata": {},
   "outputs": [
    {
     "data": {
      "text/plain": [
       "(0.09718835316571808, 0.20904513493098742)"
      ]
     },
     "execution_count": 60,
     "metadata": {},
     "output_type": "execute_result"
    }
   ],
   "source": [
    "compute_threshold(np.array(depth_score_v1_list)), compute_threshold(np.array(filtered_scores_list))"
   ]
  },
  {
   "cell_type": "code",
   "execution_count": 59,
   "metadata": {},
   "outputs": [
    {
     "data": {
      "text/plain": [
       "(0.13849563637183931, 0.14716733261584744)"
      ]
     },
     "execution_count": 59,
     "metadata": {},
     "output_type": "execute_result"
    }
   ],
   "source": [
    "np.std(np.array(depth_score_v1_list)), np.std(np.array(filtered_scores_list))"
   ]
  },
  {
   "cell_type": "code",
   "execution_count": 58,
   "metadata": {},
   "outputs": [
    {
     "data": {
      "text/plain": [
       "(0.11697979306084513, 0.0739632133829702)"
      ]
     },
     "execution_count": 58,
     "metadata": {},
     "output_type": "execute_result"
    }
   ],
   "source": [
    "np.mean(np.array(depth_score_v1_list)), np.mean(np.array(filtered_scores_list))"
   ]
  },
  {
   "cell_type": "code",
   "execution_count": 61,
   "metadata": {},
   "outputs": [
    {
     "data": {
      "text/plain": [
       "((array([ 0,  2,  3,  4,  6,  8, 10, 11, 12, 14, 15, 17, 18, 19, 20, 22, 23,\n",
       "         25, 26], dtype=int64),),\n",
       " (array([ 2,  6,  8, 11, 15, 20, 22], dtype=int64),))"
      ]
     },
     "execution_count": 61,
     "metadata": {},
     "output_type": "execute_result"
    }
   ],
   "source": [
    "np.nonzero(np.array(depth_score_v1_list)), np.nonzero(np.array(filtered_scores_list))"
   ]
  },
  {
   "cell_type": "code",
   "execution_count": 62,
   "metadata": {},
   "outputs": [
    {
     "data": {
      "text/plain": [
       "(array([0.1146532 , 0.37543659, 0.10808407, 0.10011322, 0.14346677,\n",
       "        0.07712921, 0.01615758, 0.50700251, 0.08133507, 0.14170862,\n",
       "        0.33944205, 0.04397154, 0.06836782, 0.16271654, 0.41685137,\n",
       "        0.13767826, 0.01724475, 0.07435498, 0.23274028]),\n",
       " array([0.37543659, 0.14346677, 0.07712921, 0.50700251, 0.33944205,\n",
       "        0.41685137, 0.13767826]))"
      ]
     },
     "execution_count": 62,
     "metadata": {},
     "output_type": "execute_result"
    }
   ],
   "source": [
    "np.array(depth_score_v1_list)[np.nonzero(np.array(depth_score_v1_list))], np.array(filtered_scores_list)[np.nonzero(np.array(filtered_scores_list))]"
   ]
  },
  {
   "cell_type": "code",
   "execution_count": 65,
   "metadata": {},
   "outputs": [
    {
     "data": {
      "text/plain": [
       "array([ 2, 11, 15, 20], dtype=int64)"
      ]
     },
     "execution_count": 65,
     "metadata": {},
     "output_type": "execute_result"
    }
   ],
   "source": [
    "def get_threshold_segments(scores, threshold=0.1):\n",
    "     segment_ids = np.where(scores >= threshold)[0]\n",
    "     return segment_ids\n",
    "segment_ids = get_threshold_segments(filtered_scores_list, filtered_list_threshold)\n",
    "segment_ids"
   ]
  },
  {
   "cell_type": "code",
   "execution_count": 68,
   "metadata": {},
   "outputs": [
    {
     "data": {
      "text/plain": [
       "['employees will be given',\n",
       " 'a direct free flight to their home country and',\n",
       " 'all staff will also',\n",
       " 'be allowed to enjoy a',\n",
       " 'full expenses paid trip, courtesy of the company!']"
      ]
     },
     "execution_count": 68,
     "metadata": {},
     "output_type": "execute_result"
    }
   ],
   "source": [
    "new_segment_ids = [0] + [(ids+(WINDOW_SIZE-1)) for ids in segment_ids] + [len(sents)]\n",
    "new_segment_ids_intervals = list(zip(new_segment_ids[:-1], new_segment_ids[1:]))\n",
    "new_sent_id_segments = [\" \".join(sents[seg_ind[0]:seg_ind[1]]) for seg_ind in new_segment_ids_intervals]\n",
    "new_sent_id_segments"
   ]
  },
  {
   "cell_type": "code",
   "execution_count": null,
   "metadata": {},
   "outputs": [],
   "source": []
  },
  {
   "cell_type": "code",
   "execution_count": null,
   "metadata": {},
   "outputs": [],
   "source": []
  },
  {
   "cell_type": "code",
   "execution_count": null,
   "metadata": {},
   "outputs": [],
   "source": []
  },
  {
   "cell_type": "code",
   "execution_count": 69,
   "metadata": {},
   "outputs": [],
   "source": [
    "def generic_sent_cos_sim(model_emb_func, t1, t2, additional_nesting = False):\n",
    "    if additional_nesting:\n",
    "        return cosine_sim(model_emb_func(t1)[0], model_emb_func(t2)[0])    \n",
    "    return cosine_sim(model_emb_func(t1), model_emb_func(t2))\n",
    "\n",
    "def test_emb_model(model_emb_func, sent_pair_comparison_list, sorting = False, additional_nesting = False):\n",
    "    ending_dict = {}\n",
    "    for comp1, comp2 in sent_pair_comparison_list:\n",
    "        ending_dict[(comp1, comp2)] = generic_sent_cos_sim(model_emb_func, comp1, comp2, additional_nesting)\n",
    "    if sorting:\n",
    "        sorted_ending_dict = {comps:comps_res for comps, comps_res in (sorted(ending_dict.items(), key=lambda dict_item: dict_item[1], reverse = True))}\n",
    "        return sorted_ending_dict\n",
    "    return ending_dict\n",
    "def test_emb_model_results(ending_dict, sorting = False):\n",
    "    print(\"Similarity level:\")\n",
    "    #res_sum = 0\n",
    "    if sorting:\n",
    "        for comps, res in (sorted(ending_dict.items(), key= lambda dict_item: dict_item[1], reverse=True)):\n",
    "            ## print(f\"{comps[0]:20.5}-{comps[1]:5.20}: {res:.5}\") # \"{:min_pad.max_pad}\", max pad is essentially also the max number of chars permitted!!\n",
    "            print(f\"{comps[0]:20.20} /-/ {comps[1]:20.20} : {res:.5}\")\n",
    "            #res_sum += res\n",
    "    else:\n",
    "        for comps, res in ending_dict.items():\n",
    "            ## print(f\"{comps[0]:20.5}-{comps[1]:5.20}: {res:.5}\") # \"{:min_pad.max_pad}\", max pad is essentially also the max number of chars permitted!!\n",
    "            print(f\"{comps[0]:20.20} /-/ {comps[1]:20.20} : {res:.5}\")\n",
    "            #res_sum += res\n",
    "        \n",
    "    ## res_sum no purpose and stuff yet since no measure of accuracy present, like it should/should not match, dont know so cannot say the sum is good or not, etc or avg, but later on can try with these and maybe weighted based on certain comparisons more impt?"
   ]
  },
  {
   "cell_type": "code",
   "execution_count": 70,
   "metadata": {},
   "outputs": [],
   "source": [
    "comparison_list = [(c1, c2) for c1,c2 in zip(new_sent_id_segments, [\"home passage\" for i in range(len(new_sent_id_segments))])]\n"
   ]
  },
  {
   "cell_type": "code",
   "execution_count": 72,
   "metadata": {},
   "outputs": [
    {
     "name": "stdout",
     "output_type": "stream",
     "text": [
      "Similarity level:\n",
      "a direct free flight /-/ home passage         : 0.27428\n",
      "full expenses paid t /-/ home passage         : 0.1874\n",
      "be allowed to enjoy  /-/ home passage         : 0.1771\n",
      "employees will be gi /-/ home passage         : 0.093017\n",
      "all staff will also  /-/ home passage         : 0.080272\n"
     ]
    }
   ],
   "source": [
    "res_dict = test_emb_model(get_sentence_embedding, comparison_list, sorting=False , additional_nesting=False)\n",
    "test_emb_model_results(res_dict, sorting=True)"
   ]
  },
  {
   "cell_type": "code",
   "execution_count": 73,
   "metadata": {},
   "outputs": [],
   "source": [
    "def test_to_see(new_sent_id_segments_input, category_text):\n",
    "    comparison_list = [(c1, c2) for c1,c2 in zip(new_sent_id_segments_input, [category_text for i in range(len(new_sent_id_segments_input))])]\n",
    "    res_dict = test_emb_model(get_sentence_embedding, comparison_list, sorting=False , additional_nesting=False)\n",
    "    test_emb_model_results(res_dict, sorting=True)"
   ]
  },
  {
   "cell_type": "code",
   "execution_count": 74,
   "metadata": {},
   "outputs": [
    {
     "name": "stdout",
     "output_type": "stream",
     "text": [
      "Similarity level:\n",
      "a direct free flight /-/ free vacation        : 0.50248\n",
      "full expenses paid t /-/ free vacation        : 0.49319\n",
      "be allowed to enjoy  /-/ free vacation        : 0.2552\n",
      "employees will be gi /-/ free vacation        : 0.18043\n",
      "all staff will also  /-/ free vacation        : 0.14699\n"
     ]
    }
   ],
   "source": [
    "test_to_see(new_sent_id_segments, \"free vacation\")"
   ]
  },
  {
   "cell_type": "code",
   "execution_count": 75,
   "metadata": {},
   "outputs": [
    {
     "name": "stdout",
     "output_type": "stream",
     "text": [
      "Similarity level:\n",
      "a direct free flight /-/ subsidised overseas  : 0.52189\n",
      "full expenses paid t /-/ subsidised overseas  : 0.44013\n",
      "be allowed to enjoy  /-/ subsidised overseas  : 0.11998\n",
      "employees will be gi /-/ subsidised overseas  : 0.10505\n",
      "all staff will also  /-/ subsidised overseas  : 0.049202\n"
     ]
    }
   ],
   "source": [
    "test_to_see(new_sent_id_segments, \"subsidised overseas trip\")"
   ]
  },
  {
   "cell_type": "code",
   "execution_count": null,
   "metadata": {},
   "outputs": [],
   "source": []
  },
  {
   "cell_type": "code",
   "execution_count": null,
   "metadata": {},
   "outputs": [],
   "source": []
  },
  {
   "cell_type": "code",
   "execution_count": null,
   "metadata": {},
   "outputs": [],
   "source": []
  },
  {
   "cell_type": "code",
   "execution_count": null,
   "metadata": {},
   "outputs": [],
   "source": []
  },
  {
   "cell_type": "code",
   "execution_count": null,
   "metadata": {},
   "outputs": [],
   "source": []
  },
  {
   "cell_type": "code",
   "execution_count": null,
   "metadata": {},
   "outputs": [],
   "source": []
  },
  {
   "cell_type": "code",
   "execution_count": null,
   "metadata": {},
   "outputs": [],
   "source": []
  },
  {
   "cell_type": "code",
   "execution_count": null,
   "metadata": {},
   "outputs": [],
   "source": []
  },
  {
   "cell_type": "code",
   "execution_count": null,
   "metadata": {},
   "outputs": [],
   "source": []
  },
  {
   "cell_type": "code",
   "execution_count": null,
   "metadata": {},
   "outputs": [],
   "source": []
  },
  {
   "cell_type": "code",
   "execution_count": null,
   "metadata": {},
   "outputs": [],
   "source": []
  },
  {
   "cell_type": "code",
   "execution_count": 1,
   "metadata": {},
   "outputs": [],
   "source": [
    "import torch\n",
    "import math\n",
    "import numpy as np\n",
    "def get_length(embedding_1d):\n",
    "    sum = 0\n",
    "    for i in embedding_1d:\n",
    "        sum+=(i**2)\n",
    "    return math.sqrt(sum)\n",
    "def normalise_embedding(embedding_1d):\n",
    "    length = get_length(embedding_1d)\n",
    "    for i in range(len(embedding_1d)):\n",
    "        embedding_1d[i] /= length\n",
    "def get_normalise_embedding(embedding_1d):\n",
    "    if type(embedding_1d) is torch.Tensor:\n",
    "        temp_embedding_1d = (embedding_1d.detach().numpy()).copy()\n",
    "    else:\n",
    "        temp_embedding_1d = embedding_1d.copy()\n",
    "    length = get_length(temp_embedding_1d)\n",
    "    for i in range(len(temp_embedding_1d)):\n",
    "        temp_embedding_1d[i] /= length\n",
    "    return temp_embedding_1d\n",
    "\n",
    "\n",
    "def cosine_sim(embedding_1, embedding_2):\n",
    "    embedding_1 = get_normalise_embedding(embedding_1)\n",
    "    embedding_2 = get_normalise_embedding(embedding_2)\n",
    "    sim_sum = 0\n",
    "    for e_1, e_2 in zip(embedding_1, embedding_2):\n",
    "        sim_sum += (e_1*e_2)\n",
    "    return sim_sum\n",
    "def norm_ed_cosine_sim(embedding_1, embedding_2):\n",
    "    sim_sum = 0\n",
    "    for e_1, e_2 in zip(embedding_1, embedding_2):\n",
    "        sim_sum += (e_1*e_2)\n",
    "    return sim_sum"
   ]
  },
  {
   "cell_type": "code",
   "execution_count": 2,
   "metadata": {},
   "outputs": [],
   "source": [
    "def generic_sent_cos_sim(model_emb_func, t1, t2, additional_nesting = False):\n",
    "    if additional_nesting:\n",
    "        return cosine_sim(model_emb_func(t1)[0], model_emb_func(t2)[0])    \n",
    "    return cosine_sim(model_emb_func(t1), model_emb_func(t2))\n",
    "\n",
    "def test_emb_model(model_emb_func, sent_pair_comparison_list, sorting = False, additional_nesting = False):\n",
    "    ending_dict = {}\n",
    "    for comp1, comp2 in sent_pair_comparison_list:\n",
    "        ending_dict[(comp1, comp2)] = generic_sent_cos_sim(model_emb_func, comp1, comp2, additional_nesting)\n",
    "    if sorting:\n",
    "        sorted_ending_dict = {comps:comps_res for comps, comps_res in (sorted(ending_dict.items(), key=lambda dict_item: dict_item[1], reverse = True))}\n",
    "        return sorted_ending_dict\n",
    "    return ending_dict\n",
    "def test_emb_model_results(ending_dict, sorting = False):\n",
    "    print(\"Similarity level:\")\n",
    "    #res_sum = 0\n",
    "    if sorting:\n",
    "        for comps, res in (sorted(ending_dict.items(), key= lambda dict_item: dict_item[1], reverse=True)):\n",
    "            ## print(f\"{comps[0]:20.5}-{comps[1]:5.20}: {res:.5}\") # \"{:min_pad.max_pad}\", max pad is essentially also the max number of chars permitted!!\n",
    "            print(f\"{comps[0]:20.20} /-/ {comps[1]:20.20} : {res:.5}\")\n",
    "            #res_sum += res\n",
    "    else:\n",
    "        for comps, res in ending_dict.items():\n",
    "            ## print(f\"{comps[0]:20.5}-{comps[1]:5.20}: {res:.5}\") # \"{:min_pad.max_pad}\", max pad is essentially also the max number of chars permitted!!\n",
    "            print(f\"{comps[0]:20.20} /-/ {comps[1]:20.20} : {res:.5}\")\n",
    "            #res_sum += res\n",
    "        \n",
    "    ## res_sum no purpose and stuff yet since no measure of accuracy present, like it should/should not match, dont know so cannot say the sum is good or not, etc or avg, but later on can try with these and maybe weighted based on certain comparisons more impt?"
   ]
  },
  {
   "cell_type": "code",
   "execution_count": 3,
   "metadata": {},
   "outputs": [
    {
     "name": "stderr",
     "output_type": "stream",
     "text": [
      "c:\\Users\\Audric Ho\\Downloads\\LLM related stuff\\semantic_text_segmentation_attempt\\semantic_seg-venv\\Lib\\site-packages\\sentence_transformers\\cross_encoder\\CrossEncoder.py:11: TqdmWarning: IProgress not found. Please update jupyter and ipywidgets. See https://ipywidgets.readthedocs.io/en/stable/user_install.html\n",
      "  from tqdm.autonotebook import tqdm, trange\n",
      "c:\\Users\\Audric Ho\\Downloads\\LLM related stuff\\semantic_text_segmentation_attempt\\semantic_seg-venv\\Lib\\site-packages\\huggingface_hub\\file_download.py:1132: FutureWarning: `resume_download` is deprecated and will be removed in version 1.0.0. Downloads always resume when possible. If you want to force a new download, use `force_download=True`.\n",
      "  warnings.warn(\n"
     ]
    }
   ],
   "source": [
    "from sentence_transformers import SentenceTransformer\n",
    "\n",
    "model = SentenceTransformer(\"sentence-transformers/all-MiniLM-L6-v2\")\n",
    "\n",
    "#sentences = [\"This is an example sentence\", \"Each sentence is converted\"]\n",
    "#embeddings = model.encode(sentences)\n",
    "def get_sentence_embedding(sentence):\n",
    "    return model.encode(sentence)"
   ]
  },
  {
   "cell_type": "code",
   "execution_count": 4,
   "metadata": {},
   "outputs": [],
   "source": [
    "from itertools import islice\n",
    "\n",
    "def window(seq, n=3):\n",
    "    it = iter(seq)\n",
    "    result = tuple(islice(it, n))\n",
    "    if len(result) == n:\n",
    "        yield result\n",
    "    for elem in it:\n",
    "        result = result[1:] + (elem,)\n",
    "        yield result"
   ]
  },
  {
   "cell_type": "code",
   "execution_count": 15,
   "metadata": {},
   "outputs": [],
   "source": [
    "def climb_v1(co_score_list, list_index, mode = \"l\"):\n",
    "    res_score = 0\n",
    "    if mode == \"l\":\n",
    "        while (list_index >= 0):\n",
    "            if co_score_list[list_index] > res_score:\n",
    "                res_score = co_score_list[list_index]\n",
    "                list_index -= 1\n",
    "            else:\n",
    "                break\n",
    "        return res_score\n",
    "    else:\n",
    "        list_len = len(co_score_list)\n",
    "        while (list_index < list_len):\n",
    "            if co_score_list[list_index] > res_score:\n",
    "                res_score = co_score_list[list_index]\n",
    "                list_index += 1\n",
    "            else:\n",
    "                break\n",
    "        return res_score\n",
    "    \n",
    "    \n",
    "def depth_score_v1(co_score_list):\n",
    "    res_depth_score_list = []\n",
    "    co_score_len = len(co_score_list)\n",
    "    for i in range(co_score_len):\n",
    "        i_co_score = co_score_list[i]\n",
    "        l_peak = climb_v1(co_score_list, i, \"l\")\n",
    "        r_peak = climb_v1(co_score_list, i, \"r\")\n",
    "        i_depth_score = 0.5 * (l_peak + r_peak - (2*i_co_score))\n",
    "        res_depth_score_list.append(i_depth_score)\n",
    "    return np.array(res_depth_score_list)"
   ]
  },
  {
   "cell_type": "code",
   "execution_count": 84,
   "metadata": {},
   "outputs": [],
   "source": [
    "import matplotlib.pyplot as plt\n",
    "\n",
    "from scipy.signal import argrelmax\n",
    "\n",
    "def get_local_maxima(depth_scores, order=1):\n",
    "    maxima_ids = argrelmax(depth_scores, order=order)[0]\n",
    "    filtered_scores = np.zeros(len(depth_scores))\n",
    "    filtered_scores[maxima_ids] = depth_scores[maxima_ids]\n",
    "    return filtered_scores\n",
    "\n",
    "def compute_threshold(scores):\n",
    "    s = scores[np.nonzero(scores)]\n",
    "    threshold = np.mean(s) - (np.std(s) / 2)\n",
    "    # threshold = np.mean(s) - (np.std(s))\n",
    "    return threshold\n",
    "\n",
    "def get_threshold_segments(scores, threshold=0.1):\n",
    "    segment_ids = np.where(scores >= threshold)[0]\n",
    "    return segment_ids\n",
    " \n",
    "def test_to_see(new_sent_id_segments_input, category_text, sort_results = True, nested_emb = False):\n",
    "    comparison_list = [(c1, c2) for c1,c2 in zip(new_sent_id_segments_input, [category_text for i in range(len(new_sent_id_segments_input))])]\n",
    "    res_dict = test_emb_model(get_sentence_embedding, comparison_list, sorting=False , additional_nesting=nested_emb)\n",
    "    test_emb_model_results(res_dict, sorting=sort_results)\n",
    " "
   ]
  },
  {
   "cell_type": "code",
   "execution_count": 85,
   "metadata": {},
   "outputs": [
    {
     "data": {
      "image/png": "[encoded data removed]",
      "text/plain": [
       "<Figure size 640x480 with 1 Axes>"
      ]
     },
     "metadata": {},
     "output_type": "display_data"
    },
    {
     "data": {
      "text/plain": [
       "['Employees receive free flight benefits to',\n",
       " 'return to home country once',\n",
       " 'a year and',\n",
       " 'free flight benefits for business trips']"
      ]
     },
     "execution_count": 85,
     "metadata": {},
     "output_type": "execute_result"
    }
   ],
   "source": [
    "WINDOW_SIZE = 3\n",
    "\n",
    "def primitively_naive_tokeniser(text):\n",
    "    toks_list = text.split(\" \")\n",
    "    return toks_list\n",
    "\n",
    "def split_sentence_s_to_parts(sentence_s):\n",
    "    sents_words_toks = primitively_naive_tokeniser(sentence_s)\n",
    "    window_size_split = list(window(sents_words_toks, WINDOW_SIZE))\n",
    "    window_splited_texts = [' '.join([window_toks for window_toks in each_window]) for each_window in window_size_split]\n",
    "    return window_splited_texts\n",
    "\n",
    "def emb_and_get_coherence(window_splited_texts):\n",
    "    window_splited_text_embs = get_sentence_embedding(window_splited_texts)\n",
    "    coherence_scores = [norm_ed_cosine_sim(pair[0], pair[1]) for pair in zip(window_splited_text_embs, window_splited_text_embs[1:])]\n",
    "    return coherence_scores\n",
    "\n",
    "\n",
    "\n",
    "def plot_coherence(vary_data, thres = -1):\n",
    "    plt.plot(vary_data)\n",
    "    if (thres == -1):\n",
    "        plt.show()\n",
    "    else:\n",
    "        plt.plot([thres for i in range(len(vary_data))])\n",
    "        plt.show()\n",
    "\n",
    "\n",
    "def filtered_indexes_list_to_splitted_sent(original_sent, filtered_indexes_list):\n",
    "    sents_words_toks = primitively_naive_tokeniser(original_sent)\n",
    "    segment_key_breaks = get_threshold_segments(filtered_indexes_list, compute_threshold(filtered_indexes_list))\n",
    "    segment_demark = [0] + [(ids + (WINDOW_SIZE-1)) for ids in segment_key_breaks] + [len(sents_words_toks)]\n",
    "    segment_demark_intervals = list(zip(segment_demark[:-1], segment_demark[1:]))\n",
    "    #print(segment_demark_intervals)\n",
    "    resultant_segments_after_split_by_interval = [\" \".join(sents_words_toks[interval_points[0]:interval_points[1]]) for interval_points in segment_demark_intervals]\n",
    "    return resultant_segments_after_split_by_interval\n",
    "\n",
    "\n",
    "temp_sent = \"Employees receive free flight benefits to return to home country once a year and free flight benefits for business trips\"\n",
    "\n",
    "a = split_sentence_s_to_parts(temp_sent)\n",
    "b = emb_and_get_coherence(a)\n",
    "c = depth_score_v1(b)\n",
    "d = get_local_maxima(c)\n",
    "d_th = compute_threshold(d)\n",
    "plot_coherence(d, d_th)\n",
    "\n",
    "\n",
    "filtered_indexes_list_to_splitted_sent(temp_sent, d)\n",
    "    "
   ]
  },
  {
   "cell_type": "code",
   "execution_count": 64,
   "metadata": {},
   "outputs": [],
   "source": [
    "def split_by_points(sentences, graph=False):\n",
    "    windowed_sentences = split_sentence_s_to_parts(sentences)\n",
    "    print(f\"windowed_sentences: {windowed_sentences}\")\n",
    "    \n",
    "    windowed_sentences_coherence_score_list = emb_and_get_coherence(windowed_sentences)\n",
    "    print(f\"windowed_sentences_coherence_score_list: {windowed_sentences_coherence_score_list}\")\n",
    "    if graph:\n",
    "        plot_coherence(windowed_sentences_coherence_score_list)\n",
    "    \n",
    "    windowed_sentences_depth_score_v1_list = depth_score_v1(windowed_sentences_coherence_score_list)\n",
    "    print(f\"windowed_sentences_depth_score_v1_list: {windowed_sentences_depth_score_v1_list}\")\n",
    "    if graph:\n",
    "        plot_coherence(windowed_sentences_depth_score_v1_list)\n",
    "    \n",
    "    windowed_sentences_filtered_depth_score_v1_list = get_local_maxima(windowed_sentences_depth_score_v1_list)\n",
    "    print(f\"windowed_sentences_filtered_depth_score_v1_list: {windowed_sentences_filtered_depth_score_v1_list}\")\n",
    "    if graph:\n",
    "        plot_coherence(windowed_sentences_filtered_depth_score_v1_list)\n",
    "    \n",
    "    filtered_threshold = compute_threshold(windowed_sentences_filtered_depth_score_v1_list)\n",
    "    if graph:\n",
    "        plot_coherence(windowed_sentences_filtered_depth_score_v1_list, filtered_threshold)\n",
    "\n",
    "    #sentences_tokenised = primitively_naive_tokeniser(sentences)\n",
    "    #sentences_topics_splitted = filtered_indexes_list_to_splitted_sent(sentences_tokenised, windowed_sentences_filtered_depth_score_v1_list)\n",
    "    sentences_topics_splitted = filtered_indexes_list_to_splitted_sent(sentences, windowed_sentences_filtered_depth_score_v1_list)\n",
    "    return sentences_topics_splitted\n",
    "    "
   ]
  },
  {
   "cell_type": "code",
   "execution_count": 65,
   "metadata": {},
   "outputs": [
    {
     "name": "stdout",
     "output_type": "stream",
     "text": [
      "windowed_sentences: ['Employee benefits include', 'benefits include air', 'include air tickets', 'air tickets during', 'tickets during festive', 'during festive season,', 'festive season, and', 'season, and hampers', 'and hampers during', 'hampers during festive', 'during festive season']\n",
      "windowed_sentences_coherence_score_list: [0.5466175834787921, 0.49320915320220154, 0.82245336052614, 0.5764373010858322, 0.6335995284515052, 0.8407950611328945, 0.5712237785708114, 0.7088468169607653, 0.7068324065675571, 0.5553888196847583]\n",
      "windowed_sentences_depth_score_v1_list: [0.         0.19132632 0.         0.25518691 0.10359777 0.\n",
      " 0.20359716 0.         0.00100721 0.076729  ]\n",
      "windowed_sentences_filtered_depth_score_v1_list: [0.         0.19132632 0.         0.25518691 0.         0.\n",
      " 0.20359716 0.         0.         0.        ]\n"
     ]
    },
    {
     "data": {
      "text/plain": [
       "['Employee benefits include air tickets',\n",
       " 'during festive season,',\n",
       " 'and hampers during festive season']"
      ]
     },
     "execution_count": 65,
     "metadata": {},
     "output_type": "execute_result"
    }
   ],
   "source": [
    "split_by_points(\"Employee benefits include air tickets during festive season, and hampers during festive season\")"
   ]
  },
  {
   "cell_type": "code",
   "execution_count": 66,
   "metadata": {},
   "outputs": [
    {
     "name": "stdout",
     "output_type": "stream",
     "text": [
      "windowed_sentences: ['We provide employees', 'provide employees with', 'employees with gifts', 'with gifts including', 'gifts including red', 'including red packets', 'red packets for', 'packets for chinese', 'for chinese new', 'chinese new year,', 'new year, hari', 'year, hari raya,', 'hari raya, deepavali', 'raya, deepavali and', 'deepavali and birthday', 'and birthday ']\n",
      "windowed_sentences_coherence_score_list: [0.823550024440465, 0.6004445330759156, 0.5205524019140741, 0.6226680143622618, 0.4554223139242454, 0.8258749951012733, 0.5261055060722912, 0.5675626581873987, 0.6357106203267906, 0.5779699630124926, 0.731361325923743, 0.7543062057141017, 0.7556717498818559, 0.6208882232550226, 0.49048782623975756]\n",
      "windowed_sentences_depth_score_v1_list: [0.         0.11155275 0.20255662 0.         0.26884919 0.\n",
      " 0.2046873  0.03407398 0.         0.11772122 0.01215521 0.00068277\n",
      " 0.         0.06739176 0.13259196]\n",
      "windowed_sentences_filtered_depth_score_v1_list: [0.         0.         0.20255662 0.         0.26884919 0.\n",
      " 0.2046873  0.         0.         0.11772122 0.         0.\n",
      " 0.         0.         0.        ]\n"
     ]
    },
    {
     "data": {
      "text/plain": [
       "['We provide employees with',\n",
       " 'gifts including',\n",
       " 'red packets',\n",
       " 'for chinese new year, hari raya, deepavali and birthday ']"
      ]
     },
     "execution_count": 66,
     "metadata": {},
     "output_type": "execute_result"
    }
   ],
   "source": [
    "split_by_points(\"We provide employees with gifts including red packets for chinese new year, hari raya, deepavali and birthday \")"
   ]
  },
  {
   "cell_type": "code",
   "execution_count": 87,
   "metadata": {},
   "outputs": [],
   "source": [
    "def combined_split_test(sentences, categories, graph_status, sort_results = True, nested_emb = False):\n",
    "    splitted_sentences = split_by_points(sentences, graph=graph_status)\n",
    "    \n",
    "    print()\n",
    "    print(splitted_sentences)\n",
    "    print()\n",
    "    \n",
    "    if type(categories) != list:\n",
    "        categories = [categories]\n",
    "    for category in categories:\n",
    "        print(f\"Category: {category}\")\n",
    "        test_to_see(splitted_sentences, category, sort_results = sort_results, nested_emb=nested_emb)\n",
    "        print()"
   ]
  },
  {
   "cell_type": "code",
   "execution_count": 70,
   "metadata": {},
   "outputs": [
    {
     "name": "stdout",
     "output_type": "stream",
     "text": [
      "windowed_sentences: ['Employee benefits include', 'benefits include air', 'include air tickets', 'air tickets during', 'tickets during festive', 'during festive season,', 'festive season, and', 'season, and hampers', 'and hampers during', 'hampers during festive', 'during festive season']\n",
      "windowed_sentences_coherence_score_list: [0.5466175834787921, 0.49320915320220154, 0.82245336052614, 0.5764373010858322, 0.6335995284515052, 0.8407950611328945, 0.5712237785708114, 0.7088468169607653, 0.7068324065675571, 0.5553888196847583]\n",
      "windowed_sentences_depth_score_v1_list: [0.         0.19132632 0.         0.25518691 0.10359777 0.\n",
      " 0.20359716 0.         0.00100721 0.076729  ]\n",
      "windowed_sentences_filtered_depth_score_v1_list: [0.         0.19132632 0.         0.25518691 0.         0.\n",
      " 0.20359716 0.         0.         0.        ]\n",
      "\n",
      "Category: Overseas holiday trips\n",
      "Similarity level:\n",
      "and hampers during f /-/ Overseas holiday tri : 0.30451\n",
      "during festive seaso /-/ Overseas holiday tri : 0.29055\n",
      "Employee benefits in /-/ Overseas holiday tri : 0.17797\n",
      "\n",
      "Category: Festive occasion gift\n",
      "Similarity level:\n",
      "during festive seaso /-/ Festive occasion gif : 0.54886\n",
      "and hampers during f /-/ Festive occasion gif : 0.46693\n",
      "Employee benefits in /-/ Festive occasion gif : 0.041205\n",
      "\n"
     ]
    }
   ],
   "source": [
    "sentences_demo = \"Employee benefits include air tickets during festive season, and hampers during festive season\"\n",
    "categories_demo = [\"Overseas holiday trips\", \"Festive occasion gift\"]\n",
    "combined_split_test(sentences_demo, categories_demo, False)"
   ]
  },
  {
   "cell_type": "code",
   "execution_count": 72,
   "metadata": {},
   "outputs": [
    {
     "name": "stdout",
     "output_type": "stream",
     "text": [
      "windowed_sentences: ['Employees receive free', 'receive free flight', 'free flight benefits', 'flight benefits to', 'benefits to return', 'to return to', 'return to home', 'to home country', 'home country once', 'country once a', 'once a year', 'a year and', 'year and free', 'and free flight', 'free flight benefits', 'flight benefits for', 'benefits for business', 'for business trips']\n",
      "windowed_sentences_coherence_score_list: [0.4994730739773561, 0.8198921683296022, 0.8492839442762944, 0.4910717647956064, 0.534948759276894, 0.7172618917916795, 0.5900993429447399, 0.6989475691547116, 0.7898075618087435, 0.4706807182392369, 0.6467284566845992, 0.5079176045469895, 0.44179173598465143, 0.7122964498107437, 0.8517857340302727, 0.5297827514081066, 0.46759211560107716]\n",
      "windowed_sentences_depth_score_v1_list: [0.17490544 0.01469589 0.         0.29220115 0.09115657 0.\n",
      " 0.16343538 0.04543    0.         0.24758729 0.         0.06940543\n",
      " 0.30746536 0.06974464 0.         0.16100149 0.19209681]\n",
      "windowed_sentences_filtered_depth_score_v1_list: [0.         0.         0.         0.29220115 0.         0.\n",
      " 0.16343538 0.         0.         0.24758729 0.         0.\n",
      " 0.30746536 0.         0.         0.         0.        ]\n",
      "\n",
      "Category: Home leave passage\n",
      "Similarity level:\n",
      "to return to home co /-/ Home leave passage   : 0.48484\n",
      "free flight benefits /-/ Home leave passage   : 0.171\n",
      "Employees receive fr /-/ Home leave passage   : 0.16376\n",
      "a year and           /-/ Home leave passage   : 0.090728\n",
      "\n",
      "Category: Passage provided for business purpose\n",
      "Similarity level:\n",
      "free flight benefits /-/ Passage provided for : 0.29568\n",
      "to return to home co /-/ Passage provided for : 0.17853\n",
      "Employees receive fr /-/ Passage provided for : 0.14779\n",
      "a year and           /-/ Passage provided for : 0.065523\n",
      "\n"
     ]
    }
   ],
   "source": [
    "sentences_demo = \"Employees receive free flight benefits to return to home country once a year and free flight benefits for business trips\"\n",
    "categories_demo = [\"Home leave passage\", \"Passage provided for business purpose\"]\n",
    "combined_split_test(sentences_demo, categories_demo, False)"
   ]
  },
  {
   "cell_type": "code",
   "execution_count": 75,
   "metadata": {},
   "outputs": [
    {
     "name": "stdout",
     "output_type": "stream",
     "text": [
      "windowed_sentences: ['We provide employees', 'provide employees with', 'employees with gifts', 'with gifts including', 'gifts including red', 'including red packets', 'red packets for', 'packets for chinese', 'for chinese new', 'chinese new year,', 'new year, hari', 'year, hari raya,', 'hari raya, deepavali', 'raya, deepavali and', 'deepavali and birthday']\n",
      "windowed_sentences_coherence_score_list: [0.823550024440465, 0.6004445330759156, 0.5205524019140741, 0.6226680143622618, 0.4554223139242454, 0.8258749951012733, 0.5261055060722912, 0.5675626581873987, 0.6357106203267906, 0.5779699630124926, 0.731361325923743, 0.7543062057141017, 0.7556718257774693, 0.6208882828919473]\n",
      "windowed_sentences_depth_score_v1_list: [0.         0.11155275 0.20255662 0.         0.26884919 0.\n",
      " 0.2046873  0.03407398 0.         0.11772126 0.01215525 0.00068281\n",
      " 0.         0.06739177]\n",
      "windowed_sentences_filtered_depth_score_v1_list: [0.         0.         0.20255662 0.         0.26884919 0.\n",
      " 0.2046873  0.         0.         0.11772126 0.         0.\n",
      " 0.         0.        ]\n",
      "\n",
      "Category: Festive\n",
      "Similarity level:\n",
      "gifts including      /-/ Festive              : 0.44486\n",
      "for chinese new year /-/ Festive              : 0.31546\n",
      "red packets          /-/ Festive              : 0.15938\n",
      "We provide employees /-/ Festive              : 0.14163\n",
      "\n",
      "Category: Special\n",
      "Similarity level:\n",
      "gifts including      /-/ Special              : 0.30745\n",
      "We provide employees /-/ Special              : 0.22821\n",
      "for chinese new year /-/ Special              : 0.20504\n",
      "red packets          /-/ Special              : 0.19441\n",
      "\n"
     ]
    }
   ],
   "source": [
    "sentences_demo = \"We provide employees with gifts including red packets for chinese new year, hari raya, deepavali and birthday\"\n",
    "categories_demo = [\"Festive\", \"Special\"]\n",
    "combined_split_test(sentences_demo, categories_demo, False)"
   ]
  },
  {
   "cell_type": "code",
   "execution_count": 77,
   "metadata": {},
   "outputs": [
    {
     "name": "stdout",
     "output_type": "stream",
     "text": [
      "windowed_sentences: ['We provide flights', 'provide flights for', 'flights for employees', 'for employees to', 'employees to return', 'to return to', 'return to their', 'to their home', 'their home town', 'home town every', 'town every year']\n",
      "windowed_sentences_coherence_score_list: [0.8439222375079967, 0.7925060458187547, 0.44085594679495466, 0.5101374179027689, 0.5510917125012045, 0.6795568546320683, 0.607206842702283, 0.6544791300819457, 0.705670754244409, 0.6708837097973801]\n",
      "windowed_sentences_depth_score_v1_list: [0.         0.0257081  0.3208836  0.08470972 0.06423257 0.\n",
      " 0.08540696 0.02559581 0.         0.01739352]\n",
      "windowed_sentences_filtered_depth_score_v1_list: [0.         0.         0.3208836  0.         0.         0.\n",
      " 0.08540696 0.         0.         0.        ]\n",
      "\n",
      "Category: Home leave passage\n",
      "Similarity level:\n",
      "employees to return  /-/ Home leave passage   : 0.34188\n",
      "We provide flights f /-/ Home leave passage   : 0.20689\n",
      "\n",
      "Category: Air passage benefit\n",
      "Similarity level:\n",
      "We provide flights f /-/ Air passage benefit  : 0.48288\n",
      "employees to return  /-/ Air passage benefit  : 0.069849\n",
      "\n",
      "Category: Air tickets to home country\n",
      "Similarity level:\n",
      "We provide flights f /-/ Air tickets to home  : 0.48185\n",
      "employees to return  /-/ Air tickets to home  : 0.15953\n",
      "\n",
      "Category: Flight to home country\n",
      "Similarity level:\n",
      "We provide flights f /-/ Flight to home count : 0.47755\n",
      "employees to return  /-/ Flight to home count : 0.23986\n",
      "\n",
      "Category: Cash payment in-lieu of home leave passage\n",
      "Similarity level:\n",
      "employees to return  /-/ Cash payment in-lieu : 0.2565\n",
      "We provide flights f /-/ Cash payment in-lieu : 0.12305\n",
      "\n",
      "Category: Passage provided for business purpose\n",
      "Similarity level:\n",
      "We provide flights f /-/ Passage provided for : 0.286\n",
      "employees to return  /-/ Passage provided for : 0.14436\n",
      "\n",
      "Category: Overseas holiday trips\n",
      "Similarity level:\n",
      "We provide flights f /-/ Overseas holiday tri : 0.44619\n",
      "employees to return  /-/ Overseas holiday tri : 0.27735\n",
      "\n",
      "Category: Festive\n",
      "Similarity level:\n",
      "We provide flights f /-/ Festive              : 0.12869\n",
      "employees to return  /-/ Festive              : 0.10398\n",
      "\n",
      "Category: Special\n",
      "Similarity level:\n",
      "We provide flights f /-/ Special              : 0.25137\n",
      "employees to return  /-/ Special              : -0.030942\n",
      "\n"
     ]
    }
   ],
   "source": [
    "sentences_demo = \"We provide flights for employees to return to their home town every year\"\n",
    "categories_demo = [\"Home leave passage\", \"Air passage benefit\", \"Air tickets to home country\", \"Flight to home country\", \"Cash payment in-lieu of home leave passage\", \"Passage provided for business purpose\", \"Overseas holiday trips\", \"Festive\", \"Special\"]\n",
    "combined_split_test(sentences_demo, categories_demo, False)"
   ]
  },
  {
   "cell_type": "code",
   "execution_count": null,
   "metadata": {},
   "outputs": [],
   "source": []
  },
  {
   "cell_type": "code",
   "execution_count": 73,
   "metadata": {},
   "outputs": [
    {
     "name": "stdout",
     "output_type": "stream",
     "text": [
      "Similarity level:\n",
      "Employees receive fr /-/ Home leave passage   : 0.26048\n"
     ]
    }
   ],
   "source": [
    "test_to_see([sentences_demo], categories_demo[0])"
   ]
  },
  {
   "cell_type": "code",
   "execution_count": 74,
   "metadata": {},
   "outputs": [
    {
     "name": "stdout",
     "output_type": "stream",
     "text": [
      "Similarity level:\n",
      "Employees receive fr /-/ Passage provided for : 0.20919\n"
     ]
    }
   ],
   "source": [
    "test_to_see([sentences_demo], categories_demo[1])"
   ]
  },
  {
   "cell_type": "code",
   "execution_count": null,
   "metadata": {},
   "outputs": [],
   "source": []
  },
  {
   "cell_type": "code",
   "execution_count": null,
   "metadata": {},
   "outputs": [],
   "source": []
  },
  {
   "cell_type": "code",
   "execution_count": 78,
   "metadata": {},
   "outputs": [],
   "source": [
    "from transformers import AutoTokenizer, AutoModel\n",
    "import torch\n",
    "\n",
    "# Load model from HuggingFace Hub\n",
    "#tokenizer = AutoTokenizer.from_pretrained('BAAI/bge-large-zh-v1.5')\n",
    "#model = AutoModel.from_pretrained('BAAI/bge-large-zh-v1.5')\n",
    "tokenizer = AutoTokenizer.from_pretrained(\"BAAI/bge-large-en-v1.5\")\n",
    "model = AutoModel.from_pretrained(\"BAAI/bge-large-en-v1.5\")\n",
    "\n",
    "model.eval()\n",
    "\n",
    "def get_sentence_embedding(sentenceS): ## already normalised due to \"torch.nn.functional.normalize\" function\n",
    "    # Tokenize sentences\n",
    "    encoded_input = tokenizer(sentenceS, padding=True, truncation=True, return_tensors='pt')\n",
    "    # for s2p(short query to long passage) retrieval task, add an instruction to query (not add instruction for passages)\n",
    "    # encoded_input = tokenizer([instruction + q for q in queries], padding=True, truncation=True, return_tensors='pt')\n",
    "\n",
    "    # Compute token embeddings\n",
    "    with torch.no_grad():\n",
    "        model_output = model(**encoded_input)\n",
    "        # Perform pooling. In this case, cls pooling.\n",
    "        sentenceS_embeddings = model_output[0][:, 0]\n",
    "    # normalize embeddings\n",
    "    sentenceS_embeddings = torch.nn.functional.normalize(sentenceS_embeddings, p=2, dim=1)\n",
    "    #print(\"SentenceS embeddings:\", sentenceS_embeddings)\n",
    "\n",
    "    return sentenceS_embeddings ## if not input a list of sentences, then just one"
   ]
  },
  {
   "cell_type": "code",
   "execution_count": 88,
   "metadata": {},
   "outputs": [
    {
     "name": "stdout",
     "output_type": "stream",
     "text": [
      "windowed_sentences: ['Employees receive free', 'receive free flight', 'free flight benefits', 'flight benefits to', 'benefits to return', 'to return to', 'return to home', 'to home country', 'home country once', 'country once a', 'once a year', 'a year and', 'year and free', 'and free flight', 'free flight benefits', 'flight benefits for', 'benefits for business', 'for business trips']\n",
      "windowed_sentences_coherence_score_list: [tensor(0.6830), tensor(0.8727), tensor(0.8654), tensor(0.7708), tensor(0.7550), tensor(0.8565), tensor(0.8149), tensor(0.8166), tensor(0.9119), tensor(0.7371), tensor(0.7646), tensor(0.7714), tensor(0.7185), tensor(0.8546), tensor(0.8948), tensor(0.7440), tensor(0.7024)]\n",
      "windowed_sentences_depth_score_v1_list: [0.09484035 0.         0.0036357  0.05093956 0.10955322 0.\n",
      " 0.0693059  0.04767716 0.         0.10460818 0.0034101  0.\n",
      " 0.11457098 0.02009046 0.         0.07537729 0.0961988 ]\n",
      "windowed_sentences_filtered_depth_score_v1_list: [0.         0.         0.         0.         0.10955322 0.\n",
      " 0.0693059  0.         0.         0.10460818 0.         0.\n",
      " 0.11457098 0.         0.         0.         0.        ]\n",
      "\n",
      "['Employees receive free flight benefits to', 'return to home country once', 'a year and', 'free flight benefits for business trips']\n",
      "\n",
      "Category: Home leave passage\n",
      "Similarity level:\n",
      "return to home count /-/ Home leave passage   : 0.71822\n",
      "Employees receive fr /-/ Home leave passage   : 0.58595\n",
      "free flight benefits /-/ Home leave passage   : 0.5253\n",
      "a year and           /-/ Home leave passage   : 0.47873\n",
      "\n",
      "Category: Passage provided for business purpose\n",
      "Similarity level:\n",
      "free flight benefits /-/ Passage provided for : 0.60146\n",
      "Employees receive fr /-/ Passage provided for : 0.54829\n",
      "return to home count /-/ Passage provided for : 0.54396\n",
      "a year and           /-/ Passage provided for : 0.49561\n",
      "\n"
     ]
    }
   ],
   "source": [
    "sentences_demo = \"Employees receive free flight benefits to return to home country once a year and free flight benefits for business trips\"\n",
    "categories_demo = [\"Home leave passage\", \"Passage provided for business purpose\"]\n",
    "combined_split_test(sentences_demo, categories_demo, graph_status=False, nested_emb=True)"
   ]
  },
  {
   "cell_type": "code",
   "execution_count": 91,
   "metadata": {},
   "outputs": [
    {
     "name": "stdout",
     "output_type": "stream",
     "text": [
      "windowed_sentences: ['We provide flights', 'provide flights for', 'flights for employees', 'for employees to', 'employees to return', 'to return to', 'return to their', 'to their home', 'their home town', 'home town every', 'town every year']\n",
      "windowed_sentences_coherence_score_list: [tensor(0.8723), tensor(0.8047), tensor(0.7164), tensor(0.7630), tensor(0.7109), tensor(0.8884), tensor(0.7243), tensor(0.8054), tensor(0.8368), tensor(0.8234)]\n"
     ]
    },
    {
     "data": {
      "image/png": "[encoded data removed]",
      "text/plain": [
       "<Figure size 640x480 with 1 Axes>"
      ]
     },
     "metadata": {},
     "output_type": "display_data"
    },
    {
     "name": "stdout",
     "output_type": "stream",
     "text": [
      "windowed_sentences_depth_score_v1_list: [0.         0.03381437 0.10127878 0.         0.11483544 0.\n",
      " 0.13828856 0.01570719 0.         0.00667077]\n"
     ]
    },
    {
     "data": {
      "image/png": "[encoded data removed]",
      "text/plain": [
       "<Figure size 640x480 with 1 Axes>"
      ]
     },
     "metadata": {},
     "output_type": "display_data"
    },
    {
     "name": "stdout",
     "output_type": "stream",
     "text": [
      "windowed_sentences_filtered_depth_score_v1_list: [0.         0.         0.10127878 0.         0.11483544 0.\n",
      " 0.13828856 0.         0.         0.        ]\n"
     ]
    },
    {
     "data": {
      "image/png": "[encoded data removed]",
      "text/plain": [
       "<Figure size 640x480 with 1 Axes>"
      ]
     },
     "metadata": {},
     "output_type": "display_data"
    },
    {
     "data": {
      "image/png": "[encoded data removed]",
      "text/plain": [
       "<Figure size 640x480 with 1 Axes>"
      ]
     },
     "metadata": {},
     "output_type": "display_data"
    },
    {
     "name": "stdout",
     "output_type": "stream",
     "text": [
      "\n",
      "['We provide flights for employees to', 'return to', 'their home town every year']\n",
      "\n",
      "Category: Home leave passage\n"
     ]
    },
    {
     "ename": "TypeError",
     "evalue": "only length-1 arrays can be converted to Python scalars",
     "output_type": "error",
     "traceback": [
      "\u001b[1;31m---------------------------------------------------------------------------\u001b[0m",
      "\u001b[1;31mTypeError\u001b[0m                                 Traceback (most recent call last)",
      "Cell \u001b[1;32mIn[91], line 3\u001b[0m\n\u001b[0;32m      1\u001b[0m sentences_demo \u001b[38;5;241m=\u001b[39m \u001b[38;5;124m\"\u001b[39m\u001b[38;5;124mWe provide flights for employees to return to their home town every year\u001b[39m\u001b[38;5;124m\"\u001b[39m\n\u001b[0;32m      2\u001b[0m categories_demo \u001b[38;5;241m=\u001b[39m [\u001b[38;5;124m\"\u001b[39m\u001b[38;5;124mHome leave passage\u001b[39m\u001b[38;5;124m\"\u001b[39m, \u001b[38;5;124m\"\u001b[39m\u001b[38;5;124mAir passage benefit\u001b[39m\u001b[38;5;124m\"\u001b[39m, \u001b[38;5;124m\"\u001b[39m\u001b[38;5;124mAir tickets to home country\u001b[39m\u001b[38;5;124m\"\u001b[39m, \u001b[38;5;124m\"\u001b[39m\u001b[38;5;124mFlight to home country\u001b[39m\u001b[38;5;124m\"\u001b[39m, \u001b[38;5;124m\"\u001b[39m\u001b[38;5;124mCash payment in-lieu of home leave passage\u001b[39m\u001b[38;5;124m\"\u001b[39m, \u001b[38;5;124m\"\u001b[39m\u001b[38;5;124mPassage provided for business purpose\u001b[39m\u001b[38;5;124m\"\u001b[39m, \u001b[38;5;124m\"\u001b[39m\u001b[38;5;124mOverseas holiday trips\u001b[39m\u001b[38;5;124m\"\u001b[39m, \u001b[38;5;124m\"\u001b[39m\u001b[38;5;124mFestive\u001b[39m\u001b[38;5;124m\"\u001b[39m, \u001b[38;5;124m\"\u001b[39m\u001b[38;5;124mSpecial\u001b[39m\u001b[38;5;124m\"\u001b[39m]\n\u001b[1;32m----> 3\u001b[0m \u001b[43mcombined_split_test\u001b[49m\u001b[43m(\u001b[49m\u001b[43msentences_demo\u001b[49m\u001b[43m,\u001b[49m\u001b[43m \u001b[49m\u001b[43mcategories_demo\u001b[49m\u001b[43m,\u001b[49m\u001b[43m \u001b[49m\u001b[43mgraph_status\u001b[49m\u001b[38;5;241;43m=\u001b[39;49m\u001b[38;5;28;43;01mTrue\u001b[39;49;00m\u001b[43m,\u001b[49m\u001b[43m \u001b[49m\u001b[43mnested_emb\u001b[49m\u001b[38;5;241;43m=\u001b[39;49m\u001b[38;5;28;43;01mFalse\u001b[39;49;00m\u001b[43m)\u001b[49m\n",
      "Cell \u001b[1;32mIn[87], line 12\u001b[0m, in \u001b[0;36mcombined_split_test\u001b[1;34m(sentences, categories, graph_status, sort_results, nested_emb)\u001b[0m\n\u001b[0;32m     10\u001b[0m \u001b[38;5;28;01mfor\u001b[39;00m category \u001b[38;5;129;01min\u001b[39;00m categories:\n\u001b[0;32m     11\u001b[0m     \u001b[38;5;28mprint\u001b[39m(\u001b[38;5;124mf\u001b[39m\u001b[38;5;124m\"\u001b[39m\u001b[38;5;124mCategory: \u001b[39m\u001b[38;5;132;01m{\u001b[39;00mcategory\u001b[38;5;132;01m}\u001b[39;00m\u001b[38;5;124m\"\u001b[39m)\n\u001b[1;32m---> 12\u001b[0m     \u001b[43mtest_to_see\u001b[49m\u001b[43m(\u001b[49m\u001b[43msplitted_sentences\u001b[49m\u001b[43m,\u001b[49m\u001b[43m \u001b[49m\u001b[43mcategory\u001b[49m\u001b[43m,\u001b[49m\u001b[43m \u001b[49m\u001b[43msort_results\u001b[49m\u001b[43m \u001b[49m\u001b[38;5;241;43m=\u001b[39;49m\u001b[43m \u001b[49m\u001b[43msort_results\u001b[49m\u001b[43m,\u001b[49m\u001b[43m \u001b[49m\u001b[43mnested_emb\u001b[49m\u001b[38;5;241;43m=\u001b[39;49m\u001b[43mnested_emb\u001b[49m\u001b[43m)\u001b[49m\n\u001b[0;32m     13\u001b[0m     \u001b[38;5;28mprint\u001b[39m()\n",
      "Cell \u001b[1;32mIn[84], line 23\u001b[0m, in \u001b[0;36mtest_to_see\u001b[1;34m(new_sent_id_segments_input, category_text, sort_results, nested_emb)\u001b[0m\n\u001b[0;32m     21\u001b[0m \u001b[38;5;28;01mdef\u001b[39;00m \u001b[38;5;21mtest_to_see\u001b[39m(new_sent_id_segments_input, category_text, sort_results \u001b[38;5;241m=\u001b[39m \u001b[38;5;28;01mTrue\u001b[39;00m, nested_emb \u001b[38;5;241m=\u001b[39m \u001b[38;5;28;01mFalse\u001b[39;00m):\n\u001b[0;32m     22\u001b[0m     comparison_list \u001b[38;5;241m=\u001b[39m [(c1, c2) \u001b[38;5;28;01mfor\u001b[39;00m c1,c2 \u001b[38;5;129;01min\u001b[39;00m \u001b[38;5;28mzip\u001b[39m(new_sent_id_segments_input, [category_text \u001b[38;5;28;01mfor\u001b[39;00m i \u001b[38;5;129;01min\u001b[39;00m \u001b[38;5;28mrange\u001b[39m(\u001b[38;5;28mlen\u001b[39m(new_sent_id_segments_input))])]\n\u001b[1;32m---> 23\u001b[0m     res_dict \u001b[38;5;241m=\u001b[39m \u001b[43mtest_emb_model\u001b[49m\u001b[43m(\u001b[49m\u001b[43mget_sentence_embedding\u001b[49m\u001b[43m,\u001b[49m\u001b[43m \u001b[49m\u001b[43mcomparison_list\u001b[49m\u001b[43m,\u001b[49m\u001b[43m \u001b[49m\u001b[43msorting\u001b[49m\u001b[38;5;241;43m=\u001b[39;49m\u001b[38;5;28;43;01mFalse\u001b[39;49;00m\u001b[43m \u001b[49m\u001b[43m,\u001b[49m\u001b[43m \u001b[49m\u001b[43madditional_nesting\u001b[49m\u001b[38;5;241;43m=\u001b[39;49m\u001b[43mnested_emb\u001b[49m\u001b[43m)\u001b[49m\n\u001b[0;32m     24\u001b[0m     test_emb_model_results(res_dict, sorting\u001b[38;5;241m=\u001b[39msort_results)\n",
      "Cell \u001b[1;32mIn[2], line 9\u001b[0m, in \u001b[0;36mtest_emb_model\u001b[1;34m(model_emb_func, sent_pair_comparison_list, sorting, additional_nesting)\u001b[0m\n\u001b[0;32m      7\u001b[0m ending_dict \u001b[38;5;241m=\u001b[39m {}\n\u001b[0;32m      8\u001b[0m \u001b[38;5;28;01mfor\u001b[39;00m comp1, comp2 \u001b[38;5;129;01min\u001b[39;00m sent_pair_comparison_list:\n\u001b[1;32m----> 9\u001b[0m     ending_dict[(comp1, comp2)] \u001b[38;5;241m=\u001b[39m \u001b[43mgeneric_sent_cos_sim\u001b[49m\u001b[43m(\u001b[49m\u001b[43mmodel_emb_func\u001b[49m\u001b[43m,\u001b[49m\u001b[43m \u001b[49m\u001b[43mcomp1\u001b[49m\u001b[43m,\u001b[49m\u001b[43m \u001b[49m\u001b[43mcomp2\u001b[49m\u001b[43m,\u001b[49m\u001b[43m \u001b[49m\u001b[43madditional_nesting\u001b[49m\u001b[43m)\u001b[49m\n\u001b[0;32m     10\u001b[0m \u001b[38;5;28;01mif\u001b[39;00m sorting:\n\u001b[0;32m     11\u001b[0m     sorted_ending_dict \u001b[38;5;241m=\u001b[39m {comps:comps_res \u001b[38;5;28;01mfor\u001b[39;00m comps, comps_res \u001b[38;5;129;01min\u001b[39;00m (\u001b[38;5;28msorted\u001b[39m(ending_dict\u001b[38;5;241m.\u001b[39mitems(), key\u001b[38;5;241m=\u001b[39m\u001b[38;5;28;01mlambda\u001b[39;00m dict_item: dict_item[\u001b[38;5;241m1\u001b[39m], reverse \u001b[38;5;241m=\u001b[39m \u001b[38;5;28;01mTrue\u001b[39;00m))}\n",
      "Cell \u001b[1;32mIn[2], line 4\u001b[0m, in \u001b[0;36mgeneric_sent_cos_sim\u001b[1;34m(model_emb_func, t1, t2, additional_nesting)\u001b[0m\n\u001b[0;32m      2\u001b[0m \u001b[38;5;28;01mif\u001b[39;00m additional_nesting:\n\u001b[0;32m      3\u001b[0m     \u001b[38;5;28;01mreturn\u001b[39;00m cosine_sim(model_emb_func(t1)[\u001b[38;5;241m0\u001b[39m], model_emb_func(t2)[\u001b[38;5;241m0\u001b[39m])    \n\u001b[1;32m----> 4\u001b[0m \u001b[38;5;28;01mreturn\u001b[39;00m \u001b[43mcosine_sim\u001b[49m\u001b[43m(\u001b[49m\u001b[43mmodel_emb_func\u001b[49m\u001b[43m(\u001b[49m\u001b[43mt1\u001b[49m\u001b[43m)\u001b[49m\u001b[43m,\u001b[49m\u001b[43m \u001b[49m\u001b[43mmodel_emb_func\u001b[49m\u001b[43m(\u001b[49m\u001b[43mt2\u001b[49m\u001b[43m)\u001b[49m\u001b[43m)\u001b[49m\n",
      "Cell \u001b[1;32mIn[1], line 25\u001b[0m, in \u001b[0;36mcosine_sim\u001b[1;34m(embedding_1, embedding_2)\u001b[0m\n\u001b[0;32m     24\u001b[0m \u001b[38;5;28;01mdef\u001b[39;00m \u001b[38;5;21mcosine_sim\u001b[39m(embedding_1, embedding_2):\n\u001b[1;32m---> 25\u001b[0m     embedding_1 \u001b[38;5;241m=\u001b[39m \u001b[43mget_normalise_embedding\u001b[49m\u001b[43m(\u001b[49m\u001b[43membedding_1\u001b[49m\u001b[43m)\u001b[49m\n\u001b[0;32m     26\u001b[0m     embedding_2 \u001b[38;5;241m=\u001b[39m get_normalise_embedding(embedding_2)\n\u001b[0;32m     27\u001b[0m     sim_sum \u001b[38;5;241m=\u001b[39m \u001b[38;5;241m0\u001b[39m\n",
      "Cell \u001b[1;32mIn[1], line 18\u001b[0m, in \u001b[0;36mget_normalise_embedding\u001b[1;34m(embedding_1d)\u001b[0m\n\u001b[0;32m     16\u001b[0m \u001b[38;5;28;01melse\u001b[39;00m:\n\u001b[0;32m     17\u001b[0m     temp_embedding_1d \u001b[38;5;241m=\u001b[39m embedding_1d\u001b[38;5;241m.\u001b[39mcopy()\n\u001b[1;32m---> 18\u001b[0m length \u001b[38;5;241m=\u001b[39m \u001b[43mget_length\u001b[49m\u001b[43m(\u001b[49m\u001b[43mtemp_embedding_1d\u001b[49m\u001b[43m)\u001b[49m\n\u001b[0;32m     19\u001b[0m \u001b[38;5;28;01mfor\u001b[39;00m i \u001b[38;5;129;01min\u001b[39;00m \u001b[38;5;28mrange\u001b[39m(\u001b[38;5;28mlen\u001b[39m(temp_embedding_1d)):\n\u001b[0;32m     20\u001b[0m     temp_embedding_1d[i] \u001b[38;5;241m/\u001b[39m\u001b[38;5;241m=\u001b[39m length\n",
      "Cell \u001b[1;32mIn[1], line 8\u001b[0m, in \u001b[0;36mget_length\u001b[1;34m(embedding_1d)\u001b[0m\n\u001b[0;32m      6\u001b[0m \u001b[38;5;28;01mfor\u001b[39;00m i \u001b[38;5;129;01min\u001b[39;00m embedding_1d:\n\u001b[0;32m      7\u001b[0m     \u001b[38;5;28msum\u001b[39m\u001b[38;5;241m+\u001b[39m\u001b[38;5;241m=\u001b[39m(i\u001b[38;5;241m*\u001b[39m\u001b[38;5;241m*\u001b[39m\u001b[38;5;241m2\u001b[39m)\n\u001b[1;32m----> 8\u001b[0m \u001b[38;5;28;01mreturn\u001b[39;00m \u001b[43mmath\u001b[49m\u001b[38;5;241;43m.\u001b[39;49m\u001b[43msqrt\u001b[49m\u001b[43m(\u001b[49m\u001b[38;5;28;43msum\u001b[39;49m\u001b[43m)\u001b[49m\n",
      "\u001b[1;31mTypeError\u001b[0m: only length-1 arrays can be converted to Python scalars"
     ]
    }
   ],
   "source": [
    "sentences_demo = \"We provide flights for employees to return to their home town every year\"\n",
    "categories_demo = [\"Home leave passage\", \"Air passage benefit\", \"Air tickets to home country\", \"Flight to home country\", \"Cash payment in-lieu of home leave passage\", \"Passage provided for business purpose\", \"Overseas holiday trips\", \"Festive\", \"Special\"]\n",
    "combined_split_test(sentences_demo, categories_demo, graph_status=True, nested_emb=False)"
   ]
  },
  {
   "cell_type": "code",
   "execution_count": null,
   "metadata": {},
   "outputs": [],
   "source": []
  },
  {
   "cell_type": "code",
   "execution_count": null,
   "metadata": {},
   "outputs": [],
   "source": []
  },
  {
   "cell_type": "code",
   "execution_count": null,
   "metadata": {},
   "outputs": [],
   "source": [
    "# make new function take is more variable, can adjust model, so can pass in embedding model function so a param and all the other stuff can put as variable!!\n",
    "## can make function to produce/return function, then use this new produced function to split, and also to do classify\n",
    "### use model function as param to make return function for split model and also use model as param to make function to compare and classify/categorise\n",
    "\n",
    "#### can make it into 2 parter, cos split segment maybe one model is better\n",
    "#### , and another is better for classification/categorise, maybe even zero shot classifier\n",
    "\n",
    "# eg.\n",
    "def split_text_func(emb_model_func):\n",
    "    return some_function_that_uses_input_emb_model_func_to_split\n",
    "def compare_function(emb_model_func):\n",
    "    return some_function_that_uses_input_emb_model_func_to_compare\n",
    "\n",
    "something like that!!"
   ]
  }
 ],
 "metadata": {
  "kernelspec": {
   "display_name": "semantic_seg-venv-kernel",
   "language": "python",
   "name": "semantic_seg-venv-kernel"
  },
  "language_info": {
   "codemirror_mode": {
    "name": "ipython",
    "version": 3
   },
   "file_extension": ".py",
   "mimetype": "text/x-python",
   "name": "python",
   "nbconvert_exporter": "python",
   "pygments_lexer": "ipython3",
   "version": "3.12.3"
  }
 },
 "nbformat": 4,
 "nbformat_minor": 2
}
