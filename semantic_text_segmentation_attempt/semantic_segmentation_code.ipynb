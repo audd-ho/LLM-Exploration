{
 "cells": [
  {
   "cell_type": "markdown",
   "metadata": {},
   "source": [
    "# Overall Useful Functions\n",
    "- ```get_length(embedding_1d)```\n",
    "- ```normalise_embedding(embedding_1d)```\n",
    "- ```get_normalise_embedding(embedding_1d)```\n",
    "- ```cosine_sim(embedding_1, embedding_2)```\n",
    "- ```norm_ed_cosine_sim(embedding_1, embedding_2)```\n",
    "- ```generic_sent_cos_sim(model_emb_func, t1, t2, additional_nesting = False)```"
   ]
  },
  {
   "cell_type": "code",
   "execution_count": 2,
   "metadata": {},
   "outputs": [],
   "source": [
    "## Overall Useful Functions\n",
    "\n",
    "import torch\n",
    "import math\n",
    "import numpy as np\n",
    "def get_length(embedding_1d):\n",
    "    sum = 0\n",
    "    for i in embedding_1d:\n",
    "        sum+=(i**2)\n",
    "    return math.sqrt(sum)\n",
    "def normalise_embedding(embedding_1d):\n",
    "    length = get_length(embedding_1d)\n",
    "    for i in range(len(embedding_1d)):\n",
    "        embedding_1d[i] /= length\n",
    "def get_normalise_embedding(embedding_1d):\n",
    "    if type(embedding_1d) is torch.Tensor:\n",
    "        temp_embedding_1d = (embedding_1d.detach().numpy()).copy()\n",
    "    else:\n",
    "        temp_embedding_1d = embedding_1d.copy()\n",
    "    length = get_length(temp_embedding_1d)\n",
    "    for i in range(len(temp_embedding_1d)):\n",
    "        temp_embedding_1d[i] /= length\n",
    "    return temp_embedding_1d\n",
    "\n",
    "\n",
    "def cosine_sim(embedding_1, embedding_2):\n",
    "    embedding_1 = get_normalise_embedding(embedding_1)\n",
    "    embedding_2 = get_normalise_embedding(embedding_2)\n",
    "    sim_sum = 0\n",
    "    for e_1, e_2 in zip(embedding_1, embedding_2):\n",
    "        sim_sum += (e_1*e_2)\n",
    "    return sim_sum\n",
    "def norm_ed_cosine_sim(embedding_1, embedding_2):\n",
    "    sim_sum = 0\n",
    "    for e_1, e_2 in zip(embedding_1, embedding_2):\n",
    "        sim_sum += (e_1*e_2)\n",
    "    return sim_sum"
   ]
  },
  {
   "cell_type": "code",
   "execution_count": 3,
   "metadata": {},
   "outputs": [],
   "source": [
    "## Cosine Similarity -- Embedding Model\n",
    "\n",
    "def generic_sent_cos_sim(model_emb_func, t1, t2, additional_nesting = False):\n",
    "    if additional_nesting:\n",
    "        return cosine_sim(model_emb_func(t1)[0], model_emb_func(t2)[0])    \n",
    "    return cosine_sim(model_emb_func(t1), model_emb_func(t2))"
   ]
  },
  {
   "cell_type": "code",
   "execution_count": 124,
   "metadata": {},
   "outputs": [],
   "source": [
    "### NOT USED! REPLACED!!\n",
    "## emb model, similarity level\n",
    "\n",
    "def test_emb_model(model_emb_func, sent_pair_comparison_list, sorting = False, additional_nesting = False):\n",
    "    ending_dict = {}\n",
    "    for comp1, comp2 in sent_pair_comparison_list:\n",
    "        ending_dict[(comp1, comp2)] = generic_sent_cos_sim(model_emb_func, comp1, comp2, additional_nesting)\n",
    "    if sorting:\n",
    "        sorted_ending_dict = {comps:comps_res for comps, comps_res in (sorted(ending_dict.items(), key=lambda dict_item: dict_item[1], reverse = True))}\n",
    "        return sorted_ending_dict\n",
    "    return ending_dict\n",
    "def test_emb_model_results(ending_dict, sorting = False):\n",
    "    print(\"Similarity level:\")\n",
    "    #res_sum = 0\n",
    "    if sorting:\n",
    "        for comps, res in (sorted(ending_dict.items(), key= lambda dict_item: dict_item[1], reverse=True)):\n",
    "            ## print(f\"{comps[0]:20.5}-{comps[1]:5.20}: {res:.5}\") # \"{:min_pad.max_pad}\", max pad is essentially also the max number of chars permitted!!\n",
    "            print(f\"{comps[0]:20.20} /-/ {comps[1]:20.20} : {res:.5}\")\n",
    "            #res_sum += res\n",
    "    else:\n",
    "        for comps, res in ending_dict.items():\n",
    "            ## print(f\"{comps[0]:20.5}-{comps[1]:5.20}: {res:.5}\") # \"{:min_pad.max_pad}\", max pad is essentially also the max number of chars permitted!!\n",
    "            print(f\"{comps[0]:20.20} /-/ {comps[1]:20.20} : {res:.5}\")\n",
    "            #res_sum += res\n",
    "        \n",
    "    ## res_sum no purpose and stuff yet since no measure of accuracy present, like it should/should not match, dont know so cannot say the sum is good or not, etc or avg, but later on can try with these and maybe weighted based on certain comparisons more impt?"
   ]
  },
  {
   "cell_type": "code",
   "execution_count": null,
   "metadata": {},
   "outputs": [],
   "source": []
  },
  {
   "cell_type": "code",
   "execution_count": 126,
   "metadata": {},
   "outputs": [],
   "source": [
    "## Embedding Model's Function / Model's Embedding Function\n",
    "# Returns a 1d tensor with the embedding\n",
    "# if list of input string, then 2d tensor, each 1d tensor inside the 2d tensor correspond to each input string in list\n",
    "\n",
    "def embedding_model_function(text): ## single string or a list of strings\n",
    "    return torch.tensor([1, 2, 3, 4, 5, 6]) ## eg\n",
    "\n",
    "## EXAMPLE ABOVE (ONLY AN EXAMPLE)\n",
    "### Format of this function is important!"
   ]
  },
  {
   "cell_type": "code",
   "execution_count": null,
   "metadata": {},
   "outputs": [],
   "source": []
  },
  {
   "cell_type": "code",
   "execution_count": null,
   "metadata": {},
   "outputs": [],
   "source": []
  },
  {
   "cell_type": "markdown",
   "metadata": {},
   "source": [
    "# Semantic Segmentation Function Section"
   ]
  },
  {
   "cell_type": "code",
   "execution_count": 4,
   "metadata": {},
   "outputs": [],
   "source": [
    "## Semantic Segmentation Function PREPARATION FUNCTIONS\n",
    "\n",
    "from itertools import islice\n",
    "\n",
    "def window(seq, n=3):\n",
    "    it = iter(seq)\n",
    "    result = tuple(islice(it, n))\n",
    "    if len(result) == n:\n",
    "        yield result\n",
    "    for elem in it:\n",
    "        result = result[1:] + (elem,)\n",
    "        yield result\n",
    "        \n",
    "        \n",
    "        \n",
    "        \n",
    "def climb(co_score_list, list_index, mode = \"l\"):\n",
    "    res_score = 0\n",
    "    if mode == \"l\":\n",
    "        while (list_index >= 0):\n",
    "            if co_score_list[list_index] > res_score:\n",
    "                res_score = co_score_list[list_index]\n",
    "                list_index -= 1\n",
    "            else:\n",
    "                break\n",
    "        return res_score\n",
    "    else:\n",
    "        list_len = len(co_score_list)\n",
    "        while (list_index < list_len):\n",
    "            if co_score_list[list_index] > res_score:\n",
    "                res_score = co_score_list[list_index]\n",
    "                list_index += 1\n",
    "            else:\n",
    "                break\n",
    "        return res_score\n",
    "    \n",
    "def get_depth_score_list(co_score_list):\n",
    "    res_depth_score_list = []\n",
    "    co_score_len = len(co_score_list)\n",
    "    for i in range(co_score_len):\n",
    "        i_co_score = co_score_list[i]\n",
    "        l_peak = climb(co_score_list, i, \"l\")\n",
    "        r_peak = climb(co_score_list, i, \"r\")\n",
    "        i_depth_score = 0.5 * (l_peak + r_peak - (2*i_co_score))\n",
    "        res_depth_score_list.append(i_depth_score)\n",
    "    return np.array(res_depth_score_list)\n",
    "\n",
    "\n",
    "\n",
    "\n",
    "import matplotlib.pyplot as plt\n",
    "\n",
    "from scipy.signal import argrelmax\n",
    "\n",
    "def get_local_maxima(depth_scores, order=1):\n",
    "    maxima_ids = argrelmax(depth_scores, order=order)[0]\n",
    "    filtered_scores = np.zeros(len(depth_scores))\n",
    "    filtered_scores[maxima_ids] = depth_scores[maxima_ids]\n",
    "    return filtered_scores\n",
    "\n",
    "def compute_threshold(scores): ## maybe can make this more picky, by making threshold higher, like (np.std(s) / 3) or /4 or more instead?\n",
    "    s = scores[np.nonzero(scores)]\n",
    "    threshold = np.mean(s) - (np.std(s) / 2)\n",
    "    # threshold = np.mean(s) - (np.std(s))\n",
    "    return threshold\n",
    "\n",
    "def get_threshold_segments(scores, threshold=0.1):\n",
    "    segment_ids = np.where(scores >= threshold)[0]\n",
    "    return segment_ids\n",
    "\n",
    "\n",
    "\n",
    "\n",
    "def primitively_naive_tokeniser(text):\n",
    "    toks_list = text.split(\" \")\n",
    "    return toks_list"
   ]
  },
  {
   "cell_type": "code",
   "execution_count": 5,
   "metadata": {},
   "outputs": [],
   "source": [
    "## Semantic Segmentation Function Portions\n",
    "\n",
    "WINDOW_SIZE = 3\n",
    "\n",
    "def sentence_to_sliding_window(sentence_s):\n",
    "    sentence_words_toks = primitively_naive_tokeniser(sentence_s)\n",
    "    window_size_split = list(window(sentence_words_toks, WINDOW_SIZE))\n",
    "    window_splited_texts = [' '.join([window_toks for window_toks in each_window]) for each_window in window_size_split]\n",
    "    return window_splited_texts\n",
    "\n",
    "def coherence_score_list_from_embedding_list(window_splited_embedding_list):\n",
    "    coherence_scores_list = [cosine_sim(pair[0], pair[1]) for pair in zip(window_splited_embedding_list[:-1], window_splited_embedding_list[1:])]\n",
    "    return coherence_scores_list\n",
    "\n",
    "def plot_data_points(vary_data, thres = -1):\n",
    "    plt.plot(vary_data)\n",
    "    if (thres == -1):\n",
    "        plt.show()\n",
    "    else:\n",
    "        plt.plot([thres for i in range(len(vary_data))])\n",
    "        plt.show()\n",
    "\n",
    "def filtered_indexes_list_to_splitted_segments_by_semantics(original_sent, filtered_indexes_list):\n",
    "    sentence_words_toks = primitively_naive_tokeniser(original_sent)\n",
    "    segment_key_breaks = get_threshold_segments(filtered_indexes_list, compute_threshold(filtered_indexes_list))\n",
    "    segment_demark = [0] + [(ids + (WINDOW_SIZE-1)) for ids in segment_key_breaks] + [len(sentence_words_toks)]\n",
    "    segment_demark_intervals = list(zip(segment_demark[:-1], segment_demark[1:]))\n",
    "    resultant_segments_after_split_by_interval = [\" \".join(sentence_words_toks[interval_points[0]:interval_points[1]]) for interval_points in segment_demark_intervals]\n",
    "    return resultant_segments_after_split_by_interval"
   ]
  },
  {
   "cell_type": "code",
   "execution_count": 6,
   "metadata": {},
   "outputs": [],
   "source": [
    "## Semantic Segmentation Function\n",
    "\n",
    "def semantic_segmentation_function(embedding_model_function, sentence_text, intermediate_status = False, graph_status = False):\n",
    "    windowed_parts = sentence_to_sliding_window(sentence_text)\n",
    "    if intermediate_status:\n",
    "        print(f\"windowed_parts: {windowed_parts}\")\n",
    "    \n",
    "    # if ensure \"embedding_model_function\" accept only 1 string and return 1d array/tensor then can use the below code, current should still work!!, as long as return 1d array for single string!!\n",
    "    # embedding_list = [embedding_model_function(windowed_part) for windowed_part in windowed_parts]\n",
    "    \n",
    "    ## if list of input strings can produce 2d array/tensor automatically, then can just use below one!!, only 1 time embed bunch at once!!\n",
    "    embedding_list = embedding_model_function(windowed_parts)\n",
    "    if intermediate_status:\n",
    "        print(f\"embedding_list: {embedding_list}\")\n",
    "    \"\"\"\n",
    "    if graph_status:\n",
    "        print(\"Embedding List Plot\") # bad! like no use\n",
    "        plot_data_points(embedding_list) # bad! like no use\n",
    "    \"\"\"\n",
    "    \n",
    "    windowed_parts_coherence_score_list = coherence_score_list_from_embedding_list(embedding_list)\n",
    "    if intermediate_status:\n",
    "        print(f\"windowed_parts_coherence_score_list: {windowed_parts_coherence_score_list}\")\n",
    "    if graph_status:\n",
    "        print(\"Coherence Score Plot:\")\n",
    "        plot_data_points(windowed_parts_coherence_score_list)\n",
    "    \n",
    "    windowed_parts_depth_score_list = get_depth_score_list(windowed_parts_coherence_score_list)\n",
    "    if intermediate_status:\n",
    "        print(f\"windowed_parts_depth_score_list: {windowed_parts_depth_score_list}\")\n",
    "    if graph_status:\n",
    "        print(\"Depth Score Plot:\")\n",
    "        plot_data_points(windowed_parts_depth_score_list)\n",
    "    \n",
    "    windowed_parts_filtered_depth_score_list = get_local_maxima(windowed_parts_depth_score_list)\n",
    "    if intermediate_status:\n",
    "        print(f\"windowed_parts_filtered_depth_score_list: {windowed_parts_filtered_depth_score_list}\")\n",
    "    if graph_status:\n",
    "        print(\"Filtered Depth Score Plot:\")\n",
    "        plot_data_points(windowed_parts_filtered_depth_score_list)\n",
    "    \n",
    "    filtered_threshold = compute_threshold(windowed_parts_filtered_depth_score_list)\n",
    "    if intermediate_status:\n",
    "        print(f\"filtered_threshold: {filtered_threshold}\")\n",
    "    if graph_status:\n",
    "        print(\"Filtered Depth Score With Threshold Line Plot:\")\n",
    "        plot_data_points(windowed_parts_filtered_depth_score_list, filtered_threshold)\n",
    "\n",
    "    #sentences_tokenised = primitively_naive_tokeniser(sentences)\n",
    "    #sentences_topics_splitted = filtered_indexes_list_to_splitted_sent(sentences_tokenised, windowed_sentences_filtered_depth_score_v1_list)\n",
    "    sentences_topics_splitted = filtered_indexes_list_to_splitted_segments_by_semantics(sentence_text, windowed_parts_filtered_depth_score_list)\n",
    "    return sentences_topics_splitted"
   ]
  },
  {
   "cell_type": "code",
   "execution_count": 52,
   "metadata": {},
   "outputs": [
    {
     "name": "stderr",
     "output_type": "stream",
     "text": [
      "c:\\Users\\Audric Ho\\Downloads\\LLM related stuff\\semantic_text_segmentation_attempt\\semantic_seg-venv\\Lib\\site-packages\\huggingface_hub\\file_download.py:1132: FutureWarning: `resume_download` is deprecated and will be removed in version 1.0.0. Downloads always resume when possible. If you want to force a new download, use `force_download=True`.\n",
      "  warnings.warn(\n"
     ]
    }
   ],
   "source": [
    "# Eg.\n",
    "\n",
    "from sentence_transformers import SentenceTransformer\n",
    "\n",
    "model_MiniLM_L6_v2 = SentenceTransformer(\"sentence-transformers/all-MiniLM-L6-v2\")\n",
    "\n",
    "#sentences = [\"This is an example sentence\", \"Each sentence is converted\"]\n",
    "#embeddings = model.encode(sentences)\n",
    "def get_sentence_embedding_MiniLM_L6_v2(sentence):\n",
    "    return model_MiniLM_L6_v2.encode(sentence)"
   ]
  },
  {
   "cell_type": "code",
   "execution_count": 73,
   "metadata": {},
   "outputs": [
    {
     "name": "stdout",
     "output_type": "stream",
     "text": [
      "windowed_parts: ['Employees receive free', 'receive free flight', 'free flight benefits', 'flight benefits to', 'benefits to return', 'to return to', 'return to home', 'to home country', 'home country once', 'country once a', 'once a year', 'a year and', 'year and free', 'and free flight', 'free flight benefits', 'flight benefits for', 'benefits for business', 'for business trips']\n",
      "embedding_list: [[-0.04448811  0.04795947  0.06037302 ... -0.0636269   0.05817426\n",
      "  -0.03921315]\n",
      " [ 0.05608535  0.02959418 -0.01245745 ... -0.01910884 -0.06298571\n",
      "  -0.07182703]\n",
      " [ 0.04054752  0.05044231  0.00771492 ... -0.04466909 -0.07142843\n",
      "  -0.0505781 ]\n",
      " ...\n",
      " [ 0.04129141  0.0615066  -0.01136441 ... -0.01247263 -0.08400208\n",
      "  -0.02540924]\n",
      " [-0.01858481  0.13829541  0.02429479 ... -0.05965253  0.01516818\n",
      "  -0.01185296]\n",
      " [ 0.04681492  0.0108937   0.03474697 ... -0.00696682 -0.01107509\n",
      "  -0.03220905]]\n",
      "windowed_parts_coherence_score_list: [0.4994730746903999, 0.8198922032960355, 0.8492839794926114, 0.4910717842325882, 0.5349487626300873, 0.7172618745156571, 0.5900993797399965, 0.6989476074732013, 0.7898075618087435, 0.4706807182392369, 0.6467284880067583, 0.5079176377693246, 0.441791767490429, 0.712296516185667, 0.8517857632130018, 0.5297827514081066, 0.46759211608333673]\n",
      "Coherence Score Plot:\n"
     ]
    },
    {
     "data": {
      "image/png": "[encoded data removed]",
      "text/plain": [
       "<Figure size 640x480 with 1 Axes>"
      ]
     },
     "metadata": {},
     "output_type": "display_data"
    },
    {
     "name": "stdout",
     "output_type": "stream",
     "text": [
      "windowed_parts_depth_score_list: [0.17490545 0.01469589 0.         0.29220114 0.09115656 0.\n",
      " 0.16343534 0.04542998 0.         0.24758731 0.         0.06940543\n",
      " 0.30746536 0.06974462 0.         0.16100151 0.19209682]\n",
      "Depth Score Plot:\n"
     ]
    },
    {
     "data": {
      "image/png": "[encoded data removed]",
      "text/plain": [
       "<Figure size 640x480 with 1 Axes>"
      ]
     },
     "metadata": {},
     "output_type": "display_data"
    },
    {
     "name": "stdout",
     "output_type": "stream",
     "text": [
      "windowed_parts_filtered_depth_score_list: [0.         0.         0.         0.29220114 0.         0.\n",
      " 0.16343534 0.         0.         0.24758731 0.         0.\n",
      " 0.30746536 0.         0.         0.         0.        ]\n",
      "Filtered Depth Score Plot:\n"
     ]
    },
    {
     "data": {
      "image/png": "[encoded data removed]",
      "text/plain": [
       "<Figure size 640x480 with 1 Axes>"
      ]
     },
     "metadata": {},
     "output_type": "display_data"
    },
    {
     "name": "stdout",
     "output_type": "stream",
     "text": [
      "filtered_threshold: 0.22466123834278376\n",
      "Filtered Depth Score With Threshold Line Plot:\n"
     ]
    },
    {
     "data": {
      "image/png": "[encoded data removed]",
      "text/plain": [
       "<Figure size 640x480 with 1 Axes>"
      ]
     },
     "metadata": {},
     "output_type": "display_data"
    },
    {
     "data": {
      "text/plain": [
       "['Employees receive free flight benefits',\n",
       " 'to return to home country once',\n",
       " 'a year and',\n",
       " 'free flight benefits for business trips']"
      ]
     },
     "execution_count": 73,
     "metadata": {},
     "output_type": "execute_result"
    }
   ],
   "source": [
    "# Eg. \"get_sentence_embedding_MiniLM_L6_v2\" embedding and statuses = True\n",
    "semantic_segmentation_function(get_sentence_embedding_MiniLM_L6_v2, \"Employees receive free flight benefits to return to home country once a year and free flight benefits for business trips\", intermediate_status=True, graph_status=True)"
   ]
  },
  {
   "cell_type": "code",
   "execution_count": 74,
   "metadata": {},
   "outputs": [
    {
     "data": {
      "text/plain": [
       "['Employees receive free flight benefits',\n",
       " 'to return to home country once',\n",
       " 'a year and',\n",
       " 'free flight benefits for business trips']"
      ]
     },
     "execution_count": 74,
     "metadata": {},
     "output_type": "execute_result"
    }
   ],
   "source": [
    "# Eg. \"get_sentence_embedding_MiniLM_L6_v2\" embedding and statuses = False\n",
    "semantic_segmentation_function(get_sentence_embedding_MiniLM_L6_v2, \"Employees receive free flight benefits to return to home country once a year and free flight benefits for business trips\", intermediate_status=False, graph_status=False)"
   ]
  },
  {
   "cell_type": "code",
   "execution_count": 123,
   "metadata": {},
   "outputs": [],
   "source": [
    "# Lock Model\n",
    "def lock_semantic_segmentation_function(embedding_model_function):\n",
    "    def lockED_semantic_segmentation_function(sentence_text, intermediate_status = False, graph_status = False): # all these default params need to have because the locked function can have the option to leave the args blank for them to let it be default!\n",
    "        return semantic_segmentation_function(embedding_model_function=embedding_model_function, sentence_text=sentence_text, intermediate_status=intermediate_status, graph_status=graph_status)\n",
    "    return lockED_semantic_segmentation_function"
   ]
  },
  {
   "cell_type": "code",
   "execution_count": 88,
   "metadata": {},
   "outputs": [
    {
     "data": {
      "text/plain": [
       "['Employees receive free flight benefits',\n",
       " 'to return to home country once',\n",
       " 'a year and',\n",
       " 'free flight benefits for business trips']"
      ]
     },
     "execution_count": 88,
     "metadata": {},
     "output_type": "execute_result"
    }
   ],
   "source": [
    "# Locked Model\n",
    "semantic_segmentation_locked_model_MiniLM_L6_v2 = lock_semantic_segmentation_function(get_sentence_embedding_MiniLM_L6_v2)\n",
    "semantic_segmentation_locked_model_MiniLM_L6_v2(\"Employees receive free flight benefits to return to home country once a year and free flight benefits for business trips\", intermediate_status=False, graph_status=False)"
   ]
  },
  {
   "cell_type": "code",
   "execution_count": null,
   "metadata": {},
   "outputs": [],
   "source": []
  },
  {
   "cell_type": "code",
   "execution_count": null,
   "metadata": {},
   "outputs": [],
   "source": []
  },
  {
   "cell_type": "code",
   "execution_count": null,
   "metadata": {},
   "outputs": [],
   "source": []
  },
  {
   "cell_type": "markdown",
   "metadata": {},
   "source": [
    "# Similarity Comparison Function Section"
   ]
  },
  {
   "cell_type": "code",
   "execution_count": 7,
   "metadata": {},
   "outputs": [],
   "source": [
    "# Generic Similarity Comparison Function (comparison tuples in a list for comparison!)\n",
    "\n",
    "def generic_similarity_comparison_function(embedding_model_function, comparison_tuple_in_list, sort_output = 0):\n",
    "    res_dict = {}\n",
    "    for comp_items in comparison_tuple_in_list:\n",
    "        # possible alternative is below, so that if embedding model only accept one string and return 1d array/tensor then works!!\n",
    "        # comp_emb = [embedding_model_function(comp_items[0]), embedding_model_function(comp_items[1])]\n",
    "        comp_emb = embedding_model_function([comp_items[0], comp_items[1]]) # or just list(comp_items)\n",
    "        cos_sim = cosine_sim(comp_emb[0], comp_emb[1])\n",
    "        res_dict[comp_items] = cos_sim\n",
    "        \n",
    "    # sort by -1 is descending, 0 is no sort, 1 is ascending!\n",
    "    # default is no sort, 0\n",
    "    if sort_output == -1:\n",
    "        res_dict = {comp:comp_score for comp, comp_score in sorted(res_dict.items(), key = lambda dict_item: dict_item[1], reverse=True)}\n",
    "    if sort_output == 1:\n",
    "        res_dict = dict(sorted(res_dict.items(), key = lambda dict_item: dict_item[1], reverse=False))\n",
    "    return res_dict\n",
    "        "
   ]
  },
  {
   "cell_type": "code",
   "execution_count": 8,
   "metadata": {},
   "outputs": [
    {
     "data": {
      "text/plain": [
       "{('i like people', 'people love me'): 0.6048486815689496,\n",
       " ('the world is green', 'the ocean is blue'): 0.4271523653033571,\n",
       " ('hi there', 'the world is bad'): 0.1287177563239086}"
      ]
     },
     "execution_count": 8,
     "metadata": {},
     "output_type": "execute_result"
    }
   ],
   "source": [
    "# Sort -1, descending\n",
    "generic_similarity_comparison_function(get_sentence_embedding_MiniLM_L6_v2, [(\"hi there\", \"the world is bad\"), (\"i like people\", \"people love me\"), (\"the world is green\", \"the ocean is blue\")], sort_output=-1)"
   ]
  },
  {
   "cell_type": "code",
   "execution_count": 43,
   "metadata": {},
   "outputs": [
    {
     "data": {
      "text/plain": [
       "{('hi there', 'the world is bad'): 0.1287177563239086,\n",
       " ('i like people', 'people love me'): 0.6048486815689496,\n",
       " ('the world is green', 'the ocean is blue'): 0.4271523653033571}"
      ]
     },
     "execution_count": 43,
     "metadata": {},
     "output_type": "execute_result"
    }
   ],
   "source": [
    "# Sort 0, no sort\n",
    "generic_similarity_comparison_function(get_sentence_embedding_MiniLM_L6_v2, [(\"hi there\", \"the world is bad\"), (\"i like people\", \"people love me\"), (\"the world is green\", \"the ocean is blue\")], sort_output=0)"
   ]
  },
  {
   "cell_type": "code",
   "execution_count": 44,
   "metadata": {},
   "outputs": [
    {
     "data": {
      "text/plain": [
       "{('hi there', 'the world is bad'): 0.1287177563239086,\n",
       " ('the world is green', 'the ocean is blue'): 0.4271523653033571,\n",
       " ('i like people', 'people love me'): 0.6048486815689496}"
      ]
     },
     "execution_count": 44,
     "metadata": {},
     "output_type": "execute_result"
    }
   ],
   "source": [
    "# Sort 1, ascending\n",
    "generic_similarity_comparison_function(get_sentence_embedding_MiniLM_L6_v2, [(\"hi there\", \"the world is bad\"), (\"i like people\", \"people love me\"), (\"the world is green\", \"the ocean is blue\")], sort_output=1)"
   ]
  },
  {
   "cell_type": "code",
   "execution_count": 12,
   "metadata": {},
   "outputs": [],
   "source": [
    "# partial does not allow arguments to be filled with keywords, need strictly positional so prefer not\n",
    "\n",
    "## Error is like:\n",
    "# generic_similarity_comparison_locked_model_MiniLM_L6_v2 = lock_generic_similarity_comparison_function(get_sentence_embedding_MiniLM_L6_v2)\n",
    "# generic_similarity_comparison_locked_model_MiniLM_L6_v2([(\"hi there\", \"the world is bad\"), (\"i like people\", \"people love me\"), (\"the world is green\", \"the ocean is blue\")], sort_output=1)\n",
    "\n",
    "## Fix is need to specific keyword or change embedding callbaack function position and all, by keyword is like:\n",
    "# generic_similarity_comparison_locked_model_MiniLM_L6_v2 = lock_generic_similarity_comparison_function(get_sentence_embedding_MiniLM_L6_v2)\n",
    "# generic_similarity_comparison_locked_model_MiniLM_L6_v2(comparison_tuple_in_list=[(\"hi there\", \"the world is bad\"), (\"i like people\", \"people love me\"), (\"the world is green\", \"the ocean is blue\")], sort_output=1)\n",
    "## see the \"comparison_tuple_in_list=\" specified, for example! ^\n",
    "\n",
    "\"\"\"\n",
    "from functools import partial\n",
    "\n",
    "def lock_generic_similarity_comparison_function(embedding_model_function):\n",
    "    return partial(generic_similarity_comparison_function, embedding_model_function=embedding_model_function)\n",
    "\"\"\"\n",
    "\n",
    "## instead of def new function, lambda approach!\n",
    "\n",
    "def lock_generic_similarity_comparison_function(embedding_model_function):\n",
    "    return lambda comparison_tuple_in_list, sort_output = 0: generic_similarity_comparison_function(embedding_model_function=embedding_model_function, comparison_tuple_in_list=comparison_tuple_in_list, sort_output=sort_output)"
   ]
  },
  {
   "cell_type": "code",
   "execution_count": 113,
   "metadata": {},
   "outputs": [
    {
     "data": {
      "text/plain": [
       "{('hi there', 'the world is bad'): 0.1287177563239086,\n",
       " ('i like people', 'people love me'): 0.6048486815689496,\n",
       " ('the world is green', 'the ocean is blue'): 0.4271523653033571}"
      ]
     },
     "execution_count": 113,
     "metadata": {},
     "output_type": "execute_result"
    }
   ],
   "source": [
    "generic_similarity_comparison_locked_model_MiniLM_L6_v2 = lock_generic_similarity_comparison_function(get_sentence_embedding_MiniLM_L6_v2)\n",
    "generic_similarity_comparison_locked_model_MiniLM_L6_v2([(\"hi there\", \"the world is bad\"), (\"i like people\", \"people love me\"), (\"the world is green\", \"the ocean is blue\")])"
   ]
  },
  {
   "cell_type": "code",
   "execution_count": 8,
   "metadata": {},
   "outputs": [],
   "source": [
    "# ONE Category Similarity Comparison Function (compare to each string in a list!)\n",
    "def single_category_similarity_comparison_function(embedding_model_function, category_single, texts, sort_output = 0):\n",
    "    if type(texts) != list:\n",
    "        texts = [texts]\n",
    "    compiled_tuple_comparison_list = [(text, category) for text, category in zip(texts, [category_single for i in range(len(texts))])]\n",
    "    comparison_result_dict = generic_similarity_comparison_function(embedding_model_function=embedding_model_function, comparison_tuple_in_list=compiled_tuple_comparison_list, sort_output=sort_output)\n",
    "    return comparison_result_dict"
   ]
  },
  {
   "cell_type": "code",
   "execution_count": 57,
   "metadata": {},
   "outputs": [
    {
     "data": {
      "text/plain": [
       "{('steak', 'food'): 0.5003130997095016,\n",
       " ('sirloin steak with mushroom sauce', 'food'): 0.2937494543044752,\n",
       " ('laksa bowl', 'food'): 0.259120507793398,\n",
       " ('curry prata', 'food'): 0.2585698555536739,\n",
       " ('laksa', 'food'): 0.21327309103382694,\n",
       " ('prata', 'food'): 0.21317178691606403}"
      ]
     },
     "execution_count": 57,
     "metadata": {},
     "output_type": "execute_result"
    }
   ],
   "source": [
    "# Eg. category food, and texts are foods\n",
    "single_category_similarity_comparison_function(get_sentence_embedding_MiniLM_L6_v2, \"food\", [\"laksa\", \"laksa bowl\", \"prata\", \"curry prata\", \"steak\", \"sirloin steak with mushroom sauce\"], sort_output=-1)"
   ]
  },
  {
   "cell_type": "code",
   "execution_count": 11,
   "metadata": {},
   "outputs": [],
   "source": [
    "def lock_single_category_similarity_comparison_function(embedding_model_function):\n",
    "    def lockED_single_category_similarity_comparison_function(category_single, texts, sort_output=0): ## sort_output=0 is needed since it can be left blank when called from locked model!\n",
    "        return single_category_similarity_comparison_function(embedding_model_function=embedding_model_function, category_single=category_single, texts=texts, sort_output=sort_output)\n",
    "    return lockED_single_category_similarity_comparison_function"
   ]
  },
  {
   "cell_type": "code",
   "execution_count": 122,
   "metadata": {},
   "outputs": [
    {
     "data": {
      "text/plain": [
       "{('steak', 'food'): 0.5003130997095016,\n",
       " ('sirloin steak with mushroom sauce', 'food'): 0.2937494543044752,\n",
       " ('laksa bowl', 'food'): 0.259120507793398,\n",
       " ('curry prata', 'food'): 0.2585698555536739,\n",
       " ('laksa', 'food'): 0.21327309103382694,\n",
       " ('prata', 'food'): 0.21317178691606403}"
      ]
     },
     "execution_count": 122,
     "metadata": {},
     "output_type": "execute_result"
    }
   ],
   "source": [
    "single_category_similarity_comparison_locked_model_MiniLM_L6_v2 = lock_single_category_similarity_comparison_function(get_sentence_embedding_MiniLM_L6_v2)\n",
    "single_category_similarity_comparison_locked_model_MiniLM_L6_v2(\"food\", [\"laksa\", \"laksa bowl\", \"prata\", \"curry prata\", \"steak\", \"sirloin steak with mushroom sauce\"], sort_output=-1)"
   ]
  },
  {
   "cell_type": "code",
   "execution_count": 9,
   "metadata": {},
   "outputs": [],
   "source": [
    "# Categories Similarity Comparison Function (compare to each string in a list!)\n",
    "\n",
    "# sort by -1 is descending, 0 is no sort, 1 is ascending!\n",
    "# default is no sort, 0\n",
    "    \n",
    "def categories_similarity_comparison_function(embedding_model_function, categories, texts, sort_output = 0):\n",
    "    if type(categories) != list:\n",
    "        categories = [categories]\n",
    "    categories_comparison_result_dict = {}\n",
    "    for category in categories:\n",
    "        categories_comparison_result_dict[category] = single_category_similarity_comparison_function(embedding_model_function=embedding_model_function, category_single=category, texts=texts, sort_output=sort_output)\n",
    "    return categories_comparison_result_dict"
   ]
  },
  {
   "cell_type": "code",
   "execution_count": 64,
   "metadata": {},
   "outputs": [
    {
     "data": {
      "text/plain": [
       "{'food': {('steak', 'food'): 0.5003130997095016,\n",
       "  ('sirloin steak with mushroom sauce', 'food'): 0.2937494543044752,\n",
       "  ('laksa bowl', 'food'): 0.259120507793398,\n",
       "  ('curry prata', 'food'): 0.2585698555536739,\n",
       "  ('laksa', 'food'): 0.21327309103382694,\n",
       "  ('prata', 'food'): 0.21317178691606403},\n",
       " 'asian food': {('steak', 'asian food'): 0.30798892917323445,\n",
       "  ('curry prata', 'asian food'): 0.30237662711869023,\n",
       "  ('sirloin steak with mushroom sauce', 'asian food'): 0.3007048767274798,\n",
       "  ('laksa bowl', 'asian food'): 0.22997642560937964,\n",
       "  ('laksa', 'asian food'): 0.20722211920235642,\n",
       "  ('prata', 'asian food'): 0.18665660738247442},\n",
       " 'western food': {('steak', 'western food'): 0.39804313466154906,\n",
       "  ('sirloin steak with mushroom sauce', 'western food'): 0.3040080630479595,\n",
       "  ('curry prata', 'western food'): 0.288779802737338,\n",
       "  ('laksa', 'western food'): 0.24079780320414573,\n",
       "  ('laksa bowl', 'western food'): 0.23389015706789013,\n",
       "  ('prata', 'western food'): 0.15397132982047892}}"
      ]
     },
     "execution_count": 64,
     "metadata": {},
     "output_type": "execute_result"
    }
   ],
   "source": [
    "# Eg. Testing multi-categories\n",
    "categories_similarity_comparison_function(get_sentence_embedding_MiniLM_L6_v2, [\"food\", \"asian food\", \"western food\"], [\"laksa\", \"laksa bowl\", \"prata\", \"curry prata\", \"steak\", \"sirloin steak with mushroom sauce\"], sort_output=-1)"
   ]
  },
  {
   "cell_type": "code",
   "execution_count": 13,
   "metadata": {},
   "outputs": [],
   "source": [
    "\"\"\"\n",
    "from functools import partial\n",
    "\n",
    "def lock_categories_similarity_comparison_function(embedding_model_function):\n",
    "    return partial(categories_similarity_comparison_function, embedding_model_function=embedding_model_function)\n",
    "\"\"\"\n",
    "\n",
    "# lambda approach somewhat!, no keyword in the lambda now, just based off positional cos it can! but the sort_output=0 is a must, so that when call the locked function, if leave blank for it, wont error!\n",
    "def lock_categories_similarity_comparison_function(embedding_model_function):\n",
    "    return lambda categories, texts, sort_output=0: categories_similarity_comparison_function(embedding_model_function, categories, texts, sort_output)"
   ]
  },
  {
   "cell_type": "code",
   "execution_count": 116,
   "metadata": {},
   "outputs": [
    {
     "data": {
      "text/plain": [
       "{'food': {('laksa', 'food'): 0.21327309103382694,\n",
       "  ('laksa bowl', 'food'): 0.259120507793398,\n",
       "  ('prata', 'food'): 0.21317178691606403,\n",
       "  ('curry prata', 'food'): 0.2585698555536739,\n",
       "  ('steak', 'food'): 0.5003130997095016,\n",
       "  ('sirloin steak with mushroom sauce', 'food'): 0.2937494543044752},\n",
       " 'asian food': {('laksa', 'asian food'): 0.20722211920235642,\n",
       "  ('laksa bowl', 'asian food'): 0.22997642560937964,\n",
       "  ('prata', 'asian food'): 0.18665660738247442,\n",
       "  ('curry prata', 'asian food'): 0.30237662711869023,\n",
       "  ('steak', 'asian food'): 0.30798892917323445,\n",
       "  ('sirloin steak with mushroom sauce', 'asian food'): 0.3007048767274798},\n",
       " 'western food': {('laksa', 'western food'): 0.24079780320414573,\n",
       "  ('laksa bowl', 'western food'): 0.23389015706789013,\n",
       "  ('prata', 'western food'): 0.15397132982047892,\n",
       "  ('curry prata', 'western food'): 0.288779802737338,\n",
       "  ('steak', 'western food'): 0.39804313466154906,\n",
       "  ('sirloin steak with mushroom sauce', 'western food'): 0.3040080630479595}}"
      ]
     },
     "execution_count": 116,
     "metadata": {},
     "output_type": "execute_result"
    }
   ],
   "source": [
    "categories_similarity_comparison_locked_model_MiniLM_L6_v2 = lock_categories_similarity_comparison_function(get_sentence_embedding_MiniLM_L6_v2)\n",
    "categories_similarity_comparison_locked_model_MiniLM_L6_v2([\"food\", \"asian food\", \"western food\"], texts=[\"laksa\", \"laksa bowl\", \"prata\", \"curry prata\", \"steak\", \"sirloin steak with mushroom sauce\"])"
   ]
  },
  {
   "cell_type": "code",
   "execution_count": null,
   "metadata": {},
   "outputs": [],
   "source": []
  },
  {
   "cell_type": "code",
   "execution_count": null,
   "metadata": {},
   "outputs": [],
   "source": []
  },
  {
   "cell_type": "markdown",
   "metadata": {},
   "source": [
    "### Comparison Result Display"
   ]
  },
  {
   "cell_type": "code",
   "execution_count": 10,
   "metadata": {},
   "outputs": [],
   "source": [
    "# Categories Similarity Result Display\n",
    "\n",
    "# Very specific use case only for \"single_category_similarity_comparison_function\" which returns a dict of compare_key and result_value\n",
    "# Not usable on \"categories_similarity_comparison_function\" since this returns will return dict of dict!\n",
    "\n",
    "def category_similarity_result_display(category_result_dict, sort_display = 0):\n",
    "    print(f\"Category: {list(category_result_dict.keys())[0][1]}\") ## trashy clusterfuck\n",
    "    print(\"Similarity Level:\")\n",
    "    if sort_display == -1:\n",
    "        for comparison_items_tuple, comparison_result in (sorted(category_result_dict.items(), key= lambda dict_item: dict_item[1], reverse=True)):\n",
    "            print(f\"{comparison_items_tuple[0]:30.30} /-/ {comparison_items_tuple[1]:30.30} : {comparison_result:.5}\")\n",
    "    elif sort_display == 1:\n",
    "        for comparison_items_tuple, comparison_result in (sorted(category_result_dict.items(), key= lambda dict_item: dict_item[1], reverse=True)):\n",
    "            print(f\"{comparison_items_tuple[0]:30.30} /-/ {comparison_items_tuple[1]:30.30} : {comparison_result:.5}\")\n",
    "    else:\n",
    "        for comparison_items_tuple, comparison_result in category_result_dict.items():\n",
    "            print(f\"{comparison_items_tuple[0]:30.30} /-/ {comparison_items_tuple[1]:30.30} : {comparison_result:.5}\")"
   ]
  },
  {
   "cell_type": "code",
   "execution_count": 154,
   "metadata": {},
   "outputs": [
    {
     "name": "stdout",
     "output_type": "stream",
     "text": [
      "Category: food\n",
      "Similarity Level:\n",
      "super prata                    /-/ food                           : 0.16437\n",
      "caifan                         /-/ food                           : 0.21156\n",
      "ramen                          /-/ food                           : 0.43923\n"
     ]
    }
   ],
   "source": [
    "# Very specific use case only for \"single_category_similarity_comparison_function\" which returns a dict of compare_key and result_value\n",
    "# Not usable on \"categories_similarity_comparison_function\" since this returns will return dict of dict!\n",
    "category_similarity_result_display(single_category_similarity_comparison_locked_model_MiniLM_L6_v2(\"food\", [\"super prata\", \"caifan\", \"ramen\"]))"
   ]
  },
  {
   "cell_type": "code",
   "execution_count": 11,
   "metadata": {},
   "outputs": [],
   "source": [
    "# Categories Similarity Result Display\n",
    "def categories_similarity_result_display(categories_result_dict, sort_display = 0):\n",
    "    for category, category_similarity_results_dict in categories_result_dict.items():\n",
    "        print(f\"Category: {category}\")\n",
    "        print(\"Similarity Level:\")\n",
    "        if sort_display == -1:\n",
    "            for comparison_items_tuple, comparison_result in (sorted(category_similarity_results_dict.items(), key= lambda dict_item: dict_item[1], reverse=True)):\n",
    "                print(f\"{comparison_items_tuple[0]:30.30} /-/ {comparison_items_tuple[1]:30.30} : {comparison_result:.5}\")\n",
    "        elif sort_display == 1:\n",
    "            for comparison_items_tuple, comparison_result in (sorted(category_similarity_results_dict.items(), key= lambda dict_item: dict_item[1], reverse=True)):\n",
    "                print(f\"{comparison_items_tuple[0]:30.30} /-/ {comparison_items_tuple[1]:30.30} : {comparison_result:.5}\")\n",
    "        else:\n",
    "            for comparison_items_tuple, comparison_result in category_similarity_results_dict.items():\n",
    "                print(f\"{comparison_items_tuple[0]:30.30} /-/ {comparison_items_tuple[1]:30.30} : {comparison_result:.5}\")"
   ]
  },
  {
   "cell_type": "code",
   "execution_count": 153,
   "metadata": {},
   "outputs": [
    {
     "name": "stdout",
     "output_type": "stream",
     "text": [
      "Category: food\n",
      "Similarity Level:\n",
      "steak                          /-/ food                           : 0.50031\n",
      "sirloin steak with mushroom sa /-/ food                           : 0.29375\n",
      "laksa bowl                     /-/ food                           : 0.25912\n",
      "curry prata                    /-/ food                           : 0.25857\n",
      "laksa                          /-/ food                           : 0.21327\n",
      "prata                          /-/ food                           : 0.21317\n",
      "Category: asian food\n",
      "Similarity Level:\n",
      "steak                          /-/ asian food                     : 0.30799\n",
      "curry prata                    /-/ asian food                     : 0.30238\n",
      "sirloin steak with mushroom sa /-/ asian food                     : 0.3007\n",
      "laksa bowl                     /-/ asian food                     : 0.22998\n",
      "laksa                          /-/ asian food                     : 0.20722\n",
      "prata                          /-/ asian food                     : 0.18666\n",
      "Category: western food\n",
      "Similarity Level:\n",
      "steak                          /-/ western food                   : 0.39804\n",
      "sirloin steak with mushroom sa /-/ western food                   : 0.30401\n",
      "curry prata                    /-/ western food                   : 0.28878\n",
      "laksa                          /-/ western food                   : 0.2408\n",
      "laksa bowl                     /-/ western food                   : 0.23389\n",
      "prata                          /-/ western food                   : 0.15397\n"
     ]
    }
   ],
   "source": [
    "# Eg. Testing multi-categories DISPLAY\n",
    "categories_similarity_result_display(categories_similarity_comparison_function(get_sentence_embedding_MiniLM_L6_v2, [\"food\", \"asian food\", \"western food\"], [\"laksa\", \"laksa bowl\", \"prata\", \"curry prata\", \"steak\", \"sirloin steak with mushroom sauce\"]), sort_display=-1)"
   ]
  },
  {
   "cell_type": "code",
   "execution_count": null,
   "metadata": {},
   "outputs": [],
   "source": []
  },
  {
   "cell_type": "code",
   "execution_count": null,
   "metadata": {},
   "outputs": [],
   "source": []
  },
  {
   "cell_type": "code",
   "execution_count": 158,
   "metadata": {},
   "outputs": [],
   "source": [
    "demo_cat = [\"food\", \"asian food\", \"western food\", \"Home Leave Passage\", \"Employee flight benefits\", \"subsidised flight tickets for employees to go home\", \"covered business trip expenses\"]\n",
    "demo_sent = \"Employees receive free flight benefits to return to home country once a year and free flight benefits for business trips\""
   ]
  },
  {
   "cell_type": "code",
   "execution_count": 12,
   "metadata": {},
   "outputs": [],
   "source": [
    "# Overall Combined Function\n",
    "\n",
    "def split_and_compare(split_embed_function, compare_embed_function, categories, sentence_text, intermediate = False, graph = False, sort_compare = 0, display_split = True , display_end = True, sort_display = 0):\n",
    "    splitted_sentence_text = semantic_segmentation_function(embedding_model_function=split_embed_function, sentence_text=sentence_text, intermediate_status=intermediate, graph_status=graph)\n",
    "    if display_split:\n",
    "        print(f\"Splitted texts: {splitted_sentence_text}\")\n",
    "    compare_result = categories_similarity_comparison_function(embedding_model_function=compare_embed_function, categories=categories, texts=splitted_sentence_text, sort_output=sort_compare)\n",
    "    if display_end:\n",
    "        categories_similarity_result_display(compare_result, sort_display=sort_display)\n",
    "    return splitted_sentence_text, compare_result\n",
    "    "
   ]
  },
  {
   "cell_type": "code",
   "execution_count": 215,
   "metadata": {},
   "outputs": [
    {
     "name": "stdout",
     "output_type": "stream",
     "text": [
      "Splitted texts: ['Employees receive free flight benefits', 'to return to home country once', 'a year and', 'free flight benefits for business trips']\n",
      "Category: food\n",
      "Similarity Level:\n",
      "to return to home country once /-/ food                           : 0.20525\n",
      "a year and                     /-/ food                           : 0.18797\n",
      "free flight benefits for busin /-/ food                           : 0.02749\n",
      "Employees receive free flight  /-/ food                           : -0.0047651\n",
      "Category: asian food\n",
      "Similarity Level:\n",
      "to return to home country once /-/ asian food                     : 0.16057\n",
      "a year and                     /-/ asian food                     : 0.061953\n",
      "free flight benefits for busin /-/ asian food                     : 0.042717\n",
      "Employees receive free flight  /-/ asian food                     : 0.017726\n",
      "Category: western food\n",
      "Similarity Level:\n",
      "to return to home country once /-/ western food                   : 0.22035\n",
      "a year and                     /-/ western food                   : 0.11257\n",
      "free flight benefits for busin /-/ western food                   : 0.061861\n",
      "Employees receive free flight  /-/ western food                   : -0.028699\n",
      "Category: Home Leave Passage\n",
      "Similarity Level:\n",
      "to return to home country once /-/ Home Leave Passage             : 0.48484\n",
      "free flight benefits for busin /-/ Home Leave Passage             : 0.171\n",
      "Employees receive free flight  /-/ Home Leave Passage             : 0.16376\n",
      "a year and                     /-/ Home Leave Passage             : 0.090728\n",
      "Category: Employee flight benefits\n",
      "Similarity Level:\n",
      "Employees receive free flight  /-/ Employee flight benefits       : 0.83031\n",
      "free flight benefits for busin /-/ Employee flight benefits       : 0.70319\n",
      "to return to home country once /-/ Employee flight benefits       : 0.16534\n",
      "a year and                     /-/ Employee flight benefits       : 0.069246\n",
      "Category: subsidised flight tickets for employees to go home\n",
      "Similarity Level:\n",
      "Employees receive free flight  /-/ subsidised flight tickets for  : 0.58175\n",
      "free flight benefits for busin /-/ subsidised flight tickets for  : 0.51884\n",
      "to return to home country once /-/ subsidised flight tickets for  : 0.25625\n",
      "a year and                     /-/ subsidised flight tickets for  : -0.0037449\n",
      "Category: covered business trip expenses\n",
      "Similarity Level:\n",
      "free flight benefits for busin /-/ covered business trip expenses : 0.64277\n",
      "Employees receive free flight  /-/ covered business trip expenses : 0.35371\n",
      "to return to home country once /-/ covered business trip expenses : 0.20381\n",
      "a year and                     /-/ covered business trip expenses : 0.079076\n"
     ]
    }
   ],
   "source": [
    "split_and_compare(get_sentence_embedding_MiniLM_L6_v2, get_sentence_embedding_MiniLM_L6_v2, demo_cat, demo_sent, graph=False, sort_display=-1)\n",
    "pass"
   ]
  },
  {
   "cell_type": "code",
   "execution_count": 17,
   "metadata": {},
   "outputs": [],
   "source": [
    "## Lock split and compare overall combined function\n",
    "def lock_split_and_compare(split_embed_function, compare_embed_function):\n",
    "    return lambda categories, sentence_text, intermediate = False, graph = False, sort_compare = 0, display_split = True, display_end = True, sort_display = 0: split_and_compare(split_embed_function=split_embed_function, compare_embed_function=compare_embed_function, categories=categories, sentence_text=sentence_text, intermediate=intermediate, graph=graph, sort_compare=sort_compare, display_split=display_split, display_end=display_end, sort_display=sort_display)\n",
    "    # SyntaxError: positional argument follows keyword argument\n",
    "    # return lambda categories, sentence_text, intermediate = False, graph = False, sort_compare = 0, display_end = True, sort_display = 0: split_and_compare(split_embed_function=split_embed_function, compare_embed_function=compare_embed_function, categories, sentence_text, intermediate = False, graph = False, sort_compare = 0, display_end = True, sort_display = 0)\n"
   ]
  },
  {
   "cell_type": "code",
   "execution_count": 217,
   "metadata": {},
   "outputs": [
    {
     "name": "stdout",
     "output_type": "stream",
     "text": [
      "Splitted texts: ['Employees receive free flight benefits', 'to return to home country once', 'a year and', 'free flight benefits for business trips']\n",
      "Category: food\n",
      "Similarity Level:\n",
      "to return to home country once /-/ food                           : 0.20525\n",
      "a year and                     /-/ food                           : 0.18797\n",
      "free flight benefits for busin /-/ food                           : 0.02749\n",
      "Employees receive free flight  /-/ food                           : -0.0047651\n",
      "Category: asian food\n",
      "Similarity Level:\n",
      "to return to home country once /-/ asian food                     : 0.16057\n",
      "a year and                     /-/ asian food                     : 0.061953\n",
      "free flight benefits for busin /-/ asian food                     : 0.042717\n",
      "Employees receive free flight  /-/ asian food                     : 0.017726\n",
      "Category: western food\n",
      "Similarity Level:\n",
      "to return to home country once /-/ western food                   : 0.22035\n",
      "a year and                     /-/ western food                   : 0.11257\n",
      "free flight benefits for busin /-/ western food                   : 0.061861\n",
      "Employees receive free flight  /-/ western food                   : -0.028699\n",
      "Category: Home Leave Passage\n",
      "Similarity Level:\n",
      "to return to home country once /-/ Home Leave Passage             : 0.48484\n",
      "free flight benefits for busin /-/ Home Leave Passage             : 0.171\n",
      "Employees receive free flight  /-/ Home Leave Passage             : 0.16376\n",
      "a year and                     /-/ Home Leave Passage             : 0.090728\n",
      "Category: Employee flight benefits\n",
      "Similarity Level:\n",
      "Employees receive free flight  /-/ Employee flight benefits       : 0.83031\n",
      "free flight benefits for busin /-/ Employee flight benefits       : 0.70319\n",
      "to return to home country once /-/ Employee flight benefits       : 0.16534\n",
      "a year and                     /-/ Employee flight benefits       : 0.069246\n",
      "Category: subsidised flight tickets for employees to go home\n",
      "Similarity Level:\n",
      "Employees receive free flight  /-/ subsidised flight tickets for  : 0.58175\n",
      "free flight benefits for busin /-/ subsidised flight tickets for  : 0.51884\n",
      "to return to home country once /-/ subsidised flight tickets for  : 0.25625\n",
      "a year and                     /-/ subsidised flight tickets for  : -0.0037449\n",
      "Category: covered business trip expenses\n",
      "Similarity Level:\n",
      "free flight benefits for busin /-/ covered business trip expenses : 0.64277\n",
      "Employees receive free flight  /-/ covered business trip expenses : 0.35371\n",
      "to return to home country once /-/ covered business trip expenses : 0.20381\n",
      "a year and                     /-/ covered business trip expenses : 0.079076\n"
     ]
    }
   ],
   "source": [
    "locked_split_MiniLM_L6_v2_and_compare_MiniLM_L6_v2 = lock_split_and_compare(get_sentence_embedding_MiniLM_L6_v2, get_sentence_embedding_MiniLM_L6_v2)\n",
    "locked_split_MiniLM_L6_v2_and_compare_MiniLM_L6_v2(demo_cat, demo_sent, sort_display=-1)\n",
    "pass"
   ]
  },
  {
   "cell_type": "code",
   "execution_count": 151,
   "metadata": {},
   "outputs": [],
   "source": [
    "## split segmentation and comaprions into different file in a \"generic useful function\" or smth folder\n",
    "## then one overall combined\n",
    "\n",
    "### use both!!\n",
    "\n",
    "## test on bge and other model as well, to ensure works!!"
   ]
  },
  {
   "cell_type": "code",
   "execution_count": 171,
   "metadata": {},
   "outputs": [],
   "source": [
    "## do categories's sub-categories as well(synonyms), and display as sub of original and maybe classify? or not?\n",
    "## use zero shot classifier as well"
   ]
  },
  {
   "cell_type": "code",
   "execution_count": 63,
   "metadata": {},
   "outputs": [],
   "source": [
    "from transformers import AutoTokenizer, AutoModel\n",
    "import torch\n",
    "\n",
    "# Load model from HuggingFace Hub\n",
    "#tokenizer = AutoTokenizer.from_pretrained('BAAI/bge-large-zh-v1.5')\n",
    "#model = AutoModel.from_pretrained('BAAI/bge-large-zh-v1.5')\n",
    "tokenizer_bge = AutoTokenizer.from_pretrained(\"BAAI/bge-large-en-v1.5\")\n",
    "model_bge = AutoModel.from_pretrained(\"BAAI/bge-large-en-v1.5\")\n",
    "\n",
    "model_bge.eval()\n",
    "\n",
    "def get_sentence_embedding_bge(sentenceS): ## already normalised due to \"torch.nn.functional.normalize\" function\n",
    "    # Tokenize sentences\n",
    "    encoded_input = tokenizer_bge(sentenceS, padding=True, truncation=True, return_tensors='pt')\n",
    "    # for s2p(short query to long passage) retrieval task, add an instruction to query (not add instruction for passages)\n",
    "    # encoded_input = tokenizer([instruction + q for q in queries], padding=True, truncation=True, return_tensors='pt')\n",
    "\n",
    "    # Compute token embeddings\n",
    "    with torch.no_grad():\n",
    "        model_output = model_bge(**encoded_input)\n",
    "        # Perform pooling. In this case, cls pooling.\n",
    "        sentenceS_embeddings = model_output[0][:, 0]\n",
    "    # normalize embeddings\n",
    "    sentenceS_embeddings = torch.nn.functional.normalize(sentenceS_embeddings, p=2, dim=1)\n",
    "    #print(\"SentenceS embeddings:\", sentenceS_embeddings)\n",
    "    '''\n",
    "    if len(sentenceS_embeddings) == 1:\n",
    "        return sentenceS_embeddings[0]\n",
    "    return sentenceS_embeddings ## if not input a list of sentences, then just one\n",
    "    '''\n",
    "    return sentenceS_embeddings"
   ]
  },
  {
   "cell_type": "code",
   "execution_count": 64,
   "metadata": {},
   "outputs": [
    {
     "name": "stdout",
     "output_type": "stream",
     "text": [
      "Splitted texts: ['Employees receive free flight benefits to', 'return to home country once', 'a year and', 'free flight benefits for business trips']\n",
      "General Category: Passage provided for business purpose\n",
      "Sub-Categories: ('Passage provided for business purpose', 'Air tickets for business trip', 'Air tickets for work purposes', 'Flight for business trip', 'Flight for work purposes', 'Travel incidental to employment')\n",
      "Similarity Level Of Top 5 (Limit=0.5):\n",
      "free flight benefits for busin /-/ Flight for business trip       : 0.81393\n",
      "free flight benefits for busin /-/ Air tickets for business trip  : 0.80979\n",
      "free flight benefits for busin /-/ Flight for work purposes       : 0.77811\n",
      "Employees receive free flight  /-/ Flight for work purposes       : 0.7757\n",
      "Employees receive free flight  /-/ Air tickets for work purposes  : 0.72803\n",
      "\n",
      "General Category: Passage provided when taking up employment and upon termination\n",
      "Sub-Categories: ('Passage provided when taking up employment and upon termination', 'Air tickets back to home country after contract end', 'Air tickets back to home country after termination of employment', 'Air tickets to work in Singapore', 'Flight back to home country after contract end', 'Flight back to home country after termination of employment', 'Flight to work in Singapore')\n",
      "Similarity Level Of Top 5 (Limit=0.5):\n",
      "return to home country once    /-/ Flight back to home country af : 0.77253\n",
      "return to home country once    /-/ Flight back to home country af : 0.75649\n",
      "return to home country once    /-/ Air tickets back to home count : 0.74354\n",
      "return to home country once    /-/ Air tickets back to home count : 0.72549\n",
      "Employees receive free flight  /-/ Flight back to home country af : 0.68495\n",
      "\n",
      "General Category: Home leave passage\n",
      "Sub-Categories: ('Home leave passage', 'Air passage benefit', 'Air tickets to home country', 'Flight to home country')\n",
      "Similarity Level Of Top 5 (Limit=0.5):\n",
      "return to home country once    /-/ Flight to home country         : 0.78412\n",
      "return to home country once    /-/ Air tickets to home country    : 0.73821\n",
      "return to home country once    /-/ Home leave passage             : 0.71822\n",
      "free flight benefits for busin /-/ Air passage benefit            : 0.66233\n",
      "Employees receive free flight  /-/ Air passage benefit            : 0.64837\n",
      "\n"
     ]
    },
    {
     "data": {
      "text/plain": [
       "(['Employees receive free flight benefits to',\n",
       "  'return to home country once',\n",
       "  'a year and',\n",
       "  'free flight benefits for business trips'],\n",
       " {'Passage provided for business purpose': {'Passage provided for business purpose': {('Employees receive free flight benefits to',\n",
       "     'Passage provided for business purpose'): 0.548290666637044,\n",
       "    ('return to home country once',\n",
       "     'Passage provided for business purpose'): 0.5439581575519554,\n",
       "    ('a year and',\n",
       "     'Passage provided for business purpose'): 0.4956094203318848,\n",
       "    ('free flight benefits for business trips',\n",
       "     'Passage provided for business purpose'): 0.6014551911575552},\n",
       "   'Air tickets for business trip': {('Employees receive free flight benefits to',\n",
       "     'Air tickets for business trip'): 0.7032104297015636,\n",
       "    ('return to home country once',\n",
       "     'Air tickets for business trip'): 0.5735795183705736,\n",
       "    ('a year and', 'Air tickets for business trip'): 0.39768120289318176,\n",
       "    ('free flight benefits for business trips',\n",
       "     'Air tickets for business trip'): 0.8097882427902618},\n",
       "   'Air tickets for work purposes': {('Employees receive free flight benefits to',\n",
       "     'Air tickets for work purposes'): 0.7280250035596794,\n",
       "    ('return to home country once',\n",
       "     'Air tickets for work purposes'): 0.5839213769678779,\n",
       "    ('a year and', 'Air tickets for work purposes'): 0.42153739040034566,\n",
       "    ('free flight benefits for business trips',\n",
       "     'Air tickets for work purposes'): 0.7273876686410432},\n",
       "   'Flight for business trip': {('Employees receive free flight benefits to',\n",
       "     'Flight for business trip'): 0.7178432223283302,\n",
       "    ('return to home country once',\n",
       "     'Flight for business trip'): 0.5727759103943697,\n",
       "    ('a year and', 'Flight for business trip'): 0.40710569747982106,\n",
       "    ('free flight benefits for business trips',\n",
       "     'Flight for business trip'): 0.8139300186520515},\n",
       "   'Flight for work purposes': {('Employees receive free flight benefits to',\n",
       "     'Flight for work purposes'): 0.7756983959143025,\n",
       "    ('return to home country once',\n",
       "     'Flight for work purposes'): 0.6307440690019064,\n",
       "    ('a year and', 'Flight for work purposes'): 0.44423184843676644,\n",
       "    ('free flight benefits for business trips',\n",
       "     'Flight for work purposes'): 0.7781061508805891},\n",
       "   'Travel incidental to employment': {('Employees receive free flight benefits to',\n",
       "     'Travel incidental to employment'): 0.6575702986988965,\n",
       "    ('return to home country once',\n",
       "     'Travel incidental to employment'): 0.6492057820586936,\n",
       "    ('a year and', 'Travel incidental to employment'): 0.4464405761655055,\n",
       "    ('free flight benefits for business trips',\n",
       "     'Travel incidental to employment'): 0.6252737834367501}},\n",
       "  'Passage provided when taking up employment and upon termination': {'Passage provided when taking up employment and upon termination': {('Employees receive free flight benefits to',\n",
       "     'Passage provided when taking up employment and upon termination'): 0.5468343696915952,\n",
       "    ('return to home country once',\n",
       "     'Passage provided when taking up employment and upon termination'): 0.5477363372481818,\n",
       "    ('a year and',\n",
       "     'Passage provided when taking up employment and upon termination'): 0.4990126863283848,\n",
       "    ('free flight benefits for business trips',\n",
       "     'Passage provided when taking up employment and upon termination'): 0.4692330325573906},\n",
       "   'Air tickets back to home country after contract end': {('Employees receive free flight benefits to',\n",
       "     'Air tickets back to home country after contract end'): 0.6481725564532539,\n",
       "    ('return to home country once',\n",
       "     'Air tickets back to home country after contract end'): 0.7435364420474357,\n",
       "    ('a year and',\n",
       "     'Air tickets back to home country after contract end'): 0.4122472491586109,\n",
       "    ('free flight benefits for business trips',\n",
       "     'Air tickets back to home country after contract end'): 0.6213088885978095},\n",
       "   'Air tickets back to home country after termination of employment': {('Employees receive free flight benefits to',\n",
       "     'Air tickets back to home country after termination of employment'): 0.667855514884252,\n",
       "    ('return to home country once',\n",
       "     'Air tickets back to home country after termination of employment'): 0.725488187171301,\n",
       "    ('a year and',\n",
       "     'Air tickets back to home country after termination of employment'): 0.4110544461760668,\n",
       "    ('free flight benefits for business trips',\n",
       "     'Air tickets back to home country after termination of employment'): 0.6023342268912302},\n",
       "   'Air tickets to work in Singapore': {('Employees receive free flight benefits to',\n",
       "     'Air tickets to work in Singapore'): 0.6481461907013388,\n",
       "    ('return to home country once',\n",
       "     'Air tickets to work in Singapore'): 0.5543937399160797,\n",
       "    ('a year and', 'Air tickets to work in Singapore'): 0.3568857533777532,\n",
       "    ('free flight benefits for business trips',\n",
       "     'Air tickets to work in Singapore'): 0.6160242688597464},\n",
       "   'Flight back to home country after contract end': {('Employees receive free flight benefits to',\n",
       "     'Flight back to home country after contract end'): 0.6849507619096542,\n",
       "    ('return to home country once',\n",
       "     'Flight back to home country after contract end'): 0.772525706712113,\n",
       "    ('a year and',\n",
       "     'Flight back to home country after contract end'): 0.42421098230380494,\n",
       "    ('free flight benefits for business trips',\n",
       "     'Flight back to home country after contract end'): 0.6509540516727554},\n",
       "   'Flight back to home country after termination of employment': {('Employees receive free flight benefits to',\n",
       "     'Flight back to home country after termination of employment'): 0.6829646203024993,\n",
       "    ('return to home country once',\n",
       "     'Flight back to home country after termination of employment'): 0.7564943640933688,\n",
       "    ('a year and',\n",
       "     'Flight back to home country after termination of employment'): 0.4289290516680353,\n",
       "    ('free flight benefits for business trips',\n",
       "     'Flight back to home country after termination of employment'): 0.6181811865158124},\n",
       "   'Flight to work in Singapore': {('Employees receive free flight benefits to',\n",
       "     'Flight to work in Singapore'): 0.6750931620684923,\n",
       "    ('return to home country once',\n",
       "     'Flight to work in Singapore'): 0.5907109346931847,\n",
       "    ('a year and', 'Flight to work in Singapore'): 0.3710946692891923,\n",
       "    ('free flight benefits for business trips',\n",
       "     'Flight to work in Singapore'): 0.6273216501332186}},\n",
       "  'Home leave passage': {'Home leave passage': {('Employees receive free flight benefits to',\n",
       "     'Home leave passage'): 0.585951903742032,\n",
       "    ('return to home country once', 'Home leave passage'): 0.7182234386886126,\n",
       "    ('a year and', 'Home leave passage'): 0.47873161415168397,\n",
       "    ('free flight benefits for business trips',\n",
       "     'Home leave passage'): 0.5252977888771682},\n",
       "   'Air passage benefit': {('Employees receive free flight benefits to',\n",
       "     'Air passage benefit'): 0.6483744645971541,\n",
       "    ('return to home country once', 'Air passage benefit'): 0.5202572013390458,\n",
       "    ('a year and', 'Air passage benefit'): 0.4542208868782538,\n",
       "    ('free flight benefits for business trips',\n",
       "     'Air passage benefit'): 0.6623289244681203},\n",
       "   'Air tickets to home country': {('Employees receive free flight benefits to',\n",
       "     'Air tickets to home country'): 0.6345465287423995,\n",
       "    ('return to home country once',\n",
       "     'Air tickets to home country'): 0.7382102558716142,\n",
       "    ('a year and', 'Air tickets to home country'): 0.41076307545314705,\n",
       "    ('free flight benefits for business trips',\n",
       "     'Air tickets to home country'): 0.6211478014496183},\n",
       "   'Flight to home country': {('Employees receive free flight benefits to',\n",
       "     'Flight to home country'): 0.6479998226704282,\n",
       "    ('return to home country once',\n",
       "     'Flight to home country'): 0.784117314871807,\n",
       "    ('a year and', 'Flight to home country'): 0.4151992764347767,\n",
       "    ('free flight benefits for business trips',\n",
       "     'Flight to home country'): 0.6087361146506538}}})"
      ]
     },
     "execution_count": 64,
     "metadata": {},
     "output_type": "execute_result"
    }
   ],
   "source": [
    "split_and_compare_wsub_top_limit(get_sentence_embedding_bge, get_sentence_embedding_bge, cat_wsub_demo, hlp_biz_demo)"
   ]
  },
  {
   "cell_type": "code",
   "execution_count": 221,
   "metadata": {},
   "outputs": [
    {
     "name": "stdout",
     "output_type": "stream",
     "text": [
      "Splitted texts: ['Employees receive free flight benefits to', 'return to home country once', 'a year and', 'free flight benefits for business trips']\n",
      "Category: food\n",
      "Similarity Level:\n",
      "Employees receive free flight  /-/ food                           : 0.39944\n",
      "return to home country once    /-/ food                           : 0.4665\n",
      "a year and                     /-/ food                           : 0.5004\n",
      "free flight benefits for busin /-/ food                           : 0.35974\n",
      "Category: asian food\n",
      "Similarity Level:\n",
      "Employees receive free flight  /-/ asian food                     : 0.39766\n",
      "return to home country once    /-/ asian food                     : 0.47842\n",
      "a year and                     /-/ asian food                     : 0.43897\n",
      "free flight benefits for busin /-/ asian food                     : 0.3574\n",
      "Category: western food\n",
      "Similarity Level:\n",
      "Employees receive free flight  /-/ western food                   : 0.40071\n",
      "return to home country once    /-/ western food                   : 0.46087\n",
      "a year and                     /-/ western food                   : 0.42093\n",
      "free flight benefits for busin /-/ western food                   : 0.37956\n",
      "Category: Home Leave Passage\n",
      "Similarity Level:\n",
      "Employees receive free flight  /-/ Home Leave Passage             : 0.58595\n",
      "return to home country once    /-/ Home Leave Passage             : 0.71822\n",
      "a year and                     /-/ Home Leave Passage             : 0.47873\n",
      "free flight benefits for busin /-/ Home Leave Passage             : 0.5253\n",
      "Category: Employee flight benefits\n",
      "Similarity Level:\n",
      "Employees receive free flight  /-/ Employee flight benefits       : 0.88842\n",
      "return to home country once    /-/ Employee flight benefits       : 0.50533\n",
      "a year and                     /-/ Employee flight benefits       : 0.37168\n",
      "free flight benefits for busin /-/ Employee flight benefits       : 0.83556\n",
      "Category: subsidised flight tickets for employees to go home\n",
      "Similarity Level:\n",
      "Employees receive free flight  /-/ subsidised flight tickets for  : 0.74372\n",
      "return to home country once    /-/ subsidised flight tickets for  : 0.65669\n",
      "a year and                     /-/ subsidised flight tickets for  : 0.3766\n",
      "free flight benefits for busin /-/ subsidised flight tickets for  : 0.68161\n",
      "Category: covered business trip expenses\n",
      "Similarity Level:\n",
      "Employees receive free flight  /-/ covered business trip expenses : 0.64585\n",
      "return to home country once    /-/ covered business trip expenses : 0.57766\n",
      "a year and                     /-/ covered business trip expenses : 0.46666\n",
      "free flight benefits for busin /-/ covered business trip expenses : 0.73725\n"
     ]
    },
    {
     "data": {
      "text/plain": [
       "(['Employees receive free flight benefits to',\n",
       "  'return to home country once',\n",
       "  'a year and',\n",
       "  'free flight benefits for business trips'],\n",
       " {'food': {('Employees receive free flight benefits to',\n",
       "    'food'): 0.3994387511611457,\n",
       "   ('return to home country once', 'food'): 0.4664970667318613,\n",
       "   ('a year and', 'food'): 0.5004004177119725,\n",
       "   ('free flight benefits for business trips', 'food'): 0.359742159880696},\n",
       "  'asian food': {('Employees receive free flight benefits to',\n",
       "    'asian food'): 0.3976649786797175,\n",
       "   ('return to home country once', 'asian food'): 0.4784166391150748,\n",
       "   ('a year and', 'asian food'): 0.43896744228217566,\n",
       "   ('free flight benefits for business trips',\n",
       "    'asian food'): 0.35739813483833416},\n",
       "  'western food': {('Employees receive free flight benefits to',\n",
       "    'western food'): 0.40070832836169146,\n",
       "   ('return to home country once', 'western food'): 0.460874726735478,\n",
       "   ('a year and', 'western food'): 0.4209288728738354,\n",
       "   ('free flight benefits for business trips',\n",
       "    'western food'): 0.37956152519441844},\n",
       "  'Home Leave Passage': {('Employees receive free flight benefits to',\n",
       "    'Home Leave Passage'): 0.585951903742032,\n",
       "   ('return to home country once', 'Home Leave Passage'): 0.7182234386886126,\n",
       "   ('a year and', 'Home Leave Passage'): 0.47873161415168397,\n",
       "   ('free flight benefits for business trips',\n",
       "    'Home Leave Passage'): 0.5252977888771682},\n",
       "  'Employee flight benefits': {('Employees receive free flight benefits to',\n",
       "    'Employee flight benefits'): 0.8884154797235411,\n",
       "   ('return to home country once',\n",
       "    'Employee flight benefits'): 0.5053287985087138,\n",
       "   ('a year and', 'Employee flight benefits'): 0.3716790663074292,\n",
       "   ('free flight benefits for business trips',\n",
       "    'Employee flight benefits'): 0.8355599739968937},\n",
       "  'subsidised flight tickets for employees to go home': {('Employees receive free flight benefits to',\n",
       "    'subsidised flight tickets for employees to go home'): 0.7437244612838736,\n",
       "   ('return to home country once',\n",
       "    'subsidised flight tickets for employees to go home'): 0.6566898114326136,\n",
       "   ('a year and',\n",
       "    'subsidised flight tickets for employees to go home'): 0.3766030567504526,\n",
       "   ('free flight benefits for business trips',\n",
       "    'subsidised flight tickets for employees to go home'): 0.6816079683432363},\n",
       "  'covered business trip expenses': {('Employees receive free flight benefits to',\n",
       "    'covered business trip expenses'): 0.6458466021632177,\n",
       "   ('return to home country once',\n",
       "    'covered business trip expenses'): 0.5776592421564288,\n",
       "   ('a year and', 'covered business trip expenses'): 0.4666580502531943,\n",
       "   ('free flight benefits for business trips',\n",
       "    'covered business trip expenses'): 0.737251495949721}})"
      ]
     },
     "execution_count": 221,
     "metadata": {},
     "output_type": "execute_result"
    }
   ],
   "source": [
    "split_and_compare(get_sentence_embedding_bge, get_sentence_embedding_bge, demo_cat, demo_sent)\n"
   ]
  },
  {
   "cell_type": "code",
   "execution_count": null,
   "metadata": {},
   "outputs": [],
   "source": []
  },
  {
   "cell_type": "code",
   "execution_count": null,
   "metadata": {},
   "outputs": [],
   "source": []
  },
  {
   "cell_type": "code",
   "execution_count": 223,
   "metadata": {},
   "outputs": [
    {
     "name": "stdout",
     "output_type": "stream",
     "text": [
      "Coherence Score Plot:\n"
     ]
    },
    {
     "data": {
      "image/png": "[encoded data removed]",
      "text/plain": [
       "<Figure size 640x480 with 1 Axes>"
      ]
     },
     "metadata": {},
     "output_type": "display_data"
    },
    {
     "name": "stdout",
     "output_type": "stream",
     "text": [
      "Depth Score Plot:\n"
     ]
    },
    {
     "data": {
      "image/png": "[encoded data removed]",
      "text/plain": [
       "<Figure size 640x480 with 1 Axes>"
      ]
     },
     "metadata": {},
     "output_type": "display_data"
    },
    {
     "name": "stdout",
     "output_type": "stream",
     "text": [
      "Filtered Depth Score Plot:\n"
     ]
    },
    {
     "data": {
      "image/png": "[encoded data removed]",
      "text/plain": [
       "<Figure size 640x480 with 1 Axes>"
      ]
     },
     "metadata": {},
     "output_type": "display_data"
    },
    {
     "name": "stdout",
     "output_type": "stream",
     "text": [
      "Filtered Depth Score With Threshold Line Plot:\n"
     ]
    },
    {
     "data": {
      "image/png": "[encoded data removed]",
      "text/plain": [
       "<Figure size 640x480 with 1 Axes>"
      ]
     },
     "metadata": {},
     "output_type": "display_data"
    },
    {
     "data": {
      "text/plain": [
       "['Tax subsidy is given and', 'flight tickets fees are covered']"
      ]
     },
     "execution_count": 223,
     "metadata": {},
     "output_type": "execute_result"
    }
   ],
   "source": [
    "semantic_segmentation_function(get_sentence_embedding_MiniLM_L6_v2, \"Tax subsidy is given and flight tickets fees are covered\", graph_status=True)"
   ]
  },
  {
   "cell_type": "code",
   "execution_count": 224,
   "metadata": {},
   "outputs": [
    {
     "name": "stdout",
     "output_type": "stream",
     "text": [
      "Coherence Score Plot:\n"
     ]
    },
    {
     "data": {
      "image/png": "[encoded data removed]",
      "text/plain": [
       "<Figure size 640x480 with 1 Axes>"
      ]
     },
     "metadata": {},
     "output_type": "display_data"
    },
    {
     "name": "stdout",
     "output_type": "stream",
     "text": [
      "Depth Score Plot:\n"
     ]
    },
    {
     "data": {
      "image/png": "[encoded data removed]",
      "text/plain": [
       "<Figure size 640x480 with 1 Axes>"
      ]
     },
     "metadata": {},
     "output_type": "display_data"
    },
    {
     "name": "stdout",
     "output_type": "stream",
     "text": [
      "Filtered Depth Score Plot:\n"
     ]
    },
    {
     "data": {
      "image/png": "[encoded data removed]",
      "text/plain": [
       "<Figure size 640x480 with 1 Axes>"
      ]
     },
     "metadata": {},
     "output_type": "display_data"
    },
    {
     "name": "stdout",
     "output_type": "stream",
     "text": [
      "Filtered Depth Score With Threshold Line Plot:\n"
     ]
    },
    {
     "data": {
      "image/png": "[encoded data removed]",
      "text/plain": [
       "<Figure size 640x480 with 1 Axes>"
      ]
     },
     "metadata": {},
     "output_type": "display_data"
    },
    {
     "data": {
      "text/plain": [
       "['Tax subsidy is', 'given and flight tickets fees are covered']"
      ]
     },
     "execution_count": 224,
     "metadata": {},
     "output_type": "execute_result"
    }
   ],
   "source": [
    "semantic_segmentation_function(get_sentence_embedding_bge, \"Tax subsidy is given and flight tickets fees are covered\", graph_status=True)"
   ]
  },
  {
   "cell_type": "code",
   "execution_count": null,
   "metadata": {},
   "outputs": [],
   "source": []
  },
  {
   "cell_type": "code",
   "execution_count": 13,
   "metadata": {},
   "outputs": [],
   "source": [
    "def categories_wsub_similarity_comparison_function(embedding_model_function, categories_wsub_dict, texts, sort_output=0):\n",
    "    categories_wsub_result_dict = {}\n",
    "    for big_general_category, sub_categories in categories_wsub_dict.items():\n",
    "        categories_wsub_result_dict[big_general_category] = categories_similarity_comparison_function(embedding_model_function=embedding_model_function, categories=([big_general_category]+sub_categories), texts=texts, sort_output=sort_output)\n",
    "    return categories_wsub_result_dict\n",
    "\n",
    "def categories_wsub_similarity_result_display(categories_wsub_result_dict, sort_display = 0):\n",
    "    for big_general_category, big_wsub_categories_result in categories_wsub_result_dict.items():\n",
    "        print(f\"General Category: {big_general_category}\")\n",
    "        categories_similarity_result_display(big_wsub_categories_result, sort_display=sort_display)\n",
    "        print()\n",
    "        \n",
    "def split_and_compare_wsub(split_embed_function, compare_embed_function, categories_wsub, sentence_text, intermediate = False, graph = False, sort_compare = 0, display_split = True , display_end = True, sort_display = 0):\n",
    "    splitted_sentence_text = semantic_segmentation_function(embedding_model_function=split_embed_function, sentence_text=sentence_text, intermediate_status=intermediate, graph_status=graph)\n",
    "    if display_split:\n",
    "        print(f\"Splitted texts: {splitted_sentence_text}\")\n",
    "    compare_result = categories_wsub_similarity_comparison_function(embedding_model_function=compare_embed_function, categories_wsub_dict=categories_wsub, texts=splitted_sentence_text, sort_output=sort_compare)\n",
    "    if display_end:\n",
    "        categories_wsub_similarity_result_display(compare_result, sort_display=sort_display)\n",
    "    return splitted_sentence_text, compare_result"
   ]
  },
  {
   "cell_type": "code",
   "execution_count": 14,
   "metadata": {},
   "outputs": [],
   "source": [
    "cat_wsub_demo = {\"Passage provided for business purpose\": [\"Air tickets for business trip\", \"Air tickets for work purposes\", \"Flight for business trip\", \"Flight for work purposes\", \"Travel incidental to employment\"],\n",
    "            \"Passage provided when taking up employment and upon termination\": [\"Air tickets back to home country after contract end\", \"Air tickets back to home country after termination of employment\", \"Air tickets to work in Singapore\", \"Flight back to home country after contract end\", \"Flight back to home country after termination of employment\", \"Flight to work in Singapore\"],\n",
    "            \"Home leave passage\": [\"Air passage benefit\", \"Air tickets to home country\", \"Flight to home country\"]}\n",
    "hlp_biz_demo = \"Employees receive free flight benefits to return to home country once a year and free flight benefits for business trips\""
   ]
  },
  {
   "cell_type": "code",
   "execution_count": 239,
   "metadata": {},
   "outputs": [
    {
     "name": "stdout",
     "output_type": "stream",
     "text": [
      "Splitted texts: ['Employees receive free flight benefits', 'to return to home country once', 'a year and', 'free flight benefits for business trips']\n",
      "General Category: Passage provided for business purpose\n",
      "Category: Passage provided for business purpose\n",
      "Similarity Level:\n",
      "free flight benefits for busin /-/ Passage provided for business  : 0.29568\n",
      "to return to home country once /-/ Passage provided for business  : 0.17853\n",
      "Employees receive free flight  /-/ Passage provided for business  : 0.14779\n",
      "a year and                     /-/ Passage provided for business  : 0.065523\n",
      "Category: Air tickets for business trip\n",
      "Similarity Level:\n",
      "free flight benefits for busin /-/ Air tickets for business trip  : 0.65982\n",
      "Employees receive free flight  /-/ Air tickets for business trip  : 0.46398\n",
      "to return to home country once /-/ Air tickets for business trip  : 0.11836\n",
      "a year and                     /-/ Air tickets for business trip  : 0.050477\n",
      "Category: Air tickets for work purposes\n",
      "Similarity Level:\n",
      "Employees receive free flight  /-/ Air tickets for work purposes  : 0.53761\n",
      "free flight benefits for busin /-/ Air tickets for work purposes  : 0.49501\n",
      "to return to home country once /-/ Air tickets for work purposes  : 0.14008\n",
      "a year and                     /-/ Air tickets for work purposes  : 0.035805\n",
      "Category: Flight for business trip\n",
      "Similarity Level:\n",
      "free flight benefits for busin /-/ Flight for business trip       : 0.75365\n",
      "Employees receive free flight  /-/ Flight for business trip       : 0.43576\n",
      "to return to home country once /-/ Flight for business trip       : 0.24188\n",
      "a year and                     /-/ Flight for business trip       : 0.095928\n",
      "Category: Flight for work purposes\n",
      "Similarity Level:\n",
      "free flight benefits for busin /-/ Flight for work purposes       : 0.60962\n",
      "Employees receive free flight  /-/ Flight for work purposes       : 0.55113\n",
      "to return to home country once /-/ Flight for work purposes       : 0.28963\n",
      "a year and                     /-/ Flight for work purposes       : 0.08249\n",
      "Category: Travel incidental to employment\n",
      "Similarity Level:\n",
      "free flight benefits for busin /-/ Travel incidental to employmen : 0.44625\n",
      "to return to home country once /-/ Travel incidental to employmen : 0.39618\n",
      "Employees receive free flight  /-/ Travel incidental to employmen : 0.39301\n",
      "a year and                     /-/ Travel incidental to employmen : 0.077406\n",
      "\n",
      "General Category: Passage provided when taking up employment and upon termination\n",
      "Category: Passage provided when taking up employment and upon termination\n",
      "Similarity Level:\n",
      "Employees receive free flight  /-/ Passage provided when taking u : 0.21868\n",
      "to return to home country once /-/ Passage provided when taking u : 0.16139\n",
      "a year and                     /-/ Passage provided when taking u : 0.13826\n",
      "free flight benefits for busin /-/ Passage provided when taking u : 0.091191\n",
      "Category: Air tickets back to home country after contract end\n",
      "Similarity Level:\n",
      "to return to home country once /-/ Air tickets back to home count : 0.44958\n",
      "free flight benefits for busin /-/ Air tickets back to home count : 0.30954\n",
      "Employees receive free flight  /-/ Air tickets back to home count : 0.30094\n",
      "a year and                     /-/ Air tickets back to home count : 0.055655\n",
      "Category: Air tickets back to home country after termination of employment\n",
      "Similarity Level:\n",
      "Employees receive free flight  /-/ Air tickets back to home count : 0.43416\n",
      "to return to home country once /-/ Air tickets back to home count : 0.42927\n",
      "free flight benefits for busin /-/ Air tickets back to home count : 0.35058\n",
      "a year and                     /-/ Air tickets back to home count : 0.052931\n",
      "Category: Air tickets to work in Singapore\n",
      "Similarity Level:\n",
      "Employees receive free flight  /-/ Air tickets to work in Singapo : 0.44263\n",
      "free flight benefits for busin /-/ Air tickets to work in Singapo : 0.37453\n",
      "to return to home country once /-/ Air tickets to work in Singapo : 0.17735\n",
      "a year and                     /-/ Air tickets to work in Singapo : 0.030742\n",
      "Category: Flight back to home country after contract end\n",
      "Similarity Level:\n",
      "to return to home country once /-/ Flight back to home country af : 0.59888\n",
      "free flight benefits for busin /-/ Flight back to home country af : 0.30337\n",
      "Employees receive free flight  /-/ Flight back to home country af : 0.22879\n",
      "a year and                     /-/ Flight back to home country af : 0.068576\n",
      "Category: Flight back to home country after termination of employment\n",
      "Similarity Level:\n",
      "to return to home country once /-/ Flight back to home country af : 0.53374\n",
      "Employees receive free flight  /-/ Flight back to home country af : 0.3605\n",
      "free flight benefits for busin /-/ Flight back to home country af : 0.31906\n",
      "a year and                     /-/ Flight back to home country af : 0.055252\n",
      "Category: Flight to work in Singapore\n",
      "Similarity Level:\n",
      "Employees receive free flight  /-/ Flight to work in Singapore    : 0.39244\n",
      "free flight benefits for busin /-/ Flight to work in Singapore    : 0.39236\n",
      "to return to home country once /-/ Flight to work in Singapore    : 0.25966\n",
      "a year and                     /-/ Flight to work in Singapore    : 0.060395\n",
      "\n",
      "General Category: Home leave passage\n",
      "Category: Home leave passage\n",
      "Similarity Level:\n",
      "to return to home country once /-/ Home leave passage             : 0.48484\n",
      "free flight benefits for busin /-/ Home leave passage             : 0.171\n",
      "Employees receive free flight  /-/ Home leave passage             : 0.16376\n",
      "a year and                     /-/ Home leave passage             : 0.090728\n",
      "Category: Air passage benefit\n",
      "Similarity Level:\n",
      "free flight benefits for busin /-/ Air passage benefit            : 0.51766\n",
      "Employees receive free flight  /-/ Air passage benefit            : 0.47171\n",
      "to return to home country once /-/ Air passage benefit            : 0.19576\n",
      "a year and                     /-/ Air passage benefit            : 0.066361\n",
      "Category: Air tickets to home country\n",
      "Similarity Level:\n",
      "to return to home country once /-/ Air tickets to home country    : 0.43281\n",
      "free flight benefits for busin /-/ Air tickets to home country    : 0.38709\n",
      "Employees receive free flight  /-/ Air tickets to home country    : 0.34692\n",
      "a year and                     /-/ Air tickets to home country    : 0.056947\n",
      "Category: Flight to home country\n",
      "Similarity Level:\n",
      "to return to home country once /-/ Flight to home country         : 0.66566\n",
      "free flight benefits for busin /-/ Flight to home country         : 0.41699\n",
      "Employees receive free flight  /-/ Flight to home country         : 0.2672\n",
      "a year and                     /-/ Flight to home country         : 0.10164\n",
      "\n"
     ]
    }
   ],
   "source": [
    "split_and_compare_wsub(get_sentence_embedding_MiniLM_L6_v2, get_sentence_embedding_MiniLM_L6_v2, cat_wsub_demo, hlp_biz_demo, sort_display=-1)\n",
    "pass"
   ]
  },
  {
   "cell_type": "code",
   "execution_count": 236,
   "metadata": {},
   "outputs": [
    {
     "name": "stdout",
     "output_type": "stream",
     "text": [
      "Splitted texts: ['Employees receive free flight benefits', 'to return to home country once', 'a year and', 'free flight benefits for business trips']\n",
      "General Category: Passage provided for business purpose\n",
      "Category: Passage provided for business purpose\n",
      "Similarity Level:\n",
      "free flight benefits for busin /-/ Passage provided for business  : 0.60146\n",
      "to return to home country once /-/ Passage provided for business  : 0.55901\n",
      "Employees receive free flight  /-/ Passage provided for business  : 0.52735\n",
      "a year and                     /-/ Passage provided for business  : 0.49561\n",
      "Category: Air tickets for business trip\n",
      "Similarity Level:\n",
      "free flight benefits for busin /-/ Air tickets for business trip  : 0.80979\n",
      "Employees receive free flight  /-/ Air tickets for business trip  : 0.66801\n",
      "to return to home country once /-/ Air tickets for business trip  : 0.57646\n",
      "a year and                     /-/ Air tickets for business trip  : 0.39768\n",
      "Category: Air tickets for work purposes\n",
      "Similarity Level:\n",
      "free flight benefits for busin /-/ Air tickets for work purposes  : 0.72739\n",
      "Employees receive free flight  /-/ Air tickets for work purposes  : 0.70209\n",
      "to return to home country once /-/ Air tickets for work purposes  : 0.59682\n",
      "a year and                     /-/ Air tickets for work purposes  : 0.42154\n",
      "Category: Flight for business trip\n",
      "Similarity Level:\n",
      "free flight benefits for busin /-/ Flight for business trip       : 0.81393\n",
      "Employees receive free flight  /-/ Flight for business trip       : 0.67844\n",
      "to return to home country once /-/ Flight for business trip       : 0.57625\n",
      "a year and                     /-/ Flight for business trip       : 0.40711\n",
      "Category: Flight for work purposes\n",
      "Similarity Level:\n",
      "free flight benefits for busin /-/ Flight for work purposes       : 0.77811\n",
      "Employees receive free flight  /-/ Flight for work purposes       : 0.75365\n",
      "to return to home country once /-/ Flight for work purposes       : 0.64286\n",
      "a year and                     /-/ Flight for work purposes       : 0.44423\n",
      "Category: Travel incidental to employment\n",
      "Similarity Level:\n",
      "to return to home country once /-/ Travel incidental to employmen : 0.64426\n",
      "free flight benefits for busin /-/ Travel incidental to employmen : 0.62527\n",
      "Employees receive free flight  /-/ Travel incidental to employmen : 0.62516\n",
      "a year and                     /-/ Travel incidental to employmen : 0.44644\n",
      "\n",
      "General Category: Passage provided when taking up employment and upon termination\n",
      "Category: Passage provided when taking up employment and upon termination\n",
      "Similarity Level:\n",
      "to return to home country once /-/ Passage provided when taking u : 0.56062\n",
      "Employees receive free flight  /-/ Passage provided when taking u : 0.52564\n",
      "a year and                     /-/ Passage provided when taking u : 0.49901\n",
      "free flight benefits for busin /-/ Passage provided when taking u : 0.46923\n",
      "Category: Air tickets back to home country after contract end\n",
      "Similarity Level:\n",
      "to return to home country once /-/ Air tickets back to home count : 0.74698\n",
      "free flight benefits for busin /-/ Air tickets back to home count : 0.62131\n",
      "Employees receive free flight  /-/ Air tickets back to home count : 0.60203\n",
      "a year and                     /-/ Air tickets back to home count : 0.41225\n",
      "Category: Air tickets back to home country after termination of employment\n",
      "Similarity Level:\n",
      "to return to home country once /-/ Air tickets back to home count : 0.7318\n",
      "Employees receive free flight  /-/ Air tickets back to home count : 0.62413\n",
      "free flight benefits for busin /-/ Air tickets back to home count : 0.60233\n",
      "a year and                     /-/ Air tickets back to home count : 0.41105\n",
      "Category: Air tickets to work in Singapore\n",
      "Similarity Level:\n",
      "free flight benefits for busin /-/ Air tickets to work in Singapo : 0.61602\n",
      "Employees receive free flight  /-/ Air tickets to work in Singapo : 0.60457\n",
      "to return to home country once /-/ Air tickets to work in Singapo : 0.55455\n",
      "a year and                     /-/ Air tickets to work in Singapo : 0.35689\n",
      "Category: Flight back to home country after contract end\n",
      "Similarity Level:\n",
      "to return to home country once /-/ Flight back to home country af : 0.78216\n",
      "free flight benefits for busin /-/ Flight back to home country af : 0.65095\n",
      "Employees receive free flight  /-/ Flight back to home country af : 0.64553\n",
      "a year and                     /-/ Flight back to home country af : 0.42421\n",
      "Category: Flight back to home country after termination of employment\n",
      "Similarity Level:\n",
      "to return to home country once /-/ Flight back to home country af : 0.76614\n",
      "Employees receive free flight  /-/ Flight back to home country af : 0.64015\n",
      "free flight benefits for busin /-/ Flight back to home country af : 0.61818\n",
      "a year and                     /-/ Flight back to home country af : 0.42893\n",
      "Category: Flight to work in Singapore\n",
      "Similarity Level:\n",
      "Employees receive free flight  /-/ Flight to work in Singapore    : 0.63317\n",
      "free flight benefits for busin /-/ Flight to work in Singapore    : 0.62732\n",
      "to return to home country once /-/ Flight to work in Singapore    : 0.5889\n",
      "a year and                     /-/ Flight to work in Singapore    : 0.37109\n",
      "\n",
      "General Category: Home leave passage\n",
      "Category: Home leave passage\n",
      "Similarity Level:\n",
      "to return to home country once /-/ Home leave passage             : 0.71609\n",
      "Employees receive free flight  /-/ Home leave passage             : 0.54749\n",
      "free flight benefits for busin /-/ Home leave passage             : 0.5253\n",
      "a year and                     /-/ Home leave passage             : 0.47873\n",
      "Category: Air passage benefit\n",
      "Similarity Level:\n",
      "free flight benefits for busin /-/ Air passage benefit            : 0.66233\n",
      "Employees receive free flight  /-/ Air passage benefit            : 0.65242\n",
      "to return to home country once /-/ Air passage benefit            : 0.52055\n",
      "a year and                     /-/ Air passage benefit            : 0.45422\n",
      "Category: Air tickets to home country\n",
      "Similarity Level:\n",
      "to return to home country once /-/ Air tickets to home country    : 0.74304\n",
      "free flight benefits for busin /-/ Air tickets to home country    : 0.62115\n",
      "Employees receive free flight  /-/ Air tickets to home country    : 0.57833\n",
      "a year and                     /-/ Air tickets to home country    : 0.41076\n",
      "Category: Flight to home country\n",
      "Similarity Level:\n",
      "to return to home country once /-/ Flight to home country         : 0.79283\n",
      "free flight benefits for busin /-/ Flight to home country         : 0.60874\n",
      "Employees receive free flight  /-/ Flight to home country         : 0.58972\n",
      "a year and                     /-/ Flight to home country         : 0.4152\n",
      "\n"
     ]
    }
   ],
   "source": [
    "split_and_compare_wsub(get_sentence_embedding_MiniLM_L6_v2, get_sentence_embedding_bge, cat_wsub_demo, hlp_biz_demo, sort_display=-1)\n",
    "pass"
   ]
  },
  {
   "cell_type": "code",
   "execution_count": 237,
   "metadata": {},
   "outputs": [
    {
     "name": "stdout",
     "output_type": "stream",
     "text": [
      "Splitted texts: ['Employees receive free flight benefits to', 'return to home country once', 'a year and', 'free flight benefits for business trips']\n",
      "General Category: Passage provided for business purpose\n",
      "Category: Passage provided for business purpose\n",
      "Similarity Level:\n",
      "free flight benefits for busin /-/ Passage provided for business  : 0.29568\n",
      "Employees receive free flight  /-/ Passage provided for business  : 0.16618\n",
      "a year and                     /-/ Passage provided for business  : 0.065523\n",
      "return to home country once    /-/ Passage provided for business  : 0.039441\n",
      "Category: Air tickets for business trip\n",
      "Similarity Level:\n",
      "free flight benefits for busin /-/ Air tickets for business trip  : 0.65982\n",
      "Employees receive free flight  /-/ Air tickets for business trip  : 0.46172\n",
      "return to home country once    /-/ Air tickets for business trip  : 0.081763\n",
      "a year and                     /-/ Air tickets for business trip  : 0.050477\n",
      "Category: Air tickets for work purposes\n",
      "Similarity Level:\n",
      "Employees receive free flight  /-/ Air tickets for work purposes  : 0.53308\n",
      "free flight benefits for busin /-/ Air tickets for work purposes  : 0.49501\n",
      "return to home country once    /-/ Air tickets for work purposes  : 0.08416\n",
      "a year and                     /-/ Air tickets for work purposes  : 0.035805\n",
      "Category: Flight for business trip\n",
      "Similarity Level:\n",
      "free flight benefits for busin /-/ Flight for business trip       : 0.75365\n",
      "Employees receive free flight  /-/ Flight for business trip       : 0.43684\n",
      "return to home country once    /-/ Flight for business trip       : 0.209\n",
      "a year and                     /-/ Flight for business trip       : 0.095928\n",
      "Category: Flight for work purposes\n",
      "Similarity Level:\n",
      "free flight benefits for busin /-/ Flight for work purposes       : 0.60962\n",
      "Employees receive free flight  /-/ Flight for work purposes       : 0.54411\n",
      "return to home country once    /-/ Flight for work purposes       : 0.22787\n",
      "a year and                     /-/ Flight for work purposes       : 0.08249\n",
      "Category: Travel incidental to employment\n",
      "Similarity Level:\n",
      "free flight benefits for busin /-/ Travel incidental to employmen : 0.44625\n",
      "Employees receive free flight  /-/ Travel incidental to employmen : 0.40233\n",
      "return to home country once    /-/ Travel incidental to employmen : 0.38862\n",
      "a year and                     /-/ Travel incidental to employmen : 0.077406\n",
      "\n",
      "General Category: Passage provided when taking up employment and upon termination\n",
      "Category: Passage provided when taking up employment and upon termination\n",
      "Similarity Level:\n",
      "Employees receive free flight  /-/ Passage provided when taking u : 0.22899\n",
      "a year and                     /-/ Passage provided when taking u : 0.13826\n",
      "return to home country once    /-/ Passage provided when taking u : 0.10605\n",
      "free flight benefits for busin /-/ Passage provided when taking u : 0.091191\n",
      "Category: Air tickets back to home country after contract end\n",
      "Similarity Level:\n",
      "return to home country once    /-/ Air tickets back to home count : 0.48595\n",
      "free flight benefits for busin /-/ Air tickets back to home count : 0.30954\n",
      "Employees receive free flight  /-/ Air tickets back to home count : 0.30079\n",
      "a year and                     /-/ Air tickets back to home count : 0.055655\n",
      "Category: Air tickets back to home country after termination of employment\n",
      "Similarity Level:\n",
      "return to home country once    /-/ Air tickets back to home count : 0.47499\n",
      "Employees receive free flight  /-/ Air tickets back to home count : 0.43146\n",
      "free flight benefits for busin /-/ Air tickets back to home count : 0.35058\n",
      "a year and                     /-/ Air tickets back to home count : 0.052931\n",
      "Category: Air tickets to work in Singapore\n",
      "Similarity Level:\n",
      "Employees receive free flight  /-/ Air tickets to work in Singapo : 0.43971\n",
      "free flight benefits for busin /-/ Air tickets to work in Singapo : 0.37453\n",
      "return to home country once    /-/ Air tickets to work in Singapo : 0.14933\n",
      "a year and                     /-/ Air tickets to work in Singapo : 0.030742\n",
      "Category: Flight back to home country after contract end\n",
      "Similarity Level:\n",
      "return to home country once    /-/ Flight back to home country af : 0.65324\n",
      "free flight benefits for busin /-/ Flight back to home country af : 0.30337\n",
      "Employees receive free flight  /-/ Flight back to home country af : 0.23272\n",
      "a year and                     /-/ Flight back to home country af : 0.068576\n",
      "Category: Flight back to home country after termination of employment\n",
      "Similarity Level:\n",
      "return to home country once    /-/ Flight back to home country af : 0.59572\n",
      "Employees receive free flight  /-/ Flight back to home country af : 0.36064\n",
      "free flight benefits for busin /-/ Flight back to home country af : 0.31906\n",
      "a year and                     /-/ Flight back to home country af : 0.055252\n",
      "Category: Flight to work in Singapore\n",
      "Similarity Level:\n",
      "Employees receive free flight  /-/ Flight to work in Singapore    : 0.39452\n",
      "free flight benefits for busin /-/ Flight to work in Singapore    : 0.39236\n",
      "return to home country once    /-/ Flight to work in Singapore    : 0.23757\n",
      "a year and                     /-/ Flight to work in Singapore    : 0.060395\n",
      "\n",
      "General Category: Home leave passage\n",
      "Category: Home leave passage\n",
      "Similarity Level:\n",
      "return to home country once    /-/ Home leave passage             : 0.44885\n",
      "free flight benefits for busin /-/ Home leave passage             : 0.171\n",
      "Employees receive free flight  /-/ Home leave passage             : 0.16865\n",
      "a year and                     /-/ Home leave passage             : 0.090728\n",
      "Category: Air passage benefit\n",
      "Similarity Level:\n",
      "free flight benefits for busin /-/ Air passage benefit            : 0.51766\n",
      "Employees receive free flight  /-/ Air passage benefit            : 0.46612\n",
      "return to home country once    /-/ Air passage benefit            : 0.10216\n",
      "a year and                     /-/ Air passage benefit            : 0.066361\n",
      "Category: Air tickets to home country\n",
      "Similarity Level:\n",
      "return to home country once    /-/ Air tickets to home country    : 0.4029\n",
      "free flight benefits for busin /-/ Air tickets to home country    : 0.38709\n",
      "Employees receive free flight  /-/ Air tickets to home country    : 0.34251\n",
      "a year and                     /-/ Air tickets to home country    : 0.056947\n",
      "Category: Flight to home country\n",
      "Similarity Level:\n",
      "return to home country once    /-/ Flight to home country         : 0.65674\n",
      "free flight benefits for busin /-/ Flight to home country         : 0.41699\n",
      "Employees receive free flight  /-/ Flight to home country         : 0.26619\n",
      "a year and                     /-/ Flight to home country         : 0.10164\n",
      "\n"
     ]
    }
   ],
   "source": [
    "split_and_compare_wsub(get_sentence_embedding_bge, get_sentence_embedding_MiniLM_L6_v2, cat_wsub_demo, hlp_biz_demo, sort_display=-1)\n",
    "pass"
   ]
  },
  {
   "cell_type": "code",
   "execution_count": 238,
   "metadata": {},
   "outputs": [
    {
     "name": "stdout",
     "output_type": "stream",
     "text": [
      "Splitted texts: ['Employees receive free flight benefits to', 'return to home country once', 'a year and', 'free flight benefits for business trips']\n",
      "General Category: Passage provided for business purpose\n",
      "Category: Passage provided for business purpose\n",
      "Similarity Level:\n",
      "free flight benefits for busin /-/ Passage provided for business  : 0.60146\n",
      "Employees receive free flight  /-/ Passage provided for business  : 0.54829\n",
      "return to home country once    /-/ Passage provided for business  : 0.54396\n",
      "a year and                     /-/ Passage provided for business  : 0.49561\n",
      "Category: Air tickets for business trip\n",
      "Similarity Level:\n",
      "free flight benefits for busin /-/ Air tickets for business trip  : 0.80979\n",
      "Employees receive free flight  /-/ Air tickets for business trip  : 0.70321\n",
      "return to home country once    /-/ Air tickets for business trip  : 0.57358\n",
      "a year and                     /-/ Air tickets for business trip  : 0.39768\n",
      "Category: Air tickets for work purposes\n",
      "Similarity Level:\n",
      "Employees receive free flight  /-/ Air tickets for work purposes  : 0.72803\n",
      "free flight benefits for busin /-/ Air tickets for work purposes  : 0.72739\n",
      "return to home country once    /-/ Air tickets for work purposes  : 0.58392\n",
      "a year and                     /-/ Air tickets for work purposes  : 0.42154\n",
      "Category: Flight for business trip\n",
      "Similarity Level:\n",
      "free flight benefits for busin /-/ Flight for business trip       : 0.81393\n",
      "Employees receive free flight  /-/ Flight for business trip       : 0.71784\n",
      "return to home country once    /-/ Flight for business trip       : 0.57278\n",
      "a year and                     /-/ Flight for business trip       : 0.40711\n",
      "Category: Flight for work purposes\n",
      "Similarity Level:\n",
      "free flight benefits for busin /-/ Flight for work purposes       : 0.77811\n",
      "Employees receive free flight  /-/ Flight for work purposes       : 0.7757\n",
      "return to home country once    /-/ Flight for work purposes       : 0.63074\n",
      "a year and                     /-/ Flight for work purposes       : 0.44423\n",
      "Category: Travel incidental to employment\n",
      "Similarity Level:\n",
      "Employees receive free flight  /-/ Travel incidental to employmen : 0.65757\n",
      "return to home country once    /-/ Travel incidental to employmen : 0.64921\n",
      "free flight benefits for busin /-/ Travel incidental to employmen : 0.62527\n",
      "a year and                     /-/ Travel incidental to employmen : 0.44644\n",
      "\n",
      "General Category: Passage provided when taking up employment and upon termination\n",
      "Category: Passage provided when taking up employment and upon termination\n",
      "Similarity Level:\n",
      "return to home country once    /-/ Passage provided when taking u : 0.54774\n",
      "Employees receive free flight  /-/ Passage provided when taking u : 0.54683\n",
      "a year and                     /-/ Passage provided when taking u : 0.49901\n",
      "free flight benefits for busin /-/ Passage provided when taking u : 0.46923\n",
      "Category: Air tickets back to home country after contract end\n",
      "Similarity Level:\n",
      "return to home country once    /-/ Air tickets back to home count : 0.74354\n",
      "Employees receive free flight  /-/ Air tickets back to home count : 0.64817\n",
      "free flight benefits for busin /-/ Air tickets back to home count : 0.62131\n",
      "a year and                     /-/ Air tickets back to home count : 0.41225\n",
      "Category: Air tickets back to home country after termination of employment\n",
      "Similarity Level:\n",
      "return to home country once    /-/ Air tickets back to home count : 0.72549\n",
      "Employees receive free flight  /-/ Air tickets back to home count : 0.66786\n",
      "free flight benefits for busin /-/ Air tickets back to home count : 0.60233\n",
      "a year and                     /-/ Air tickets back to home count : 0.41105\n",
      "Category: Air tickets to work in Singapore\n",
      "Similarity Level:\n",
      "Employees receive free flight  /-/ Air tickets to work in Singapo : 0.64815\n",
      "free flight benefits for busin /-/ Air tickets to work in Singapo : 0.61602\n",
      "return to home country once    /-/ Air tickets to work in Singapo : 0.55439\n",
      "a year and                     /-/ Air tickets to work in Singapo : 0.35689\n",
      "Category: Flight back to home country after contract end\n",
      "Similarity Level:\n",
      "return to home country once    /-/ Flight back to home country af : 0.77253\n",
      "Employees receive free flight  /-/ Flight back to home country af : 0.68495\n",
      "free flight benefits for busin /-/ Flight back to home country af : 0.65095\n",
      "a year and                     /-/ Flight back to home country af : 0.42421\n",
      "Category: Flight back to home country after termination of employment\n",
      "Similarity Level:\n",
      "return to home country once    /-/ Flight back to home country af : 0.75649\n",
      "Employees receive free flight  /-/ Flight back to home country af : 0.68296\n",
      "free flight benefits for busin /-/ Flight back to home country af : 0.61818\n",
      "a year and                     /-/ Flight back to home country af : 0.42893\n",
      "Category: Flight to work in Singapore\n",
      "Similarity Level:\n",
      "Employees receive free flight  /-/ Flight to work in Singapore    : 0.67509\n",
      "free flight benefits for busin /-/ Flight to work in Singapore    : 0.62732\n",
      "return to home country once    /-/ Flight to work in Singapore    : 0.59071\n",
      "a year and                     /-/ Flight to work in Singapore    : 0.37109\n",
      "\n",
      "General Category: Home leave passage\n",
      "Category: Home leave passage\n",
      "Similarity Level:\n",
      "return to home country once    /-/ Home leave passage             : 0.71822\n",
      "Employees receive free flight  /-/ Home leave passage             : 0.58595\n",
      "free flight benefits for busin /-/ Home leave passage             : 0.5253\n",
      "a year and                     /-/ Home leave passage             : 0.47873\n",
      "Category: Air passage benefit\n",
      "Similarity Level:\n",
      "free flight benefits for busin /-/ Air passage benefit            : 0.66233\n",
      "Employees receive free flight  /-/ Air passage benefit            : 0.64837\n",
      "return to home country once    /-/ Air passage benefit            : 0.52026\n",
      "a year and                     /-/ Air passage benefit            : 0.45422\n",
      "Category: Air tickets to home country\n",
      "Similarity Level:\n",
      "return to home country once    /-/ Air tickets to home country    : 0.73821\n",
      "Employees receive free flight  /-/ Air tickets to home country    : 0.63455\n",
      "free flight benefits for busin /-/ Air tickets to home country    : 0.62115\n",
      "a year and                     /-/ Air tickets to home country    : 0.41076\n",
      "Category: Flight to home country\n",
      "Similarity Level:\n",
      "return to home country once    /-/ Flight to home country         : 0.78412\n",
      "Employees receive free flight  /-/ Flight to home country         : 0.648\n",
      "free flight benefits for busin /-/ Flight to home country         : 0.60874\n",
      "a year and                     /-/ Flight to home country         : 0.4152\n",
      "\n"
     ]
    }
   ],
   "source": [
    "split_and_compare_wsub(get_sentence_embedding_bge, get_sentence_embedding_bge, cat_wsub_demo, hlp_biz_demo, sort_display=-1)\n",
    "pass"
   ]
  },
  {
   "cell_type": "code",
   "execution_count": null,
   "metadata": {},
   "outputs": [],
   "source": []
  },
  {
   "cell_type": "code",
   "execution_count": null,
   "metadata": {},
   "outputs": [],
   "source": []
  },
  {
   "cell_type": "markdown",
   "metadata": {},
   "source": [
    "### Top (count) & Limit (value)"
   ]
  },
  {
   "cell_type": "code",
   "execution_count": 15,
   "metadata": {},
   "outputs": [],
   "source": [
    "## top few, but no point if bottom so dw? and no sort is no point? cos need sort to determine top anyway!!!\n",
    "\n",
    "def categories_similarity_result_display_top_limit(categories_result_dict, top_many = 5, limit_value = 0.5):\n",
    "    for category, category_similarity_results_dict in categories_result_dict.items():\n",
    "        print(f\"Sub-Categories: {category}\")\n",
    "        print(f\"Similarity Level Of Top {top_many} (Limit={limit_value}):\")\n",
    "        num_count = 0\n",
    "        #if sort_display == -1:\n",
    "        for comparison_items_tuple, comparison_result in (sorted(category_similarity_results_dict.items(), key= lambda dict_item: dict_item[1], reverse=True)):\n",
    "            if num_count == top_many or comparison_result < limit_value:\n",
    "                break\n",
    "            print(f\"{comparison_items_tuple[0]:30.30} /-/ {comparison_items_tuple[1]:30.30} : {comparison_result:.5}\")\n",
    "            num_count += 1\n",
    "        \"\"\"\n",
    "        elif sort_display == 1:\n",
    "            for comparison_items_tuple, comparison_result in (sorted(category_similarity_results_dict.items(), key= lambda dict_item: dict_item[1], reverse=True)):\n",
    "                if num_count == top_many or comparison_result < limit_value:\n",
    "                    break\n",
    "                print(f\"{comparison_items_tuple[0]:30.30} /-/ {comparison_items_tuple[1]:30.30} : {comparison_result:.5}\")\n",
    "        else:\n",
    "            for comparison_items_tuple, comparison_result in category_similarity_results_dict.items():\n",
    "                if num_count == top_many or comparison_result < limit_value:\n",
    "                    break\n",
    "                print(f\"{comparison_items_tuple[0]:30.30} /-/ {comparison_items_tuple[1]:30.30} : {comparison_result:.5}\")\n",
    "        \"\"\"\n",
    "def categories_wsub_similarity_result_display_top_limit(categories_wsub_result_dict, top_many = 5, limit_value = 0.5):\n",
    "    for big_general_category, big_wsub_categories_result in categories_wsub_result_dict.items():\n",
    "        print(f\"General Category: {big_general_category}\")\n",
    "        general_category_subcats = tuple(big_wsub_categories_result.keys())\n",
    "        subcat_combined_dicts = {}\n",
    "        for subcat_dicts in big_wsub_categories_result.values():\n",
    "            subcat_combined_dicts = subcat_combined_dicts | subcat_dicts\n",
    "        #sorted_subcat_combined_dicts = {comp_tuple:comp_res for comp_tuple, comp_res in sorted(subcat_combined_dicts.items(), key = lambda dict_item: dict_item[1], reverse=True)}\n",
    "        categories_similarity_result_display_top_limit({general_category_subcats: subcat_combined_dicts}, top_many=top_many, limit_value=limit_value)\n",
    "        print()\n",
    "        \n",
    "def split_and_compare_wsub_top_limit(split_embed_function, compare_embed_function, categories_wsub, sentence_text, intermediate = False, graph = False, sort_compare = 0, display_split = True , display_end = True, top_many = 5, limit_value = 0.5):\n",
    "    splitted_sentence_text = semantic_segmentation_function(embedding_model_function=split_embed_function, sentence_text=sentence_text, intermediate_status=intermediate, graph_status=graph)\n",
    "    if display_split:\n",
    "        print(f\"Splitted texts: {splitted_sentence_text}\")\n",
    "    compare_result = categories_wsub_similarity_comparison_function(embedding_model_function=compare_embed_function, categories_wsub_dict=categories_wsub, texts=splitted_sentence_text, sort_output=sort_compare)\n",
    "    if display_end:\n",
    "        categories_wsub_similarity_result_display_top_limit(compare_result, top_many=top_many, limit_value=limit_value)\n",
    "    return splitted_sentence_text, compare_result"
   ]
  },
  {
   "cell_type": "code",
   "execution_count": 48,
   "metadata": {},
   "outputs": [
    {
     "name": "stdout",
     "output_type": "stream",
     "text": [
      "Splitted texts: ['Employees receive free flight benefits', 'to return to home country once', 'a year and', 'free flight benefits for business trips']\n",
      "General Category: Passage provided for business purpose\n",
      "Sub-Categories: ('Passage provided for business purpose', 'Air tickets for business trip', 'Air tickets for work purposes', 'Flight for business trip', 'Flight for work purposes', 'Travel incidental to employment')\n",
      "Similarity Level Of Top 3 (Limit=0.5):\n",
      "free flight benefits for busin /-/ Flight for business trip       : 0.75365\n",
      "free flight benefits for busin /-/ Air tickets for business trip  : 0.65982\n",
      "free flight benefits for busin /-/ Flight for work purposes       : 0.60962\n",
      "\n",
      "General Category: Passage provided when taking up employment and upon termination\n",
      "Sub-Categories: ('Passage provided when taking up employment and upon termination', 'Air tickets back to home country after contract end', 'Air tickets back to home country after termination of employment', 'Air tickets to work in Singapore', 'Flight back to home country after contract end', 'Flight back to home country after termination of employment', 'Flight to work in Singapore')\n",
      "Similarity Level Of Top 3 (Limit=0.5):\n",
      "to return to home country once /-/ Flight back to home country af : 0.59888\n",
      "to return to home country once /-/ Flight back to home country af : 0.53374\n",
      "\n",
      "General Category: Home leave passage\n",
      "Sub-Categories: ('Home leave passage', 'Air passage benefit', 'Air tickets to home country', 'Flight to home country')\n",
      "Similarity Level Of Top 3 (Limit=0.5):\n",
      "to return to home country once /-/ Flight to home country         : 0.66566\n",
      "free flight benefits for busin /-/ Air passage benefit            : 0.51766\n",
      "\n"
     ]
    }
   ],
   "source": [
    "split_and_compare_wsub_top_limit(get_sentence_embedding_MiniLM_L6_v2, get_sentence_embedding_MiniLM_L6_v2, cat_wsub_demo, hlp_biz_demo, top_many=3, limit_value=0.5)\n",
    "pass"
   ]
  },
  {
   "cell_type": "code",
   "execution_count": null,
   "metadata": {},
   "outputs": [],
   "source": [
    "def split_and_compare(split_embed_function, compare_embed_function, categories, sentence_text, intermediate = False, graph = False, sort_compare = 0, display_split = True , display_end = True, sort_display = 0):\n",
    "def split_and_compare_wsub(split_embed_function, compare_embed_function, categories_wsub, sentence_text, intermediate = False, graph = False, sort_compare = 0, display_split = True , display_end = True, sort_display = 0):\n",
    "def split_and_compare_wsub_top_limit(split_embed_function, compare_embed_function, categories_wsub, sentence_text, intermediate = False, graph = False, sort_compare = 0, display_split = True , display_end = True, top_many = 5, limit_value = 0.5):"
   ]
  },
  {
   "cell_type": "markdown",
   "metadata": {},
   "source": [
    "### Locks for Split and Compare (and variations-> normal, wsub, top limit)"
   ]
  },
  {
   "cell_type": "code",
   "execution_count": 65,
   "metadata": {},
   "outputs": [],
   "source": [
    "def lock_split_and_compare(split_embed_function, compare_embed_function):\n",
    "    def lockED_split_and_compare(categories, sentence_text, intermediate = False, graph = False, sort_compare = 0, display_split = True , display_end = True, sort_display = 0):\n",
    "        return split_and_compare(split_embed_function, compare_embed_function, categories, sentence_text, intermediate = intermediate, graph = graph, sort_compare = sort_compare, display_split = display_split , display_end = display_end, sort_display = sort_display)\n",
    "    return lockED_split_and_compare\n",
    "def lock_split_and_compare_wsub(split_embed_function, compare_embed_function):\n",
    "    def lockED_split_and_compare_wsub(categories_wsub, sentence_text, intermediate = False, graph = False, sort_compare = 0, display_split = True , display_end = True, sort_display = 0):\n",
    "        return split_and_compare_wsub(split_embed_function, compare_embed_function, categories_wsub=categories_wsub, sentence_text=sentence_text, intermediate = intermediate, graph = graph, sort_compare = sort_compare, display_split = display_split , display_end = display_end, sort_display = sort_display)\n",
    "    return lockED_split_and_compare_wsub\n",
    "def lock_split_and_compare_wsub_top_limit(split_embed_function, compare_embed_function):\n",
    "    return lambda categories_wsub, sentence_text, intermediate = False, graph = False, sort_compare = 0, display_split = True , display_end = True, top_many = 5, limit_value = 0.5:split_and_compare_wsub_top_limit(split_embed_function=split_embed_function, compare_embed_function=compare_embed_function, categories_wsub=categories_wsub, sentence_text=sentence_text, intermediate = intermediate, graph = graph, sort_compare = sort_compare, display_split = display_split , display_end = display_end, top_many = top_many, limit_value = limit_value)\n",
    "        \n"
   ]
  },
  {
   "cell_type": "markdown",
   "metadata": {},
   "source": []
  },
  {
   "cell_type": "code",
   "execution_count": 52,
   "metadata": {},
   "outputs": [],
   "source": [
    "minilm62_bge_s_c1 = lock_split_and_compare(get_sentence_embedding_MiniLM_L6_v2, get_sentence_embedding_bge)\n",
    "bge_minilm62_s_c2 = lock_split_and_compare_wsub(get_sentence_embedding_bge, get_sentence_embedding_MiniLM_L6_v2)\n",
    "\n",
    "minilm62_minilm62_s_c3 = lock_split_and_compare_wsub_top_limit(get_sentence_embedding_MiniLM_L6_v2, get_sentence_embedding_MiniLM_L6_v2)\n",
    "bge_bge_s_c3 = lock_split_and_compare_wsub_top_limit(get_sentence_embedding_bge, get_sentence_embedding_bge)"
   ]
  },
  {
   "cell_type": "code",
   "execution_count": 71,
   "metadata": {},
   "outputs": [
    {
     "name": "stdout",
     "output_type": "stream",
     "text": [
      "Splitted texts: ['Employees receive free flight benefits', 'to return to home country once', 'a year and', 'free flight benefits for business trips']\n",
      "Category: Passage provided for business purpose\n",
      "Similarity Level:\n",
      "Employees receive free flight  /-/ Passage provided for business  : 0.52735\n",
      "to return to home country once /-/ Passage provided for business  : 0.55901\n",
      "a year and                     /-/ Passage provided for business  : 0.49561\n",
      "free flight benefits for busin /-/ Passage provided for business  : 0.60146\n"
     ]
    },
    {
     "data": {
      "text/plain": [
       "(['Employees receive free flight benefits',\n",
       "  'to return to home country once',\n",
       "  'a year and',\n",
       "  'free flight benefits for business trips'],\n",
       " {'Passage provided for business purpose': {('Employees receive free flight benefits',\n",
       "    'Passage provided for business purpose'): 0.5273454640409909,\n",
       "   ('to return to home country once',\n",
       "    'Passage provided for business purpose'): 0.5590083551667142,\n",
       "   ('a year and', 'Passage provided for business purpose'): 0.4956094203318848,\n",
       "   ('free flight benefits for business trips',\n",
       "    'Passage provided for business purpose'): 0.6014551911575552}})"
      ]
     },
     "execution_count": 71,
     "metadata": {},
     "output_type": "execute_result"
    }
   ],
   "source": [
    "minilm62_bge_s_c1(list(cat_wsub_demo.keys())[0], hlp_biz_demo, )"
   ]
  },
  {
   "cell_type": "markdown",
   "metadata": {},
   "source": [
    "# "
   ]
  },
  {
   "cell_type": "code",
   "execution_count": 57,
   "metadata": {},
   "outputs": [
    {
     "name": "stdout",
     "output_type": "stream",
     "text": [
      "Splitted texts: ['Employees receive free flight benefits to', 'return to home country once', 'a year and', 'free flight benefits for business trips']\n",
      "General Category: Passage provided for business purpose\n",
      "Category: Passage provided for business purpose\n",
      "Similarity Level:\n",
      "Employees receive free flight  /-/ Passage provided for business  : 0.16618\n",
      "return to home country once    /-/ Passage provided for business  : 0.039441\n",
      "a year and                     /-/ Passage provided for business  : 0.065523\n",
      "free flight benefits for busin /-/ Passage provided for business  : 0.29568\n",
      "Category: Air tickets for business trip\n",
      "Similarity Level:\n",
      "Employees receive free flight  /-/ Air tickets for business trip  : 0.46172\n",
      "return to home country once    /-/ Air tickets for business trip  : 0.081763\n",
      "a year and                     /-/ Air tickets for business trip  : 0.050477\n",
      "free flight benefits for busin /-/ Air tickets for business trip  : 0.65982\n",
      "Category: Air tickets for work purposes\n",
      "Similarity Level:\n",
      "Employees receive free flight  /-/ Air tickets for work purposes  : 0.53308\n",
      "return to home country once    /-/ Air tickets for work purposes  : 0.08416\n",
      "a year and                     /-/ Air tickets for work purposes  : 0.035805\n",
      "free flight benefits for busin /-/ Air tickets for work purposes  : 0.49501\n",
      "Category: Flight for business trip\n",
      "Similarity Level:\n",
      "Employees receive free flight  /-/ Flight for business trip       : 0.43684\n",
      "return to home country once    /-/ Flight for business trip       : 0.209\n",
      "a year and                     /-/ Flight for business trip       : 0.095928\n",
      "free flight benefits for busin /-/ Flight for business trip       : 0.75365\n",
      "Category: Flight for work purposes\n",
      "Similarity Level:\n",
      "Employees receive free flight  /-/ Flight for work purposes       : 0.54411\n",
      "return to home country once    /-/ Flight for work purposes       : 0.22787\n",
      "a year and                     /-/ Flight for work purposes       : 0.08249\n",
      "free flight benefits for busin /-/ Flight for work purposes       : 0.60962\n",
      "Category: Travel incidental to employment\n",
      "Similarity Level:\n",
      "Employees receive free flight  /-/ Travel incidental to employmen : 0.40233\n",
      "return to home country once    /-/ Travel incidental to employmen : 0.38862\n",
      "a year and                     /-/ Travel incidental to employmen : 0.077406\n",
      "free flight benefits for busin /-/ Travel incidental to employmen : 0.44625\n",
      "\n",
      "General Category: Passage provided when taking up employment and upon termination\n",
      "Category: Passage provided when taking up employment and upon termination\n",
      "Similarity Level:\n",
      "Employees receive free flight  /-/ Passage provided when taking u : 0.22899\n",
      "return to home country once    /-/ Passage provided when taking u : 0.10605\n",
      "a year and                     /-/ Passage provided when taking u : 0.13826\n",
      "free flight benefits for busin /-/ Passage provided when taking u : 0.091191\n",
      "Category: Air tickets back to home country after contract end\n",
      "Similarity Level:\n",
      "Employees receive free flight  /-/ Air tickets back to home count : 0.30079\n",
      "return to home country once    /-/ Air tickets back to home count : 0.48595\n",
      "a year and                     /-/ Air tickets back to home count : 0.055655\n",
      "free flight benefits for busin /-/ Air tickets back to home count : 0.30954\n",
      "Category: Air tickets back to home country after termination of employment\n",
      "Similarity Level:\n",
      "Employees receive free flight  /-/ Air tickets back to home count : 0.43146\n",
      "return to home country once    /-/ Air tickets back to home count : 0.47499\n",
      "a year and                     /-/ Air tickets back to home count : 0.052931\n",
      "free flight benefits for busin /-/ Air tickets back to home count : 0.35058\n",
      "Category: Air tickets to work in Singapore\n",
      "Similarity Level:\n",
      "Employees receive free flight  /-/ Air tickets to work in Singapo : 0.43971\n",
      "return to home country once    /-/ Air tickets to work in Singapo : 0.14933\n",
      "a year and                     /-/ Air tickets to work in Singapo : 0.030742\n",
      "free flight benefits for busin /-/ Air tickets to work in Singapo : 0.37453\n",
      "Category: Flight back to home country after contract end\n",
      "Similarity Level:\n",
      "Employees receive free flight  /-/ Flight back to home country af : 0.23272\n",
      "return to home country once    /-/ Flight back to home country af : 0.65324\n",
      "a year and                     /-/ Flight back to home country af : 0.068576\n",
      "free flight benefits for busin /-/ Flight back to home country af : 0.30337\n",
      "Category: Flight back to home country after termination of employment\n",
      "Similarity Level:\n",
      "Employees receive free flight  /-/ Flight back to home country af : 0.36064\n",
      "return to home country once    /-/ Flight back to home country af : 0.59572\n",
      "a year and                     /-/ Flight back to home country af : 0.055252\n",
      "free flight benefits for busin /-/ Flight back to home country af : 0.31906\n",
      "Category: Flight to work in Singapore\n",
      "Similarity Level:\n",
      "Employees receive free flight  /-/ Flight to work in Singapore    : 0.39452\n",
      "return to home country once    /-/ Flight to work in Singapore    : 0.23757\n",
      "a year and                     /-/ Flight to work in Singapore    : 0.060395\n",
      "free flight benefits for busin /-/ Flight to work in Singapore    : 0.39236\n",
      "\n",
      "General Category: Home leave passage\n",
      "Category: Home leave passage\n",
      "Similarity Level:\n",
      "Employees receive free flight  /-/ Home leave passage             : 0.16865\n",
      "return to home country once    /-/ Home leave passage             : 0.44885\n",
      "a year and                     /-/ Home leave passage             : 0.090728\n",
      "free flight benefits for busin /-/ Home leave passage             : 0.171\n",
      "Category: Air passage benefit\n",
      "Similarity Level:\n",
      "Employees receive free flight  /-/ Air passage benefit            : 0.46612\n",
      "return to home country once    /-/ Air passage benefit            : 0.10216\n",
      "a year and                     /-/ Air passage benefit            : 0.066361\n",
      "free flight benefits for busin /-/ Air passage benefit            : 0.51766\n",
      "Category: Air tickets to home country\n",
      "Similarity Level:\n",
      "Employees receive free flight  /-/ Air tickets to home country    : 0.34251\n",
      "return to home country once    /-/ Air tickets to home country    : 0.4029\n",
      "a year and                     /-/ Air tickets to home country    : 0.056947\n",
      "free flight benefits for busin /-/ Air tickets to home country    : 0.38709\n",
      "Category: Flight to home country\n",
      "Similarity Level:\n",
      "Employees receive free flight  /-/ Flight to home country         : 0.26619\n",
      "return to home country once    /-/ Flight to home country         : 0.65674\n",
      "a year and                     /-/ Flight to home country         : 0.10164\n",
      "free flight benefits for busin /-/ Flight to home country         : 0.41699\n",
      "\n"
     ]
    }
   ],
   "source": [
    "bge_minilm62_s_c2(cat_wsub_demo, hlp_biz_demo)\n",
    "pass"
   ]
  },
  {
   "cell_type": "code",
   "execution_count": null,
   "metadata": {},
   "outputs": [],
   "source": []
  },
  {
   "cell_type": "code",
   "execution_count": 73,
   "metadata": {},
   "outputs": [
    {
     "name": "stdout",
     "output_type": "stream",
     "text": [
      "Splitted texts: ['Employees receive free flight benefits to', 'return to home country once', 'a year and', 'free flight benefits for business trips']\n",
      "General Category: Passage provided for business purpose\n",
      "Sub-Categories: ('Passage provided for business purpose', 'Air tickets for business trip', 'Air tickets for work purposes', 'Flight for business trip', 'Flight for work purposes', 'Travel incidental to employment')\n",
      "Similarity Level Of Top 3 (Limit=0.5):\n",
      "free flight benefits for busin /-/ Flight for business trip       : 0.81393\n",
      "free flight benefits for busin /-/ Air tickets for business trip  : 0.80979\n",
      "free flight benefits for busin /-/ Flight for work purposes       : 0.77811\n",
      "\n",
      "General Category: Passage provided when taking up employment and upon termination\n",
      "Sub-Categories: ('Passage provided when taking up employment and upon termination', 'Air tickets back to home country after contract end', 'Air tickets back to home country after termination of employment', 'Air tickets to work in Singapore', 'Flight back to home country after contract end', 'Flight back to home country after termination of employment', 'Flight to work in Singapore')\n",
      "Similarity Level Of Top 3 (Limit=0.5):\n",
      "return to home country once    /-/ Flight back to home country af : 0.77253\n",
      "return to home country once    /-/ Flight back to home country af : 0.75649\n",
      "return to home country once    /-/ Air tickets back to home count : 0.74354\n",
      "\n",
      "General Category: Home leave passage\n",
      "Sub-Categories: ('Home leave passage', 'Air passage benefit', 'Air tickets to home country', 'Flight to home country')\n",
      "Similarity Level Of Top 3 (Limit=0.5):\n",
      "return to home country once    /-/ Flight to home country         : 0.78412\n",
      "return to home country once    /-/ Air tickets to home country    : 0.73821\n",
      "return to home country once    /-/ Home leave passage             : 0.71822\n",
      "\n"
     ]
    }
   ],
   "source": [
    "bge_bge_s_c3(cat_wsub_demo, hlp_biz_demo, top_many=3)\n",
    "pass"
   ]
  },
  {
   "cell_type": "code",
   "execution_count": 74,
   "metadata": {},
   "outputs": [
    {
     "name": "stdout",
     "output_type": "stream",
     "text": [
      "Splitted texts: ['Employees receive free flight benefits', 'to return to home country once', 'a year and', 'free flight benefits for business trips']\n",
      "General Category: Passage provided for business purpose\n",
      "Sub-Categories: ('Passage provided for business purpose', 'Air tickets for business trip', 'Air tickets for work purposes', 'Flight for business trip', 'Flight for work purposes', 'Travel incidental to employment')\n",
      "Similarity Level Of Top 3 (Limit=0.5):\n",
      "free flight benefits for busin /-/ Flight for business trip       : 0.75365\n",
      "free flight benefits for busin /-/ Air tickets for business trip  : 0.65982\n",
      "free flight benefits for busin /-/ Flight for work purposes       : 0.60962\n",
      "\n",
      "General Category: Passage provided when taking up employment and upon termination\n",
      "Sub-Categories: ('Passage provided when taking up employment and upon termination', 'Air tickets back to home country after contract end', 'Air tickets back to home country after termination of employment', 'Air tickets to work in Singapore', 'Flight back to home country after contract end', 'Flight back to home country after termination of employment', 'Flight to work in Singapore')\n",
      "Similarity Level Of Top 3 (Limit=0.5):\n",
      "to return to home country once /-/ Flight back to home country af : 0.59888\n",
      "to return to home country once /-/ Flight back to home country af : 0.53374\n",
      "\n",
      "General Category: Home leave passage\n",
      "Sub-Categories: ('Home leave passage', 'Air passage benefit', 'Air tickets to home country', 'Flight to home country')\n",
      "Similarity Level Of Top 3 (Limit=0.5):\n",
      "to return to home country once /-/ Flight to home country         : 0.66566\n",
      "free flight benefits for busin /-/ Air passage benefit            : 0.51766\n",
      "\n"
     ]
    }
   ],
   "source": [
    "minilm62_minilm62_s_c3(cat_wsub_demo, hlp_biz_demo, top_many=3)\n",
    "pass"
   ]
  },
  {
   "cell_type": "code",
   "execution_count": null,
   "metadata": {},
   "outputs": [],
   "source": []
  },
  {
   "cell_type": "code",
   "execution_count": null,
   "metadata": {},
   "outputs": [],
   "source": []
  },
  {
   "cell_type": "code",
   "execution_count": 39,
   "metadata": {},
   "outputs": [],
   "source": []
  },
  {
   "cell_type": "code",
   "execution_count": null,
   "metadata": {},
   "outputs": [],
   "source": []
  },
  {
   "cell_type": "code",
   "execution_count": 76,
   "metadata": {},
   "outputs": [],
   "source": []
  },
  {
   "cell_type": "code",
   "execution_count": 65,
   "metadata": {},
   "outputs": [],
   "source": [
    "from transformers import AutoTokenizer, AutoModel\n",
    "import torch\n",
    "import torch.nn.functional as F\n",
    "\n",
    "#Mean Pooling - Take attention mask into account for correct averaging\n",
    "def mean_pooling(model_output, attention_mask):\n",
    "    token_embeddings = model_output[0] #First element of model_output contains all token embeddings\n",
    "    input_mask_expanded = attention_mask.unsqueeze(-1).expand(token_embeddings.size()).float()\n",
    "    \"\"\"\n",
    "    print(attention_mask.shape, attention_mask)\n",
    "    print(attention_mask.unsqueeze(-1).shape, attention_mask.unsqueeze(-1))\n",
    "    print(input_mask_expanded)\n",
    "    print(len(input_mask_expanded), token_embeddings.size(), input_mask_expanded.size())\n",
    "    \"\"\"\n",
    "    return torch.sum(token_embeddings * input_mask_expanded, 1) / torch.clamp(input_mask_expanded.sum(1), min=1e-9)\n",
    "\n",
    "\"\"\"\n",
    "# Sentences we want sentence embeddings for\n",
    "sentences = ['This is an example sentence', 'Each sentence is converted']\n",
    "\"\"\"\n",
    "\n",
    "# Load model from HuggingFace Hub\n",
    "pt_transformers_L6_v2_tokenizer = AutoTokenizer.from_pretrained('sentence-transformers/all-MiniLM-L6-v2')\n",
    "pt_transformers_L6_v2_model = AutoModel.from_pretrained('sentence-transformers/all-MiniLM-L6-v2')\n",
    "\n",
    "def pt_transformers_method_embedding_L6_v2(sentences):\n",
    "    \n",
    "    # Tokenize sentences\n",
    "    encoded_input = pt_transformers_L6_v2_tokenizer(sentences, padding=True, truncation=True, return_tensors='pt')\n",
    "\n",
    "    # Compute token embeddings\n",
    "    with torch.no_grad():\n",
    "        model_output = pt_transformers_L6_v2_model(**encoded_input)\n",
    "\n",
    "    # Perform pooling\n",
    "    sentence_embeddings = mean_pooling(model_output, encoded_input['attention_mask'])\n",
    "\n",
    "    # Normalize embeddings\n",
    "    sentence_embeddings = F.normalize(sentence_embeddings, p=2, dim=1)\n",
    "\n",
    "    #print(\"Sentence embeddings:\")\n",
    "    #print(sentence_embeddings)\n",
    "    '''\n",
    "    if len(sentence_embeddings) == 1:\n",
    "        return sentence_embeddings[0]\n",
    "    return sentence_embeddings\n",
    "    '''\n",
    "    return sentence_embeddings"
   ]
  },
  {
   "cell_type": "code",
   "execution_count": 66,
   "metadata": {},
   "outputs": [
    {
     "name": "stdout",
     "output_type": "stream",
     "text": [
      "Splitted texts: ['Employees receive free flight benefits', 'to return to home country once', 'a year and', 'free flight benefits for business trips']\n",
      "General Category: Passage provided for business purpose\n",
      "Sub-Categories: ('Passage provided for business purpose', 'Air tickets for business trip', 'Air tickets for work purposes', 'Flight for business trip', 'Flight for work purposes', 'Travel incidental to employment')\n",
      "Similarity Level Of Top 5 (Limit=0.5):\n",
      "free flight benefits for busin /-/ Flight for business trip       : 0.75365\n",
      "free flight benefits for busin /-/ Air tickets for business trip  : 0.65982\n",
      "free flight benefits for busin /-/ Flight for work purposes       : 0.60962\n",
      "Employees receive free flight  /-/ Flight for work purposes       : 0.55113\n",
      "Employees receive free flight  /-/ Air tickets for work purposes  : 0.53761\n",
      "\n",
      "General Category: Passage provided when taking up employment and upon termination\n",
      "Sub-Categories: ('Passage provided when taking up employment and upon termination', 'Air tickets back to home country after contract end', 'Air tickets back to home country after termination of employment', 'Air tickets to work in Singapore', 'Flight back to home country after contract end', 'Flight back to home country after termination of employment', 'Flight to work in Singapore')\n",
      "Similarity Level Of Top 5 (Limit=0.5):\n",
      "to return to home country once /-/ Flight back to home country af : 0.59888\n",
      "to return to home country once /-/ Flight back to home country af : 0.53374\n",
      "\n",
      "General Category: Home leave passage\n",
      "Sub-Categories: ('Home leave passage', 'Air passage benefit', 'Air tickets to home country', 'Flight to home country')\n",
      "Similarity Level Of Top 5 (Limit=0.5):\n",
      "to return to home country once /-/ Flight to home country         : 0.66566\n",
      "free flight benefits for busin /-/ Air passage benefit            : 0.51766\n",
      "\n"
     ]
    },
    {
     "data": {
      "text/plain": [
       "(['Employees receive free flight benefits',\n",
       "  'to return to home country once',\n",
       "  'a year and',\n",
       "  'free flight benefits for business trips'],\n",
       " {'Passage provided for business purpose': {'Passage provided for business purpose': {('Employees receive free flight benefits',\n",
       "     'Passage provided for business purpose'): 0.14779233235003653,\n",
       "    ('to return to home country once',\n",
       "     'Passage provided for business purpose'): 0.17852770986928615,\n",
       "    ('a year and',\n",
       "     'Passage provided for business purpose'): 0.06552286772996774,\n",
       "    ('free flight benefits for business trips',\n",
       "     'Passage provided for business purpose'): 0.29568490649739965},\n",
       "   'Air tickets for business trip': {('Employees receive free flight benefits',\n",
       "     'Air tickets for business trip'): 0.4639808954117372,\n",
       "    ('to return to home country once',\n",
       "     'Air tickets for business trip'): 0.11835617757300575,\n",
       "    ('a year and', 'Air tickets for business trip'): 0.0504765864001799,\n",
       "    ('free flight benefits for business trips',\n",
       "     'Air tickets for business trip'): 0.6598189842771236},\n",
       "   'Air tickets for work purposes': {('Employees receive free flight benefits',\n",
       "     'Air tickets for work purposes'): 0.5376104533584114,\n",
       "    ('to return to home country once',\n",
       "     'Air tickets for work purposes'): 0.14008334833249614,\n",
       "    ('a year and', 'Air tickets for work purposes'): 0.03580521225597774,\n",
       "    ('free flight benefits for business trips',\n",
       "     'Air tickets for work purposes'): 0.4950128993725118},\n",
       "   'Flight for business trip': {('Employees receive free flight benefits',\n",
       "     'Flight for business trip'): 0.435762301470959,\n",
       "    ('to return to home country once',\n",
       "     'Flight for business trip'): 0.24187638384137267,\n",
       "    ('a year and', 'Flight for business trip'): 0.09592844315591284,\n",
       "    ('free flight benefits for business trips',\n",
       "     'Flight for business trip'): 0.7536517813135932},\n",
       "   'Flight for work purposes': {('Employees receive free flight benefits',\n",
       "     'Flight for work purposes'): 0.5511253221175141,\n",
       "    ('to return to home country once',\n",
       "     'Flight for work purposes'): 0.2896275893026543,\n",
       "    ('a year and', 'Flight for work purposes'): 0.08249032498633845,\n",
       "    ('free flight benefits for business trips',\n",
       "     'Flight for work purposes'): 0.6096248255738319},\n",
       "   'Travel incidental to employment': {('Employees receive free flight benefits',\n",
       "     'Travel incidental to employment'): 0.39301368059022956,\n",
       "    ('to return to home country once',\n",
       "     'Travel incidental to employment'): 0.39617666564572596,\n",
       "    ('a year and', 'Travel incidental to employment'): 0.07740571900008342,\n",
       "    ('free flight benefits for business trips',\n",
       "     'Travel incidental to employment'): 0.44624883322649134}},\n",
       "  'Passage provided when taking up employment and upon termination': {'Passage provided when taking up employment and upon termination': {('Employees receive free flight benefits',\n",
       "     'Passage provided when taking up employment and upon termination'): 0.21868298163832403,\n",
       "    ('to return to home country once',\n",
       "     'Passage provided when taking up employment and upon termination'): 0.16139196796143582,\n",
       "    ('a year and',\n",
       "     'Passage provided when taking up employment and upon termination'): 0.1382600772255958,\n",
       "    ('free flight benefits for business trips',\n",
       "     'Passage provided when taking up employment and upon termination'): 0.09119117726133678},\n",
       "   'Air tickets back to home country after contract end': {('Employees receive free flight benefits',\n",
       "     'Air tickets back to home country after contract end'): 0.30093577859713627,\n",
       "    ('to return to home country once',\n",
       "     'Air tickets back to home country after contract end'): 0.44958042884451316,\n",
       "    ('a year and',\n",
       "     'Air tickets back to home country after contract end'): 0.05565493498306773,\n",
       "    ('free flight benefits for business trips',\n",
       "     'Air tickets back to home country after contract end'): 0.3095408398241093},\n",
       "   'Air tickets back to home country after termination of employment': {('Employees receive free flight benefits',\n",
       "     'Air tickets back to home country after termination of employment'): 0.43415698362247235,\n",
       "    ('to return to home country once',\n",
       "     'Air tickets back to home country after termination of employment'): 0.4292748684995476,\n",
       "    ('a year and',\n",
       "     'Air tickets back to home country after termination of employment'): 0.05293060206713229,\n",
       "    ('free flight benefits for business trips',\n",
       "     'Air tickets back to home country after termination of employment'): 0.3505791343838498},\n",
       "   'Air tickets to work in Singapore': {('Employees receive free flight benefits',\n",
       "     'Air tickets to work in Singapore'): 0.44262971324371864,\n",
       "    ('to return to home country once',\n",
       "     'Air tickets to work in Singapore'): 0.17734620096051423,\n",
       "    ('a year and', 'Air tickets to work in Singapore'): 0.030742087031399204,\n",
       "    ('free flight benefits for business trips',\n",
       "     'Air tickets to work in Singapore'): 0.3745299206916572},\n",
       "   'Flight back to home country after contract end': {('Employees receive free flight benefits',\n",
       "     'Flight back to home country after contract end'): 0.22879137461995946,\n",
       "    ('to return to home country once',\n",
       "     'Flight back to home country after contract end'): 0.598883246658602,\n",
       "    ('a year and',\n",
       "     'Flight back to home country after contract end'): 0.0685758246550281,\n",
       "    ('free flight benefits for business trips',\n",
       "     'Flight back to home country after contract end'): 0.30337465747288683},\n",
       "   'Flight back to home country after termination of employment': {('Employees receive free flight benefits',\n",
       "     'Flight back to home country after termination of employment'): 0.36049679568918713,\n",
       "    ('to return to home country once',\n",
       "     'Flight back to home country after termination of employment'): 0.5337448543043879,\n",
       "    ('a year and',\n",
       "     'Flight back to home country after termination of employment'): 0.0552523757358474,\n",
       "    ('free flight benefits for business trips',\n",
       "     'Flight back to home country after termination of employment'): 0.3190605163520106},\n",
       "   'Flight to work in Singapore': {('Employees receive free flight benefits',\n",
       "     'Flight to work in Singapore'): 0.39243984840253016,\n",
       "    ('to return to home country once',\n",
       "     'Flight to work in Singapore'): 0.25965771393725867,\n",
       "    ('a year and', 'Flight to work in Singapore'): 0.06039539651956023,\n",
       "    ('free flight benefits for business trips',\n",
       "     'Flight to work in Singapore'): 0.3923574507372793}},\n",
       "  'Home leave passage': {'Home leave passage': {('Employees receive free flight benefits',\n",
       "     'Home leave passage'): 0.16376386148499494,\n",
       "    ('to return to home country once',\n",
       "     'Home leave passage'): 0.4848428570004446,\n",
       "    ('a year and', 'Home leave passage'): 0.0907284416480822,\n",
       "    ('free flight benefits for business trips',\n",
       "     'Home leave passage'): 0.1710042399611213},\n",
       "   'Air passage benefit': {('Employees receive free flight benefits',\n",
       "     'Air passage benefit'): 0.4717066074745732,\n",
       "    ('to return to home country once',\n",
       "     'Air passage benefit'): 0.19575522498843176,\n",
       "    ('a year and', 'Air passage benefit'): 0.06636103989527005,\n",
       "    ('free flight benefits for business trips',\n",
       "     'Air passage benefit'): 0.5176624065540667},\n",
       "   'Air tickets to home country': {('Employees receive free flight benefits',\n",
       "     'Air tickets to home country'): 0.3469180402218514,\n",
       "    ('to return to home country once',\n",
       "     'Air tickets to home country'): 0.4328092552020737,\n",
       "    ('a year and', 'Air tickets to home country'): 0.056946677215592184,\n",
       "    ('free flight benefits for business trips',\n",
       "     'Air tickets to home country'): 0.38708819585485815},\n",
       "   'Flight to home country': {('Employees receive free flight benefits',\n",
       "     'Flight to home country'): 0.26720465266595306,\n",
       "    ('to return to home country once',\n",
       "     'Flight to home country'): 0.6656597017594097,\n",
       "    ('a year and', 'Flight to home country'): 0.10163831337695249,\n",
       "    ('free flight benefits for business trips',\n",
       "     'Flight to home country'): 0.41699008606212845}}})"
      ]
     },
     "execution_count": 66,
     "metadata": {},
     "output_type": "execute_result"
    }
   ],
   "source": [
    "split_and_compare_wsub_top_limit(pt_transformers_method_embedding_L6_v2, pt_transformers_method_embedding_L6_v2, cat_wsub_demo, hlp_biz_demo)"
   ]
  },
  {
   "cell_type": "code",
   "execution_count": 93,
   "metadata": {},
   "outputs": [
    {
     "data": {
      "text/plain": [
       "tensor([-1.0393e-01,  2.0046e-02,  1.5061e-02,  1.6006e-02, -1.1926e-02,\n",
       "        -6.6343e-02,  5.0125e-02,  6.1243e-02,  2.4817e-02,  1.9213e-03,\n",
       "        -8.4717e-03, -4.8424e-03, -4.3445e-02, -3.3344e-02,  2.9367e-02,\n",
       "         5.1366e-02, -1.7148e-02, -4.2455e-02, -1.6554e-01, -4.9113e-02,\n",
       "         1.6032e-02,  8.1117e-02, -1.2132e-01,  2.6499e-02, -4.1076e-02,\n",
       "        -3.9687e-02,  6.7479e-03,  8.6902e-02, -6.3226e-02, -2.6693e-03,\n",
       "         2.1978e-02,  6.1469e-02,  2.0521e-02,  3.6933e-02,  3.3248e-02,\n",
       "         3.0363e-02, -4.5100e-02, -6.6769e-02,  3.2899e-02,  1.4454e-02,\n",
       "         1.6767e-03, -8.0434e-03, -1.1684e-02,  3.3987e-02,  5.4519e-02,\n",
       "        -8.8126e-02,  1.4727e-02, -8.6807e-02,  2.6017e-02,  3.5282e-02,\n",
       "        -5.4358e-02, -2.1229e-02, -5.5936e-02, -3.9887e-02,  1.2032e-01,\n",
       "         1.0564e-02, -8.4991e-03, -5.9975e-02,  7.5582e-02, -5.7824e-02,\n",
       "        -4.8444e-02,  1.2304e-02, -9.6453e-02, -3.7179e-02,  1.7875e-02,\n",
       "        -3.1692e-02, -3.5624e-02, -6.9730e-02, -2.6548e-02, -7.8906e-02,\n",
       "        -2.7255e-02,  2.6908e-02, -1.5670e-02,  8.5260e-03, -2.7085e-02,\n",
       "        -6.8775e-02,  4.1440e-02,  4.2785e-02,  9.3479e-03, -1.3672e-02,\n",
       "         4.5513e-02, -4.4652e-02,  1.1647e-02, -3.4469e-02, -7.3546e-04,\n",
       "        -1.5980e-02,  7.7794e-02, -1.7618e-02, -4.2632e-02, -2.4283e-02,\n",
       "        -9.1618e-02,  7.5822e-02, -2.2319e-02, -1.8224e-02, -5.9397e-02,\n",
       "        -9.1310e-02,  1.0506e-01,  5.3325e-02, -9.1684e-02,  2.0031e-01,\n",
       "         4.2021e-02,  3.9233e-02,  3.8894e-02,  6.4533e-02, -5.1185e-02,\n",
       "         5.5634e-02, -5.9400e-02,  7.4180e-02, -2.8383e-02,  5.6888e-03,\n",
       "         8.2359e-05,  3.9674e-02,  3.2058e-02,  1.5259e-02,  5.8429e-02,\n",
       "         5.8216e-02,  3.2763e-02,  2.4482e-02,  1.1532e-01, -9.7645e-02,\n",
       "        -1.2980e-03, -2.9703e-02, -5.3167e-03, -1.8414e-02, -9.7949e-03,\n",
       "        -6.2359e-02, -2.8166e-02, -1.2544e-33,  7.3354e-02, -1.4268e-02,\n",
       "         2.8902e-02,  3.1544e-02, -3.1942e-02, -2.6023e-02, -4.5688e-02,\n",
       "        -2.0628e-02,  3.8002e-03,  3.0485e-02, -2.0763e-02, -3.1423e-02,\n",
       "        -6.2262e-02, -4.1823e-03,  1.8371e-02,  1.7890e-02,  5.6717e-02,\n",
       "         4.0805e-02,  8.2042e-03,  9.4116e-03, -1.5911e-02, -4.0152e-02,\n",
       "         2.2757e-02,  2.4107e-02, -2.3820e-03,  4.8348e-03,  7.8286e-02,\n",
       "        -1.4506e-01,  2.5468e-02,  8.3403e-02, -8.6415e-03,  3.1450e-02,\n",
       "        -3.4414e-02,  2.4310e-02, -4.0148e-02, -3.3230e-02, -4.4343e-03,\n",
       "        -3.5361e-02, -7.4029e-02,  2.9502e-02,  1.3566e-02,  1.8446e-02,\n",
       "         4.6756e-02, -3.0591e-02,  4.0944e-02,  2.1242e-02,  8.0097e-02,\n",
       "         2.0539e-02,  4.7747e-02,  1.6283e-02, -8.3307e-02, -6.3247e-04,\n",
       "        -9.0857e-02, -6.6565e-04, -8.3272e-02,  6.9306e-03,  1.2371e-02,\n",
       "        -6.9984e-03,  6.0500e-02,  2.9979e-02,  8.2626e-02,  8.8936e-02,\n",
       "        -5.6773e-02, -6.5456e-03, -1.0920e-01, -2.0640e-02,  7.7764e-02,\n",
       "        -3.2239e-02,  6.8923e-02,  4.6609e-04, -1.0461e-02, -1.0158e-02,\n",
       "        -4.2997e-03,  1.7958e-02, -3.6701e-03,  3.1472e-03,  6.8004e-02,\n",
       "        -5.4395e-03, -2.0763e-03, -3.1814e-02, -1.6954e-02,  1.2693e-02,\n",
       "        -3.8679e-02,  6.9128e-03,  3.4416e-02, -7.0991e-02,  8.3445e-03,\n",
       "        -1.0890e-01, -1.2636e-01, -2.2966e-02, -1.5608e-02,  6.3939e-02,\n",
       "         9.7637e-02, -5.5857e-02, -7.7048e-03,  1.4795e-33,  1.1272e-01,\n",
       "         1.1848e-02, -4.5399e-02,  1.8747e-02,  6.5555e-03, -5.6407e-03,\n",
       "        -3.3547e-03,  5.2632e-02, -4.1063e-02,  2.9756e-02,  5.0468e-02,\n",
       "        -4.8635e-03,  3.9184e-02, -2.2499e-03,  7.3792e-02,  5.4283e-02,\n",
       "         5.3522e-02,  6.9879e-02, -7.9327e-02,  2.6832e-02, -4.4594e-02,\n",
       "        -2.1643e-02,  1.7435e-02, -7.2272e-02,  4.2036e-02, -2.0499e-02,\n",
       "         3.6683e-02,  6.2882e-02, -9.1999e-02, -6.2676e-04,  7.9216e-02,\n",
       "         3.9253e-02, -5.5740e-02,  2.4884e-02,  4.3214e-02,  1.7295e-02,\n",
       "         3.9545e-02, -3.1231e-02,  3.7083e-02, -4.3103e-02, -2.8455e-02,\n",
       "        -2.3614e-03, -6.8560e-02,  4.0737e-02, -6.3849e-03, -2.7081e-02,\n",
       "         5.4466e-02, -8.4779e-03, -2.8878e-02,  2.4925e-02, -5.3100e-02,\n",
       "        -4.4492e-02, -1.0552e-02,  1.4318e-02, -6.4012e-02,  5.9874e-02,\n",
       "         4.7861e-02,  3.0091e-02,  8.5791e-02, -2.6043e-02,  1.8927e-02,\n",
       "         6.2620e-03,  1.5164e-02,  9.4607e-02,  2.1013e-02,  6.3576e-02,\n",
       "        -8.0530e-02, -2.7816e-02, -3.3714e-02, -2.4462e-02,  7.6125e-03,\n",
       "        -2.3582e-02,  7.6668e-02, -1.2266e-02,  3.6249e-02, -6.6812e-03,\n",
       "         4.2574e-02,  8.5869e-02, -9.7208e-03,  3.9435e-02,  4.4517e-02,\n",
       "        -4.8748e-02, -2.0821e-03,  5.3046e-02, -1.3029e-02, -1.5505e-02,\n",
       "         7.0515e-02,  5.9779e-02,  1.8294e-02, -1.0828e-01,  3.2148e-02,\n",
       "         6.1106e-02,  3.7628e-02,  7.0577e-04,  1.1543e-02, -1.6308e-08,\n",
       "         4.4003e-02, -2.5923e-02,  1.6424e-01,  6.0877e-02,  5.6250e-02,\n",
       "         9.7222e-02, -4.7303e-03, -5.4176e-02, -6.9979e-04,  3.3439e-02,\n",
       "         5.4667e-02,  4.5658e-02, -3.1249e-02, -3.4731e-02,  5.7930e-02,\n",
       "        -4.4817e-02, -1.4225e-02,  6.2550e-02, -5.8011e-02, -8.9681e-02,\n",
       "         3.8808e-02,  6.2698e-02, -6.7496e-03, -5.9123e-02,  2.5738e-02,\n",
       "         2.0211e-03, -1.2454e-02,  2.6350e-03, -6.0345e-02,  8.0537e-03,\n",
       "        -3.4038e-02,  1.4379e-01, -9.2989e-03, -2.8518e-02,  1.1088e-03,\n",
       "         2.3120e-02, -3.7259e-02, -4.0270e-03,  7.3337e-02, -9.4224e-02,\n",
       "        -3.6609e-02, -7.9784e-02, -1.1299e-02, -5.7459e-02, -1.6517e-02,\n",
       "         4.0178e-02,  5.1233e-03, -5.1419e-02,  2.5178e-02, -1.0254e-01,\n",
       "        -1.3320e-02, -5.8421e-03,  5.4283e-02,  7.2673e-02,  4.5346e-02,\n",
       "         4.5596e-02,  7.9762e-03,  2.6387e-03, -7.3984e-02, -2.6849e-02,\n",
       "         1.2901e-01,  3.2375e-02,  6.0563e-02,  2.3566e-02])"
      ]
     },
     "execution_count": 93,
     "metadata": {},
     "output_type": "execute_result"
    }
   ],
   "source": [
    "pt_transformers_method_embedding_L6_v2(\"hi there\")"
   ]
  },
  {
   "cell_type": "code",
   "execution_count": 94,
   "metadata": {},
   "outputs": [
    {
     "name": "stdout",
     "output_type": "stream",
     "text": [
      "Splitted texts: ['Employees receive free flight benefits', 'to return to home country once', 'a year and', 'free flight benefits for business trips']\n",
      "General Category: Passage provided for business purpose\n",
      "Sub-Categories: ('Passage provided for business purpose', 'Air tickets for business trip', 'Air tickets for work purposes', 'Flight for business trip', 'Flight for work purposes', 'Travel incidental to employment')\n",
      "Similarity Level Of Top 5 (Limit=0.5):\n",
      "free flight benefits for busin /-/ Flight for business trip       : 0.75365\n",
      "free flight benefits for busin /-/ Air tickets for business trip  : 0.65982\n",
      "free flight benefits for busin /-/ Flight for work purposes       : 0.60962\n",
      "Employees receive free flight  /-/ Flight for work purposes       : 0.55113\n",
      "Employees receive free flight  /-/ Air tickets for work purposes  : 0.53761\n",
      "\n",
      "General Category: Passage provided when taking up employment and upon termination\n",
      "Sub-Categories: ('Passage provided when taking up employment and upon termination', 'Air tickets back to home country after contract end', 'Air tickets back to home country after termination of employment', 'Air tickets to work in Singapore', 'Flight back to home country after contract end', 'Flight back to home country after termination of employment', 'Flight to work in Singapore')\n",
      "Similarity Level Of Top 5 (Limit=0.5):\n",
      "to return to home country once /-/ Flight back to home country af : 0.59888\n",
      "to return to home country once /-/ Flight back to home country af : 0.53374\n",
      "\n",
      "General Category: Home leave passage\n",
      "Sub-Categories: ('Home leave passage', 'Air passage benefit', 'Air tickets to home country', 'Flight to home country')\n",
      "Similarity Level Of Top 5 (Limit=0.5):\n",
      "to return to home country once /-/ Flight to home country         : 0.66566\n",
      "free flight benefits for busin /-/ Air passage benefit            : 0.51766\n",
      "\n"
     ]
    },
    {
     "data": {
      "text/plain": [
       "(['Employees receive free flight benefits',\n",
       "  'to return to home country once',\n",
       "  'a year and',\n",
       "  'free flight benefits for business trips'],\n",
       " {'Passage provided for business purpose': {'Passage provided for business purpose': {('Employees receive free flight benefits',\n",
       "     'Passage provided for business purpose'): 0.14779233235003653,\n",
       "    ('to return to home country once',\n",
       "     'Passage provided for business purpose'): 0.17852770986928615,\n",
       "    ('a year and',\n",
       "     'Passage provided for business purpose'): 0.06552286772996774,\n",
       "    ('free flight benefits for business trips',\n",
       "     'Passage provided for business purpose'): 0.29568490649739965},\n",
       "   'Air tickets for business trip': {('Employees receive free flight benefits',\n",
       "     'Air tickets for business trip'): 0.4639808954117372,\n",
       "    ('to return to home country once',\n",
       "     'Air tickets for business trip'): 0.11835617757300575,\n",
       "    ('a year and', 'Air tickets for business trip'): 0.0504765864001799,\n",
       "    ('free flight benefits for business trips',\n",
       "     'Air tickets for business trip'): 0.6598189842771236},\n",
       "   'Air tickets for work purposes': {('Employees receive free flight benefits',\n",
       "     'Air tickets for work purposes'): 0.5376104533584114,\n",
       "    ('to return to home country once',\n",
       "     'Air tickets for work purposes'): 0.14008334833249614,\n",
       "    ('a year and', 'Air tickets for work purposes'): 0.03580521225597774,\n",
       "    ('free flight benefits for business trips',\n",
       "     'Air tickets for work purposes'): 0.4950128993725118},\n",
       "   'Flight for business trip': {('Employees receive free flight benefits',\n",
       "     'Flight for business trip'): 0.435762301470959,\n",
       "    ('to return to home country once',\n",
       "     'Flight for business trip'): 0.24187638384137267,\n",
       "    ('a year and', 'Flight for business trip'): 0.09592844315591284,\n",
       "    ('free flight benefits for business trips',\n",
       "     'Flight for business trip'): 0.7536517813135932},\n",
       "   'Flight for work purposes': {('Employees receive free flight benefits',\n",
       "     'Flight for work purposes'): 0.5511253221175141,\n",
       "    ('to return to home country once',\n",
       "     'Flight for work purposes'): 0.2896275893026543,\n",
       "    ('a year and', 'Flight for work purposes'): 0.08249032498633845,\n",
       "    ('free flight benefits for business trips',\n",
       "     'Flight for work purposes'): 0.6096248255738319},\n",
       "   'Travel incidental to employment': {('Employees receive free flight benefits',\n",
       "     'Travel incidental to employment'): 0.39301368059022956,\n",
       "    ('to return to home country once',\n",
       "     'Travel incidental to employment'): 0.39617666564572596,\n",
       "    ('a year and', 'Travel incidental to employment'): 0.07740571900008342,\n",
       "    ('free flight benefits for business trips',\n",
       "     'Travel incidental to employment'): 0.44624883322649134}},\n",
       "  'Passage provided when taking up employment and upon termination': {'Passage provided when taking up employment and upon termination': {('Employees receive free flight benefits',\n",
       "     'Passage provided when taking up employment and upon termination'): 0.21868298163832403,\n",
       "    ('to return to home country once',\n",
       "     'Passage provided when taking up employment and upon termination'): 0.16139196796143582,\n",
       "    ('a year and',\n",
       "     'Passage provided when taking up employment and upon termination'): 0.1382600772255958,\n",
       "    ('free flight benefits for business trips',\n",
       "     'Passage provided when taking up employment and upon termination'): 0.09119117726133678},\n",
       "   'Air tickets back to home country after contract end': {('Employees receive free flight benefits',\n",
       "     'Air tickets back to home country after contract end'): 0.30093577859713627,\n",
       "    ('to return to home country once',\n",
       "     'Air tickets back to home country after contract end'): 0.44958042884451316,\n",
       "    ('a year and',\n",
       "     'Air tickets back to home country after contract end'): 0.05565493498306773,\n",
       "    ('free flight benefits for business trips',\n",
       "     'Air tickets back to home country after contract end'): 0.3095408398241093},\n",
       "   'Air tickets back to home country after termination of employment': {('Employees receive free flight benefits',\n",
       "     'Air tickets back to home country after termination of employment'): 0.43415698362247235,\n",
       "    ('to return to home country once',\n",
       "     'Air tickets back to home country after termination of employment'): 0.4292748684995476,\n",
       "    ('a year and',\n",
       "     'Air tickets back to home country after termination of employment'): 0.05293060206713229,\n",
       "    ('free flight benefits for business trips',\n",
       "     'Air tickets back to home country after termination of employment'): 0.3505791343838498},\n",
       "   'Air tickets to work in Singapore': {('Employees receive free flight benefits',\n",
       "     'Air tickets to work in Singapore'): 0.44262971324371864,\n",
       "    ('to return to home country once',\n",
       "     'Air tickets to work in Singapore'): 0.17734620096051423,\n",
       "    ('a year and', 'Air tickets to work in Singapore'): 0.030742087031399204,\n",
       "    ('free flight benefits for business trips',\n",
       "     'Air tickets to work in Singapore'): 0.3745299206916572},\n",
       "   'Flight back to home country after contract end': {('Employees receive free flight benefits',\n",
       "     'Flight back to home country after contract end'): 0.22879137461995946,\n",
       "    ('to return to home country once',\n",
       "     'Flight back to home country after contract end'): 0.598883246658602,\n",
       "    ('a year and',\n",
       "     'Flight back to home country after contract end'): 0.0685758246550281,\n",
       "    ('free flight benefits for business trips',\n",
       "     'Flight back to home country after contract end'): 0.30337465747288683},\n",
       "   'Flight back to home country after termination of employment': {('Employees receive free flight benefits',\n",
       "     'Flight back to home country after termination of employment'): 0.36049679568918713,\n",
       "    ('to return to home country once',\n",
       "     'Flight back to home country after termination of employment'): 0.5337448543043879,\n",
       "    ('a year and',\n",
       "     'Flight back to home country after termination of employment'): 0.0552523757358474,\n",
       "    ('free flight benefits for business trips',\n",
       "     'Flight back to home country after termination of employment'): 0.3190605163520106},\n",
       "   'Flight to work in Singapore': {('Employees receive free flight benefits',\n",
       "     'Flight to work in Singapore'): 0.39243984840253016,\n",
       "    ('to return to home country once',\n",
       "     'Flight to work in Singapore'): 0.25965771393725867,\n",
       "    ('a year and', 'Flight to work in Singapore'): 0.06039539651956023,\n",
       "    ('free flight benefits for business trips',\n",
       "     'Flight to work in Singapore'): 0.3923574507372793}},\n",
       "  'Home leave passage': {'Home leave passage': {('Employees receive free flight benefits',\n",
       "     'Home leave passage'): 0.16376386148499494,\n",
       "    ('to return to home country once',\n",
       "     'Home leave passage'): 0.4848428570004446,\n",
       "    ('a year and', 'Home leave passage'): 0.0907284416480822,\n",
       "    ('free flight benefits for business trips',\n",
       "     'Home leave passage'): 0.1710042399611213},\n",
       "   'Air passage benefit': {('Employees receive free flight benefits',\n",
       "     'Air passage benefit'): 0.4717066074745732,\n",
       "    ('to return to home country once',\n",
       "     'Air passage benefit'): 0.19575522498843176,\n",
       "    ('a year and', 'Air passage benefit'): 0.06636103989527005,\n",
       "    ('free flight benefits for business trips',\n",
       "     'Air passage benefit'): 0.5176624065540667},\n",
       "   'Air tickets to home country': {('Employees receive free flight benefits',\n",
       "     'Air tickets to home country'): 0.3469180402218514,\n",
       "    ('to return to home country once',\n",
       "     'Air tickets to home country'): 0.4328092552020737,\n",
       "    ('a year and', 'Air tickets to home country'): 0.056946677215592184,\n",
       "    ('free flight benefits for business trips',\n",
       "     'Air tickets to home country'): 0.38708819585485815},\n",
       "   'Flight to home country': {('Employees receive free flight benefits',\n",
       "     'Flight to home country'): 0.26720465266595306,\n",
       "    ('to return to home country once',\n",
       "     'Flight to home country'): 0.6656597017594097,\n",
       "    ('a year and', 'Flight to home country'): 0.10163831337695249,\n",
       "    ('free flight benefits for business trips',\n",
       "     'Flight to home country'): 0.41699008606212845}}})"
      ]
     },
     "execution_count": 94,
     "metadata": {},
     "output_type": "execute_result"
    }
   ],
   "source": [
    "split_and_compare_wsub_top_limit(pt_transformers_method_embedding_L6_v2, pt_transformers_method_embedding_L6_v2, cat_wsub_demo, hlp_biz_demo)"
   ]
  },
  {
   "cell_type": "markdown",
   "metadata": {},
   "source": [
    "### Locks for Split and Compare (and variations-> normal, wsub, top limit)"
   ]
  },
  {
   "cell_type": "code",
   "execution_count": null,
   "metadata": {},
   "outputs": [],
   "source": []
  },
  {
   "cell_type": "code",
   "execution_count": 16,
   "metadata": {},
   "outputs": [],
   "source": [
    "from transformers import AutoTokenizer, AutoModel\n",
    "import torch\n",
    "import torch.nn.functional as F\n",
    "\n",
    "#Mean Pooling - Take attention mask into account for correct averaging\n",
    "def mean_pooling(model_output, attention_mask):\n",
    "    token_embeddings = model_output[0] #First element of model_output contains all token embeddings\n",
    "    input_mask_expanded = attention_mask.unsqueeze(-1).expand(token_embeddings.size()).float()\n",
    "    \"\"\"\n",
    "    print(attention_mask.shape, attention_mask)\n",
    "    print(attention_mask.unsqueeze(-1).shape, attention_mask.unsqueeze(-1))\n",
    "    print(input_mask_expanded)\n",
    "    print(len(input_mask_expanded), token_embeddings.size(), input_mask_expanded.size())\n",
    "    \"\"\"\n",
    "    return torch.sum(token_embeddings * input_mask_expanded, 1) / torch.clamp(input_mask_expanded.sum(1), min=1e-9)\n",
    "\n",
    "\"\"\"\n",
    "# Sentences we want sentence embeddings for\n",
    "sentences = ['This is an example sentence', 'Each sentence is converted']\n",
    "\"\"\"\n",
    "\n",
    "# Load model from HuggingFace Hub\n",
    "pt_transformers_L12_v2_tokenizer = AutoTokenizer.from_pretrained('sentence-transformers/all-MiniLM-L12-v2')\n",
    "pt_transformers_L12_v2_model = AutoModel.from_pretrained('sentence-transformers/all-MiniLM-L12-v2')\n",
    "\n",
    "def pt_transformers_method_embedding_L12_v2(sentences):\n",
    "\n",
    "\n",
    "    # Tokenize sentences\n",
    "    encoded_input = pt_transformers_L12_v2_tokenizer(sentences, padding=True, truncation=True, return_tensors='pt')\n",
    "\n",
    "    # Compute token embeddings\n",
    "    with torch.no_grad():\n",
    "        model_output = pt_transformers_L12_v2_model(**encoded_input)\n",
    "\n",
    "    # Perform pooling\n",
    "    sentence_embeddings = mean_pooling(model_output, encoded_input['attention_mask'])\n",
    "\n",
    "    # Normalize embeddings\n",
    "    sentence_embeddings = F.normalize(sentence_embeddings, p=2, dim=1)\n",
    "\n",
    "    #print(\"Sentence embeddings:\")\n",
    "    #print(sentence_embeddings)\n",
    "    '''\n",
    "    if len(sentence_embeddings) == 1:\n",
    "        return sentence_embeddings[0]\n",
    "    return sentence_embeddings\n",
    "    '''\n",
    "    return sentence_embeddings"
   ]
  },
  {
   "cell_type": "code",
   "execution_count": 68,
   "metadata": {},
   "outputs": [
    {
     "name": "stdout",
     "output_type": "stream",
     "text": [
      "Splitted texts: ['Employees receive free flight benefits', 'to return to home country once', 'a year and', 'free flight benefits for business trips']\n",
      "General Category: Passage provided for business purpose\n",
      "Sub-Categories: ('Passage provided for business purpose', 'Air tickets for business trip', 'Air tickets for work purposes', 'Flight for business trip', 'Flight for work purposes', 'Travel incidental to employment')\n",
      "Similarity Level Of Top 5 (Limit=0.5):\n",
      "free flight benefits for busin /-/ Flight for business trip       : 0.76484\n",
      "free flight benefits for busin /-/ Air tickets for business trip  : 0.66527\n",
      "free flight benefits for busin /-/ Flight for work purposes       : 0.66138\n",
      "Employees receive free flight  /-/ Flight for work purposes       : 0.62341\n",
      "free flight benefits for busin /-/ Air tickets for work purposes  : 0.54205\n",
      "\n",
      "General Category: Passage provided when taking up employment and upon termination\n",
      "Sub-Categories: ('Passage provided when taking up employment and upon termination', 'Air tickets back to home country after contract end', 'Air tickets back to home country after termination of employment', 'Air tickets to work in Singapore', 'Flight back to home country after contract end', 'Flight back to home country after termination of employment', 'Flight to work in Singapore')\n",
      "Similarity Level Of Top 5 (Limit=0.5):\n",
      "to return to home country once /-/ Flight back to home country af : 0.60862\n",
      "to return to home country once /-/ Flight back to home country af : 0.58978\n",
      "\n",
      "General Category: Home leave passage\n",
      "Sub-Categories: ('Home leave passage', 'Air passage benefit', 'Air tickets to home country', 'Flight to home country')\n",
      "Similarity Level Of Top 5 (Limit=0.5):\n",
      "to return to home country once /-/ Flight to home country         : 0.61561\n",
      "Employees receive free flight  /-/ Air passage benefit            : 0.55076\n",
      "to return to home country once /-/ Home leave passage             : 0.54202\n",
      "free flight benefits for busin /-/ Air passage benefit            : 0.54161\n",
      "\n"
     ]
    },
    {
     "data": {
      "text/plain": [
       "(['Employees receive free flight benefits',\n",
       "  'to return to home country once',\n",
       "  'a year and',\n",
       "  'free flight benefits for business trips'],\n",
       " {'Passage provided for business purpose': {'Passage provided for business purpose': {('Employees receive free flight benefits',\n",
       "     'Passage provided for business purpose'): 0.20551156271491777,\n",
       "    ('to return to home country once',\n",
       "     'Passage provided for business purpose'): 0.1994273430746034,\n",
       "    ('a year and',\n",
       "     'Passage provided for business purpose'): 0.08857028789225296,\n",
       "    ('free flight benefits for business trips',\n",
       "     'Passage provided for business purpose'): 0.38571809703989857},\n",
       "   'Air tickets for business trip': {('Employees receive free flight benefits',\n",
       "     'Air tickets for business trip'): 0.433589215434381,\n",
       "    ('to return to home country once',\n",
       "     'Air tickets for business trip'): 0.1820303924532709,\n",
       "    ('a year and', 'Air tickets for business trip'): 0.07098160516875396,\n",
       "    ('free flight benefits for business trips',\n",
       "     'Air tickets for business trip'): 0.6652706272485034},\n",
       "   'Air tickets for work purposes': {('Employees receive free flight benefits',\n",
       "     'Air tickets for work purposes'): 0.5270877372661573,\n",
       "    ('to return to home country once',\n",
       "     'Air tickets for work purposes'): 0.17397373483822776,\n",
       "    ('a year and', 'Air tickets for work purposes'): 0.06120741979111699,\n",
       "    ('free flight benefits for business trips',\n",
       "     'Air tickets for work purposes'): 0.542049417205817},\n",
       "   'Flight for business trip': {('Employees receive free flight benefits',\n",
       "     'Flight for business trip'): 0.49349236138948527,\n",
       "    ('to return to home country once',\n",
       "     'Flight for business trip'): 0.2762108616886394,\n",
       "    ('a year and', 'Flight for business trip'): 0.10081011304691856,\n",
       "    ('free flight benefits for business trips',\n",
       "     'Flight for business trip'): 0.7648375621170658},\n",
       "   'Flight for work purposes': {('Employees receive free flight benefits',\n",
       "     'Flight for work purposes'): 0.6234118960294168,\n",
       "    ('to return to home country once',\n",
       "     'Flight for work purposes'): 0.3103271129230052,\n",
       "    ('a year and', 'Flight for work purposes'): 0.10421206804926442,\n",
       "    ('free flight benefits for business trips',\n",
       "     'Flight for work purposes'): 0.6613792866783115},\n",
       "   'Travel incidental to employment': {('Employees receive free flight benefits',\n",
       "     'Travel incidental to employment'): 0.43492386851971787,\n",
       "    ('to return to home country once',\n",
       "     'Travel incidental to employment'): 0.4064161473986019,\n",
       "    ('a year and', 'Travel incidental to employment'): 0.09567936512672759,\n",
       "    ('free flight benefits for business trips',\n",
       "     'Travel incidental to employment'): 0.45578451917867824}},\n",
       "  'Passage provided when taking up employment and upon termination': {'Passage provided when taking up employment and upon termination': {('Employees receive free flight benefits',\n",
       "     'Passage provided when taking up employment and upon termination'): 0.19861602107880572,\n",
       "    ('to return to home country once',\n",
       "     'Passage provided when taking up employment and upon termination'): 0.15739043305109135,\n",
       "    ('a year and',\n",
       "     'Passage provided when taking up employment and upon termination'): 0.11709874512996521,\n",
       "    ('free flight benefits for business trips',\n",
       "     'Passage provided when taking up employment and upon termination'): 0.0639547749792655},\n",
       "   'Air tickets back to home country after contract end': {('Employees receive free flight benefits',\n",
       "     'Air tickets back to home country after contract end'): 0.2995198039799334,\n",
       "    ('to return to home country once',\n",
       "     'Air tickets back to home country after contract end'): 0.49834760388438326,\n",
       "    ('a year and',\n",
       "     'Air tickets back to home country after contract end'): 0.13266718891441087,\n",
       "    ('free flight benefits for business trips',\n",
       "     'Air tickets back to home country after contract end'): 0.3559383180133864},\n",
       "   'Air tickets back to home country after termination of employment': {('Employees receive free flight benefits',\n",
       "     'Air tickets back to home country after termination of employment'): 0.4394253738482803,\n",
       "    ('to return to home country once',\n",
       "     'Air tickets back to home country after termination of employment'): 0.48770708219421977,\n",
       "    ('a year and',\n",
       "     'Air tickets back to home country after termination of employment'): 0.11075118620328794,\n",
       "    ('free flight benefits for business trips',\n",
       "     'Air tickets back to home country after termination of employment'): 0.40096016428310577},\n",
       "   'Air tickets to work in Singapore': {('Employees receive free flight benefits',\n",
       "     'Air tickets to work in Singapore'): 0.4094513755844389,\n",
       "    ('to return to home country once',\n",
       "     'Air tickets to work in Singapore'): 0.1882444887102679,\n",
       "    ('a year and', 'Air tickets to work in Singapore'): 0.03962312018191483,\n",
       "    ('free flight benefits for business trips',\n",
       "     'Air tickets to work in Singapore'): 0.40022678441960124},\n",
       "   'Flight back to home country after contract end': {('Employees receive free flight benefits',\n",
       "     'Flight back to home country after contract end'): 0.3345241500055067,\n",
       "    ('to return to home country once',\n",
       "     'Flight back to home country after contract end'): 0.6086155160105591,\n",
       "    ('a year and',\n",
       "     'Flight back to home country after contract end'): 0.16312795638964417,\n",
       "    ('free flight benefits for business trips',\n",
       "     'Flight back to home country after contract end'): 0.3872350587728306},\n",
       "   'Flight back to home country after termination of employment': {('Employees receive free flight benefits',\n",
       "     'Flight back to home country after termination of employment'): 0.4349183698550405,\n",
       "    ('to return to home country once',\n",
       "     'Flight back to home country after termination of employment'): 0.5897772107578021,\n",
       "    ('a year and',\n",
       "     'Flight back to home country after termination of employment'): 0.12425336820751909,\n",
       "    ('free flight benefits for business trips',\n",
       "     'Flight back to home country after termination of employment'): 0.3742614609118391},\n",
       "   'Flight to work in Singapore': {('Employees receive free flight benefits',\n",
       "     'Flight to work in Singapore'): 0.4412238199079468,\n",
       "    ('to return to home country once',\n",
       "     'Flight to work in Singapore'): 0.2425565469764024,\n",
       "    ('a year and', 'Flight to work in Singapore'): 0.05188842280119843,\n",
       "    ('free flight benefits for business trips',\n",
       "     'Flight to work in Singapore'): 0.4254010177410237}},\n",
       "  'Home leave passage': {'Home leave passage': {('Employees receive free flight benefits',\n",
       "     'Home leave passage'): 0.2237475288820825,\n",
       "    ('to return to home country once',\n",
       "     'Home leave passage'): 0.5420208731810447,\n",
       "    ('a year and', 'Home leave passage'): 0.18802728485866282,\n",
       "    ('free flight benefits for business trips',\n",
       "     'Home leave passage'): 0.2548576452368394},\n",
       "   'Air passage benefit': {('Employees receive free flight benefits',\n",
       "     'Air passage benefit'): 0.5507579172873136,\n",
       "    ('to return to home country once',\n",
       "     'Air passage benefit'): 0.22177341849530352,\n",
       "    ('a year and', 'Air passage benefit'): 0.10591149900594798,\n",
       "    ('free flight benefits for business trips',\n",
       "     'Air passage benefit'): 0.5416059925637109},\n",
       "   'Air tickets to home country': {('Employees receive free flight benefits',\n",
       "     'Air tickets to home country'): 0.3392040811984316,\n",
       "    ('to return to home country once',\n",
       "     'Air tickets to home country'): 0.4500524035676108,\n",
       "    ('a year and', 'Air tickets to home country'): 0.1276635823519996,\n",
       "    ('free flight benefits for business trips',\n",
       "     'Air tickets to home country'): 0.4387808887576341},\n",
       "   'Flight to home country': {('Employees receive free flight benefits',\n",
       "     'Flight to home country'): 0.34095148951405463,\n",
       "    ('to return to home country once',\n",
       "     'Flight to home country'): 0.61561247808595,\n",
       "    ('a year and', 'Flight to home country'): 0.14687641023806464,\n",
       "    ('free flight benefits for business trips',\n",
       "     'Flight to home country'): 0.4396800492691}}})"
      ]
     },
     "execution_count": 68,
     "metadata": {},
     "output_type": "execute_result"
    }
   ],
   "source": [
    "split_and_compare_wsub_top_limit(pt_transformers_method_embedding_L12_v2, pt_transformers_method_embedding_L12_v2, cat_wsub_demo, hlp_biz_demo)"
   ]
  },
  {
   "cell_type": "code",
   "execution_count": null,
   "metadata": {},
   "outputs": [],
   "source": []
  },
  {
   "cell_type": "code",
   "execution_count": null,
   "metadata": {},
   "outputs": [],
   "source": []
  },
  {
   "cell_type": "code",
   "execution_count": 52,
   "metadata": {},
   "outputs": [],
   "source": [
    "from transformers import CanineTokenizer, CanineModel\n",
    "\n",
    "Canine_model = CanineModel.from_pretrained('google/canine-c')\n",
    "Canine_tokenizer = CanineTokenizer.from_pretrained('google/canine-c')\n",
    "\n",
    "def g_canine_embedding(sentences_input):\n",
    "    #sentences_input = [\"Life is like a box of chocolates.\", \"You never know what you gonna get.\"]\n",
    "    encoding = Canine_tokenizer(sentences_input, padding=\"longest\", truncation=True, return_tensors=\"pt\")\n",
    "\n",
    "    outputs = Canine_model(**encoding) # forward pass\n",
    "    pooled_output = outputs.pooler_output\n",
    "    #print(pooled_output)\n",
    "    sequence_output = outputs.last_hidden_state\n",
    "    \n",
    "    \"\"\"\n",
    "    sentence_cls_emb = mean_pooling(outputs, encoding[\"attention_mask\"])\n",
    "    sentence_cls_emb = F.normalize(sentence_cls_emb, p=2, dim=1)\n",
    "\n",
    "    if len(sentence_cls_emb) == 1:\n",
    "        return sentence_cls_emb[0]\n",
    "    return sentence_cls_emb\n",
    "    \"\"\"\n",
    "    \n",
    "    '''\n",
    "    if len(sequence_output) == 1:\n",
    "        return sequence_output[0][0]\n",
    "    return sequence_output[:, 0]\n",
    "    '''\n",
    "    return sequence_output[:, 0]"
   ]
  },
  {
   "cell_type": "code",
   "execution_count": 62,
   "metadata": {},
   "outputs": [
    {
     "name": "stdout",
     "output_type": "stream",
     "text": [
      "Splitted texts: ['Employees receive free flight benefits to return to home country once a', 'year and free flight benefits for business trips']\n",
      "General Category: Passage provided for business purpose\n",
      "Sub-Categories: ('Passage provided for business purpose', 'Air tickets for business trip', 'Air tickets for work purposes', 'Flight for business trip', 'Flight for work purposes', 'Travel incidental to employment')\n",
      "Similarity Level Of Top 5 (Limit=0.5):\n",
      "Employees receive free flight  /-/ Air tickets for business trip  : 0.75359\n",
      "Employees receive free flight  /-/ Travel incidental to employmen : 0.7293\n",
      "year and free flight benefits  /-/ Air tickets for business trip  : 0.71131\n",
      "Employees receive free flight  /-/ Air tickets for work purposes  : 0.70526\n",
      "Employees receive free flight  /-/ Flight for business trip       : 0.69603\n",
      "\n",
      "General Category: Passage provided when taking up employment and upon termination\n",
      "Sub-Categories: ('Passage provided when taking up employment and upon termination', 'Air tickets back to home country after contract end', 'Air tickets back to home country after termination of employment', 'Air tickets to work in Singapore', 'Flight back to home country after contract end', 'Flight back to home country after termination of employment', 'Flight to work in Singapore')\n",
      "Similarity Level Of Top 5 (Limit=0.5):\n",
      "Employees receive free flight  /-/ Air tickets back to home count : 0.76533\n",
      "Employees receive free flight  /-/ Flight back to home country af : 0.72676\n",
      "Employees receive free flight  /-/ Air tickets back to home count : 0.70467\n",
      "Employees receive free flight  /-/ Flight back to home country af : 0.67252\n",
      "year and free flight benefits  /-/ Air tickets back to home count : 0.66661\n",
      "\n",
      "General Category: Home leave passage\n",
      "Sub-Categories: ('Home leave passage', 'Air passage benefit', 'Air tickets to home country', 'Flight to home country')\n",
      "Similarity Level Of Top 5 (Limit=0.5):\n",
      "Employees receive free flight  /-/ Air tickets to home country    : 0.74762\n",
      "Employees receive free flight  /-/ Air passage benefit            : 0.70608\n",
      "year and free flight benefits  /-/ Air passage benefit            : 0.70403\n",
      "Employees receive free flight  /-/ Home leave passage             : 0.67184\n",
      "year and free flight benefits  /-/ Home leave passage             : 0.6705\n",
      "\n"
     ]
    },
    {
     "data": {
      "text/plain": [
       "(['Employees receive free flight benefits to return to home country once a',\n",
       "  'year and free flight benefits for business trips'],\n",
       " {'Passage provided for business purpose': {'Passage provided for business purpose': {('Employees receive free flight benefits to return to home country once a',\n",
       "     'Passage provided for business purpose'): 0.5724202551388942,\n",
       "    ('year and free flight benefits for business trips',\n",
       "     'Passage provided for business purpose'): 0.5559157815014828},\n",
       "   'Air tickets for business trip': {('Employees receive free flight benefits to return to home country once a',\n",
       "     'Air tickets for business trip'): 0.7535948067945748,\n",
       "    ('year and free flight benefits for business trips',\n",
       "     'Air tickets for business trip'): 0.7113087463084469},\n",
       "   'Air tickets for work purposes': {('Employees receive free flight benefits to return to home country once a',\n",
       "     'Air tickets for work purposes'): 0.7052566583417246,\n",
       "    ('year and free flight benefits for business trips',\n",
       "     'Air tickets for work purposes'): 0.6610243083192415},\n",
       "   'Flight for business trip': {('Employees receive free flight benefits to return to home country once a',\n",
       "     'Flight for business trip'): 0.6960267634478043,\n",
       "    ('year and free flight benefits for business trips',\n",
       "     'Flight for business trip'): 0.671958698481717},\n",
       "   'Flight for work purposes': {('Employees receive free flight benefits to return to home country once a',\n",
       "     'Flight for work purposes'): 0.6484958982276972,\n",
       "    ('year and free flight benefits for business trips',\n",
       "     'Flight for work purposes'): 0.6125670704677191},\n",
       "   'Travel incidental to employment': {('Employees receive free flight benefits to return to home country once a',\n",
       "     'Travel incidental to employment'): 0.7293031518729904,\n",
       "    ('year and free flight benefits for business trips',\n",
       "     'Travel incidental to employment'): 0.6410516038342813}},\n",
       "  'Passage provided when taking up employment and upon termination': {'Passage provided when taking up employment and upon termination': {('Employees receive free flight benefits to return to home country once a',\n",
       "     'Passage provided when taking up employment and upon termination'): 0.6426266875011777,\n",
       "    ('year and free flight benefits for business trips',\n",
       "     'Passage provided when taking up employment and upon termination'): 0.5882145186087087},\n",
       "   'Air tickets back to home country after contract end': {('Employees receive free flight benefits to return to home country once a',\n",
       "     'Air tickets back to home country after contract end'): 0.7046664520473698,\n",
       "    ('year and free flight benefits for business trips',\n",
       "     'Air tickets back to home country after contract end'): 0.6541308685518743},\n",
       "   'Air tickets back to home country after termination of employment': {('Employees receive free flight benefits to return to home country once a',\n",
       "     'Air tickets back to home country after termination of employment'): 0.7653322057613323,\n",
       "    ('year and free flight benefits for business trips',\n",
       "     'Air tickets back to home country after termination of employment'): 0.666610398587963},\n",
       "   'Air tickets to work in Singapore': {('Employees receive free flight benefits to return to home country once a',\n",
       "     'Air tickets to work in Singapore'): 0.5528518796992614,\n",
       "    ('year and free flight benefits for business trips',\n",
       "     'Air tickets to work in Singapore'): 0.542627465364248},\n",
       "   'Flight back to home country after contract end': {('Employees receive free flight benefits to return to home country once a',\n",
       "     'Flight back to home country after contract end'): 0.6725224001262973,\n",
       "    ('year and free flight benefits for business trips',\n",
       "     'Flight back to home country after contract end'): 0.5730227995631765},\n",
       "   'Flight back to home country after termination of employment': {('Employees receive free flight benefits to return to home country once a',\n",
       "     'Flight back to home country after termination of employment'): 0.7267594119754612,\n",
       "    ('year and free flight benefits for business trips',\n",
       "     'Flight back to home country after termination of employment'): 0.6157927630608242},\n",
       "   'Flight to work in Singapore': {('Employees receive free flight benefits to return to home country once a',\n",
       "     'Flight to work in Singapore'): 0.6583126987230798,\n",
       "    ('year and free flight benefits for business trips',\n",
       "     'Flight to work in Singapore'): 0.5244852405566576}},\n",
       "  'Home leave passage': {'Home leave passage': {('Employees receive free flight benefits to return to home country once a',\n",
       "     'Home leave passage'): 0.6718385321281666,\n",
       "    ('year and free flight benefits for business trips',\n",
       "     'Home leave passage'): 0.6704974441894365},\n",
       "   'Air passage benefit': {('Employees receive free flight benefits to return to home country once a',\n",
       "     'Air passage benefit'): 0.7060830320413558,\n",
       "    ('year and free flight benefits for business trips',\n",
       "     'Air passage benefit'): 0.7040347014479584},\n",
       "   'Air tickets to home country': {('Employees receive free flight benefits to return to home country once a',\n",
       "     'Air tickets to home country'): 0.7476154661635235,\n",
       "    ('year and free flight benefits for business trips',\n",
       "     'Air tickets to home country'): 0.647894968373123},\n",
       "   'Flight to home country': {('Employees receive free flight benefits to return to home country once a',\n",
       "     'Flight to home country'): 0.6608946440826955,\n",
       "    ('year and free flight benefits for business trips',\n",
       "     'Flight to home country'): 0.5507548523323145}}})"
      ]
     },
     "execution_count": 62,
     "metadata": {},
     "output_type": "execute_result"
    }
   ],
   "source": [
    "split_and_compare_wsub_top_limit(g_canine_embedding, g_canine_embedding, cat_wsub_demo, hlp_biz_demo)"
   ]
  },
  {
   "cell_type": "code",
   "execution_count": 58,
   "metadata": {},
   "outputs": [
    {
     "data": {
      "text/plain": [
       "tensor([[ 0.1806, -0.2008, -0.1556,  ...,  0.2942,  0.0486,  0.0419],\n",
       "        [ 0.0515, -0.1447,  0.3480,  ..., -0.1419,  0.6230,  0.0869],\n",
       "        [-0.0242,  0.0269,  0.4086,  ..., -0.0584,  0.4369, -0.0983]],\n",
       "       grad_fn=<SelectBackward0>)"
      ]
     },
     "execution_count": 58,
     "metadata": {},
     "output_type": "execute_result"
    }
   ],
   "source": [
    "g_canine_embedding([\"hi there\", \"jack\", \"back\"])"
   ]
  },
  {
   "cell_type": "code",
   "execution_count": 124,
   "metadata": {},
   "outputs": [
    {
     "name": "stdout",
     "output_type": "stream",
     "text": [
      "Splitted texts: ['Employees receive free flight benefits to return to home country once a', 'year and free flight benefits for business trips']\n",
      "General Category: Passage provided for business purpose\n",
      "Sub-Categories: ('Passage provided for business purpose', 'Air tickets for business trip', 'Air tickets for work purposes', 'Flight for business trip', 'Flight for work purposes', 'Travel incidental to employment')\n",
      "Similarity Level Of Top 5 (Limit=0.5):\n",
      "Employees receive free flight  /-/ Air tickets for business trip  : 0.75359\n",
      "Employees receive free flight  /-/ Travel incidental to employmen : 0.7293\n",
      "year and free flight benefits  /-/ Air tickets for business trip  : 0.71131\n",
      "Employees receive free flight  /-/ Air tickets for work purposes  : 0.70526\n",
      "Employees receive free flight  /-/ Flight for business trip       : 0.69603\n",
      "\n",
      "General Category: Passage provided when taking up employment and upon termination\n",
      "Sub-Categories: ('Passage provided when taking up employment and upon termination', 'Air tickets back to home country after contract end', 'Air tickets back to home country after termination of employment', 'Air tickets to work in Singapore', 'Flight back to home country after contract end', 'Flight back to home country after termination of employment', 'Flight to work in Singapore')\n",
      "Similarity Level Of Top 5 (Limit=0.5):\n",
      "Employees receive free flight  /-/ Air tickets back to home count : 0.76533\n",
      "Employees receive free flight  /-/ Flight back to home country af : 0.72676\n",
      "Employees receive free flight  /-/ Air tickets back to home count : 0.70467\n",
      "Employees receive free flight  /-/ Flight back to home country af : 0.67252\n",
      "year and free flight benefits  /-/ Air tickets back to home count : 0.66661\n",
      "\n",
      "General Category: Home leave passage\n",
      "Sub-Categories: ('Home leave passage', 'Air passage benefit', 'Air tickets to home country', 'Flight to home country')\n",
      "Similarity Level Of Top 5 (Limit=0.5):\n",
      "Employees receive free flight  /-/ Air tickets to home country    : 0.74762\n",
      "Employees receive free flight  /-/ Air passage benefit            : 0.70608\n",
      "year and free flight benefits  /-/ Air passage benefit            : 0.70403\n",
      "Employees receive free flight  /-/ Home leave passage             : 0.67184\n",
      "year and free flight benefits  /-/ Home leave passage             : 0.6705\n",
      "\n"
     ]
    }
   ],
   "source": [
    "split_and_compare_wsub_top_limit(g_canine_embedding, g_canine_embedding, cat_wsub_demo, hlp_biz_demo)\n",
    "pass"
   ]
  },
  {
   "cell_type": "code",
   "execution_count": null,
   "metadata": {},
   "outputs": [],
   "source": []
  },
  {
   "cell_type": "code",
   "execution_count": null,
   "metadata": {},
   "outputs": [],
   "source": []
  },
  {
   "cell_type": "code",
   "execution_count": null,
   "metadata": {},
   "outputs": [],
   "source": []
  },
  {
   "cell_type": "code",
   "execution_count": null,
   "metadata": {},
   "outputs": [],
   "source": []
  },
  {
   "cell_type": "code",
   "execution_count": null,
   "metadata": {},
   "outputs": [],
   "source": []
  },
  {
   "cell_type": "code",
   "execution_count": 131,
   "metadata": {},
   "outputs": [
    {
     "name": "stdout",
     "output_type": "stream",
     "text": [
      "Splitted texts: ['Employees receive free flight benefits to', 'return to home country once', 'a year and', 'free flight benefits for business trips']\n",
      "General Category: Passage provided for business purpose\n",
      "Sub-Categories: ('Passage provided for business purpose', 'Air tickets for business trip', 'Air tickets for work purposes', 'Flight for business trip', 'Flight for work purposes', 'Travel incidental to employment')\n",
      "Similarity Level Of Top 5 (Limit=0.5):\n",
      "free flight benefits for busin /-/ Flight for business trip       : 0.81393\n",
      "free flight benefits for busin /-/ Air tickets for business trip  : 0.80979\n",
      "free flight benefits for busin /-/ Flight for work purposes       : 0.77811\n",
      "Employees receive free flight  /-/ Flight for work purposes       : 0.7757\n",
      "Employees receive free flight  /-/ Air tickets for work purposes  : 0.72803\n",
      "\n",
      "General Category: Passage provided when taking up employment and upon termination\n",
      "Sub-Categories: ('Passage provided when taking up employment and upon termination', 'Air tickets back to home country after contract end', 'Air tickets back to home country after termination of employment', 'Air tickets to work in Singapore', 'Flight back to home country after contract end', 'Flight back to home country after termination of employment', 'Flight to work in Singapore')\n",
      "Similarity Level Of Top 5 (Limit=0.5):\n",
      "return to home country once    /-/ Flight back to home country af : 0.77253\n",
      "return to home country once    /-/ Flight back to home country af : 0.75649\n",
      "return to home country once    /-/ Air tickets back to home count : 0.74354\n",
      "return to home country once    /-/ Air tickets back to home count : 0.72549\n",
      "Employees receive free flight  /-/ Flight back to home country af : 0.68495\n",
      "\n",
      "General Category: Home leave passage\n",
      "Sub-Categories: ('Home leave passage', 'Air passage benefit', 'Air tickets to home country', 'Flight to home country')\n",
      "Similarity Level Of Top 5 (Limit=0.5):\n",
      "return to home country once    /-/ Flight to home country         : 0.78412\n",
      "return to home country once    /-/ Air tickets to home country    : 0.73821\n",
      "return to home country once    /-/ Home leave passage             : 0.71822\n",
      "free flight benefits for busin /-/ Air passage benefit            : 0.66233\n",
      "Employees receive free flight  /-/ Air passage benefit            : 0.64837\n",
      "\n"
     ]
    },
    {
     "data": {
      "text/plain": [
       "(['Employees receive free flight benefits to',\n",
       "  'return to home country once',\n",
       "  'a year and',\n",
       "  'free flight benefits for business trips'],\n",
       " {'Passage provided for business purpose': {'Passage provided for business purpose': {('Employees receive free flight benefits to',\n",
       "     'Passage provided for business purpose'): 0.548290666637044,\n",
       "    ('return to home country once',\n",
       "     'Passage provided for business purpose'): 0.5439581575519554,\n",
       "    ('a year and',\n",
       "     'Passage provided for business purpose'): 0.4956094203318848,\n",
       "    ('free flight benefits for business trips',\n",
       "     'Passage provided for business purpose'): 0.6014551911575552},\n",
       "   'Air tickets for business trip': {('Employees receive free flight benefits to',\n",
       "     'Air tickets for business trip'): 0.7032104297015636,\n",
       "    ('return to home country once',\n",
       "     'Air tickets for business trip'): 0.5735795183705736,\n",
       "    ('a year and', 'Air tickets for business trip'): 0.39768120289318176,\n",
       "    ('free flight benefits for business trips',\n",
       "     'Air tickets for business trip'): 0.8097882427902618},\n",
       "   'Air tickets for work purposes': {('Employees receive free flight benefits to',\n",
       "     'Air tickets for work purposes'): 0.7280250035596794,\n",
       "    ('return to home country once',\n",
       "     'Air tickets for work purposes'): 0.5839213769678779,\n",
       "    ('a year and', 'Air tickets for work purposes'): 0.42153739040034566,\n",
       "    ('free flight benefits for business trips',\n",
       "     'Air tickets for work purposes'): 0.7273876686410432},\n",
       "   'Flight for business trip': {('Employees receive free flight benefits to',\n",
       "     'Flight for business trip'): 0.7178432223283302,\n",
       "    ('return to home country once',\n",
       "     'Flight for business trip'): 0.5727759103943697,\n",
       "    ('a year and', 'Flight for business trip'): 0.40710569747982106,\n",
       "    ('free flight benefits for business trips',\n",
       "     'Flight for business trip'): 0.8139300186520515},\n",
       "   'Flight for work purposes': {('Employees receive free flight benefits to',\n",
       "     'Flight for work purposes'): 0.7756983959143025,\n",
       "    ('return to home country once',\n",
       "     'Flight for work purposes'): 0.6307440690019064,\n",
       "    ('a year and', 'Flight for work purposes'): 0.44423184843676644,\n",
       "    ('free flight benefits for business trips',\n",
       "     'Flight for work purposes'): 0.7781061508805891},\n",
       "   'Travel incidental to employment': {('Employees receive free flight benefits to',\n",
       "     'Travel incidental to employment'): 0.6575702986988965,\n",
       "    ('return to home country once',\n",
       "     'Travel incidental to employment'): 0.6492057820586936,\n",
       "    ('a year and', 'Travel incidental to employment'): 0.4464405761655055,\n",
       "    ('free flight benefits for business trips',\n",
       "     'Travel incidental to employment'): 0.6252737834367501}},\n",
       "  'Passage provided when taking up employment and upon termination': {'Passage provided when taking up employment and upon termination': {('Employees receive free flight benefits to',\n",
       "     'Passage provided when taking up employment and upon termination'): 0.5468343696915952,\n",
       "    ('return to home country once',\n",
       "     'Passage provided when taking up employment and upon termination'): 0.5477363372481818,\n",
       "    ('a year and',\n",
       "     'Passage provided when taking up employment and upon termination'): 0.4990126863283848,\n",
       "    ('free flight benefits for business trips',\n",
       "     'Passage provided when taking up employment and upon termination'): 0.4692330325573906},\n",
       "   'Air tickets back to home country after contract end': {('Employees receive free flight benefits to',\n",
       "     'Air tickets back to home country after contract end'): 0.6481725564532539,\n",
       "    ('return to home country once',\n",
       "     'Air tickets back to home country after contract end'): 0.7435364420474357,\n",
       "    ('a year and',\n",
       "     'Air tickets back to home country after contract end'): 0.4122472491586109,\n",
       "    ('free flight benefits for business trips',\n",
       "     'Air tickets back to home country after contract end'): 0.6213088885978095},\n",
       "   'Air tickets back to home country after termination of employment': {('Employees receive free flight benefits to',\n",
       "     'Air tickets back to home country after termination of employment'): 0.667855514884252,\n",
       "    ('return to home country once',\n",
       "     'Air tickets back to home country after termination of employment'): 0.725488187171301,\n",
       "    ('a year and',\n",
       "     'Air tickets back to home country after termination of employment'): 0.4110544461760668,\n",
       "    ('free flight benefits for business trips',\n",
       "     'Air tickets back to home country after termination of employment'): 0.6023342268912302},\n",
       "   'Air tickets to work in Singapore': {('Employees receive free flight benefits to',\n",
       "     'Air tickets to work in Singapore'): 0.6481461907013388,\n",
       "    ('return to home country once',\n",
       "     'Air tickets to work in Singapore'): 0.5543937399160797,\n",
       "    ('a year and', 'Air tickets to work in Singapore'): 0.3568857533777532,\n",
       "    ('free flight benefits for business trips',\n",
       "     'Air tickets to work in Singapore'): 0.6160242688597464},\n",
       "   'Flight back to home country after contract end': {('Employees receive free flight benefits to',\n",
       "     'Flight back to home country after contract end'): 0.6849507619096542,\n",
       "    ('return to home country once',\n",
       "     'Flight back to home country after contract end'): 0.772525706712113,\n",
       "    ('a year and',\n",
       "     'Flight back to home country after contract end'): 0.42421098230380494,\n",
       "    ('free flight benefits for business trips',\n",
       "     'Flight back to home country after contract end'): 0.6509540516727554},\n",
       "   'Flight back to home country after termination of employment': {('Employees receive free flight benefits to',\n",
       "     'Flight back to home country after termination of employment'): 0.6829646203024993,\n",
       "    ('return to home country once',\n",
       "     'Flight back to home country after termination of employment'): 0.7564943640933688,\n",
       "    ('a year and',\n",
       "     'Flight back to home country after termination of employment'): 0.4289290516680353,\n",
       "    ('free flight benefits for business trips',\n",
       "     'Flight back to home country after termination of employment'): 0.6181811865158124},\n",
       "   'Flight to work in Singapore': {('Employees receive free flight benefits to',\n",
       "     'Flight to work in Singapore'): 0.6750931620684923,\n",
       "    ('return to home country once',\n",
       "     'Flight to work in Singapore'): 0.5907109346931847,\n",
       "    ('a year and', 'Flight to work in Singapore'): 0.3710946692891923,\n",
       "    ('free flight benefits for business trips',\n",
       "     'Flight to work in Singapore'): 0.6273216501332186}},\n",
       "  'Home leave passage': {'Home leave passage': {('Employees receive free flight benefits to',\n",
       "     'Home leave passage'): 0.585951903742032,\n",
       "    ('return to home country once', 'Home leave passage'): 0.7182234386886126,\n",
       "    ('a year and', 'Home leave passage'): 0.47873161415168397,\n",
       "    ('free flight benefits for business trips',\n",
       "     'Home leave passage'): 0.5252977888771682},\n",
       "   'Air passage benefit': {('Employees receive free flight benefits to',\n",
       "     'Air passage benefit'): 0.6483744645971541,\n",
       "    ('return to home country once', 'Air passage benefit'): 0.5202572013390458,\n",
       "    ('a year and', 'Air passage benefit'): 0.4542208868782538,\n",
       "    ('free flight benefits for business trips',\n",
       "     'Air passage benefit'): 0.6623289244681203},\n",
       "   'Air tickets to home country': {('Employees receive free flight benefits to',\n",
       "     'Air tickets to home country'): 0.6345465287423995,\n",
       "    ('return to home country once',\n",
       "     'Air tickets to home country'): 0.7382102558716142,\n",
       "    ('a year and', 'Air tickets to home country'): 0.41076307545314705,\n",
       "    ('free flight benefits for business trips',\n",
       "     'Air tickets to home country'): 0.6211478014496183},\n",
       "   'Flight to home country': {('Employees receive free flight benefits to',\n",
       "     'Flight to home country'): 0.6479998226704282,\n",
       "    ('return to home country once',\n",
       "     'Flight to home country'): 0.784117314871807,\n",
       "    ('a year and', 'Flight to home country'): 0.4151992764347767,\n",
       "    ('free flight benefits for business trips',\n",
       "     'Flight to home country'): 0.6087361146506538}}})"
      ]
     },
     "execution_count": 131,
     "metadata": {},
     "output_type": "execute_result"
    }
   ],
   "source": [
    "split_and_compare_wsub_top_limit(get_sentence_embedding_bge, get_sentence_embedding_bge, cat_wsub_demo, hlp_biz_demo)"
   ]
  },
  {
   "cell_type": "code",
   "execution_count": null,
   "metadata": {},
   "outputs": [],
   "source": []
  },
  {
   "cell_type": "code",
   "execution_count": null,
   "metadata": {},
   "outputs": [],
   "source": []
  },
  {
   "cell_type": "code",
   "execution_count": null,
   "metadata": {},
   "outputs": [],
   "source": []
  },
  {
   "cell_type": "code",
   "execution_count": null,
   "metadata": {},
   "outputs": [],
   "source": []
  },
  {
   "cell_type": "code",
   "execution_count": null,
   "metadata": {},
   "outputs": [],
   "source": []
  },
  {
   "cell_type": "code",
   "execution_count": 127,
   "metadata": {},
   "outputs": [
    {
     "name": "stderr",
     "output_type": "stream",
     "text": [
      "c:\\Users\\Audric Ho\\Downloads\\LLM related stuff\\semantic_text_segmentation_attempt\\semantic_seg-venv\\Lib\\site-packages\\huggingface_hub\\file_download.py:1132: FutureWarning: `resume_download` is deprecated and will be removed in version 1.0.0. Downloads always resume when possible. If you want to force a new download, use `force_download=True`.\n",
      "  warnings.warn(\n"
     ]
    }
   ],
   "source": [
    "## trying out mxbai-embed-large-v1\n",
    "\n",
    "from sentence_transformers import SentenceTransformer\n",
    "from sentence_transformers.util import cos_sim\n",
    "from sentence_transformers.quantization import quantize_embeddings\n",
    "\n",
    "# 1. Specify preffered dimensions\n",
    "mxbai_v1_dimensions = 512\n",
    "\n",
    "# 2. load model\n",
    "mxbai_v1_model = SentenceTransformer(\"mixedbread-ai/mxbai-embed-large-v1\", truncate_dim=mxbai_v1_dimensions)\n",
    "\n",
    "def mxbai_embed(sentences):\n",
    "    # For retrieval you need to pass this prompt.\n",
    "    query = 'Represent this sentence for searching relevant passages: A man is eating a piece of bread'\n",
    "\n",
    "    docs = sentences\n",
    "\n",
    "    # 2. Encode\n",
    "    embeddings = mxbai_v1_model.encode(docs)\n",
    "\n",
    "    # Optional: Quantize the embeddings\n",
    "    #binary_embeddings = quantize_embeddings(embeddings, precision=\"ubinary\")\n",
    "\n",
    "    #similarities = cos_sim(embeddings[0], embeddings[1:])\n",
    "    #print('similarities:', similarities)\n",
    "    return embeddings\n",
    "'''\n",
    "def mxbai_embed_retrieval(sentences):\n",
    "    # For retrieval you need to pass this prompt.\n",
    "    query = 'Represent this sentence for searching relevant passages: A man is eating a piece of bread'\n",
    "\n",
    "    docs = sentences\n",
    "\n",
    "    # 2. Encode\n",
    "    embeddings = mxbai_v1_model.encode(docs)\n",
    "\n",
    "    # Optional: Quantize the embeddings\n",
    "    #binary_embeddings = quantize_embeddings(embeddings, precision=\"ubinary\")\n",
    "\n",
    "    #similarities = cos_sim(embeddings[0], embeddings[1:])\n",
    "    #print('similarities:', similarities)\n",
    "    return embeddings\n",
    "'''"
   ]
  },
  {
   "cell_type": "code",
   "execution_count": 129,
   "metadata": {},
   "outputs": [
    {
     "data": {
      "text/plain": [
       "array([[ 0.5805947 ,  0.09685631,  0.05187155, ...,  0.36956686,\n",
       "         0.11387055,  0.18510513],\n",
       "       [ 0.08705159, -0.4488235 ,  0.12563783, ..., -0.21094385,\n",
       "        -0.22387232,  0.154229  ]], dtype=float32)"
      ]
     },
     "execution_count": 129,
     "metadata": {},
     "output_type": "execute_result"
    }
   ],
   "source": [
    "mxbai_embed([\"hi there\", \"jack\"])"
   ]
  },
  {
   "cell_type": "code",
   "execution_count": 130,
   "metadata": {},
   "outputs": [
    {
     "name": "stdout",
     "output_type": "stream",
     "text": [
      "Splitted texts: ['Employees receive free flight benefits', 'to return to home country once', 'a year and', 'free flight benefits for business trips']\n",
      "General Category: Passage provided for business purpose\n",
      "Sub-Categories: ('Passage provided for business purpose', 'Air tickets for business trip', 'Air tickets for work purposes', 'Flight for business trip', 'Flight for work purposes', 'Travel incidental to employment')\n",
      "Similarity Level Of Top 5 (Limit=0.5):\n",
      "free flight benefits for busin /-/ Flight for business trip       : 0.81268\n",
      "free flight benefits for busin /-/ Air tickets for business trip  : 0.80278\n",
      "free flight benefits for busin /-/ Flight for work purposes       : 0.76816\n",
      "Employees receive free flight  /-/ Flight for work purposes       : 0.74621\n",
      "Employees receive free flight  /-/ Air tickets for work purposes  : 0.72227\n",
      "\n",
      "General Category: Passage provided when taking up employment and upon termination\n",
      "Sub-Categories: ('Passage provided when taking up employment and upon termination', 'Air tickets back to home country after contract end', 'Air tickets back to home country after termination of employment', 'Air tickets to work in Singapore', 'Flight back to home country after contract end', 'Flight back to home country after termination of employment', 'Flight to work in Singapore')\n",
      "Similarity Level Of Top 5 (Limit=0.5):\n",
      "to return to home country once /-/ Flight back to home country af : 0.75765\n",
      "to return to home country once /-/ Flight back to home country af : 0.75365\n",
      "to return to home country once /-/ Air tickets back to home count : 0.73604\n",
      "to return to home country once /-/ Air tickets back to home count : 0.7318\n",
      "Employees receive free flight  /-/ Air tickets back to home count : 0.62591\n",
      "\n",
      "General Category: Home leave passage\n",
      "Sub-Categories: ('Home leave passage', 'Air passage benefit', 'Air tickets to home country', 'Flight to home country')\n",
      "Similarity Level Of Top 5 (Limit=0.5):\n",
      "to return to home country once /-/ Flight to home country         : 0.74567\n",
      "to return to home country once /-/ Air tickets to home country    : 0.71644\n",
      "to return to home country once /-/ Home leave passage             : 0.69426\n",
      "free flight benefits for busin /-/ Air passage benefit            : 0.61283\n",
      "free flight benefits for busin /-/ Flight to home country         : 0.5954\n",
      "\n"
     ]
    },
    {
     "data": {
      "text/plain": [
       "(['Employees receive free flight benefits',\n",
       "  'to return to home country once',\n",
       "  'a year and',\n",
       "  'free flight benefits for business trips'],\n",
       " {'Passage provided for business purpose': {'Passage provided for business purpose': {('Employees receive free flight benefits',\n",
       "     'Passage provided for business purpose'): 0.4135557431587529,\n",
       "    ('to return to home country once',\n",
       "     'Passage provided for business purpose'): 0.4630591356629168,\n",
       "    ('a year and',\n",
       "     'Passage provided for business purpose'): 0.4057218914706482,\n",
       "    ('free flight benefits for business trips',\n",
       "     'Passage provided for business purpose'): 0.533218416721752},\n",
       "   'Air tickets for business trip': {('Employees receive free flight benefits',\n",
       "     'Air tickets for business trip'): 0.6836688737527084,\n",
       "    ('to return to home country once',\n",
       "     'Air tickets for business trip'): 0.5522138716750078,\n",
       "    ('a year and', 'Air tickets for business trip'): 0.2740071568051974,\n",
       "    ('free flight benefits for business trips',\n",
       "     'Air tickets for business trip'): 0.8027796110420695},\n",
       "   'Air tickets for work purposes': {('Employees receive free flight benefits',\n",
       "     'Air tickets for work purposes'): 0.7222715568628928,\n",
       "    ('to return to home country once',\n",
       "     'Air tickets for work purposes'): 0.5634846331975041,\n",
       "    ('a year and', 'Air tickets for work purposes'): 0.28485422605319854,\n",
       "    ('free flight benefits for business trips',\n",
       "     'Air tickets for work purposes'): 0.715113490296801},\n",
       "   'Flight for business trip': {('Employees receive free flight benefits',\n",
       "     'Flight for business trip'): 0.6690499664857015,\n",
       "    ('to return to home country once',\n",
       "     'Flight for business trip'): 0.5180702558890005,\n",
       "    ('a year and', 'Flight for business trip'): 0.2674747894823213,\n",
       "    ('free flight benefits for business trips',\n",
       "     'Flight for business trip'): 0.812675439722824},\n",
       "   'Flight for work purposes': {('Employees receive free flight benefits',\n",
       "     'Flight for work purposes'): 0.7462097592746204,\n",
       "    ('to return to home country once',\n",
       "     'Flight for work purposes'): 0.5763323652503018,\n",
       "    ('a year and', 'Flight for work purposes'): 0.276640907475894,\n",
       "    ('free flight benefits for business trips',\n",
       "     'Flight for work purposes'): 0.7681609035786323},\n",
       "   'Travel incidental to employment': {('Employees receive free flight benefits',\n",
       "     'Travel incidental to employment'): 0.6133960099707565,\n",
       "    ('to return to home country once',\n",
       "     'Travel incidental to employment'): 0.6301645982947832,\n",
       "    ('a year and', 'Travel incidental to employment'): 0.3351579968034457,\n",
       "    ('free flight benefits for business trips',\n",
       "     'Travel incidental to employment'): 0.6273365838588347}},\n",
       "  'Passage provided when taking up employment and upon termination': {'Passage provided when taking up employment and upon termination': {('Employees receive free flight benefits',\n",
       "     'Passage provided when taking up employment and upon termination'): 0.45252765436134723,\n",
       "    ('to return to home country once',\n",
       "     'Passage provided when taking up employment and upon termination'): 0.5196328936582333,\n",
       "    ('a year and',\n",
       "     'Passage provided when taking up employment and upon termination'): 0.43593893438014675,\n",
       "    ('free flight benefits for business trips',\n",
       "     'Passage provided when taking up employment and upon termination'): 0.4199372321722876},\n",
       "   'Air tickets back to home country after contract end': {('Employees receive free flight benefits',\n",
       "     'Air tickets back to home country after contract end'): 0.599391664174334,\n",
       "    ('to return to home country once',\n",
       "     'Air tickets back to home country after contract end'): 0.7360410011378917,\n",
       "    ('a year and',\n",
       "     'Air tickets back to home country after contract end'): 0.27319731605166453,\n",
       "    ('free flight benefits for business trips',\n",
       "     'Air tickets back to home country after contract end'): 0.5891161868834729},\n",
       "   'Air tickets back to home country after termination of employment': {('Employees receive free flight benefits',\n",
       "     'Air tickets back to home country after termination of employment'): 0.6259075243020789,\n",
       "    ('to return to home country once',\n",
       "     'Air tickets back to home country after termination of employment'): 0.7317991014428458,\n",
       "    ('a year and',\n",
       "     'Air tickets back to home country after termination of employment'): 0.2830631162462396,\n",
       "    ('free flight benefits for business trips',\n",
       "     'Air tickets back to home country after termination of employment'): 0.5783208035493317},\n",
       "   'Air tickets to work in Singapore': {('Employees receive free flight benefits',\n",
       "     'Air tickets to work in Singapore'): 0.623954681911755,\n",
       "    ('to return to home country once',\n",
       "     'Air tickets to work in Singapore'): 0.5161272414161147,\n",
       "    ('a year and', 'Air tickets to work in Singapore'): 0.2485585343503942,\n",
       "    ('free flight benefits for business trips',\n",
       "     'Air tickets to work in Singapore'): 0.6040469541471793},\n",
       "   'Flight back to home country after contract end': {('Employees receive free flight benefits',\n",
       "     'Flight back to home country after contract end'): 0.6251045421240633,\n",
       "    ('to return to home country once',\n",
       "     'Flight back to home country after contract end'): 0.7536481994687279,\n",
       "    ('a year and',\n",
       "     'Flight back to home country after contract end'): 0.26621587247160505,\n",
       "    ('free flight benefits for business trips',\n",
       "     'Flight back to home country after contract end'): 0.6244093286680936},\n",
       "   'Flight back to home country after termination of employment': {('Employees receive free flight benefits',\n",
       "     'Flight back to home country after termination of employment'): 0.6253210097380588,\n",
       "    ('to return to home country once',\n",
       "     'Flight back to home country after termination of employment'): 0.757652926183539,\n",
       "    ('a year and',\n",
       "     'Flight back to home country after termination of employment'): 0.2952816648191856,\n",
       "    ('free flight benefits for business trips',\n",
       "     'Flight back to home country after termination of employment'): 0.5987246440773788},\n",
       "   'Flight to work in Singapore': {('Employees receive free flight benefits',\n",
       "     'Flight to work in Singapore'): 0.6249786490147038,\n",
       "    ('to return to home country once',\n",
       "     'Flight to work in Singapore'): 0.5301907886894099,\n",
       "    ('a year and', 'Flight to work in Singapore'): 0.25349043615784694,\n",
       "    ('free flight benefits for business trips',\n",
       "     'Flight to work in Singapore'): 0.6127883607092741}},\n",
       "  'Home leave passage': {'Home leave passage': {('Employees receive free flight benefits',\n",
       "     'Home leave passage'): 0.5168129567159667,\n",
       "    ('to return to home country once',\n",
       "     'Home leave passage'): 0.6942623772641809,\n",
       "    ('a year and', 'Home leave passage'): 0.40767548787277974,\n",
       "    ('free flight benefits for business trips',\n",
       "     'Home leave passage'): 0.49616887384695474},\n",
       "   'Air passage benefit': {('Employees receive free flight benefits',\n",
       "     'Air passage benefit'): 0.5891286328678973,\n",
       "    ('to return to home country once',\n",
       "     'Air passage benefit'): 0.45039191958260005,\n",
       "    ('a year and', 'Air passage benefit'): 0.3554166219837498,\n",
       "    ('free flight benefits for business trips',\n",
       "     'Air passage benefit'): 0.6128347896320179},\n",
       "   'Air tickets to home country': {('Employees receive free flight benefits',\n",
       "     'Air tickets to home country'): 0.5768486342288952,\n",
       "    ('to return to home country once',\n",
       "     'Air tickets to home country'): 0.7164354449892585,\n",
       "    ('a year and', 'Air tickets to home country'): 0.2554184939894526,\n",
       "    ('free flight benefits for business trips',\n",
       "     'Air tickets to home country'): 0.5914920560096597},\n",
       "   'Flight to home country': {('Employees receive free flight benefits',\n",
       "     'Flight to home country'): 0.5644924735601791,\n",
       "    ('to return to home country once',\n",
       "     'Flight to home country'): 0.7456726633506037,\n",
       "    ('a year and', 'Flight to home country'): 0.22891786771140232,\n",
       "    ('free flight benefits for business trips',\n",
       "     'Flight to home country'): 0.5954044501334579}}})"
      ]
     },
     "execution_count": 130,
     "metadata": {},
     "output_type": "execute_result"
    }
   ],
   "source": [
    "split_and_compare_wsub_top_limit(mxbai_embed, mxbai_embed, cat_wsub_demo, hlp_biz_demo)\n"
   ]
  },
  {
   "cell_type": "code",
   "execution_count": null,
   "metadata": {},
   "outputs": [],
   "source": []
  },
  {
   "cell_type": "code",
   "execution_count": null,
   "metadata": {},
   "outputs": [],
   "source": []
  },
  {
   "cell_type": "code",
   "execution_count": null,
   "metadata": {},
   "outputs": [],
   "source": []
  },
  {
   "cell_type": "code",
   "execution_count": null,
   "metadata": {},
   "outputs": [],
   "source": []
  },
  {
   "cell_type": "code",
   "execution_count": null,
   "metadata": {},
   "outputs": [],
   "source": []
  },
  {
   "cell_type": "code",
   "execution_count": null,
   "metadata": {},
   "outputs": [],
   "source": []
  },
  {
   "cell_type": "code",
   "execution_count": 132,
   "metadata": {},
   "outputs": [
    {
     "data": {
      "text/plain": [
       "{'Passage provided for business purpose': ['Air tickets for business trip',\n",
       "  'Air tickets for work purposes',\n",
       "  'Flight for business trip',\n",
       "  'Flight for work purposes',\n",
       "  'Travel incidental to employment'],\n",
       " 'Passage provided when taking up employment and upon termination': ['Air tickets back to home country after contract end',\n",
       "  'Air tickets back to home country after termination of employment',\n",
       "  'Air tickets to work in Singapore',\n",
       "  'Flight back to home country after contract end',\n",
       "  'Flight back to home country after termination of employment',\n",
       "  'Flight to work in Singapore'],\n",
       " 'Home leave passage': ['Air passage benefit',\n",
       "  'Air tickets to home country',\n",
       "  'Flight to home country']}"
      ]
     },
     "execution_count": 132,
     "metadata": {},
     "output_type": "execute_result"
    }
   ],
   "source": [
    "cat_wsub_demo"
   ]
  },
  {
   "cell_type": "code",
   "execution_count": 133,
   "metadata": {},
   "outputs": [
    {
     "data": {
      "text/plain": [
       "'Employees receive free flight benefits to return to home country once a year and free flight benefits for business trips'"
      ]
     },
     "execution_count": 133,
     "metadata": {},
     "output_type": "execute_result"
    }
   ],
   "source": [
    "hlp_biz_demo"
   ]
  },
  {
   "cell_type": "code",
   "execution_count": 139,
   "metadata": {},
   "outputs": [
    {
     "name": "stdout",
     "output_type": "stream",
     "text": [
      "Splitted texts: ['Employees receive free flight benefits', 'to return to home country once', 'a year and', 'free flight benefits for business trips']\n",
      "General Category: Passage provided for business purpose\n",
      "Sub-Categories: ('Passage provided for business purpose', 'Air tickets for business trip', 'Air tickets for work purposes', 'Flight for business trip', 'Flight for work purposes', 'Travel incidental to employment')\n",
      "Similarity Level Of Top 3 (Limit=0.6):\n",
      "free flight benefits for busin /-/ Flight for business trip       : 0.76484\n",
      "free flight benefits for busin /-/ Air tickets for business trip  : 0.66527\n",
      "free flight benefits for busin /-/ Flight for work purposes       : 0.66138\n",
      "\n",
      "General Category: Passage provided when taking up employment and upon termination\n",
      "Sub-Categories: ('Passage provided when taking up employment and upon termination', 'Air tickets back to home country after contract end', 'Air tickets back to home country after termination of employment', 'Air tickets to work in Singapore', 'Flight back to home country after contract end', 'Flight back to home country after termination of employment', 'Flight to work in Singapore')\n",
      "Similarity Level Of Top 3 (Limit=0.6):\n",
      "to return to home country once /-/ Flight back to home country af : 0.60862\n",
      "\n",
      "General Category: Home leave passage\n",
      "Sub-Categories: ('Home leave passage', 'Air passage benefit', 'Air tickets to home country', 'Flight to home country')\n",
      "Similarity Level Of Top 3 (Limit=0.6):\n",
      "to return to home country once /-/ Flight to home country         : 0.61561\n",
      "\n"
     ]
    }
   ],
   "source": [
    "split_and_compare_wsub_top_limit(pt_transformers_method_embedding_L12_v2, pt_transformers_method_embedding_L12_v2, cat_wsub_demo, hlp_biz_demo, top_many=3, limit_value=0.6)\n",
    "pass"
   ]
  },
  {
   "cell_type": "code",
   "execution_count": 136,
   "metadata": {},
   "outputs": [
    {
     "name": "stdout",
     "output_type": "stream",
     "text": [
      "Splitted texts: ['Employees receive free flight benefits', 'to return to home country once', 'a year and', 'free flight benefits for business trips']\n",
      "General Category: Passage provided for business purpose\n",
      "Sub-Categories: ('Passage provided for business purpose', 'Air tickets for business trip', 'Air tickets for work purposes', 'Flight for business trip', 'Flight for work purposes', 'Travel incidental to employment')\n",
      "Similarity Level Of Top 3 (Limit=0.5):\n",
      "free flight benefits for busin /-/ Flight for business trip       : 0.75365\n",
      "free flight benefits for busin /-/ Air tickets for business trip  : 0.65982\n",
      "free flight benefits for busin /-/ Flight for work purposes       : 0.60962\n",
      "\n",
      "General Category: Passage provided when taking up employment and upon termination\n",
      "Sub-Categories: ('Passage provided when taking up employment and upon termination', 'Air tickets back to home country after contract end', 'Air tickets back to home country after termination of employment', 'Air tickets to work in Singapore', 'Flight back to home country after contract end', 'Flight back to home country after termination of employment', 'Flight to work in Singapore')\n",
      "Similarity Level Of Top 3 (Limit=0.5):\n",
      "to return to home country once /-/ Flight back to home country af : 0.59888\n",
      "to return to home country once /-/ Flight back to home country af : 0.53374\n",
      "\n",
      "General Category: Home leave passage\n",
      "Sub-Categories: ('Home leave passage', 'Air passage benefit', 'Air tickets to home country', 'Flight to home country')\n",
      "Similarity Level Of Top 3 (Limit=0.5):\n",
      "to return to home country once /-/ Flight to home country         : 0.66566\n",
      "free flight benefits for busin /-/ Air passage benefit            : 0.51766\n",
      "\n"
     ]
    }
   ],
   "source": [
    "split_and_compare_wsub_top_limit(get_sentence_embedding_MiniLM_L6_v2, get_sentence_embedding_MiniLM_L6_v2, cat_wsub_demo, hlp_biz_demo, top_many=3, limit_value=0.5)\n",
    "pass"
   ]
  },
  {
   "cell_type": "code",
   "execution_count": 144,
   "metadata": {},
   "outputs": [],
   "source": [
    "cat_wsub_demo[\"Home leave passage\"].append(\"return home country\")"
   ]
  },
  {
   "cell_type": "code",
   "execution_count": 150,
   "metadata": {},
   "outputs": [
    {
     "data": {
      "text/plain": [
       "{'Passage provided for business purpose': ['Air tickets for business trip',\n",
       "  'Air tickets for work purposes',\n",
       "  'Flight for business trip',\n",
       "  'Flight for work purposes',\n",
       "  'Travel incidental to employment'],\n",
       " 'Passage provided when taking up employment and upon termination': ['Air tickets back to home country after contract end',\n",
       "  'Air tickets back to home country after termination of employment',\n",
       "  'Air tickets to work in Singapore',\n",
       "  'Flight back to home country after contract end',\n",
       "  'Flight back to home country after termination of employment',\n",
       "  'Flight to work in Singapore'],\n",
       " 'Home leave passage': ['Air passage benefit',\n",
       "  'Air tickets to home country',\n",
       "  'Flight to home country']}"
      ]
     },
     "execution_count": 150,
     "metadata": {},
     "output_type": "execute_result"
    }
   ],
   "source": [
    "cat_wsub_demo"
   ]
  },
  {
   "cell_type": "code",
   "execution_count": 147,
   "metadata": {},
   "outputs": [
    {
     "name": "stdout",
     "output_type": "stream",
     "text": [
      "Splitted texts: ['Employees receive free flight benefits', 'to return to home country once', 'a year and', 'free flight benefits for business trips']\n",
      "General Category: Passage provided for business purpose\n",
      "Sub-Categories: ('Passage provided for business purpose', 'Air tickets for business trip', 'Air tickets for work purposes', 'Flight for business trip', 'Flight for work purposes', 'Travel incidental to employment')\n",
      "Similarity Level Of Top 3 (Limit=0.5):\n",
      "free flight benefits for busin /-/ Flight for business trip       : 0.75365\n",
      "free flight benefits for busin /-/ Air tickets for business trip  : 0.65982\n",
      "free flight benefits for busin /-/ Flight for work purposes       : 0.60962\n",
      "\n",
      "General Category: Passage provided when taking up employment and upon termination\n",
      "Sub-Categories: ('Passage provided when taking up employment and upon termination', 'Air tickets back to home country after contract end', 'Air tickets back to home country after termination of employment', 'Air tickets to work in Singapore', 'Flight back to home country after contract end', 'Flight back to home country after termination of employment', 'Flight to work in Singapore')\n",
      "Similarity Level Of Top 3 (Limit=0.5):\n",
      "to return to home country once /-/ Flight back to home country af : 0.59888\n",
      "to return to home country once /-/ Flight back to home country af : 0.53374\n",
      "\n",
      "General Category: Home leave passage\n",
      "Sub-Categories: ('Home leave passage', 'Air passage benefit', 'Air tickets to home country', 'Flight to home country', 'paid return home expenses', 'return home country')\n",
      "Similarity Level Of Top 3 (Limit=0.5):\n",
      "to return to home country once /-/ return home country            : 0.86671\n",
      "to return to home country once /-/ Flight to home country         : 0.66566\n",
      "free flight benefits for busin /-/ Air passage benefit            : 0.51766\n",
      "\n"
     ]
    }
   ],
   "source": [
    "split_and_compare_wsub_top_limit(get_sentence_embedding_MiniLM_L6_v2, get_sentence_embedding_MiniLM_L6_v2, cat_wsub_demo, hlp_biz_demo, top_many=3, limit_value=0.5)\n",
    "pass"
   ]
  },
  {
   "cell_type": "code",
   "execution_count": null,
   "metadata": {},
   "outputs": [],
   "source": []
  },
  {
   "cell_type": "code",
   "execution_count": 34,
   "metadata": {},
   "outputs": [
    {
     "data": {
      "text/plain": [
       "['Employees receive free flight benefits ',\n",
       " 'to return to home country once a year and',\n",
       " ' free flight benefits for business trips']"
      ]
     },
     "execution_count": 34,
     "metadata": {},
     "output_type": "execute_result"
    }
   ],
   "source": [
    "hlp_biz_demo_cut_third = [hlp_biz_demo[:len(hlp_biz_demo)//3-1], hlp_biz_demo[len(hlp_biz_demo)//3-1:-len(hlp_biz_demo)//3], hlp_biz_demo[-len(hlp_biz_demo)//3:]]\n",
    "hlp_biz_demo_cut_third"
   ]
  },
  {
   "cell_type": "code",
   "execution_count": 35,
   "metadata": {},
   "outputs": [
    {
     "data": {
      "text/plain": [
       "{'Passage provided for business purpose': {'Passage provided for business purpose': {('Employees receive free flight benefits ',\n",
       "    'Passage provided for business purpose'): 0.14779233235003653,\n",
       "   ('to return to home country once a year and',\n",
       "    'Passage provided for business purpose'): 0.23613265901235564,\n",
       "   (' free flight benefits for business trips',\n",
       "    'Passage provided for business purpose'): 0.29568490649739965},\n",
       "  'Air tickets for business trip': {('Employees receive free flight benefits ',\n",
       "    'Air tickets for business trip'): 0.4639808954117372,\n",
       "   ('to return to home country once a year and',\n",
       "    'Air tickets for business trip'): 0.14540735152911588,\n",
       "   (' free flight benefits for business trips',\n",
       "    'Air tickets for business trip'): 0.6598189842771236},\n",
       "  'Air tickets for work purposes': {('Employees receive free flight benefits ',\n",
       "    'Air tickets for work purposes'): 0.5376104533584114,\n",
       "   ('to return to home country once a year and',\n",
       "    'Air tickets for work purposes'): 0.17531932735985858,\n",
       "   (' free flight benefits for business trips',\n",
       "    'Air tickets for work purposes'): 0.4950128993725118},\n",
       "  'Flight for business trip': {('Employees receive free flight benefits ',\n",
       "    'Flight for business trip'): 0.435762301470959,\n",
       "   ('to return to home country once a year and',\n",
       "    'Flight for business trip'): 0.25174570017998144,\n",
       "   (' free flight benefits for business trips',\n",
       "    'Flight for business trip'): 0.7536517813135932},\n",
       "  'Flight for work purposes': {('Employees receive free flight benefits ',\n",
       "    'Flight for work purposes'): 0.5511253221175141,\n",
       "   ('to return to home country once a year and',\n",
       "    'Flight for work purposes'): 0.2963659526055269,\n",
       "   (' free flight benefits for business trips',\n",
       "    'Flight for work purposes'): 0.6096248255738319},\n",
       "  'Travel incidental to employment': {('Employees receive free flight benefits ',\n",
       "    'Travel incidental to employment'): 0.39301368059022956,\n",
       "   ('to return to home country once a year and',\n",
       "    'Travel incidental to employment'): 0.3872685632273945,\n",
       "   (' free flight benefits for business trips',\n",
       "    'Travel incidental to employment'): 0.44624883322649134}},\n",
       " 'Passage provided when taking up employment and upon termination': {'Passage provided when taking up employment and upon termination': {('Employees receive free flight benefits ',\n",
       "    'Passage provided when taking up employment and upon termination'): 0.21868298163832403,\n",
       "   ('to return to home country once a year and',\n",
       "    'Passage provided when taking up employment and upon termination'): 0.18954677690810262,\n",
       "   (' free flight benefits for business trips',\n",
       "    'Passage provided when taking up employment and upon termination'): 0.09119117726133678},\n",
       "  'Air tickets back to home country after contract end': {('Employees receive free flight benefits ',\n",
       "    'Air tickets back to home country after contract end'): 0.30093577859713627,\n",
       "   ('to return to home country once a year and',\n",
       "    'Air tickets back to home country after contract end'): 0.36042882892695643,\n",
       "   (' free flight benefits for business trips',\n",
       "    'Air tickets back to home country after contract end'): 0.3095408398241093},\n",
       "  'Air tickets back to home country after termination of employment': {('Employees receive free flight benefits ',\n",
       "    'Air tickets back to home country after termination of employment'): 0.43415698362247235,\n",
       "   ('to return to home country once a year and',\n",
       "    'Air tickets back to home country after termination of employment'): 0.351968917273837,\n",
       "   (' free flight benefits for business trips',\n",
       "    'Air tickets back to home country after termination of employment'): 0.3505791343838498},\n",
       "  'Air tickets to work in Singapore': {('Employees receive free flight benefits ',\n",
       "    'Air tickets to work in Singapore'): 0.44262971324371864,\n",
       "   ('to return to home country once a year and',\n",
       "    'Air tickets to work in Singapore'): 0.16416035054066946,\n",
       "   (' free flight benefits for business trips',\n",
       "    'Air tickets to work in Singapore'): 0.3745299206916572},\n",
       "  'Flight back to home country after contract end': {('Employees receive free flight benefits ',\n",
       "    'Flight back to home country after contract end'): 0.22879137461995946,\n",
       "   ('to return to home country once a year and',\n",
       "    'Flight back to home country after contract end'): 0.4951524049674279,\n",
       "   (' free flight benefits for business trips',\n",
       "    'Flight back to home country after contract end'): 0.30337465747288683},\n",
       "  'Flight back to home country after termination of employment': {('Employees receive free flight benefits ',\n",
       "    'Flight back to home country after termination of employment'): 0.36049679568918713,\n",
       "   ('to return to home country once a year and',\n",
       "    'Flight back to home country after termination of employment'): 0.4381619780422173,\n",
       "   (' free flight benefits for business trips',\n",
       "    'Flight back to home country after termination of employment'): 0.3190605163520106},\n",
       "  'Flight to work in Singapore': {('Employees receive free flight benefits ',\n",
       "    'Flight to work in Singapore'): 0.39243984840253016,\n",
       "   ('to return to home country once a year and',\n",
       "    'Flight to work in Singapore'): 0.22750227947471324,\n",
       "   (' free flight benefits for business trips',\n",
       "    'Flight to work in Singapore'): 0.3923574507372793}},\n",
       " 'Home leave passage': {'Home leave passage': {('Employees receive free flight benefits ',\n",
       "    'Home leave passage'): 0.16376386148499494,\n",
       "   ('to return to home country once a year and',\n",
       "    'Home leave passage'): 0.41805832558384304,\n",
       "   (' free flight benefits for business trips',\n",
       "    'Home leave passage'): 0.1710042399611213},\n",
       "  'Air passage benefit': {('Employees receive free flight benefits ',\n",
       "    'Air passage benefit'): 0.4717066074745732,\n",
       "   ('to return to home country once a year and',\n",
       "    'Air passage benefit'): 0.24060433713629004,\n",
       "   (' free flight benefits for business trips',\n",
       "    'Air passage benefit'): 0.5176624065540667},\n",
       "  'Air tickets to home country': {('Employees receive free flight benefits ',\n",
       "    'Air tickets to home country'): 0.3469180402218514,\n",
       "   ('to return to home country once a year and',\n",
       "    'Air tickets to home country'): 0.38250976489666777,\n",
       "   (' free flight benefits for business trips',\n",
       "    'Air tickets to home country'): 0.38708819585485815},\n",
       "  'Flight to home country': {('Employees receive free flight benefits ',\n",
       "    'Flight to home country'): 0.26720465266595306,\n",
       "   ('to return to home country once a year and',\n",
       "    'Flight to home country'): 0.565318392098334,\n",
       "   (' free flight benefits for business trips',\n",
       "    'Flight to home country'): 0.41699008606212845}}}"
      ]
     },
     "execution_count": 35,
     "metadata": {},
     "output_type": "execute_result"
    }
   ],
   "source": [
    "categories_wsub_similarity_comparison_function(get_sentence_embedding_MiniLM_L6_v2, cat_wsub_demo, hlp_biz_demo_cut_third)"
   ]
  },
  {
   "cell_type": "code",
   "execution_count": 36,
   "metadata": {},
   "outputs": [
    {
     "name": "stdout",
     "output_type": "stream",
     "text": [
      "General Category: Passage provided for business purpose\n",
      "Category: Passage provided for business purpose\n",
      "Similarity Level:\n",
      " free flight benefits for busi /-/ Passage provided for business  : 0.29568\n",
      "to return to home country once /-/ Passage provided for business  : 0.23613\n",
      "Employees receive free flight  /-/ Passage provided for business  : 0.14779\n",
      "Category: Air tickets for business trip\n",
      "Similarity Level:\n",
      " free flight benefits for busi /-/ Air tickets for business trip  : 0.65982\n",
      "Employees receive free flight  /-/ Air tickets for business trip  : 0.46398\n",
      "to return to home country once /-/ Air tickets for business trip  : 0.14541\n",
      "Category: Air tickets for work purposes\n",
      "Similarity Level:\n",
      "Employees receive free flight  /-/ Air tickets for work purposes  : 0.53761\n",
      " free flight benefits for busi /-/ Air tickets for work purposes  : 0.49501\n",
      "to return to home country once /-/ Air tickets for work purposes  : 0.17532\n",
      "Category: Flight for business trip\n",
      "Similarity Level:\n",
      " free flight benefits for busi /-/ Flight for business trip       : 0.75365\n",
      "Employees receive free flight  /-/ Flight for business trip       : 0.43576\n",
      "to return to home country once /-/ Flight for business trip       : 0.25175\n",
      "Category: Flight for work purposes\n",
      "Similarity Level:\n",
      " free flight benefits for busi /-/ Flight for work purposes       : 0.60962\n",
      "Employees receive free flight  /-/ Flight for work purposes       : 0.55113\n",
      "to return to home country once /-/ Flight for work purposes       : 0.29637\n",
      "Category: Travel incidental to employment\n",
      "Similarity Level:\n",
      " free flight benefits for busi /-/ Travel incidental to employmen : 0.44625\n",
      "Employees receive free flight  /-/ Travel incidental to employmen : 0.39301\n",
      "to return to home country once /-/ Travel incidental to employmen : 0.38727\n",
      "\n",
      "General Category: Passage provided when taking up employment and upon termination\n",
      "Category: Passage provided when taking up employment and upon termination\n",
      "Similarity Level:\n",
      "Employees receive free flight  /-/ Passage provided when taking u : 0.21868\n",
      "to return to home country once /-/ Passage provided when taking u : 0.18955\n",
      " free flight benefits for busi /-/ Passage provided when taking u : 0.091191\n",
      "Category: Air tickets back to home country after contract end\n",
      "Similarity Level:\n",
      "to return to home country once /-/ Air tickets back to home count : 0.36043\n",
      " free flight benefits for busi /-/ Air tickets back to home count : 0.30954\n",
      "Employees receive free flight  /-/ Air tickets back to home count : 0.30094\n",
      "Category: Air tickets back to home country after termination of employment\n",
      "Similarity Level:\n",
      "Employees receive free flight  /-/ Air tickets back to home count : 0.43416\n",
      "to return to home country once /-/ Air tickets back to home count : 0.35197\n",
      " free flight benefits for busi /-/ Air tickets back to home count : 0.35058\n",
      "Category: Air tickets to work in Singapore\n",
      "Similarity Level:\n",
      "Employees receive free flight  /-/ Air tickets to work in Singapo : 0.44263\n",
      " free flight benefits for busi /-/ Air tickets to work in Singapo : 0.37453\n",
      "to return to home country once /-/ Air tickets to work in Singapo : 0.16416\n",
      "Category: Flight back to home country after contract end\n",
      "Similarity Level:\n",
      "to return to home country once /-/ Flight back to home country af : 0.49515\n",
      " free flight benefits for busi /-/ Flight back to home country af : 0.30337\n",
      "Employees receive free flight  /-/ Flight back to home country af : 0.22879\n",
      "Category: Flight back to home country after termination of employment\n",
      "Similarity Level:\n",
      "to return to home country once /-/ Flight back to home country af : 0.43816\n",
      "Employees receive free flight  /-/ Flight back to home country af : 0.3605\n",
      " free flight benefits for busi /-/ Flight back to home country af : 0.31906\n",
      "Category: Flight to work in Singapore\n",
      "Similarity Level:\n",
      "Employees receive free flight  /-/ Flight to work in Singapore    : 0.39244\n",
      " free flight benefits for busi /-/ Flight to work in Singapore    : 0.39236\n",
      "to return to home country once /-/ Flight to work in Singapore    : 0.2275\n",
      "\n",
      "General Category: Home leave passage\n",
      "Category: Home leave passage\n",
      "Similarity Level:\n",
      "to return to home country once /-/ Home leave passage             : 0.41806\n",
      " free flight benefits for busi /-/ Home leave passage             : 0.171\n",
      "Employees receive free flight  /-/ Home leave passage             : 0.16376\n",
      "Category: Air passage benefit\n",
      "Similarity Level:\n",
      " free flight benefits for busi /-/ Air passage benefit            : 0.51766\n",
      "Employees receive free flight  /-/ Air passage benefit            : 0.47171\n",
      "to return to home country once /-/ Air passage benefit            : 0.2406\n",
      "Category: Air tickets to home country\n",
      "Similarity Level:\n",
      " free flight benefits for busi /-/ Air tickets to home country    : 0.38709\n",
      "to return to home country once /-/ Air tickets to home country    : 0.38251\n",
      "Employees receive free flight  /-/ Air tickets to home country    : 0.34692\n",
      "Category: Flight to home country\n",
      "Similarity Level:\n",
      "to return to home country once /-/ Flight to home country         : 0.56532\n",
      " free flight benefits for busi /-/ Flight to home country         : 0.41699\n",
      "Employees receive free flight  /-/ Flight to home country         : 0.2672\n",
      "\n"
     ]
    }
   ],
   "source": [
    "categories_wsub_similarity_result_display(categories_wsub_similarity_comparison_function(get_sentence_embedding_MiniLM_L6_v2, cat_wsub_demo, hlp_biz_demo_cut_third), sort_display=-1)"
   ]
  },
  {
   "cell_type": "code",
   "execution_count": 38,
   "metadata": {},
   "outputs": [
    {
     "name": "stdout",
     "output_type": "stream",
     "text": [
      "General Category: Passage provided for business purpose\n",
      "Sub-Categories: ('Passage provided for business purpose', 'Air tickets for business trip', 'Air tickets for work purposes', 'Flight for business trip', 'Flight for work purposes', 'Travel incidental to employment')\n",
      "Similarity Level Of Top 3 (Limit=0.55):\n",
      " free flight benefits for busi /-/ Flight for business trip       : 0.75365\n",
      " free flight benefits for busi /-/ Air tickets for business trip  : 0.65982\n",
      " free flight benefits for busi /-/ Flight for work purposes       : 0.60962\n",
      "\n",
      "General Category: Passage provided when taking up employment and upon termination\n",
      "Sub-Categories: ('Passage provided when taking up employment and upon termination', 'Air tickets back to home country after contract end', 'Air tickets back to home country after termination of employment', 'Air tickets to work in Singapore', 'Flight back to home country after contract end', 'Flight back to home country after termination of employment', 'Flight to work in Singapore')\n",
      "Similarity Level Of Top 3 (Limit=0.55):\n",
      "\n",
      "General Category: Home leave passage\n",
      "Sub-Categories: ('Home leave passage', 'Air passage benefit', 'Air tickets to home country', 'Flight to home country')\n",
      "Similarity Level Of Top 3 (Limit=0.55):\n",
      "to return to home country once /-/ Flight to home country         : 0.56532\n",
      "\n"
     ]
    }
   ],
   "source": [
    "categories_wsub_similarity_result_display_top_limit(categories_wsub_similarity_comparison_function(get_sentence_embedding_MiniLM_L6_v2, cat_wsub_demo, hlp_biz_demo_cut_third), top_many=3, limit_value=0.55)"
   ]
  },
  {
   "cell_type": "code",
   "execution_count": null,
   "metadata": {},
   "outputs": [],
   "source": []
  },
  {
   "cell_type": "code",
   "execution_count": 17,
   "metadata": {},
   "outputs": [],
   "source": [
    "from transformers import BartTokenizer, BartModel\n",
    "import torch\n",
    "\n",
    "bart_large_tokenizer = BartTokenizer.from_pretrained('facebook/bart-large')\n",
    "bart_large_model = BartModel.from_pretrained('facebook/bart-large')\n",
    "def bart_cls_emb(sentences):\n",
    "    inputs = bart_large_tokenizer(sentences, return_tensors=\"pt\")\n",
    "    outputs = bart_large_model(**inputs)\n",
    "\n",
    "    last_hidden_states = outputs.last_hidden_state\n",
    "    return last_hidden_states[:, 0]\n",
    "\n",
    "def bart_mean_emb(sentences):\n",
    "    inputs = bart_large_tokenizer(sentences, return_tensors=\"pt\")\n",
    "    outputs = bart_large_model(**inputs)\n",
    "\n",
    "    last_hidden_states = outputs.last_hidden_state\n",
    "    input_mask_expanded = inputs[\"attention_mask\"].unsqueeze(-1).expand(last_hidden_states.size()).float()\n",
    "\n",
    "    return torch.sum(last_hidden_states * input_mask_expanded, 1) / torch.clamp(input_mask_expanded.sum(1), min=1e-9)\n",
    "def bart_pad_cls_emb(sentences):\n",
    "    inputs = bart_large_tokenizer(sentences, return_tensors=\"pt\", padding=True)\n",
    "    outputs = bart_large_model(**inputs)\n",
    "\n",
    "    last_hidden_states = outputs.last_hidden_state\n",
    "    return last_hidden_states[:, 0]\n",
    "\n",
    "def bart_pad_mean_emb(sentences):\n",
    "    inputs = bart_large_tokenizer(sentences, return_tensors=\"pt\", padding=True)\n",
    "    outputs = bart_large_model(**inputs)\n",
    "\n",
    "    last_hidden_states = outputs.last_hidden_state\n",
    "    input_mask_expanded = inputs[\"attention_mask\"].unsqueeze(-1).expand(last_hidden_states.size()).float()\n",
    "\n",
    "    return torch.sum(last_hidden_states * input_mask_expanded, 1) / torch.clamp(input_mask_expanded.sum(1), min=1e-9)"
   ]
  },
  {
   "cell_type": "code",
   "execution_count": 21,
   "metadata": {},
   "outputs": [
    {
     "name": "stdout",
     "output_type": "stream",
     "text": [
      "Splitted texts: ['Employees receive free flight benefits', 'to return', 'to home country once a year and free flight benefits', 'for business trips']\n",
      "General Category: Passage provided for business purpose\n",
      "Sub-Categories: ('Passage provided for business purpose', 'Air tickets for business trip', 'Air tickets for work purposes', 'Flight for business trip', 'Flight for work purposes', 'Travel incidental to employment')\n",
      "Similarity Level Of Top 3 (Limit=0.5):\n",
      "Employees receive free flight  /-/ Flight for work purposes       : 0.80317\n",
      "Employees receive free flight  /-/ Flight for business trip       : 0.79323\n",
      "Employees receive free flight  /-/ Passage provided for business  : 0.7903\n",
      "\n",
      "General Category: Passage provided when taking up employment and upon termination\n",
      "Sub-Categories: ('Passage provided when taking up employment and upon termination', 'Air tickets back to home country after contract end', 'Air tickets back to home country after termination of employment', 'Air tickets to work in Singapore', 'Flight back to home country after contract end', 'Flight back to home country after termination of employment', 'Flight to work in Singapore')\n",
      "Similarity Level Of Top 3 (Limit=0.5):\n",
      "Employees receive free flight  /-/ Passage provided when taking u : 0.78565\n",
      "Employees receive free flight  /-/ Flight back to home country af : 0.77942\n",
      "Employees receive free flight  /-/ Flight to work in Singapore    : 0.77802\n",
      "\n",
      "General Category: Home leave passage\n",
      "Sub-Categories: ('Home leave passage', 'Air passage benefit', 'Air tickets to home country', 'Flight to home country')\n",
      "Similarity Level Of Top 3 (Limit=0.5):\n",
      "Employees receive free flight  /-/ Flight to home country         : 0.78241\n",
      "to return                      /-/ Flight to home country         : 0.77126\n",
      "to home country once a year an /-/ Flight to home country         : 0.77084\n",
      "\n"
     ]
    },
    {
     "data": {
      "text/plain": [
       "(['Employees receive free flight benefits',\n",
       "  'to return',\n",
       "  'to home country once a year and free flight benefits',\n",
       "  'for business trips'],\n",
       " {'Passage provided for business purpose': {'Passage provided for business purpose': {('Employees receive free flight benefits',\n",
       "     'Passage provided for business purpose'): 0.7902990436072315,\n",
       "    ('to return', 'Passage provided for business purpose'): 0.6902611310955061,\n",
       "    ('to home country once a year and free flight benefits',\n",
       "     'Passage provided for business purpose'): 0.6613507496241375,\n",
       "    ('for business trips',\n",
       "     'Passage provided for business purpose'): 0.6965532127973972},\n",
       "   'Air tickets for business trip': {('Employees receive free flight benefits',\n",
       "     'Air tickets for business trip'): 0.7370121021755862,\n",
       "    ('to return', 'Air tickets for business trip'): 0.6122386767438721,\n",
       "    ('to home country once a year and free flight benefits',\n",
       "     'Air tickets for business trip'): 0.631684232227899,\n",
       "    ('for business trips',\n",
       "     'Air tickets for business trip'): 0.6938390153026717},\n",
       "   'Air tickets for work purposes': {('Employees receive free flight benefits',\n",
       "     'Air tickets for work purposes'): 0.7475877977258261,\n",
       "    ('to return', 'Air tickets for work purposes'): 0.6344107343915795,\n",
       "    ('to home country once a year and free flight benefits',\n",
       "     'Air tickets for work purposes'): 0.6527657262027553,\n",
       "    ('for business trips',\n",
       "     'Air tickets for work purposes'): 0.712133763898738},\n",
       "   'Flight for business trip': {('Employees receive free flight benefits',\n",
       "     'Flight for business trip'): 0.7932324940082367,\n",
       "    ('to return', 'Flight for business trip'): 0.7733018763624528,\n",
       "    ('to home country once a year and free flight benefits',\n",
       "     'Flight for business trip'): 0.7716923168713841,\n",
       "    ('for business trips', 'Flight for business trip'): 0.7134522138841248},\n",
       "   'Flight for work purposes': {('Employees receive free flight benefits',\n",
       "     'Flight for work purposes'): 0.8031672905481111,\n",
       "    ('to return', 'Flight for work purposes'): 0.7812918356923468,\n",
       "    ('to home country once a year and free flight benefits',\n",
       "     'Flight for work purposes'): 0.780317486044698,\n",
       "    ('for business trips', 'Flight for work purposes'): 0.7436601908996607},\n",
       "   'Travel incidental to employment': {('Employees receive free flight benefits',\n",
       "     'Travel incidental to employment'): 0.7822155082571793,\n",
       "    ('to return', 'Travel incidental to employment'): 0.7296065200579633,\n",
       "    ('to home country once a year and free flight benefits',\n",
       "     'Travel incidental to employment'): 0.7205935915481447,\n",
       "    ('for business trips',\n",
       "     'Travel incidental to employment'): 0.7045531061176149}},\n",
       "  'Passage provided when taking up employment and upon termination': {'Passage provided when taking up employment and upon termination': {('Employees receive free flight benefits',\n",
       "     'Passage provided when taking up employment and upon termination'): 0.785654478666745,\n",
       "    ('to return',\n",
       "     'Passage provided when taking up employment and upon termination'): 0.6870065987080132,\n",
       "    ('to home country once a year and free flight benefits',\n",
       "     'Passage provided when taking up employment and upon termination'): 0.6643558226339024,\n",
       "    ('for business trips',\n",
       "     'Passage provided when taking up employment and upon termination'): 0.6893861386059932},\n",
       "   'Air tickets back to home country after contract end': {('Employees receive free flight benefits',\n",
       "     'Air tickets back to home country after contract end'): 0.7327192672474787,\n",
       "    ('to return',\n",
       "     'Air tickets back to home country after contract end'): 0.6088820782200379,\n",
       "    ('to home country once a year and free flight benefits',\n",
       "     'Air tickets back to home country after contract end'): 0.6351525838688286,\n",
       "    ('for business trips',\n",
       "     'Air tickets back to home country after contract end'): 0.678943642608103},\n",
       "   'Air tickets back to home country after termination of employment': {('Employees receive free flight benefits',\n",
       "     'Air tickets back to home country after termination of employment'): 0.7276720552699718,\n",
       "    ('to return',\n",
       "     'Air tickets back to home country after termination of employment'): 0.6042973135765575,\n",
       "    ('to home country once a year and free flight benefits',\n",
       "     'Air tickets back to home country after termination of employment'): 0.6359601332438176,\n",
       "    ('for business trips',\n",
       "     'Air tickets back to home country after termination of employment'): 0.6865415166166002},\n",
       "   'Air tickets to work in Singapore': {('Employees receive free flight benefits',\n",
       "     'Air tickets to work in Singapore'): 0.727270584395586,\n",
       "    ('to return', 'Air tickets to work in Singapore'): 0.6136066099553563,\n",
       "    ('to home country once a year and free flight benefits',\n",
       "     'Air tickets to work in Singapore'): 0.6388312952232855,\n",
       "    ('for business trips',\n",
       "     'Air tickets to work in Singapore'): 0.6918603289917407},\n",
       "   'Flight back to home country after contract end': {('Employees receive free flight benefits',\n",
       "     'Flight back to home country after contract end'): 0.7742756530134207,\n",
       "    ('to return',\n",
       "     'Flight back to home country after contract end'): 0.7506193151789993,\n",
       "    ('to home country once a year and free flight benefits',\n",
       "     'Flight back to home country after contract end'): 0.7584232760973864,\n",
       "    ('for business trips',\n",
       "     'Flight back to home country after contract end'): 0.685696908536249},\n",
       "   'Flight back to home country after termination of employment': {('Employees receive free flight benefits',\n",
       "     'Flight back to home country after termination of employment'): 0.7794174678792931,\n",
       "    ('to return',\n",
       "     'Flight back to home country after termination of employment'): 0.7558436469838661,\n",
       "    ('to home country once a year and free flight benefits',\n",
       "     'Flight back to home country after termination of employment'): 0.7671932744559555,\n",
       "    ('for business trips',\n",
       "     'Flight back to home country after termination of employment'): 0.6989387310417925},\n",
       "   'Flight to work in Singapore': {('Employees receive free flight benefits',\n",
       "     'Flight to work in Singapore'): 0.7780194843539745,\n",
       "    ('to return', 'Flight to work in Singapore'): 0.7554365272912733,\n",
       "    ('to home country once a year and free flight benefits',\n",
       "     'Flight to work in Singapore'): 0.7629104104326951,\n",
       "    ('for business trips',\n",
       "     'Flight to work in Singapore'): 0.7029988515575178}},\n",
       "  'Home leave passage': {'Home leave passage': {('Employees receive free flight benefits',\n",
       "     'Home leave passage'): 0.7493170224279257,\n",
       "    ('to return', 'Home leave passage'): 0.7096220896437586,\n",
       "    ('to home country once a year and free flight benefits',\n",
       "     'Home leave passage'): 0.697801241570204,\n",
       "    ('for business trips', 'Home leave passage'): 0.699104835790429},\n",
       "   'Air passage benefit': {('Employees receive free flight benefits',\n",
       "     'Air passage benefit'): 0.7106007156557466,\n",
       "    ('to return', 'Air passage benefit'): 0.5920968380461247,\n",
       "    ('to home country once a year and free flight benefits',\n",
       "     'Air passage benefit'): 0.6133591417200304,\n",
       "    ('for business trips', 'Air passage benefit'): 0.6731884850032839},\n",
       "   'Air tickets to home country': {('Employees receive free flight benefits',\n",
       "     'Air tickets to home country'): 0.726609440683974,\n",
       "    ('to return', 'Air tickets to home country'): 0.6169366290783089,\n",
       "    ('to home country once a year and free flight benefits',\n",
       "     'Air tickets to home country'): 0.6388435122532421,\n",
       "    ('for business trips', 'Air tickets to home country'): 0.6936289643396201},\n",
       "   'Flight to home country': {('Employees receive free flight benefits',\n",
       "     'Flight to home country'): 0.7824084088273264,\n",
       "    ('to return', 'Flight to home country'): 0.7712635439296149,\n",
       "    ('to home country once a year and free flight benefits',\n",
       "     'Flight to home country'): 0.770840891923303,\n",
       "    ('for business trips', 'Flight to home country'): 0.7070569322317652}}})"
      ]
     },
     "execution_count": 21,
     "metadata": {},
     "output_type": "execute_result"
    }
   ],
   "source": [
    "split_and_compare_wsub_top_limit(bart_pad_cls_emb, bart_pad_cls_emb, cat_wsub_demo, hlp_biz_demo, top_many=3, limit_value=0.5)"
   ]
  },
  {
   "cell_type": "code",
   "execution_count": 22,
   "metadata": {},
   "outputs": [
    {
     "name": "stdout",
     "output_type": "stream",
     "text": [
      "Splitted texts: ['Employees receive free flight benefits', 'to return to home country once', 'a year and free flight benefits', 'for business trips']\n",
      "General Category: Passage provided for business purpose\n",
      "Sub-Categories: ('Passage provided for business purpose', 'Air tickets for business trip', 'Air tickets for work purposes', 'Flight for business trip', 'Flight for work purposes', 'Travel incidental to employment')\n",
      "Similarity Level Of Top 3 (Limit=0.5):\n",
      "for business trips             /-/ Flight for work purposes       : 0.70483\n",
      "for business trips             /-/ Air tickets for work purposes  : 0.69055\n",
      "for business trips             /-/ Flight for business trip       : 0.6855\n",
      "\n",
      "General Category: Passage provided when taking up employment and upon termination\n",
      "Sub-Categories: ('Passage provided when taking up employment and upon termination', 'Air tickets back to home country after contract end', 'Air tickets back to home country after termination of employment', 'Air tickets to work in Singapore', 'Flight back to home country after contract end', 'Flight back to home country after termination of employment', 'Flight to work in Singapore')\n",
      "Similarity Level Of Top 3 (Limit=0.5):\n",
      "to return to home country once /-/ Flight back to home country af : 0.74762\n",
      "to return to home country once /-/ Flight back to home country af : 0.72599\n",
      "to return to home country once /-/ Air tickets back to home count : 0.71377\n",
      "\n",
      "General Category: Home leave passage\n",
      "Sub-Categories: ('Home leave passage', 'Air passage benefit', 'Air tickets to home country', 'Flight to home country')\n",
      "Similarity Level Of Top 3 (Limit=0.5):\n",
      "a year and free flight benefit /-/ Flight to home country         : 0.63618\n",
      "for business trips             /-/ Home leave passage             : 0.62246\n",
      "a year and free flight benefit /-/ Air tickets to home country    : 0.62038\n",
      "\n"
     ]
    },
    {
     "data": {
      "text/plain": [
       "(['Employees receive free flight benefits',\n",
       "  'to return to home country once',\n",
       "  'a year and free flight benefits',\n",
       "  'for business trips'],\n",
       " {'Passage provided for business purpose': {'Passage provided for business purpose': {('Employees receive free flight benefits',\n",
       "     'Passage provided for business purpose'): 0.6019886406371544,\n",
       "    ('to return to home country once',\n",
       "     'Passage provided for business purpose'): 0.5072216503016165,\n",
       "    ('a year and free flight benefits',\n",
       "     'Passage provided for business purpose'): 0.6119562651755075,\n",
       "    ('for business trips',\n",
       "     'Passage provided for business purpose'): 0.6449822851759062},\n",
       "   'Air tickets for business trip': {('Employees receive free flight benefits',\n",
       "     'Air tickets for business trip'): 0.6203113367825421,\n",
       "    ('to return to home country once',\n",
       "     'Air tickets for business trip'): 0.4860382204465097,\n",
       "    ('a year and free flight benefits',\n",
       "     'Air tickets for business trip'): 0.6350631382538339,\n",
       "    ('for business trips',\n",
       "     'Air tickets for business trip'): 0.6828838138377584},\n",
       "   'Air tickets for work purposes': {('Employees receive free flight benefits',\n",
       "     'Air tickets for work purposes'): 0.6152668528918106,\n",
       "    ('to return to home country once',\n",
       "     'Air tickets for work purposes'): 0.4584739845380885,\n",
       "    ('a year and free flight benefits',\n",
       "     'Air tickets for work purposes'): 0.6273624828584001,\n",
       "    ('for business trips',\n",
       "     'Air tickets for work purposes'): 0.6905513807104313},\n",
       "   'Flight for business trip': {('Employees receive free flight benefits',\n",
       "     'Flight for business trip'): 0.62048989570307,\n",
       "    ('to return to home country once',\n",
       "     'Flight for business trip'): 0.5042038638640918,\n",
       "    ('a year and free flight benefits',\n",
       "     'Flight for business trip'): 0.6596127367023854,\n",
       "    ('for business trips', 'Flight for business trip'): 0.6855035793464102},\n",
       "   'Flight for work purposes': {('Employees receive free flight benefits',\n",
       "     'Flight for work purposes'): 0.6371940483023621,\n",
       "    ('to return to home country once',\n",
       "     'Flight for work purposes'): 0.47389007340563394,\n",
       "    ('a year and free flight benefits',\n",
       "     'Flight for work purposes'): 0.6638165670913807,\n",
       "    ('for business trips', 'Flight for work purposes'): 0.704830017678745},\n",
       "   'Travel incidental to employment': {('Employees receive free flight benefits',\n",
       "     'Travel incidental to employment'): 0.6198035929030326,\n",
       "    ('to return to home country once',\n",
       "     'Travel incidental to employment'): 0.47498154463733044,\n",
       "    ('a year and free flight benefits',\n",
       "     'Travel incidental to employment'): 0.5737453346600176,\n",
       "    ('for business trips',\n",
       "     'Travel incidental to employment'): 0.6519926142496324}},\n",
       "  'Passage provided when taking up employment and upon termination': {'Passage provided when taking up employment and upon termination': {('Employees receive free flight benefits',\n",
       "     'Passage provided when taking up employment and upon termination'): 0.589212581299261,\n",
       "    ('to return to home country once',\n",
       "     'Passage provided when taking up employment and upon termination'): 0.5290537953156331,\n",
       "    ('a year and free flight benefits',\n",
       "     'Passage provided when taking up employment and upon termination'): 0.6136568819189421,\n",
       "    ('for business trips',\n",
       "     'Passage provided when taking up employment and upon termination'): 0.5127397890646677},\n",
       "   'Air tickets back to home country after contract end': {('Employees receive free flight benefits',\n",
       "     'Air tickets back to home country after contract end'): 0.48971718119381613,\n",
       "    ('to return to home country once',\n",
       "     'Air tickets back to home country after contract end'): 0.6616080101634978,\n",
       "    ('a year and free flight benefits',\n",
       "     'Air tickets back to home country after contract end'): 0.569352615652349,\n",
       "    ('for business trips',\n",
       "     'Air tickets back to home country after contract end'): 0.42154476456353507},\n",
       "   'Air tickets back to home country after termination of employment': {('Employees receive free flight benefits',\n",
       "     'Air tickets back to home country after termination of employment'): 0.5748818303855066,\n",
       "    ('to return to home country once',\n",
       "     'Air tickets back to home country after termination of employment'): 0.7137669463946779,\n",
       "    ('a year and free flight benefits',\n",
       "     'Air tickets back to home country after termination of employment'): 0.6341068701810784,\n",
       "    ('for business trips',\n",
       "     'Air tickets back to home country after termination of employment'): 0.4990828035933035},\n",
       "   'Air tickets to work in Singapore': {('Employees receive free flight benefits',\n",
       "     'Air tickets to work in Singapore'): 0.5615664677920371,\n",
       "    ('to return to home country once',\n",
       "     'Air tickets to work in Singapore'): 0.521332303386302,\n",
       "    ('a year and free flight benefits',\n",
       "     'Air tickets to work in Singapore'): 0.5960961752162106,\n",
       "    ('for business trips',\n",
       "     'Air tickets to work in Singapore'): 0.5675493294141125},\n",
       "   'Flight back to home country after contract end': {('Employees receive free flight benefits',\n",
       "     'Flight back to home country after contract end'): 0.49997205628096,\n",
       "    ('to return to home country once',\n",
       "     'Flight back to home country after contract end'): 0.7259896827200265,\n",
       "    ('a year and free flight benefits',\n",
       "     'Flight back to home country after contract end'): 0.5999870869649548,\n",
       "    ('for business trips',\n",
       "     'Flight back to home country after contract end'): 0.42589703458578043},\n",
       "   'Flight back to home country after termination of employment': {('Employees receive free flight benefits',\n",
       "     'Flight back to home country after termination of employment'): 0.5654182485775774,\n",
       "    ('to return to home country once',\n",
       "     'Flight back to home country after termination of employment'): 0.7476173528648049,\n",
       "    ('a year and free flight benefits',\n",
       "     'Flight back to home country after termination of employment'): 0.6395865947049941,\n",
       "    ('for business trips',\n",
       "     'Flight back to home country after termination of employment'): 0.48681650282859223},\n",
       "   'Flight to work in Singapore': {('Employees receive free flight benefits',\n",
       "     'Flight to work in Singapore'): 0.5704001890641948,\n",
       "    ('to return to home country once',\n",
       "     'Flight to work in Singapore'): 0.5505046701083938,\n",
       "    ('a year and free flight benefits',\n",
       "     'Flight to work in Singapore'): 0.6380763600506372,\n",
       "    ('for business trips',\n",
       "     'Flight to work in Singapore'): 0.5464079046283388}},\n",
       "  'Home leave passage': {'Home leave passage': {('Employees receive free flight benefits',\n",
       "     'Home leave passage'): 0.4794643668454803,\n",
       "    ('to return to home country once',\n",
       "     'Home leave passage'): 0.48479658683250193,\n",
       "    ('a year and free flight benefits',\n",
       "     'Home leave passage'): 0.5076319956785085,\n",
       "    ('for business trips', 'Home leave passage'): 0.6224622502559214},\n",
       "   'Air passage benefit': {('Employees receive free flight benefits',\n",
       "     'Air passage benefit'): 0.4945484154339548,\n",
       "    ('to return to home country once',\n",
       "     'Air passage benefit'): 0.3072444011483597,\n",
       "    ('a year and free flight benefits',\n",
       "     'Air passage benefit'): 0.5225218989635358,\n",
       "    ('for business trips', 'Air passage benefit'): 0.5759348797882016},\n",
       "   'Air tickets to home country': {('Employees receive free flight benefits',\n",
       "     'Air tickets to home country'): 0.5416506101122778,\n",
       "    ('to return to home country once',\n",
       "     'Air tickets to home country'): 0.5861050476573695,\n",
       "    ('a year and free flight benefits',\n",
       "     'Air tickets to home country'): 0.6203752178396087,\n",
       "    ('for business trips', 'Air tickets to home country'): 0.5766587668410583},\n",
       "   'Flight to home country': {('Employees receive free flight benefits',\n",
       "     'Flight to home country'): 0.5462475808827705,\n",
       "    ('to return to home country once',\n",
       "     'Flight to home country'): 0.6072706948518203,\n",
       "    ('a year and free flight benefits',\n",
       "     'Flight to home country'): 0.6361843249353996,\n",
       "    ('for business trips', 'Flight to home country'): 0.5654335332085445}}})"
      ]
     },
     "execution_count": 22,
     "metadata": {},
     "output_type": "execute_result"
    }
   ],
   "source": [
    "split_and_compare_wsub_top_limit(bart_pad_mean_emb, bart_pad_mean_emb, cat_wsub_demo, hlp_biz_demo, top_many=3, limit_value=0.5)"
   ]
  },
  {
   "cell_type": "code",
   "execution_count": 24,
   "metadata": {},
   "outputs": [],
   "source": [
    "from transformers import pipeline\n",
    "bart_mnli_classifier = pipeline(\"zero-shot-classification\",\n",
    "                      model=\"facebook/bart-large-mnli\")"
   ]
  },
  {
   "cell_type": "code",
   "execution_count": 27,
   "metadata": {},
   "outputs": [],
   "source": [
    "def classify_sentence(classifier, candidate_labels, sequence_to_classify, multi_label = True):\n",
    "    result_dict = {}\n",
    "    classifier_results = classifier(sequence_to_classify, candidate_labels, multi_label=multi_label)\n",
    "    if type(classifier_results) != list:\n",
    "        classifier_results = [classifier_results]\n",
    "    for classifier_result in classifier_results:\n",
    "        result_dict[classifier_result[\"sequence\"]] = {label:label_prob for label,label_prob in zip(classifier_result[\"labels\"], classifier_result[\"scores\"])}\n",
    "    return result_dict\n",
    "def lock_classify_sentence(classifier):\n",
    "    return lambda candidate_labels, sequence_to_classify, multi_label = True: classify_sentence(classifier=classifier, candidate_labels=candidate_labels, sequence_to_classify=sequence_to_classify, multi_label=multi_label)"
   ]
  },
  {
   "cell_type": "code",
   "execution_count": 95,
   "metadata": {},
   "outputs": [],
   "source": [
    "#categories_classification_function(classification_model_function=classification_model_function, categories=categories, texts=splitted_sentence_text, sort_output=sort_compare)\n",
    "def categories_classification_function(classification_model_function, categories_candidate_labels, texts, multi_label = True, sort_output = 0):\n",
    "    classification_results = classify_sentence(classifier=classification_model_function, candidate_labels=categories_candidate_labels, sequence_to_classify=texts, multi_label=multi_label)\n",
    "    final_classified_dict = {}\n",
    "    if sort_output == -1:\n",
    "        final_classified_dict = classification_results\n",
    "        return final_classified_dict\n",
    "    if sort_output == 0:\n",
    "        for seq in texts:\n",
    "            final_classified_dict[seq] = {label:classification_results[seq][label] for label in categories_candidate_labels}\n",
    "        return final_classified_dict\n",
    "    if sort_output == 1:\n",
    "        for seq in texts:\n",
    "            pre_sort = {label:classification_results[seq][label] for label in categories_candidate_labels}\n",
    "            final_classified_dict[seq] = {label:label_pred for label, label_pred in sorted(pre_sort.items(), key = lambda dict_item: dict_item[1])}\n",
    "        return final_classified_dict\n",
    "    \n",
    "def categories_classification_additional_resort_function(seq_classified_dictionary, categories_candidate_labels, sort_output = 0, top_many = 5, limit_value = 0.5):\n",
    "    if limit_value < 0:\n",
    "        if sort_output == -1:\n",
    "            limit_value = 0\n",
    "        if sort_output == 0:\n",
    "            limit_value = None\n",
    "        if sort_output == 1:\n",
    "            limit_value = 1\n",
    "    resorted_classification_dict = {label:{} for label in categories_candidate_labels}\n",
    "    for seq, label_to_label_pred_dict in seq_classified_dictionary.items():\n",
    "        for label in categories_candidate_labels:\n",
    "            if sort_output == -1:\n",
    "                if label_to_label_pred_dict[label] >= limit_value:\n",
    "                    resorted_classification_dict[label][seq] = label_to_label_pred_dict[label]\n",
    "            if sort_output == 0:\n",
    "                # limit_value no meaning here since no sorting so no >= or <= to base off\n",
    "                resorted_classification_dict[label][seq] = label_to_label_pred_dict[label]\n",
    "            if sort_output == 1:\n",
    "                if label_to_label_pred_dict[label] <= limit_value:\n",
    "                    resorted_classification_dict[label][seq] = label_to_label_pred_dict[label]\n",
    "    if sort_output == -1:\n",
    "        for label in categories_candidate_labels:\n",
    "            resorted_classification_dict[label] = dict(sorted(resorted_classification_dict[label].items(), key = lambda dict_item: dict_item[1], reverse=True))\n",
    "    if sort_output == 0:\n",
    "        resorted_classification_dict = resorted_classification_dict\n",
    "    if sort_output == 1:\n",
    "        for label in categories_candidate_labels:\n",
    "            resorted_classification_dict[label] = dict(sorted(resorted_classification_dict[label].items(), key = lambda dict_item: dict_item[1], reverse=False))\n",
    "    \n",
    "    if top_many >= 0:\n",
    "        for label in categories_candidate_labels:\n",
    "            resorted_classification_dict[label] = dict(list(resorted_classification_dict[label].items())[:top_many])\n",
    "    return resorted_classification_dict"
   ]
  },
  {
   "cell_type": "code",
   "execution_count": 189,
   "metadata": {},
   "outputs": [],
   "source": [
    "def categories_classification_resorted_result_display(classification_resorted_dictionary_result, sort_display = 0, top_many = 5, limit_value = 0.5):\n",
    "    if limit_value < 0:\n",
    "        if sort_display == -1:\n",
    "            limit_value = 0\n",
    "        if sort_display == 0:\n",
    "            limit_value = None\n",
    "        if sort_display == 1:\n",
    "            limit_value = 1\n",
    "    if top_many > 0:\n",
    "        for label, seq_pred_dict in classification_resorted_dictionary_result.items():\n",
    "            print(f\"Category: {label}\")\n",
    "            if sort_display == -1:\n",
    "                for seq, pred in dict(sorted(list(seq_pred_dict.items()), key=lambda list_dict_tuple: list_dict_tuple[1], reverse=True)[:top_many]).items():\n",
    "                    if pred >= limit_value:\n",
    "                        print(f\"{seq:65.65}: {pred:.5}\")\n",
    "            if sort_display == 0:\n",
    "                ## if no sorting, then top xxx and limit yyy does not make sense so not applicable here\n",
    "                for seq, pred in seq_pred_dict.items():\n",
    "                    print(f\"{seq:65.65}: {pred:.5}\")\n",
    "            if sort_display == 1:\n",
    "                for seq, pred in dict(sorted(list(seq_pred_dict.items()), key=lambda list_dict_tuple: list_dict_tuple[1], reverse=False)[:top_many]).items():\n",
    "                    if pred <= limit_value:\n",
    "                        print(f\"{seq:65.65}: {pred:.5}\")\n",
    "            print()\n",
    "    else:\n",
    "        for label, seq_pred_dict in classification_resorted_dictionary_result.items():\n",
    "            print(f\"Category: {label}\")\n",
    "            if sort_display == -1:\n",
    "                for seq, pred in dict(sorted(seq_pred_dict.items(), key=lambda list_dict_tuple: list_dict_tuple[1], reverse=True)).items():\n",
    "                    if pred >= limit_value:\n",
    "                        print(f\"{seq:65.65}: {pred:.5}\")\n",
    "            if sort_display == 0:\n",
    "                ## if no sorting, then top xxx and limit yyy does not make sense so not applicable here\n",
    "                for seq, pred in seq_pred_dict.items():\n",
    "                    print(f\"{seq:65.65}: {pred:.5}\")\n",
    "            if sort_display == 1:\n",
    "                for seq, pred in dict(sorted(seq_pred_dict.items(), key=lambda list_dict_tuple: list_dict_tuple[1], reverse=False)).items():\n",
    "                    if pred <= limit_value:\n",
    "                        print(f\"{seq:65.65}: {pred:.5}\")\n",
    "            print()"
   ]
  },
  {
   "cell_type": "code",
   "execution_count": null,
   "metadata": {},
   "outputs": [],
   "source": []
  },
  {
   "cell_type": "code",
   "execution_count": 37,
   "metadata": {},
   "outputs": [],
   "source": [
    "candidate_possible_labels = ['travel', 'cooking', 'dancing', 'exploration']\n",
    "sequences_list = [\"one day i will see the world\", \"i will explore sweden next semester\", \"I love popping and locking!\"]"
   ]
  },
  {
   "cell_type": "code",
   "execution_count": 149,
   "metadata": {},
   "outputs": [
    {
     "data": {
      "text/plain": [
       "{'one day i will see the world': {'travel': 0.994157612323761,\n",
       "  'exploration': 0.92877596616745,\n",
       "  'dancing': 0.005361784249544144,\n",
       "  'cooking': 0.0016605753917247057},\n",
       " 'i will explore sweden next semester': {'travel': 0.9911717772483826,\n",
       "  'exploration': 0.9684410691261292,\n",
       "  'dancing': 0.0032393524888902903,\n",
       "  'cooking': 0.00020078456145711243},\n",
       " 'I love popping and locking!': {'exploration': 0.7612733244895935,\n",
       "  'dancing': 0.22573687136173248,\n",
       "  'cooking': 0.17265444993972778,\n",
       "  'travel': 0.0074744801968336105}}"
      ]
     },
     "execution_count": 149,
     "metadata": {},
     "output_type": "execute_result"
    }
   ],
   "source": [
    "classify_sentence(bart_mnli_classifier, candidate_possible_labels, sequences_list, multi_label=True)"
   ]
  },
  {
   "cell_type": "code",
   "execution_count": 150,
   "metadata": {},
   "outputs": [
    {
     "data": {
      "text/plain": [
       "{'one day i will see the world': {'travel': 0.8104696869850159,\n",
       "  'exploration': 0.1847233921289444,\n",
       "  'dancing': 0.0025745946913957596,\n",
       "  'cooking': 0.0022323287557810545}}"
      ]
     },
     "execution_count": 150,
     "metadata": {},
     "output_type": "execute_result"
    }
   ],
   "source": [
    "classify_sentence(bart_mnli_classifier, candidate_possible_labels, sequences_list[0], multi_label=False)"
   ]
  },
  {
   "cell_type": "code",
   "execution_count": 38,
   "metadata": {},
   "outputs": [
    {
     "data": {
      "text/plain": [
       "{'one day i will see the world': {'travel': 0.994157612323761,\n",
       "  'exploration': 0.92877596616745,\n",
       "  'dancing': 0.005361784249544144,\n",
       "  'cooking': 0.0016605753917247057},\n",
       " 'i will explore sweden next semester': {'travel': 0.9911717772483826,\n",
       "  'exploration': 0.9684410691261292,\n",
       "  'dancing': 0.0032393524888902903,\n",
       "  'cooking': 0.00020078456145711243},\n",
       " 'I love popping and locking!': {'exploration': 0.7612733244895935,\n",
       "  'dancing': 0.22573687136173248,\n",
       "  'cooking': 0.17265444993972778,\n",
       "  'travel': 0.0074744801968336105}}"
      ]
     },
     "execution_count": 38,
     "metadata": {},
     "output_type": "execute_result"
    }
   ],
   "source": [
    "categories_classification_function(bart_mnli_classifier, candidate_possible_labels, sequences_list, sort_output=-1)"
   ]
  },
  {
   "cell_type": "code",
   "execution_count": 66,
   "metadata": {},
   "outputs": [
    {
     "data": {
      "text/plain": [
       "{'travel': {'one day i will see the world': 0.994157612323761,\n",
       "  'i will explore sweden next semester': 0.9911717772483826},\n",
       " 'cooking': {},\n",
       " 'dancing': {},\n",
       " 'exploration': {'i will explore sweden next semester': 0.9684410691261292,\n",
       "  'one day i will see the world': 0.92877596616745,\n",
       "  'I love popping and locking!': 0.7612733244895935}}"
      ]
     },
     "execution_count": 66,
     "metadata": {},
     "output_type": "execute_result"
    }
   ],
   "source": [
    "categories_classification_additional_resort_function(categories_classification_function(bart_mnli_classifier, candidate_possible_labels, sequences_list, sort_output=-1), candidate_possible_labels, sort_output=-1, top_many=5, limit_value=0.5)"
   ]
  },
  {
   "cell_type": "code",
   "execution_count": 190,
   "metadata": {},
   "outputs": [
    {
     "name": "stdout",
     "output_type": "stream",
     "text": [
      "Category: travel\n",
      "one day i will see the world                                     : 0.99416\n",
      "i will explore sweden next semester                              : 0.99117\n",
      "\n",
      "Category: cooking\n",
      "\n",
      "Category: dancing\n",
      "\n",
      "Category: exploration\n",
      "i will explore sweden next semester                              : 0.96844\n",
      "one day i will see the world                                     : 0.92878\n",
      "I love popping and locking!                                      : 0.76127\n",
      "\n"
     ]
    }
   ],
   "source": [
    "categories_classification_resorted_result_display(categories_classification_additional_resort_function(categories_classification_function(bart_mnli_classifier, candidate_possible_labels, sequences_list, sort_output=-1), candidate_possible_labels, sort_output=-1, top_many=5, limit_value=0.5),sort_display=-1, top_many=-1, limit_value=-1)"
   ]
  },
  {
   "cell_type": "code",
   "execution_count": 188,
   "metadata": {},
   "outputs": [
    {
     "name": "stdout",
     "output_type": "stream",
     "text": [
      "Category: travel\n",
      "one day i will see the world                                     : 0.99416\n",
      "\n",
      "Category: exploration\n",
      "i will explore sweden next semester                              : 0.96844\n",
      "\n"
     ]
    }
   ],
   "source": [
    "# Arguments to use for function\n",
    "limit_value = 0.1\n",
    "top_many_cat = 2\n",
    "get_list = True\n",
    "\n",
    "cleaned_categories_classification_resorted_result_display(cleaned_classification_resorted_result=categories_classification_additional_resort_cleaning_function(classification_resorted_dictionary_result=categories_classification_additional_resort_function(categories_classification_function(bart_mnli_classifier, candidate_possible_labels, sequences_list, sort_output=-1), candidate_possible_labels, sort_output=-1, top_many=1, limit_value=limit_value), get_list=get_list, top_many_cat=top_many_cat, limit_value=limit_value), get_list=get_list)\n"
   ]
  },
  {
   "cell_type": "code",
   "execution_count": 39,
   "metadata": {},
   "outputs": [
    {
     "data": {
      "text/plain": [
       "{'one day i will see the world': {'travel': 0.994157612323761,\n",
       "  'cooking': 0.0016605753917247057,\n",
       "  'dancing': 0.005361784249544144,\n",
       "  'exploration': 0.92877596616745},\n",
       " 'i will explore sweden next semester': {'travel': 0.9911717772483826,\n",
       "  'cooking': 0.00020078456145711243,\n",
       "  'dancing': 0.0032393524888902903,\n",
       "  'exploration': 0.9684410691261292},\n",
       " 'I love popping and locking!': {'travel': 0.0074744801968336105,\n",
       "  'cooking': 0.17265444993972778,\n",
       "  'dancing': 0.22573687136173248,\n",
       "  'exploration': 0.7612733244895935}}"
      ]
     },
     "execution_count": 39,
     "metadata": {},
     "output_type": "execute_result"
    }
   ],
   "source": [
    "categories_classification_function(bart_mnli_classifier, candidate_possible_labels, sequences_list, sort_output=0)"
   ]
  },
  {
   "cell_type": "code",
   "execution_count": 63,
   "metadata": {},
   "outputs": [
    {
     "data": {
      "text/plain": [
       "{'travel': {'one day i will see the world': 0.994157612323761,\n",
       "  'i will explore sweden next semester': 0.9911717772483826},\n",
       " 'cooking': {},\n",
       " 'dancing': {},\n",
       " 'exploration': {'one day i will see the world': 0.92877596616745,\n",
       "  'i will explore sweden next semester': 0.9684410691261292,\n",
       "  'I love popping and locking!': 0.7612733244895935}}"
      ]
     },
     "execution_count": 63,
     "metadata": {},
     "output_type": "execute_result"
    }
   ],
   "source": [
    "categories_classification_additional_resort_function(categories_classification_function(bart_mnli_classifier, candidate_possible_labels, sequences_list, sort_output=0), candidate_possible_labels, sort_output=0, top_many=5, limit_value=0.5)"
   ]
  },
  {
   "cell_type": "code",
   "execution_count": 191,
   "metadata": {},
   "outputs": [
    {
     "name": "stdout",
     "output_type": "stream",
     "text": [
      "Category: travel\n",
      "one day i will see the world                                     : 0.99416\n",
      "i will explore sweden next semester                              : 0.99117\n",
      "I love popping and locking!                                      : 0.0074745\n",
      "\n",
      "Category: cooking\n",
      "one day i will see the world                                     : 0.0016606\n",
      "i will explore sweden next semester                              : 0.00020078\n",
      "I love popping and locking!                                      : 0.17265\n",
      "\n",
      "Category: dancing\n",
      "one day i will see the world                                     : 0.0053618\n",
      "i will explore sweden next semester                              : 0.0032394\n",
      "I love popping and locking!                                      : 0.22574\n",
      "\n",
      "Category: exploration\n",
      "one day i will see the world                                     : 0.92878\n",
      "i will explore sweden next semester                              : 0.96844\n",
      "I love popping and locking!                                      : 0.76127\n",
      "\n"
     ]
    }
   ],
   "source": [
    "categories_classification_resorted_result_display(categories_classification_additional_resort_function(categories_classification_function(bart_mnli_classifier, candidate_possible_labels, sequences_list, sort_output=-1), candidate_possible_labels, sort_output=0, top_many=5, limit_value=0.5),sort_display=0, top_many=-1, limit_value=-1)"
   ]
  },
  {
   "cell_type": "code",
   "execution_count": 40,
   "metadata": {},
   "outputs": [
    {
     "data": {
      "text/plain": [
       "{'one day i will see the world': {'cooking': 0.0016605753917247057,\n",
       "  'dancing': 0.005361784249544144,\n",
       "  'exploration': 0.92877596616745,\n",
       "  'travel': 0.994157612323761},\n",
       " 'i will explore sweden next semester': {'cooking': 0.00020078456145711243,\n",
       "  'dancing': 0.0032393524888902903,\n",
       "  'exploration': 0.9684410691261292,\n",
       "  'travel': 0.9911717772483826},\n",
       " 'I love popping and locking!': {'travel': 0.0074744801968336105,\n",
       "  'cooking': 0.17265444993972778,\n",
       "  'dancing': 0.22573687136173248,\n",
       "  'exploration': 0.7612733244895935}}"
      ]
     },
     "execution_count": 40,
     "metadata": {},
     "output_type": "execute_result"
    }
   ],
   "source": [
    "categories_classification_function(bart_mnli_classifier, candidate_possible_labels, sequences_list, sort_output=1)"
   ]
  },
  {
   "cell_type": "code",
   "execution_count": 62,
   "metadata": {},
   "outputs": [
    {
     "data": {
      "text/plain": [
       "{'travel': {'i will explore sweden next semester': 0.9911717772483826,\n",
       "  'one day i will see the world': 0.994157612323761},\n",
       " 'cooking': {},\n",
       " 'dancing': {},\n",
       " 'exploration': {'I love popping and locking!': 0.7612733244895935,\n",
       "  'one day i will see the world': 0.92877596616745,\n",
       "  'i will explore sweden next semester': 0.9684410691261292}}"
      ]
     },
     "execution_count": 62,
     "metadata": {},
     "output_type": "execute_result"
    }
   ],
   "source": [
    "categories_classification_additional_resort_function(categories_classification_function(bart_mnli_classifier, candidate_possible_labels, sequences_list, sort_output=1), candidate_possible_labels, sort_output=1, top_many=5, limit_value=0.5)"
   ]
  },
  {
   "cell_type": "code",
   "execution_count": 192,
   "metadata": {},
   "outputs": [
    {
     "name": "stdout",
     "output_type": "stream",
     "text": [
      "Category: travel\n",
      "I love popping and locking!                                      : 0.0074745\n",
      "\n",
      "Category: cooking\n",
      "i will explore sweden next semester                              : 0.00020078\n",
      "one day i will see the world                                     : 0.0016606\n",
      "I love popping and locking!                                      : 0.17265\n",
      "\n",
      "Category: dancing\n",
      "i will explore sweden next semester                              : 0.0032394\n",
      "one day i will see the world                                     : 0.0053618\n",
      "I love popping and locking!                                      : 0.22574\n",
      "\n",
      "Category: exploration\n",
      "\n"
     ]
    }
   ],
   "source": [
    "categories_classification_resorted_result_display(categories_classification_additional_resort_function(categories_classification_function(bart_mnli_classifier, candidate_possible_labels, sequences_list, sort_output=-1), candidate_possible_labels, sort_output=1, top_many=5, limit_value=0.5),sort_display=1, top_many=-1, limit_value=-1)"
   ]
  },
  {
   "cell_type": "code",
   "execution_count": 97,
   "metadata": {},
   "outputs": [],
   "source": [
    "def split_and_classify(split_embed_function, classify_function, candidate_possible_labels, sentence_text, intermediate = False, graph = False, multi_label=True, sort_classify = 0, additional_resort = True, display_split = True , display_end = True, sort_display = 0):\n",
    "    splitted_sentence_text = semantic_segmentation_function(embedding_model_function=split_embed_function, sentence_text=sentence_text, intermediate_status=intermediate, graph_status=graph)\n",
    "    if display_split:\n",
    "        print(f\"Splitted texts: {splitted_sentence_text}\")\n",
    "    classification_result = categories_classification_function(classification_model_function=classify_function, categories_candidate_labels=candidate_possible_labels, texts=splitted_sentence_text, multi_label=multi_label, sort_output=sort_classify)\n",
    "    if additional_resort:\n",
    "        resorted_classification_result = categories_classification_additional_resort_function(seq_classified_dictionary=classification_result, categories_candidate_labels=candidate_possible_labels, sort_output=sort_classify, top_many=-1, limit_value=0)\n",
    "    if display_end:\n",
    "        display_usage_resorted_classification_result = categories_classification_additional_resort_function(seq_classified_dictionary=classification_result, categories_candidate_labels=candidate_possible_labels, sort_output=0, top_many=-1, limit_value=-1)\n",
    "        categories_classification_resorted_result_display(classification_resorted_dictionary_result=display_usage_resorted_classification_result, sort_display=sort_display, top_many=-1, limit_value=-1)\n",
    "    if additional_resort:\n",
    "        return splitted_sentence_text, resorted_classification_result\n",
    "    return splitted_sentence_text, classification_result\n",
    "\n",
    "def split_and_classify_top_limit(split_embed_function, classify_function, candidate_possible_labels, sentence_text, intermediate = False, graph = False, multi_label=True, sort_classify = 0, additional_resort = True, display_split = True , display_end = True, sort_display = 0, top_many=5, limit_value=0.5):\n",
    "    splitted_sentence_text = semantic_segmentation_function(embedding_model_function=split_embed_function, sentence_text=sentence_text, intermediate_status=intermediate, graph_status=graph)\n",
    "    if display_split:\n",
    "        print(f\"Splitted texts: {splitted_sentence_text}\")\n",
    "    classification_result = categories_classification_function(classification_model_function=classify_function, categories_candidate_labels=candidate_possible_labels, texts=splitted_sentence_text, multi_label=multi_label, sort_output=sort_classify)\n",
    "    if additional_resort:\n",
    "        resorted_classification_result = categories_classification_additional_resort_function(seq_classified_dictionary=classification_result, categories_candidate_labels=candidate_possible_labels, sort_output=sort_classify, top_many=top_many, limit_value=limit_value)\n",
    "    if display_end:\n",
    "        display_usage_resorted_classification_result = categories_classification_additional_resort_function(seq_classified_dictionary=classification_result, categories_candidate_labels=candidate_possible_labels, sort_output=0, top_many=-1, limit_value=-1)\n",
    "        categories_classification_resorted_result_display(classification_resorted_dictionary_result=display_usage_resorted_classification_result, sort_display=sort_display, top_many=top_many, limit_value=limit_value)\n",
    "    if additional_resort:\n",
    "        return splitted_sentence_text, resorted_classification_result\n",
    "    return splitted_sentence_text, classification_result"
   ]
  },
  {
   "cell_type": "code",
   "execution_count": 49,
   "metadata": {},
   "outputs": [
    {
     "data": {
      "text/plain": [
       "['Passage provided for business purpose',\n",
       " 'Air tickets for business trip',\n",
       " 'Air tickets for work purposes',\n",
       " 'Flight for business trip',\n",
       " 'Flight for work purposes',\n",
       " 'Travel incidental to employment',\n",
       " 'Passage provided when taking up employment and upon termination',\n",
       " 'Air tickets back to home country after contract end',\n",
       " 'Air tickets back to home country after termination of employment',\n",
       " 'Air tickets to work in Singapore',\n",
       " 'Flight back to home country after contract end',\n",
       " 'Flight back to home country after termination of employment',\n",
       " 'Flight to work in Singapore',\n",
       " 'Home leave passage',\n",
       " 'Air passage benefit',\n",
       " 'Air tickets to home country',\n",
       " 'Flight to home country']"
      ]
     },
     "execution_count": 49,
     "metadata": {},
     "output_type": "execute_result"
    }
   ],
   "source": [
    "new_temp_l = []\n",
    "for i,j in cat_wsub_demo.items():\n",
    "    new_temp_l.append(i)\n",
    "    for k in j:\n",
    "        new_temp_l.append(k)\n",
    "new_temp_l"
   ]
  },
  {
   "cell_type": "code",
   "execution_count": 57,
   "metadata": {},
   "outputs": [
    {
     "data": {
      "text/plain": [
       "['Passage provided for business purpose',\n",
       " 'Passage provided when taking up employment and upon termination',\n",
       " 'Home leave passage']"
      ]
     },
     "execution_count": 57,
     "metadata": {},
     "output_type": "execute_result"
    }
   ],
   "source": [
    "new_temp_l_cat = list(cat_wsub_demo.keys())\n",
    "new_temp_l_cat"
   ]
  },
  {
   "cell_type": "code",
   "execution_count": 102,
   "metadata": {},
   "outputs": [
    {
     "name": "stdout",
     "output_type": "stream",
     "text": [
      "Splitted texts: ['Employees receive free flight benefits', 'to return to home country once', 'a year and', 'free flight benefits for business trips']\n",
      "Category: Passage provided for business purpose\n",
      "Employees receive free flight benefits : 0.964426577091217\n",
      "to return to home country once : 0.13720235228538513\n",
      "a year and : 0.5728473663330078\n",
      "free flight benefits for business trips : 0.9442800283432007\n",
      "\n",
      "Category: Passage provided when taking up employment and upon termination\n",
      "Employees receive free flight benefits : 0.48903337121009827\n",
      "to return to home country once : 0.06560046970844269\n",
      "a year and : 0.2950785160064697\n",
      "free flight benefits for business trips : 0.010641817934811115\n",
      "\n",
      "Category: Home leave passage\n",
      "Employees receive free flight benefits : 0.49825218319892883\n",
      "to return to home country once : 0.9193651676177979\n",
      "a year and : 0.12018565833568573\n",
      "free flight benefits for business trips : 0.07301679998636246\n",
      "\n"
     ]
    },
    {
     "data": {
      "text/plain": [
       "(['Employees receive free flight benefits',\n",
       "  'to return to home country once',\n",
       "  'a year and',\n",
       "  'free flight benefits for business trips'],\n",
       " {'Passage provided for business purpose': {'Employees receive free flight benefits': 0.964426577091217,\n",
       "   'free flight benefits for business trips': 0.9442800283432007,\n",
       "   'a year and': 0.5728473663330078,\n",
       "   'to return to home country once': 0.13720235228538513},\n",
       "  'Passage provided when taking up employment and upon termination': {'Employees receive free flight benefits': 0.48903337121009827,\n",
       "   'a year and': 0.2950785160064697,\n",
       "   'to return to home country once': 0.06560046970844269,\n",
       "   'free flight benefits for business trips': 0.010641817934811115},\n",
       "  'Home leave passage': {'to return to home country once': 0.9193651676177979,\n",
       "   'Employees receive free flight benefits': 0.49825218319892883,\n",
       "   'a year and': 0.12018565833568573,\n",
       "   'free flight benefits for business trips': 0.07301679998636246}})"
      ]
     },
     "execution_count": 102,
     "metadata": {},
     "output_type": "execute_result"
    }
   ],
   "source": [
    "split_and_classify(get_sentence_embedding_MiniLM_L6_v2, bart_mnli_classifier, new_temp_l_cat, hlp_biz_demo, sort_classify=-1)"
   ]
  },
  {
   "cell_type": "code",
   "execution_count": 106,
   "metadata": {},
   "outputs": [
    {
     "name": "stdout",
     "output_type": "stream",
     "text": [
      "Splitted texts: ['Employees receive free flight benefits', 'to return to home country once', 'a year and', 'free flight benefits for business trips']\n",
      "Category: Passage provided for business purpose\n",
      "Employees receive free flight benefits : 0.964426577091217\n",
      "to return to home country once : 0.13720235228538513\n",
      "a year and : 0.5728473663330078\n",
      "free flight benefits for business trips : 0.9442800283432007\n",
      "\n",
      "Category: Passage provided when taking up employment and upon termination\n",
      "Employees receive free flight benefits : 0.48903337121009827\n",
      "to return to home country once : 0.06560046970844269\n",
      "a year and : 0.2950785160064697\n",
      "free flight benefits for business trips : 0.010641817934811115\n",
      "\n",
      "Category: Home leave passage\n",
      "Employees receive free flight benefits : 0.49825218319892883\n",
      "to return to home country once : 0.9193651676177979\n",
      "a year and : 0.12018565833568573\n",
      "free flight benefits for business trips : 0.07301679998636246\n",
      "\n"
     ]
    }
   ],
   "source": [
    "split_and_classify_top_limit(get_sentence_embedding_MiniLM_L6_v2, bart_mnli_classifier, new_temp_l_cat, hlp_biz_demo, display_end=True, sort_classify=-1, top_many=3, limit_value=-1)\n",
    "pass\n"
   ]
  },
  {
   "cell_type": "code",
   "execution_count": 108,
   "metadata": {},
   "outputs": [
    {
     "name": "stdout",
     "output_type": "stream",
     "text": [
      "Splitted texts: ['Employees receive free flight benefits', 'to return to home country once', 'a year and', 'free flight benefits for business trips']\n",
      "Category: Passage provided for business purpose\n",
      "Employees receive free flight benefits : 0.964426577091217\n",
      "free flight benefits for business trips : 0.9442800283432007\n",
      "\n",
      "Category: Passage provided when taking up employment and upon termination\n",
      "Employees receive free flight benefits : 0.48903337121009827\n",
      "\n",
      "Category: Home leave passage\n",
      "to return to home country once : 0.9193651676177979\n",
      "Employees receive free flight benefits : 0.49825218319892883\n",
      "\n"
     ]
    }
   ],
   "source": [
    "split_and_classify_top_limit(get_sentence_embedding_MiniLM_L6_v2, bart_mnli_classifier, new_temp_l_cat, hlp_biz_demo, display_end=True, sort_classify=-1, sort_display=-1, top_many=2, limit_value=0.45)\n",
    "pass"
   ]
  },
  {
   "cell_type": "code",
   "execution_count": 236,
   "metadata": {},
   "outputs": [],
   "source": [
    "def categories_classification_additional_resort_cleaning_function(classification_resorted_dictionary_result, get_list = False, top_many_cat = 3, limit_value = 0.5):\n",
    "    #return dict(list(dict(sorted(list(classification_resorted_dictionary_result.items()), key=lambda tuple_value_dict: list(tuple_value_dict[1].values())[0], reverse=True)).items())[:top_many_cat])\n",
    "    cleaned_classification_resorted_dictionary_result = {}\n",
    "    for label, seq_pred_dict in classification_resorted_dictionary_result.items():\n",
    "        ## the \"if\" part and the \"for\" part is done so that if seq_pred_dict.items() is empty, then next(iter()) wont crash if solely use it!!\n",
    "        \"\"\"\n",
    "        if len(seq_pred_dict) > 0:\n",
    "            cleaned_classification_resorted_dictionary_result[label] = next(iter(seq_pred_dict.items()))\n",
    "        \"\"\"\n",
    "        for seq, pred in seq_pred_dict.items():\n",
    "            cleaned_classification_resorted_dictionary_result[label] = (seq, pred)\n",
    "        ### if label dont have any that fits limit_value restriction, then the label wont appear in the dict at the end!!, not in this version at least!!!\n",
    "    cleaned_classification_resorted_dictionary_result = dict(sorted(cleaned_classification_resorted_dictionary_result.items(), key=lambda dict_item: dict_item[1][1], reverse=True))\n",
    "    if get_list:\n",
    "        return list(cleaned_classification_resorted_dictionary_result.items())[:top_many_cat]\n",
    "    return dict(list(cleaned_classification_resorted_dictionary_result.items())[:top_many_cat])\n",
    "\n",
    "\n",
    "def cleaned_categories_classification_resorted_result_display(cleaned_classification_resorted_result, get_list):\n",
    "    if get_list:\n",
    "        for label, seq_pred_tuple in cleaned_classification_resorted_result:\n",
    "            print(f\"Category: {label}\")\n",
    "            print(f\"{seq_pred_tuple[0]:65.65}: {seq_pred_tuple[1]:.5}\")\n",
    "            print()\n",
    "    else:\n",
    "        for label, seq_pred_tuple in cleaned_classification_resorted_result.items():\n",
    "            print(f\"Category: {label}\")\n",
    "            print(f\"{seq_pred_tuple[0]:65.65}: {seq_pred_tuple[1]:.5}\")\n",
    "            print()\n",
    "\n",
    "\n",
    "def split_and_classify_top_limit_cleaned(split_embed_function, classify_function, candidate_possible_labels, sentence_text, intermediate = False, graph = False, multi_label=True, get_list = False, display_split = True , display_end = True, top_many_cat=3, limit_value=0.5, extra_clean_output=False):\n",
    "    splitted_sentence_text = semantic_segmentation_function(embedding_model_function=split_embed_function, sentence_text=sentence_text, intermediate_status=intermediate, graph_status=graph)\n",
    "    if display_split:\n",
    "        print(f\"Splitted texts: {splitted_sentence_text}\")\n",
    "    classification_result = categories_classification_function(classification_model_function=classify_function, categories_candidate_labels=candidate_possible_labels, texts=splitted_sentence_text, multi_label=multi_label)\n",
    "    resorted_classification_result = categories_classification_additional_resort_function(seq_classified_dictionary=classification_result, categories_candidate_labels=candidate_possible_labels, sort_output=-1, top_many=1, limit_value=limit_value) # the sort_output = -1 and top_many = 1 is both impt!!!\n",
    "    cleaned_classification_resorted_result = categories_classification_additional_resort_cleaning_function(classification_resorted_dictionary_result=resorted_classification_result, get_list=get_list, top_many_cat=top_many_cat, limit_value=limit_value)\n",
    "\n",
    "    if display_end:\n",
    "        cleaned_categories_classification_resorted_result_display(cleaned_classification_resorted_result=cleaned_classification_resorted_result, get_list=get_list)\n",
    "        \n",
    "    if extra_clean_output:\n",
    "        if get_list:\n",
    "            return splitted_sentence_text, [(category_label, seq_pred_tuple[1]) for category_label, seq_pred_tuple in cleaned_classification_resorted_result]\n",
    "        else:\n",
    "            return splitted_sentence_text, {category_label:seq_pred_tuple[1] for category_label, seq_pred_tuple in cleaned_classification_resorted_result.items()}\n",
    "    return splitted_sentence_text, cleaned_classification_resorted_result"
   ]
  },
  {
   "cell_type": "code",
   "execution_count": 154,
   "metadata": {},
   "outputs": [
    {
     "data": {
      "text/plain": [
       "{'travel': ('one day i will see the world', 0.994157612323761),\n",
       " 'exploration': ('i will explore sweden next semester', 0.9684410691261292),\n",
       " 'dancing': ('I love popping and locking!', 0.22573687136173248)}"
      ]
     },
     "execution_count": 154,
     "metadata": {},
     "output_type": "execute_result"
    }
   ],
   "source": [
    "## the sort_output = -1 and top_many = 1 is both impt!!!\n",
    "limit_value = 0.1\n",
    "top_many_cat = 3\n",
    "get_list = False\n",
    "categories_classification_additional_resort_cleaning_function(classification_resorted_dictionary_result=categories_classification_additional_resort_function(categories_classification_function(bart_mnli_classifier, candidate_possible_labels, sequences_list, sort_output=-1), candidate_possible_labels, sort_output=-1, top_many=1, limit_value=limit_value), get_list=get_list, top_many_cat=top_many_cat, limit_value=limit_value)"
   ]
  },
  {
   "cell_type": "code",
   "execution_count": 155,
   "metadata": {},
   "outputs": [
    {
     "name": "stdout",
     "output_type": "stream",
     "text": [
      "Category: travel\n",
      "one day i will see the world: 0.994157612323761\n",
      "\n",
      "Category: exploration\n",
      "i will explore sweden next semester: 0.9684410691261292\n",
      "\n"
     ]
    }
   ],
   "source": [
    "limit_value = 0.1\n",
    "top_many_cat = 2\n",
    "get_list = True\n",
    "cleaned_categories_classification_resorted_result_display(cleaned_classification_resorted_result=categories_classification_additional_resort_cleaning_function(classification_resorted_dictionary_result=categories_classification_additional_resort_function(categories_classification_function(bart_mnli_classifier, candidate_possible_labels, sequences_list, sort_output=-1), candidate_possible_labels, sort_output=-1, top_many=1, limit_value=limit_value), get_list=get_list, top_many_cat=top_many_cat, limit_value=limit_value), get_list=get_list)\n"
   ]
  },
  {
   "cell_type": "code",
   "execution_count": 187,
   "metadata": {},
   "outputs": [
    {
     "name": "stdout",
     "output_type": "stream",
     "text": [
      "Splitted texts: ['Employees receive free flight benefits', 'to return to home country once', 'a year and', 'free flight benefits for business trips']\n",
      "Category: Passage provided for business purpose\n",
      "Employees receive free flight benefits                           : 0.96443\n",
      "\n",
      "Category: Home leave passage\n",
      "to return to home country once                                   : 0.91937\n",
      "\n"
     ]
    },
    {
     "data": {
      "text/plain": [
       "(['Employees receive free flight benefits',\n",
       "  'to return to home country once',\n",
       "  'a year and',\n",
       "  'free flight benefits for business trips'],\n",
       " [('Passage provided for business purpose',\n",
       "   ('Employees receive free flight benefits', 0.964426577091217)),\n",
       "  ('Home leave passage',\n",
       "   ('to return to home country once', 0.9193651676177979))])"
      ]
     },
     "execution_count": 187,
     "metadata": {},
     "output_type": "execute_result"
    }
   ],
   "source": [
    "split_and_classify_top_limit_cleaned(get_sentence_embedding_MiniLM_L6_v2, bart_mnli_classifier, new_temp_l_cat, hlp_biz_demo, display_end=True, get_list=True, top_many_cat=2, limit_value=0.5)"
   ]
  },
  {
   "cell_type": "code",
   "execution_count": 237,
   "metadata": {},
   "outputs": [
    {
     "name": "stdout",
     "output_type": "stream",
     "text": [
      "Splitted texts: ['Employees receive free flight benefits', 'to return to home country once', 'a year and', 'free flight benefits for business trips']\n",
      "Category: Passage provided for business purpose\n",
      "Employees receive free flight benefits                           : 0.96443\n",
      "\n",
      "Category: Home leave passage\n",
      "to return to home country once                                   : 0.91937\n",
      "\n"
     ]
    },
    {
     "data": {
      "text/plain": [
       "(['Employees receive free flight benefits',\n",
       "  'to return to home country once',\n",
       "  'a year and',\n",
       "  'free flight benefits for business trips'],\n",
       " {'Passage provided for business purpose': 0.964426577091217,\n",
       "  'Home leave passage': 0.9193651676177979})"
      ]
     },
     "execution_count": 237,
     "metadata": {},
     "output_type": "execute_result"
    }
   ],
   "source": [
    "split_and_classify_top_limit_cleaned(get_sentence_embedding_MiniLM_L6_v2, bart_mnli_classifier, new_temp_l_cat, hlp_biz_demo, display_end=True, get_list=False, top_many_cat=2, limit_value=0.5, extra_clean_output=True)"
   ]
  },
  {
   "cell_type": "code",
   "execution_count": null,
   "metadata": {},
   "outputs": [],
   "source": []
  },
  {
   "cell_type": "code",
   "execution_count": null,
   "metadata": {},
   "outputs": [],
   "source": []
  },
  {
   "cell_type": "code",
   "execution_count": 229,
   "metadata": {},
   "outputs": [],
   "source": [
    "def categories_wsub_similarity_comparison_resort_function(categories_wsub_similarity_comparison_result_dict, get_inner_list = False, sort_within_cat=0, top_many_wsub = 3, limit_value = 0.5):\n",
    "    resorted_categories_wsub_similarity_comparison_dict = {}\n",
    "    if limit_value < 0:\n",
    "        if sort_within_cat == -1:\n",
    "            limit_value = 0\n",
    "        if sort_within_cat == 0:\n",
    "            limit_value = None\n",
    "        if sort_within_cat == 1:\n",
    "            limit_value = 1\n",
    "    \n",
    "    if get_inner_list:\n",
    "        for category, sub_syn_cat_dict in categories_wsub_similarity_comparison_result_dict.items():\n",
    "            resorted_categories_wsub_similarity_comparison_dict[category] = []\n",
    "            for sub_syn_cat_text_tuple_pred_dict in sub_syn_cat_dict.values():\n",
    "                for sub_syn_cat_text_tuple, pred in sub_syn_cat_text_tuple_pred_dict.items():\n",
    "                    if sort_within_cat == 0 or (sort_within_cat == -1 and pred >= limit_value) or (sort_within_cat == 1 and pred <= limit_value):    \n",
    "                        resorted_categories_wsub_similarity_comparison_dict[category].append((sub_syn_cat_text_tuple, pred))\n",
    "        # sorting below is within a category itself\n",
    "        for category, comparison_tuple_pred_tuple in resorted_categories_wsub_similarity_comparison_dict.items():\n",
    "            if sort_within_cat == -1:\n",
    "                resorted_categories_wsub_similarity_comparison_dict[category] = list(sorted(comparison_tuple_pred_tuple, key= lambda tuple_item: tuple_item[1], reverse=True))[:top_many_wsub]\n",
    "            if sort_within_cat == 0:\n",
    "                resorted_categories_wsub_similarity_comparison_dict[category] = list(comparison_tuple_pred_tuple)[:top_many_wsub]\n",
    "            if sort_within_cat == 1:\n",
    "                resorted_categories_wsub_similarity_comparison_dict[category] = list(sorted(comparison_tuple_pred_tuple, key= lambda tuple_item: tuple_item[1], reverse=False))[:top_many_wsub]\n",
    "        return resorted_categories_wsub_similarity_comparison_dict\n",
    "            \n",
    "    else:    \n",
    "        for category, sub_syn_cat_dict in categories_wsub_similarity_comparison_result_dict.items():\n",
    "            resorted_categories_wsub_similarity_comparison_dict[category] = {}\n",
    "            for sub_syn_cat_text_tuple_pred_dict in sub_syn_cat_dict.values():\n",
    "                for sub_syn_cat_text_tuple, pred in sub_syn_cat_text_tuple_pred_dict.items():\n",
    "                    if sort_within_cat == 0 or (sort_within_cat == -1 and pred >= limit_value) or (sort_within_cat == 1 and pred <= limit_value):    \n",
    "                        resorted_categories_wsub_similarity_comparison_dict[category][sub_syn_cat_text_tuple] = pred\n",
    "        # sorting below is within a category itself\n",
    "        for category, comparison_tuple_pred_dict in resorted_categories_wsub_similarity_comparison_dict.items():\n",
    "            if sort_within_cat == -1:\n",
    "                resorted_categories_wsub_similarity_comparison_dict[category] = dict(list(sorted(comparison_tuple_pred_dict.items(), key= lambda dict_item: dict_item[1], reverse=True))[:top_many_wsub])\n",
    "            if sort_within_cat == 0:\n",
    "                resorted_categories_wsub_similarity_comparison_dict[category] = dict(list(comparison_tuple_pred_dict.items())[:top_many_wsub])\n",
    "            if sort_within_cat == 1:\n",
    "                resorted_categories_wsub_similarity_comparison_dict[category] = dict(list(sorted(comparison_tuple_pred_dict.items(), key= lambda dict_item: dict_item[1], reverse=False))[:top_many_wsub])\n",
    "    return resorted_categories_wsub_similarity_comparison_dict\n",
    "\n",
    "def categories_wsub_similarity_comparison_resort_cleaning_function(resorted_categories_wsub_similarity_comparison_dict, get_inner_list = False, get_list = False, top_many_cat = 3):\n",
    "    resultant_cleaned_list = []\n",
    "    if get_inner_list:\n",
    "        for category, comparison_tuple_pred_pair_tuple_list in resorted_categories_wsub_similarity_comparison_dict.items():\n",
    "            for comparison_tuple, pred in comparison_tuple_pred_pair_tuple_list:\n",
    "                resultant_cleaned_list.append((category, (comparison_tuple, pred)))\n",
    "    else:\n",
    "        for category, comparison_tuple_pred_pair_dict in resorted_categories_wsub_similarity_comparison_dict.items():\n",
    "            for comparison_tuple, pred in comparison_tuple_pred_pair_dict.items():\n",
    "                resultant_cleaned_list.append((category, (comparison_tuple, pred)))\n",
    "    \"\"\"\n",
    "    # sort_cats args gone!! since cleaning is for top many, so no point giving option here, just restrict to just most to least!!\n",
    "    if sort_cats == -1:\n",
    "        sorted_resultant_cleaned_list = list(sorted(resultant_cleaned_list, key=lambda list_element: list_element[1][1], reverse=True))\n",
    "    if sort_cats == 0:\n",
    "        sorted_resultant_cleaned_list = resultant_cleaned_list\n",
    "    if sort_cats == 1:\n",
    "        sorted_resultant_cleaned_list = list(sorted(resultant_cleaned_list, key=lambda list_element: list_element[1][1], reverse=False))\n",
    "    \"\"\"\n",
    "    sorted_resultant_cleaned_list = list(sorted(resultant_cleaned_list, key=lambda list_element: list_element[1][1], reverse=True))[:top_many_cat]\n",
    "    if get_list:\n",
    "        return sorted_resultant_cleaned_list\n",
    "    \"\"\"\n",
    "    # for this to work with getting back a dict, which is sorted correctly, the \"top_many_wsub\" argument in previous function need to be 1\n",
    "    ## if not, very wonky, since category as key means \"top_many_cat\" has to be <= number of category, else weird, and if \"top_many_wsub\" is not 1, the method below not so direct, need to ensure only add to dict once, and if category added then no more replacement!\n",
    "    ### a possible alternative but unpreferred, so just keep \"top_many_wsub\" at 1 if following into this function!!\n",
    "    \n",
    "    sorted_resultant_cleaned_list_dict = {}\n",
    "    for cat, tuple_pair in sorted_resultant_cleaned_list:\n",
    "        if cat not in sorted_resultant_cleaned_list_dict:\n",
    "            sorted_resultant_cleaned_list_dict[cat] = tuple_pair\n",
    "    return sorted_resultant_cleaned_list_dict\n",
    "    \"\"\"\n",
    "    return dict(sorted_resultant_cleaned_list)\n",
    "    \n",
    "def cleaned_categories_wsub_similarity_comparison_resorted_result_display(cleaned_resorted_compare_result, get_list):\n",
    "    if get_list:\n",
    "        for label, comparison_tuple_pred_pair_tuple in cleaned_resorted_compare_result:\n",
    "            print(f\"Category: {label}\")\n",
    "            print(f\"{comparison_tuple_pred_pair_tuple[0][0]:30.30} /-/ {comparison_tuple_pred_pair_tuple[0][1]:30.30}: {comparison_tuple_pred_pair_tuple[1]:.5}\")\n",
    "            print()\n",
    "    else:\n",
    "        for label, comparison_tuple_pred_pair_tuple in cleaned_resorted_compare_result.items():\n",
    "            print(f\"Category: {label}\")\n",
    "            print(f\"{comparison_tuple_pred_pair_tuple[0][0]:30.30} /-/ {comparison_tuple_pred_pair_tuple[0][1]:30.30}: {comparison_tuple_pred_pair_tuple[1]:.5}\")\n",
    "            print()\n",
    "\n",
    "def split_and_compare_wsub_top_limit_cleaned(split_embed_function, compare_embed_function, categories_wsub, sentence_text, intermediate = False, graph = False, sort_compare = 0, get_inner_list = False, get_list = False, display_split = True , display_end = True, top_many_cat = 3, limit_value = 0.5, extra_clean_output=False):\n",
    "    splitted_sentence_text = semantic_segmentation_function(embedding_model_function=split_embed_function, sentence_text=sentence_text, intermediate_status=intermediate, graph_status=graph)\n",
    "    if display_split:\n",
    "        print(f\"Splitted texts: {splitted_sentence_text}\")\n",
    "    compare_result = categories_wsub_similarity_comparison_function(embedding_model_function=compare_embed_function, categories_wsub_dict=categories_wsub, texts=splitted_sentence_text, sort_output=sort_compare)\n",
    "    resorted_compare_result = categories_wsub_similarity_comparison_resort_function(categories_wsub_similarity_comparison_result_dict=compare_result, get_inner_list=get_inner_list, sort_within_cat=-1, top_many_wsub=1, limit_value=limit_value) ## sort_within_cat=-1, top_many_wsub=1 are both need!! for the purpose of this cleaning up function part!!\n",
    "    cleaned_resorted_compare_result = categories_wsub_similarity_comparison_resort_cleaning_function(resorted_categories_wsub_similarity_comparison_dict=resorted_compare_result, get_inner_list=get_inner_list, get_list=get_list, top_many_cat=top_many_cat)\n",
    "    if display_end:\n",
    "        cleaned_categories_wsub_similarity_comparison_resorted_result_display(cleaned_resorted_compare_result, get_list=get_list)\n",
    "    if extra_clean_output:\n",
    "        if get_list:\n",
    "            return splitted_sentence_text, [(category, compare_sim_tuple[1]) for category, compare_sim_tuple in cleaned_resorted_compare_result]\n",
    "        else:\n",
    "            return splitted_sentence_text, {category:compare_sim_tuple[1] for category, compare_sim_tuple in cleaned_resorted_compare_result.items()}\n",
    "    return splitted_sentence_text, cleaned_resorted_compare_result"
   ]
  },
  {
   "cell_type": "code",
   "execution_count": 231,
   "metadata": {},
   "outputs": [
    {
     "name": "stdout",
     "output_type": "stream",
     "text": [
      "Splitted texts: ['Employees receive free flight benefits', 'to return to home country once', 'a year and', 'free flight benefits for business trips']\n",
      "Category: Passage provided for business purpose\n",
      "free flight benefits for busin /-/ Flight for business trip      : 0.75365\n",
      "\n",
      "Category: Home leave passage\n",
      "to return to home country once /-/ Flight to home country        : 0.66566\n",
      "\n"
     ]
    },
    {
     "data": {
      "text/plain": [
       "(['Employees receive free flight benefits',\n",
       "  'to return to home country once',\n",
       "  'a year and',\n",
       "  'free flight benefits for business trips'],\n",
       " [('Passage provided for business purpose', 0.7536517813135932),\n",
       "  ('Home leave passage', 0.6656597017594097)])"
      ]
     },
     "execution_count": 231,
     "metadata": {},
     "output_type": "execute_result"
    }
   ],
   "source": [
    "split_and_compare_wsub_top_limit_cleaned(get_sentence_embedding_MiniLM_L6_v2, get_sentence_embedding_MiniLM_L6_v2, cat_wsub_demo, hlp_biz_demo, display_end=True, get_inner_list=False, get_list=True, top_many_cat=2, extra_clean_output=True)"
   ]
  },
  {
   "cell_type": "code",
   "execution_count": 196,
   "metadata": {},
   "outputs": [],
   "source": [
    "splitted_sentence_text = ['Employees receive free flight benefits', 'to return to home country once', 'a year and', 'free flight benefits for business trips']"
   ]
  },
  {
   "cell_type": "code",
   "execution_count": null,
   "metadata": {},
   "outputs": [],
   "source": [
    "categories_wsub_similarity_comparison_function(get_sentence_embedding_MiniLM_L6_v2, categories_wsub_dict=cat_wsub_demo, texts=splitted_sentence_text)"
   ]
  },
  {
   "cell_type": "code",
   "execution_count": 198,
   "metadata": {},
   "outputs": [
    {
     "data": {
      "text/plain": [
       "{'Passage provided for business purpose': [(('a year and',\n",
       "    'Air tickets for work purposes'),\n",
       "   0.03580521225597774),\n",
       "  (('a year and', 'Air tickets for business trip'), 0.0504765864001799),\n",
       "  (('a year and', 'Passage provided for business purpose'),\n",
       "   0.06552286772996774)],\n",
       " 'Passage provided when taking up employment and upon termination': [(('a year and',\n",
       "    'Air tickets to work in Singapore'),\n",
       "   0.030742087031399204),\n",
       "  (('a year and',\n",
       "    'Air tickets back to home country after termination of employment'),\n",
       "   0.05293060206713229),\n",
       "  (('a year and',\n",
       "    'Flight back to home country after termination of employment'),\n",
       "   0.0552523757358474)],\n",
       " 'Home leave passage': [(('a year and', 'Air tickets to home country'),\n",
       "   0.056946677215592184),\n",
       "  (('a year and', 'Air passage benefit'), 0.06636109112551498)]}"
      ]
     },
     "execution_count": 198,
     "metadata": {},
     "output_type": "execute_result"
    }
   ],
   "source": [
    "get_inner_list = True\n",
    "sort_within_cat = 1\n",
    "top_many_wsub = 3\n",
    "limit_value = 0.07\n",
    "\n",
    "categories_wsub_similarity_comparison_resort_function(categories_wsub_similarity_comparison_result_dict=categories_wsub_similarity_comparison_function(get_sentence_embedding_MiniLM_L6_v2, categories_wsub_dict=cat_wsub_demo, texts=splitted_sentence_text), get_inner_list=get_inner_list, sort_within_cat=sort_within_cat, top_many_wsub=top_many_wsub, limit_value=limit_value)"
   ]
  },
  {
   "cell_type": "code",
   "execution_count": 215,
   "metadata": {},
   "outputs": [
    {
     "data": {
      "text/plain": [
       "{'Passage provided for business purpose': (('free flight benefits for business trips',\n",
       "   'Flight for business trip'),\n",
       "  0.7536517813135932),\n",
       " 'Home leave passage': (('to return to home country once',\n",
       "   'Flight to home country'),\n",
       "  0.6656597017594097)}"
      ]
     },
     "execution_count": 215,
     "metadata": {},
     "output_type": "execute_result"
    }
   ],
   "source": [
    "get_inner_list = True\n",
    "sort_within_cat = -1\n",
    "top_many_wsub = 1\n",
    "limit_value = -1\n",
    "\n",
    "top_many_cat = 2\n",
    "get_list = False\n",
    "\n",
    "categories_wsub_similarity_comparison_resort_cleaning_function(resorted_categories_wsub_similarity_comparison_dict=categories_wsub_similarity_comparison_resort_function(categories_wsub_similarity_comparison_result_dict=categories_wsub_similarity_comparison_function(get_sentence_embedding_MiniLM_L6_v2, categories_wsub_dict=cat_wsub_demo, texts=splitted_sentence_text), get_inner_list=get_inner_list, sort_within_cat=sort_within_cat, top_many_wsub=top_many_wsub, limit_value=limit_value), get_inner_list=get_inner_list, get_list=get_list, top_many_cat=top_many_cat)\n"
   ]
  },
  {
   "cell_type": "code",
   "execution_count": 218,
   "metadata": {},
   "outputs": [
    {
     "name": "stdout",
     "output_type": "stream",
     "text": [
      "Category: Passage provided for business purpose\n",
      "free flight benefits for busin /-/ Flight for business trip      : 0.75365\n",
      "\n",
      "Category: Home leave passage\n",
      "to return to home country once /-/ Flight to home country        : 0.66566\n",
      "\n"
     ]
    }
   ],
   "source": [
    "get_inner_list = True\n",
    "sort_within_cat = -1\n",
    "top_many_wsub = 1\n",
    "limit_value = 0.6\n",
    "\n",
    "top_many_cat = 3\n",
    "get_list = True\n",
    "        \n",
    "cleaned_categories_wsub_similarity_comparison_resorted_result_display(categories_wsub_similarity_comparison_resort_cleaning_function(resorted_categories_wsub_similarity_comparison_dict=categories_wsub_similarity_comparison_resort_function(categories_wsub_similarity_comparison_result_dict=categories_wsub_similarity_comparison_function(get_sentence_embedding_MiniLM_L6_v2, categories_wsub_dict=cat_wsub_demo, texts=splitted_sentence_text), get_inner_list=get_inner_list, sort_within_cat=sort_within_cat, top_many_wsub=top_many_wsub, limit_value=limit_value), get_inner_list=get_inner_list, get_list=get_list, top_many_cat=top_many_cat), get_list=get_list)"
   ]
  },
  {
   "cell_type": "code",
   "execution_count": 217,
   "metadata": {},
   "outputs": [
    {
     "name": "stdout",
     "output_type": "stream",
     "text": [
      "Category: Passage provided for business purpose\n",
      "free flight benefits for busin /-/ Flight for business trip      : 0.75365\n",
      "\n",
      "Category: Home leave passage\n",
      "to return to home country once /-/ Flight to home country        : 0.66566\n",
      "\n",
      "Category: Passage provided when taking up employment and upon termination\n",
      "to return to home country once /-/ Flight back to home country af: 0.59888\n",
      "\n"
     ]
    }
   ],
   "source": [
    "get_inner_list = True\n",
    "sort_within_cat = -1\n",
    "top_many_wsub = 1\n",
    "limit_value = 0.5\n",
    "\n",
    "top_many_cat = 3\n",
    "get_list = True\n",
    "        \n",
    "cleaned_categories_wsub_similarity_comparison_resorted_result_display(categories_wsub_similarity_comparison_resort_cleaning_function(resorted_categories_wsub_similarity_comparison_dict=categories_wsub_similarity_comparison_resort_function(categories_wsub_similarity_comparison_result_dict=categories_wsub_similarity_comparison_function(get_sentence_embedding_MiniLM_L6_v2, categories_wsub_dict=cat_wsub_demo, texts=splitted_sentence_text), get_inner_list=get_inner_list, sort_within_cat=sort_within_cat, top_many_wsub=top_many_wsub, limit_value=limit_value), get_inner_list=get_inner_list, get_list=get_list, top_many_cat=top_many_cat), get_list=get_list)"
   ]
  },
  {
   "cell_type": "code",
   "execution_count": null,
   "metadata": {},
   "outputs": [],
   "source": []
  },
  {
   "cell_type": "code",
   "execution_count": 221,
   "metadata": {},
   "outputs": [
    {
     "name": "stdout",
     "output_type": "stream",
     "text": [
      "Splitted texts: ['Employees receive free flight benefits', 'to return to home country once', 'a year and', 'free flight benefits for business trips']\n",
      "Category: Passage provided for business purpose\n",
      "free flight benefits for busin /-/ Flight for business trip      : 0.75365\n",
      "\n",
      "Category: Home leave passage\n",
      "to return to home country once /-/ Flight to home country        : 0.66566\n",
      "\n"
     ]
    },
    {
     "data": {
      "text/plain": [
       "[('Passage provided for business purpose', 0.7536517813135932),\n",
       " ('Home leave passage', 0.6656597017594097)]"
      ]
     },
     "execution_count": 221,
     "metadata": {},
     "output_type": "execute_result"
    }
   ],
   "source": [
    "a, b = split_and_compare_wsub_top_limit_cleaned(get_sentence_embedding_MiniLM_L6_v2, get_sentence_embedding_MiniLM_L6_v2, cat_wsub_demo, hlp_biz_demo, display_end=True, get_inner_list=False, get_list=False, top_many_cat=2)\n",
    "[(bb,bbb[1]) for bb,bbb in b.items()]"
   ]
  },
  {
   "cell_type": "code",
   "execution_count": 226,
   "metadata": {},
   "outputs": [
    {
     "name": "stdout",
     "output_type": "stream",
     "text": [
      "Splitted texts: ['Employees receive free flight benefits', 'to return to home country once', 'a year and', 'free flight benefits for business trips']\n",
      "Category: Passage provided for business purpose\n",
      "free flight benefits for busin /-/ Flight for business trip      : 0.75365\n",
      "\n",
      "Category: Home leave passage\n",
      "to return to home country once /-/ Flight to home country        : 0.66566\n",
      "\n"
     ]
    },
    {
     "data": {
      "text/plain": [
       "[('Passage provided for business purpose', 0.7536517813135932),\n",
       " ('Home leave passage', 0.6656597017594097)]"
      ]
     },
     "execution_count": 226,
     "metadata": {},
     "output_type": "execute_result"
    }
   ],
   "source": [
    "c, d = split_and_compare_wsub_top_limit_cleaned(get_sentence_embedding_MiniLM_L6_v2, get_sentence_embedding_MiniLM_L6_v2, cat_wsub_demo, hlp_biz_demo, display_end=True, get_inner_list=False, get_list=True, top_many_cat=2)\n",
    "[(dd,ddd[1]) for dd, ddd in d]"
   ]
  },
  {
   "cell_type": "code",
   "execution_count": null,
   "metadata": {},
   "outputs": [],
   "source": []
  },
  {
   "cell_type": "code",
   "execution_count": 113,
   "metadata": {},
   "outputs": [
    {
     "name": "stdout",
     "output_type": "stream",
     "text": [
      "Splitted texts: ['Employees receive free flight benefits', 'to return to home country once', 'a year and', 'free flight benefits for business trips']\n"
     ]
    },
    {
     "data": {
      "text/plain": [
       "(['Employees receive free flight benefits',\n",
       "  'to return to home country once',\n",
       "  'a year and',\n",
       "  'free flight benefits for business trips'],\n",
       " {'Passage provided for business purpose': {'Passage provided for business purpose': {('Employees receive free flight benefits',\n",
       "     'Passage provided for business purpose'): 0.14779233235003653,\n",
       "    ('to return to home country once',\n",
       "     'Passage provided for business purpose'): 0.17852770986928615,\n",
       "    ('a year and',\n",
       "     'Passage provided for business purpose'): 0.06552286772996774,\n",
       "    ('free flight benefits for business trips',\n",
       "     'Passage provided for business purpose'): 0.29568490649739965},\n",
       "   'Air tickets for business trip': {('Employees receive free flight benefits',\n",
       "     'Air tickets for business trip'): 0.4639808954117372,\n",
       "    ('to return to home country once',\n",
       "     'Air tickets for business trip'): 0.11835617757300575,\n",
       "    ('a year and', 'Air tickets for business trip'): 0.0504765864001799,\n",
       "    ('free flight benefits for business trips',\n",
       "     'Air tickets for business trip'): 0.6598189842771236},\n",
       "   'Air tickets for work purposes': {('Employees receive free flight benefits',\n",
       "     'Air tickets for work purposes'): 0.5376104533584114,\n",
       "    ('to return to home country once',\n",
       "     'Air tickets for work purposes'): 0.14008334833249614,\n",
       "    ('a year and', 'Air tickets for work purposes'): 0.03580521225597774,\n",
       "    ('free flight benefits for business trips',\n",
       "     'Air tickets for work purposes'): 0.4950128993725118},\n",
       "   'Flight for business trip': {('Employees receive free flight benefits',\n",
       "     'Flight for business trip'): 0.435762301470959,\n",
       "    ('to return to home country once',\n",
       "     'Flight for business trip'): 0.24187638384137267,\n",
       "    ('a year and', 'Flight for business trip'): 0.09592844315591284,\n",
       "    ('free flight benefits for business trips',\n",
       "     'Flight for business trip'): 0.7536517813135932},\n",
       "   'Flight for work purposes': {('Employees receive free flight benefits',\n",
       "     'Flight for work purposes'): 0.5511253221175141,\n",
       "    ('to return to home country once',\n",
       "     'Flight for work purposes'): 0.2896275893026543,\n",
       "    ('a year and', 'Flight for work purposes'): 0.08249032498633845,\n",
       "    ('free flight benefits for business trips',\n",
       "     'Flight for work purposes'): 0.6096248255738319},\n",
       "   'Travel incidental to employment': {('Employees receive free flight benefits',\n",
       "     'Travel incidental to employment'): 0.39301368059022956,\n",
       "    ('to return to home country once',\n",
       "     'Travel incidental to employment'): 0.39617666564572596,\n",
       "    ('a year and', 'Travel incidental to employment'): 0.07740571900008342,\n",
       "    ('free flight benefits for business trips',\n",
       "     'Travel incidental to employment'): 0.44624883322649134}},\n",
       "  'Passage provided when taking up employment and upon termination': {'Passage provided when taking up employment and upon termination': {('Employees receive free flight benefits',\n",
       "     'Passage provided when taking up employment and upon termination'): 0.21868298163832403,\n",
       "    ('to return to home country once',\n",
       "     'Passage provided when taking up employment and upon termination'): 0.16139196796143582,\n",
       "    ('a year and',\n",
       "     'Passage provided when taking up employment and upon termination'): 0.1382600772255958,\n",
       "    ('free flight benefits for business trips',\n",
       "     'Passage provided when taking up employment and upon termination'): 0.09119117726133678},\n",
       "   'Air tickets back to home country after contract end': {('Employees receive free flight benefits',\n",
       "     'Air tickets back to home country after contract end'): 0.30093577859713627,\n",
       "    ('to return to home country once',\n",
       "     'Air tickets back to home country after contract end'): 0.44958042884451316,\n",
       "    ('a year and',\n",
       "     'Air tickets back to home country after contract end'): 0.05565493498306773,\n",
       "    ('free flight benefits for business trips',\n",
       "     'Air tickets back to home country after contract end'): 0.3095408398241093},\n",
       "   'Air tickets back to home country after termination of employment': {('Employees receive free flight benefits',\n",
       "     'Air tickets back to home country after termination of employment'): 0.43415698362247235,\n",
       "    ('to return to home country once',\n",
       "     'Air tickets back to home country after termination of employment'): 0.4292748684995476,\n",
       "    ('a year and',\n",
       "     'Air tickets back to home country after termination of employment'): 0.05293060206713229,\n",
       "    ('free flight benefits for business trips',\n",
       "     'Air tickets back to home country after termination of employment'): 0.3505791343838498},\n",
       "   'Air tickets to work in Singapore': {('Employees receive free flight benefits',\n",
       "     'Air tickets to work in Singapore'): 0.44262971324371864,\n",
       "    ('to return to home country once',\n",
       "     'Air tickets to work in Singapore'): 0.17734620096051423,\n",
       "    ('a year and', 'Air tickets to work in Singapore'): 0.030742087031399204,\n",
       "    ('free flight benefits for business trips',\n",
       "     'Air tickets to work in Singapore'): 0.3745299206916572},\n",
       "   'Flight back to home country after contract end': {('Employees receive free flight benefits',\n",
       "     'Flight back to home country after contract end'): 0.22879137461995946,\n",
       "    ('to return to home country once',\n",
       "     'Flight back to home country after contract end'): 0.598883246658602,\n",
       "    ('a year and',\n",
       "     'Flight back to home country after contract end'): 0.0685758246550281,\n",
       "    ('free flight benefits for business trips',\n",
       "     'Flight back to home country after contract end'): 0.30337465747288683},\n",
       "   'Flight back to home country after termination of employment': {('Employees receive free flight benefits',\n",
       "     'Flight back to home country after termination of employment'): 0.36049679568918713,\n",
       "    ('to return to home country once',\n",
       "     'Flight back to home country after termination of employment'): 0.5337448543043879,\n",
       "    ('a year and',\n",
       "     'Flight back to home country after termination of employment'): 0.0552523757358474,\n",
       "    ('free flight benefits for business trips',\n",
       "     'Flight back to home country after termination of employment'): 0.3190605163520106},\n",
       "   'Flight to work in Singapore': {('Employees receive free flight benefits',\n",
       "     'Flight to work in Singapore'): 0.39243984840253016,\n",
       "    ('to return to home country once',\n",
       "     'Flight to work in Singapore'): 0.25965771393725867,\n",
       "    ('a year and', 'Flight to work in Singapore'): 0.06039539651956023,\n",
       "    ('free flight benefits for business trips',\n",
       "     'Flight to work in Singapore'): 0.3923574507372793}},\n",
       "  'Home leave passage': {'Home leave passage': {('Employees receive free flight benefits',\n",
       "     'Home leave passage'): 0.16376386148499494,\n",
       "    ('to return to home country once',\n",
       "     'Home leave passage'): 0.4848428570004446,\n",
       "    ('a year and', 'Home leave passage'): 0.09072840594342342,\n",
       "    ('free flight benefits for business trips',\n",
       "     'Home leave passage'): 0.1710042399611213},\n",
       "   'Air passage benefit': {('Employees receive free flight benefits',\n",
       "     'Air passage benefit'): 0.4717066074745732,\n",
       "    ('to return to home country once',\n",
       "     'Air passage benefit'): 0.19575522498843176,\n",
       "    ('a year and', 'Air passage benefit'): 0.06636109112551498,\n",
       "    ('free flight benefits for business trips',\n",
       "     'Air passage benefit'): 0.5176624065540667},\n",
       "   'Air tickets to home country': {('Employees receive free flight benefits',\n",
       "     'Air tickets to home country'): 0.3469180402218514,\n",
       "    ('to return to home country once',\n",
       "     'Air tickets to home country'): 0.4328092552020737,\n",
       "    ('a year and', 'Air tickets to home country'): 0.056946677215592184,\n",
       "    ('free flight benefits for business trips',\n",
       "     'Air tickets to home country'): 0.38708819585485815},\n",
       "   'Flight to home country': {('Employees receive free flight benefits',\n",
       "     'Flight to home country'): 0.26720465266595306,\n",
       "    ('to return to home country once',\n",
       "     'Flight to home country'): 0.6656597017594097,\n",
       "    ('a year and', 'Flight to home country'): 0.10163831337695249,\n",
       "    ('free flight benefits for business trips',\n",
       "     'Flight to home country'): 0.41699008606212845}}})"
      ]
     },
     "execution_count": 113,
     "metadata": {},
     "output_type": "execute_result"
    }
   ],
   "source": [
    "split_and_compare_wsub_top_limit(get_sentence_embedding_MiniLM_L6_v2, get_sentence_embedding_MiniLM_L6_v2, cat_wsub_demo, hlp_biz_demo, display_end=False)"
   ]
  },
  {
   "cell_type": "code",
   "execution_count": null,
   "metadata": {},
   "outputs": [],
   "source": []
  },
  {
   "cell_type": "code",
   "execution_count": null,
   "metadata": {},
   "outputs": [],
   "source": []
  },
  {
   "cell_type": "code",
   "execution_count": null,
   "metadata": {},
   "outputs": [],
   "source": [
    "## can also fill up more of the subcat, and idk if want to have big big cat, or just the diff cats, not the overall big big cats, but 1 level of sub type of sub cat\n",
    "## try out diff emb, feature extraction, sentence similarity modelSS\n",
    "## try out zero shot classifierSS too\n",
    "\n",
    "## github after these done!!\n",
    "### train embedding models? how?? just train as a model in general? or how? and how train???\n",
    "\n",
    "\n",
    "## can add this limit and display and etc all the variations to the generic one too as sub sub below after 2-3 cells blank -- done!\n",
    "# ->> the 1d only or etc, make function accept 1d or 2d, just from the start for both (semantic split + compare similarity), since pretrained come a lot is 1 string, then become 2d and etc all!! -- done?\n",
    "# mean pooling in generics\n",
    "dhxxxxxxxxxxxxxxxxxxxxxxxxxxxxxxxxgdgdf(((()))][]]hg([1'1'fx[11``]``]) def : :\n",
    "    def avd\"ArithmeticError\n",
    "    \":\n",
    "        \n",
    "        \"\""
   ]
  },
  {
   "cell_type": "code",
   "execution_count": 121,
   "metadata": {},
   "outputs": [],
   "source": [
    "#Mean Pooling - Take attention mask into account for correct averaging\n",
    "def mean_pooling(model_output, attention_mask):\n",
    "    token_embeddings = model_output[0] #First element of model_output contains all token embeddings\n",
    "    input_mask_expanded = attention_mask.unsqueeze(-1).expand(token_embeddings.size()).float()\n",
    "    print(attention_mask.shape, attention_mask)\n",
    "    print(attention_mask.unsqueeze(-1).shape, attention_mask.unsqueeze(-1))\n",
    "    print(\"ime:\", input_mask_expanded, input_mask_expanded.shape)\n",
    "    print(len(input_mask_expanded), token_embeddings.size(), input_mask_expanded.size())\n",
    "    print(\"temp?: \", torch.sum(token_embeddings * input_mask_expanded))\n",
    "    print(\"tsum_mult:\", torch.sum(token_embeddings * input_mask_expanded, 1))\n",
    "    print(\"clamp:\", torch.clamp(input_mask_expanded.sum(1), min=1e-9))\n",
    "    print(\"tok_emb:\", token_embeddings)\n",
    "    return torch.sum(token_embeddings * input_mask_expanded, 1) / torch.clamp(input_mask_expanded.sum(1), min=1e-9)"
   ]
  },
  {
   "cell_type": "code",
   "execution_count": 122,
   "metadata": {},
   "outputs": [
    {
     "name": "stdout",
     "output_type": "stream",
     "text": [
      "torch.Size([1, 22]) tensor([[1, 1, 1, 1, 1, 1, 1, 1, 1, 1, 1, 1, 1, 1, 1, 1, 1, 1, 1, 1, 1, 1]])\n",
      "torch.Size([1, 22, 1]) tensor([[[1],\n",
      "         [1],\n",
      "         [1],\n",
      "         [1],\n",
      "         [1],\n",
      "         [1],\n",
      "         [1],\n",
      "         [1],\n",
      "         [1],\n",
      "         [1],\n",
      "         [1],\n",
      "         [1],\n",
      "         [1],\n",
      "         [1],\n",
      "         [1],\n",
      "         [1],\n",
      "         [1],\n",
      "         [1],\n",
      "         [1],\n",
      "         [1],\n",
      "         [1],\n",
      "         [1]]])\n",
      "ime: tensor([[[1., 1., 1.,  ..., 1., 1., 1.],\n",
      "         [1., 1., 1.,  ..., 1., 1., 1.],\n",
      "         [1., 1., 1.,  ..., 1., 1., 1.],\n",
      "         ...,\n",
      "         [1., 1., 1.,  ..., 1., 1., 1.],\n",
      "         [1., 1., 1.,  ..., 1., 1., 1.],\n",
      "         [1., 1., 1.,  ..., 1., 1., 1.]]]) torch.Size([1, 22, 384])\n",
      "1 torch.Size([1, 22, 384]) torch.Size([1, 22, 384])\n",
      "temp?:  tensor(-34.8310)\n",
      "tsum_mult: tensor([[ 9.1916e+00,  5.8912e+00,  5.1229e+00, -5.1496e-01,  1.2287e+01,\n",
      "          4.7382e+00,  4.1508e+00, -6.8681e+00,  2.4155e+00, -5.1221e+00,\n",
      "          7.1406e+00,  8.5203e+00, -4.2251e+00,  1.9867e+00,  1.0165e+01,\n",
      "          3.8280e-01,  2.2086e+00,  2.6445e+00, -9.8446e-01, -4.2435e+00,\n",
      "          2.9675e+00, -4.4354e+00, -8.1950e+00,  3.4764e+00,  4.5090e+00,\n",
      "          7.4828e-01, -4.8167e-01, -4.7661e-02,  3.1970e+00,  2.4437e+00,\n",
      "         -5.3530e+00,  6.7973e+00, -4.6914e+00,  7.2237e+00,  5.3616e+00,\n",
      "          2.8106e+00, -5.5936e+00, -1.8163e+00, -4.7086e+00,  1.6680e-01,\n",
      "          1.0755e+00, -6.1438e+00, -1.4161e+00, -1.6879e+00,  9.9039e-01,\n",
      "          3.0592e+00,  2.7349e+00, -4.4422e+00, -3.1419e+00,  3.4567e+00,\n",
      "          8.3359e+00, -2.9305e+00, -4.3147e+00,  4.1786e-03, -2.5861e-01,\n",
      "         -4.5156e+00, -6.3361e+00, -4.5564e+00, -4.2523e+00, -8.4691e+00,\n",
      "         -4.2538e+00, -1.0639e+01, -4.6700e+00, -8.4812e-01, -4.9174e+00,\n",
      "          4.4981e+00, -5.3180e+00,  3.8981e+00, -7.6101e-01, -1.1327e+01,\n",
      "         -3.7627e+00, -4.8997e-01, -6.0086e+00, -3.1453e+00,  9.1757e+00,\n",
      "          2.6211e+00, -7.6511e+00,  2.7663e+00,  4.4838e+00, -1.8482e+00,\n",
      "          4.9589e+00,  2.4923e+00, -1.9960e+00,  9.2681e+00,  3.2165e+00,\n",
      "          2.7804e-01, -3.0383e+00, -1.0143e+01,  5.0469e+00,  1.1986e+00,\n",
      "          6.8548e+00, -1.2260e+01,  4.0483e+00,  2.9781e+00, -5.7700e+00,\n",
      "         -1.6074e+00, -5.4861e+00,  1.6683e+00,  3.2504e+00,  3.4375e+00,\n",
      "          9.4681e+00,  3.5394e+00,  8.7465e+00, -1.1570e+00, -9.0551e+00,\n",
      "          2.0141e+00,  1.2364e+00,  3.7240e+00,  1.0702e+01, -5.0410e+00,\n",
      "         -5.3876e+00,  1.1940e+01,  3.6857e+00, -1.5928e-01, -9.5394e+00,\n",
      "          2.2509e+00, -7.3024e-02,  1.4220e+00,  2.2377e+00, -1.2380e+00,\n",
      "          8.7740e+00, -1.9907e+00, -1.2379e+00,  2.5251e+00, -1.2267e+01,\n",
      "         -6.7714e+00,  1.7941e+00,  1.2093e-01, -1.4870e+00,  4.7687e+00,\n",
      "          3.4299e+00,  1.4120e+00,  4.5873e-01, -2.7326e+00, -7.9446e+00,\n",
      "         -6.5873e-01,  3.6265e+00, -1.4164e+00, -1.1103e+01,  4.5018e+00,\n",
      "          1.2220e+01,  8.3942e-01,  7.2686e+00,  4.0128e+00,  1.5875e+00,\n",
      "         -4.2206e+00, -8.0222e-02,  4.9028e+00,  3.4327e+00, -6.1037e+00,\n",
      "         -3.1641e+00,  6.6669e+00,  2.0611e-01,  7.6289e-01,  2.1684e+00,\n",
      "         -5.1898e-01, -3.5168e+00, -1.8391e+00, -4.3888e+00,  1.7677e+01,\n",
      "          3.6676e+00, -1.2658e+01, -1.8312e+00, -1.2210e+00,  3.3006e+00,\n",
      "          6.4967e+00, -2.1006e+00, -1.9639e+00, -9.1105e+00, -9.8849e+00,\n",
      "         -1.4399e+00, -1.7255e+00,  1.1872e+00, -3.4606e+00, -1.5853e+00,\n",
      "          5.3923e+00,  2.2282e+00,  8.6362e+00, -4.0517e-01, -3.0301e+00,\n",
      "          1.8372e+00, -5.5724e+00, -2.4435e+00, -1.1930e+00, -3.7915e+00,\n",
      "          5.1004e+00, -5.6164e-02,  1.2063e+00,  4.8479e+00,  9.8120e-01,\n",
      "         -6.2183e-01, -2.1133e+00, -2.4645e+00,  9.5208e+00,  1.0425e+01,\n",
      "         -3.6271e+00, -2.6533e+00,  7.5060e-01,  1.0132e+01,  1.3989e+00,\n",
      "         -1.6532e+00, -2.2837e+00, -5.7860e+00, -4.1123e-01, -2.5397e+00,\n",
      "          1.4129e+00,  4.7331e-01,  5.7340e-01,  5.4872e+00,  1.8592e+00,\n",
      "          7.6241e+00,  4.7184e+00,  1.1095e+01, -1.3297e+00,  8.5080e+00,\n",
      "         -9.1299e-02,  1.8774e+00, -2.6124e+00, -8.5333e-01, -7.1338e+00,\n",
      "         -6.4933e+00,  1.7361e+00, -6.0725e-01, -5.6824e-31,  1.3959e+00,\n",
      "         -9.7038e-01, -3.8422e+00, -5.5061e+00,  5.5985e-01, -1.9981e-01,\n",
      "         -3.0090e+00,  4.5625e+00,  8.8086e-01,  7.6624e+00, -5.6906e+00,\n",
      "         -1.0671e+00, -1.8850e+00,  3.6328e+00, -6.9076e-01, -7.2692e+00,\n",
      "          5.8198e+00,  1.8668e+00, -9.1294e+00,  9.2112e+00,  9.0538e+00,\n",
      "          3.6711e+00, -4.0757e+00, -3.9118e+00, -1.5729e+00, -1.3848e+00,\n",
      "         -9.1069e+00,  1.5697e-01, -4.2180e+00, -4.1437e+00, -3.1613e+00,\n",
      "          7.2455e+00, -6.5765e+00,  2.4377e+00, -5.6286e+00, -5.8734e+00,\n",
      "         -1.2402e+01,  3.3249e+00,  5.4154e+00,  2.4083e+00,  2.2360e-01,\n",
      "         -4.0491e+00,  5.3632e+00,  1.6795e+00,  9.8119e-01,  8.6876e+00,\n",
      "         -2.9258e+00, -8.0528e+00, -6.8656e-01, -1.0479e+01,  5.1742e+00,\n",
      "          3.3351e+00, -2.8958e+00,  5.6792e+00, -8.4011e+00, -4.9447e+00,\n",
      "          4.2425e-01, -1.0663e+01,  1.2077e+00, -3.7320e+00,  4.6151e-01,\n",
      "         -1.0597e+01, -9.6410e-01,  9.0106e+00, -1.8474e+00, -2.3225e+00,\n",
      "          4.3627e+00,  1.7706e+00,  2.4740e+00, -2.5987e+00, -8.0197e+00,\n",
      "         -4.3718e+00, -3.9474e+00, -3.3883e+00, -1.3797e+01,  6.6782e+00,\n",
      "          4.8596e+00,  4.4392e+00, -1.3192e+01,  3.5122e+00, -2.8720e+00,\n",
      "         -2.8649e-01, -2.3803e+00,  5.5864e+00, -1.7340e+00,  9.1565e-01,\n",
      "         -4.4714e+00, -2.6635e+00,  2.1444e+00, -5.8868e+00, -6.1269e+00,\n",
      "         -3.5197e+00,  2.2811e+00,  6.6845e+00,  1.7467e+00,  4.1522e-30,\n",
      "          1.5304e+00, -1.6582e+00,  8.8182e-01, -1.1466e+00,  4.0645e+00,\n",
      "         -3.8834e+00, -3.4743e-01, -3.2860e+00, -7.8832e+00,  1.0899e+00,\n",
      "          1.9622e+00, -8.4768e-01, -3.1387e+00,  2.7010e+00,  2.0509e+00,\n",
      "          4.4652e+00,  3.9331e+00,  6.6031e+00,  1.1727e+00, -3.9355e+00,\n",
      "         -2.0074e+00,  3.4254e+00, -3.9710e+00, -1.9515e+00, -1.8299e+00,\n",
      "          7.3070e+00, -8.8715e+00, -2.6071e+00,  7.7457e+00, -1.3070e+00,\n",
      "          5.1780e-02, -2.6586e+00,  8.5180e+00, -4.4657e+00,  1.3748e+00,\n",
      "         -5.8702e+00,  5.1241e+00, -2.1382e+00, -8.0934e+00,  4.0401e+00,\n",
      "         -3.0570e+00,  7.5420e-01,  4.9445e+00, -4.3467e+00, -7.9164e-01,\n",
      "          8.0789e-01, -8.8359e+00,  1.2466e+00,  1.9305e+00, -1.3889e+00,\n",
      "          4.8050e+00,  3.1883e+00,  6.0104e+00,  1.9343e+00,  1.2790e+00,\n",
      "          6.8112e-01, -3.4607e-02, -1.1541e+01,  8.1495e+00, -1.3459e+00,\n",
      "         -4.5417e+00, -1.0182e+00,  6.2411e+00, -5.3179e+00]])\n",
      "clamp: tensor([[22., 22., 22., 22., 22., 22., 22., 22., 22., 22., 22., 22., 22., 22.,\n",
      "         22., 22., 22., 22., 22., 22., 22., 22., 22., 22., 22., 22., 22., 22.,\n",
      "         22., 22., 22., 22., 22., 22., 22., 22., 22., 22., 22., 22., 22., 22.,\n",
      "         22., 22., 22., 22., 22., 22., 22., 22., 22., 22., 22., 22., 22., 22.,\n",
      "         22., 22., 22., 22., 22., 22., 22., 22., 22., 22., 22., 22., 22., 22.,\n",
      "         22., 22., 22., 22., 22., 22., 22., 22., 22., 22., 22., 22., 22., 22.,\n",
      "         22., 22., 22., 22., 22., 22., 22., 22., 22., 22., 22., 22., 22., 22.,\n",
      "         22., 22., 22., 22., 22., 22., 22., 22., 22., 22., 22., 22., 22., 22.,\n",
      "         22., 22., 22., 22., 22., 22., 22., 22., 22., 22., 22., 22., 22., 22.,\n",
      "         22., 22., 22., 22., 22., 22., 22., 22., 22., 22., 22., 22., 22., 22.,\n",
      "         22., 22., 22., 22., 22., 22., 22., 22., 22., 22., 22., 22., 22., 22.,\n",
      "         22., 22., 22., 22., 22., 22., 22., 22., 22., 22., 22., 22., 22., 22.,\n",
      "         22., 22., 22., 22., 22., 22., 22., 22., 22., 22., 22., 22., 22., 22.,\n",
      "         22., 22., 22., 22., 22., 22., 22., 22., 22., 22., 22., 22., 22., 22.,\n",
      "         22., 22., 22., 22., 22., 22., 22., 22., 22., 22., 22., 22., 22., 22.,\n",
      "         22., 22., 22., 22., 22., 22., 22., 22., 22., 22., 22., 22., 22., 22.,\n",
      "         22., 22., 22., 22., 22., 22., 22., 22., 22., 22., 22., 22., 22., 22.,\n",
      "         22., 22., 22., 22., 22., 22., 22., 22., 22., 22., 22., 22., 22., 22.,\n",
      "         22., 22., 22., 22., 22., 22., 22., 22., 22., 22., 22., 22., 22., 22.,\n",
      "         22., 22., 22., 22., 22., 22., 22., 22., 22., 22., 22., 22., 22., 22.,\n",
      "         22., 22., 22., 22., 22., 22., 22., 22., 22., 22., 22., 22., 22., 22.,\n",
      "         22., 22., 22., 22., 22., 22., 22., 22., 22., 22., 22., 22., 22., 22.,\n",
      "         22., 22., 22., 22., 22., 22., 22., 22., 22., 22., 22., 22., 22., 22.,\n",
      "         22., 22., 22., 22., 22., 22., 22., 22., 22., 22., 22., 22., 22., 22.,\n",
      "         22., 22., 22., 22., 22., 22., 22., 22., 22., 22., 22., 22., 22., 22.,\n",
      "         22., 22., 22., 22., 22., 22., 22., 22., 22., 22., 22., 22., 22., 22.,\n",
      "         22., 22., 22., 22., 22., 22., 22., 22., 22., 22., 22., 22., 22., 22.,\n",
      "         22., 22., 22., 22., 22., 22.]])\n",
      "tok_emb: tensor([[[ 0.2445,  0.2339,  0.1311,  ...,  0.1763,  0.1458, -0.1612],\n",
      "         [ 0.0849,  0.0988,  0.3333,  ...,  0.0412,  1.0647, -0.5248],\n",
      "         [ 0.3138,  0.2968,  0.4696,  ..., -0.1525,  0.7068, -0.2543],\n",
      "         ...,\n",
      "         [ 0.8879, -0.1896, -0.3559,  ..., -0.4557,  0.9515, -0.7813],\n",
      "         [ 0.7218,  0.0052,  0.1803,  ..., -0.1484, -0.1099, -0.2751],\n",
      "         [ 0.2445,  0.2339,  0.1311,  ...,  0.1763,  0.1458, -0.1612]]])\n"
     ]
    },
    {
     "data": {
      "text/plain": [
       "tensor([[ 9.1662e-02,  5.8749e-02,  5.1087e-02, -5.1353e-03,  1.2253e-01,\n",
       "          4.7251e-02,  4.1393e-02, -6.8491e-02,  2.4088e-02, -5.1080e-02,\n",
       "          7.1208e-02,  8.4967e-02, -4.2134e-02,  1.9812e-02,  1.0137e-01,\n",
       "          3.8174e-03,  2.2024e-02,  2.6371e-02, -9.8174e-03, -4.2317e-02,\n",
       "          2.9593e-02, -4.4231e-02, -8.1724e-02,  3.4668e-02,  4.4966e-02,\n",
       "          7.4621e-03, -4.8034e-03, -4.7529e-04,  3.1881e-02,  2.4370e-02,\n",
       "         -5.3382e-02,  6.7785e-02, -4.6784e-02,  7.2037e-02,  5.3468e-02,\n",
       "          2.8029e-02, -5.5781e-02, -1.8113e-02, -4.6956e-02,  1.6633e-03,\n",
       "          1.0725e-02, -6.1268e-02, -1.4122e-02, -1.6832e-02,  9.8765e-03,\n",
       "          3.0507e-02,  2.7273e-02, -4.4299e-02, -3.1333e-02,  3.4471e-02,\n",
       "          8.3129e-02, -2.9224e-02, -4.3028e-02,  4.1671e-05, -2.5790e-03,\n",
       "         -4.5031e-02, -6.3186e-02, -4.5438e-02, -4.2405e-02, -8.4457e-02,\n",
       "         -4.2420e-02, -1.0610e-01, -4.6571e-02, -8.4578e-03, -4.9038e-02,\n",
       "          4.4857e-02, -5.3033e-02,  3.8874e-02, -7.5891e-03, -1.1296e-01,\n",
       "         -3.7523e-02, -4.8862e-03, -5.9920e-02, -3.1366e-02,  9.1503e-02,\n",
       "          2.6139e-02, -7.6299e-02,  2.7586e-02,  4.4714e-02, -1.8431e-02,\n",
       "          4.9452e-02,  2.4854e-02, -1.9905e-02,  9.2425e-02,  3.2077e-02,\n",
       "          2.7727e-03, -3.0299e-02, -1.0115e-01,  5.0329e-02,  1.1952e-02,\n",
       "          6.8359e-02, -1.2226e-01,  4.0371e-02,  2.9698e-02, -5.7540e-02,\n",
       "         -1.6030e-02, -5.4710e-02,  1.6637e-02,  3.2414e-02,  3.4280e-02,\n",
       "          9.4419e-02,  3.5296e-02,  8.7223e-02, -1.1538e-02, -9.0301e-02,\n",
       "          2.0085e-02,  1.2330e-02,  3.7137e-02,  1.0673e-01, -5.0271e-02,\n",
       "         -5.3727e-02,  1.1907e-01,  3.6755e-02, -1.5884e-03, -9.5131e-02,\n",
       "          2.2447e-02, -7.2822e-04,  1.4180e-02,  2.2315e-02, -1.2345e-02,\n",
       "          8.7498e-02, -1.9852e-02, -1.2344e-02,  2.5181e-02, -1.2233e-01,\n",
       "         -6.7527e-02,  1.7891e-02,  1.2059e-03, -1.4829e-02,  4.7555e-02,\n",
       "          3.4204e-02,  1.4081e-02,  4.5746e-03, -2.7250e-02, -7.9226e-02,\n",
       "         -6.5690e-03,  3.6165e-02, -1.4125e-02, -1.1072e-01,  4.4893e-02,\n",
       "          1.2186e-01,  8.3710e-03,  7.2485e-02,  4.0017e-02,  1.5831e-02,\n",
       "         -4.2089e-02, -8.0000e-04,  4.8892e-02,  3.4232e-02, -6.0869e-02,\n",
       "         -3.1553e-02,  6.6485e-02,  2.0554e-03,  7.6078e-03,  2.1624e-02,\n",
       "         -5.1754e-03, -3.5071e-02, -1.8340e-02, -4.3767e-02,  1.7628e-01,\n",
       "          3.6575e-02, -1.2623e-01, -1.8261e-02, -1.2176e-02,  3.2915e-02,\n",
       "          6.4787e-02, -2.0948e-02, -1.9584e-02, -9.0853e-02, -9.8575e-02,\n",
       "         -1.4360e-02, -1.7207e-02,  1.1839e-02, -3.4510e-02, -1.5809e-02,\n",
       "          5.3774e-02,  2.2221e-02,  8.6123e-02, -4.0405e-03, -3.0218e-02,\n",
       "          1.8321e-02, -5.5570e-02, -2.4367e-02, -1.1897e-02, -3.7810e-02,\n",
       "          5.0863e-02, -5.6009e-04,  1.2030e-02,  4.8345e-02,  9.7848e-03,\n",
       "         -6.2011e-03, -2.1074e-02, -2.4577e-02,  9.4944e-02,  1.0396e-01,\n",
       "         -3.6171e-02, -2.6460e-02,  7.4853e-03,  1.0104e-01,  1.3951e-02,\n",
       "         -1.6487e-02, -2.2774e-02, -5.7700e-02, -4.1009e-03, -2.5327e-02,\n",
       "          1.4090e-02,  4.7201e-03,  5.7181e-03,  5.4720e-02,  1.8540e-02,\n",
       "          7.6031e-02,  4.7053e-02,  1.1064e-01, -1.3261e-02,  8.4845e-02,\n",
       "         -9.1047e-04,  1.8722e-02, -2.6052e-02, -8.5097e-03, -7.1141e-02,\n",
       "         -6.4753e-02,  1.7313e-02, -6.0557e-03, -5.6667e-33,  1.3921e-02,\n",
       "         -9.6770e-03, -3.8316e-02, -5.4909e-02,  5.5831e-03, -1.9925e-03,\n",
       "         -3.0007e-02,  4.5499e-02,  8.7843e-03,  7.6412e-02, -5.6749e-02,\n",
       "         -1.0642e-02, -1.8798e-02,  3.6228e-02, -6.8885e-03, -7.2491e-02,\n",
       "          5.8037e-02,  1.8617e-02, -9.1042e-02,  9.1858e-02,  9.0288e-02,\n",
       "          3.6609e-02, -4.0644e-02, -3.9010e-02, -1.5685e-02, -1.3810e-02,\n",
       "         -9.0817e-02,  1.5653e-03, -4.2063e-02, -4.1322e-02, -3.1526e-02,\n",
       "          7.2255e-02, -6.5583e-02,  2.4310e-02, -5.6130e-02, -5.8571e-02,\n",
       "         -1.2368e-01,  3.3157e-02,  5.4004e-02,  2.4017e-02,  2.2298e-03,\n",
       "         -4.0379e-02,  5.3484e-02,  1.6748e-02,  9.7847e-03,  8.6636e-02,\n",
       "         -2.9177e-02, -8.0305e-02, -6.8466e-03, -1.0450e-01,  5.1599e-02,\n",
       "          3.3259e-02, -2.8878e-02,  5.6635e-02, -8.3779e-02, -4.9310e-02,\n",
       "          4.2308e-03, -1.0634e-01,  1.2043e-02, -3.7216e-02,  4.6023e-03,\n",
       "         -1.0568e-01, -9.6144e-03,  8.9857e-02, -1.8423e-02, -2.3161e-02,\n",
       "          4.3506e-02,  1.7657e-02,  2.4671e-02, -2.5916e-02, -7.9975e-02,\n",
       "         -4.3597e-02, -3.9365e-02, -3.3790e-02, -1.3759e-01,  6.6597e-02,\n",
       "          4.8461e-02,  4.4269e-02, -1.3156e-01,  3.5025e-02, -2.8641e-02,\n",
       "         -2.8570e-03, -2.3737e-02,  5.5710e-02, -1.7292e-02,  9.1312e-03,\n",
       "         -4.4590e-02, -2.6561e-02,  2.1385e-02, -5.8705e-02, -6.1100e-02,\n",
       "         -3.5100e-02,  2.2748e-02,  6.6660e-02,  1.7419e-02,  4.1407e-32,\n",
       "          1.5261e-02, -1.6537e-02,  8.7938e-03, -1.1434e-02,  4.0533e-02,\n",
       "         -3.8726e-02, -3.4647e-03, -3.2769e-02, -7.8614e-02,  1.0869e-02,\n",
       "          1.9568e-02, -8.4533e-03, -3.1300e-02,  2.6935e-02,  2.0452e-02,\n",
       "          4.4529e-02,  3.9223e-02,  6.5849e-02,  1.1695e-02, -3.9246e-02,\n",
       "         -2.0018e-02,  3.4159e-02, -3.9601e-02, -1.9461e-02, -1.8249e-02,\n",
       "          7.2868e-02, -8.8470e-02, -2.5999e-02,  7.7243e-02, -1.3034e-02,\n",
       "          5.1637e-04, -2.6513e-02,  8.4945e-02, -4.4534e-02,  1.3710e-02,\n",
       "         -5.8539e-02,  5.1100e-02, -2.1323e-02, -8.0710e-02,  4.0290e-02,\n",
       "         -3.0485e-02,  7.5212e-03,  4.9308e-02, -4.3347e-02, -7.8946e-03,\n",
       "          8.0566e-03, -8.8115e-02,  1.2432e-02,  1.9252e-02, -1.3851e-02,\n",
       "          4.7917e-02,  3.1794e-02,  5.9938e-02,  1.9290e-02,  1.2754e-02,\n",
       "          6.7924e-03, -3.4512e-04, -1.1509e-01,  8.1270e-02, -1.3422e-02,\n",
       "         -4.5291e-02, -1.0154e-02,  6.2238e-02, -5.3032e-02]])"
      ]
     },
     "execution_count": 122,
     "metadata": {},
     "output_type": "execute_result"
    }
   ],
   "source": [
    "pt_transformers_method_embedding_L12_v2(hlp_biz_demo)"
   ]
  },
  {
   "cell_type": "code",
   "execution_count": 79,
   "metadata": {},
   "outputs": [],
   "source": [
    "a = torch.tensor([1,2,3,4,5])"
   ]
  },
  {
   "cell_type": "code",
   "execution_count": 80,
   "metadata": {},
   "outputs": [
    {
     "data": {
      "text/plain": [
       "torch.Size([5])"
      ]
     },
     "execution_count": 80,
     "metadata": {},
     "output_type": "execute_result"
    }
   ],
   "source": [
    "a.shape"
   ]
  },
  {
   "cell_type": "code",
   "execution_count": 83,
   "metadata": {},
   "outputs": [
    {
     "data": {
      "text/plain": [
       "tensor([[1],\n",
       "        [2],\n",
       "        [3],\n",
       "        [4],\n",
       "        [5]])"
      ]
     },
     "execution_count": 83,
     "metadata": {},
     "output_type": "execute_result"
    }
   ],
   "source": [
    "a.unsqueeze(1)"
   ]
  },
  {
   "cell_type": "code",
   "execution_count": 88,
   "metadata": {},
   "outputs": [
    {
     "data": {
      "text/plain": [
       "(torch.Size([5, 1]), torch.Size([1, 5]), torch.Size([5, 1]))"
      ]
     },
     "execution_count": 88,
     "metadata": {},
     "output_type": "execute_result"
    }
   ],
   "source": [
    "a.unsqueeze(-1).shape, a.unsqueeze(0).shape, a.unsqueeze(1).shape"
   ]
  },
  {
   "cell_type": "code",
   "execution_count": 99,
   "metadata": {},
   "outputs": [],
   "source": [
    "aa = torch.tensor([list(a), list(a), list(a)])"
   ]
  },
  {
   "cell_type": "code",
   "execution_count": 103,
   "metadata": {},
   "outputs": [
    {
     "data": {
      "text/plain": [
       "(tensor([[1, 2, 3, 4, 5],\n",
       "         [1, 2, 3, 4, 5],\n",
       "         [1, 2, 3, 4, 5]]),\n",
       " torch.Size([3, 5]))"
      ]
     },
     "execution_count": 103,
     "metadata": {},
     "output_type": "execute_result"
    }
   ],
   "source": [
    "aa, aa.shape"
   ]
  },
  {
   "cell_type": "code",
   "execution_count": 108,
   "metadata": {},
   "outputs": [
    {
     "data": {
      "text/plain": [
       "(tensor([[[1],\n",
       "          [2],\n",
       "          [3],\n",
       "          [4],\n",
       "          [5]],\n",
       " \n",
       "         [[1],\n",
       "          [2],\n",
       "          [3],\n",
       "          [4],\n",
       "          [5]],\n",
       " \n",
       "         [[1],\n",
       "          [2],\n",
       "          [3],\n",
       "          [4],\n",
       "          [5]]]),\n",
       " tensor([[[1, 2, 3, 4, 5],\n",
       "          [1, 2, 3, 4, 5],\n",
       "          [1, 2, 3, 4, 5]]]),\n",
       " tensor([[[1, 2, 3, 4, 5]],\n",
       " \n",
       "         [[1, 2, 3, 4, 5]],\n",
       " \n",
       "         [[1, 2, 3, 4, 5]]]),\n",
       " tensor([[[1],\n",
       "          [2],\n",
       "          [3],\n",
       "          [4],\n",
       "          [5]],\n",
       " \n",
       "         [[1],\n",
       "          [2],\n",
       "          [3],\n",
       "          [4],\n",
       "          [5]],\n",
       " \n",
       "         [[1],\n",
       "          [2],\n",
       "          [3],\n",
       "          [4],\n",
       "          [5]]]))"
      ]
     },
     "execution_count": 108,
     "metadata": {},
     "output_type": "execute_result"
    }
   ],
   "source": [
    "aa.unsqueeze(-1), aa.unsqueeze(0), aa.unsqueeze(1), aa.unsqueeze(2)"
   ]
  },
  {
   "cell_type": "code",
   "execution_count": 109,
   "metadata": {},
   "outputs": [
    {
     "data": {
      "text/plain": [
       "(torch.Size([3, 5, 1]),\n",
       " torch.Size([1, 3, 5]),\n",
       " torch.Size([3, 1, 5]),\n",
       " torch.Size([3, 5, 1]))"
      ]
     },
     "execution_count": 109,
     "metadata": {},
     "output_type": "execute_result"
    }
   ],
   "source": [
    "aa.unsqueeze(-1).shape, aa.unsqueeze(0).shape, aa.unsqueeze(1).shape, aa.unsqueeze(2).shape"
   ]
  },
  {
   "cell_type": "code",
   "execution_count": null,
   "metadata": {},
   "outputs": [],
   "source": []
  },
  {
   "cell_type": "code",
   "execution_count": null,
   "metadata": {},
   "outputs": [],
   "source": []
  },
  {
   "cell_type": "code",
   "execution_count": null,
   "metadata": {},
   "outputs": [],
   "source": []
  },
  {
   "cell_type": "code",
   "execution_count": 123,
   "metadata": {},
   "outputs": [],
   "source": [
    "## zero shot exploration"
   ]
  },
  {
   "cell_type": "code",
   "execution_count": null,
   "metadata": {},
   "outputs": [],
   "source": []
  }
 ],
 "metadata": {
  "kernelspec": {
   "display_name": "semantic_seg-venv-kernel",
   "language": "python",
   "name": "semantic_seg-venv-kernel"
  },
  "language_info": {
   "codemirror_mode": {
    "name": "ipython",
    "version": 3
   },
   "file_extension": ".py",
   "mimetype": "text/x-python",
   "name": "python",
   "nbconvert_exporter": "python",
   "pygments_lexer": "ipython3",
   "version": "3.12.3"
  }
 },
 "nbformat": 4,
 "nbformat_minor": 2
}
