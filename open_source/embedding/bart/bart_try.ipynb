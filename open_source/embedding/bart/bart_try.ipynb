{
 "cells": [
  {
   "cell_type": "code",
   "execution_count": 7,
   "metadata": {},
   "outputs": [],
   "source": [
    "from transformers import BartTokenizer, BartModel\n",
    "import torch\n",
    "\n",
    "tokenizer = BartTokenizer.from_pretrained('facebook/bart-large')\n",
    "model = BartModel.from_pretrained('facebook/bart-large')"
   ]
  },
  {
   "cell_type": "code",
   "execution_count": null,
   "metadata": {},
   "outputs": [],
   "source": [
    "def bart_cls_emb(sentences):\n",
    "    inputs = tokenizer(sentences, return_tensors=\"pt\")\n",
    "    outputs = model(**inputs)\n",
    "\n",
    "    last_hidden_states = outputs.last_hidden_state\n",
    "    return last_hidden_states[:, 0]\n",
    "\n",
    "def bart_mean_emb(sentences):\n",
    "    inputs = tokenizer(sentences, return_tensors=\"pt\")\n",
    "    outputs = model(**inputs)\n",
    "\n",
    "    last_hidden_states = outputs.last_hidden_state\n",
    "    input_mask_expanded = inputs[\"attention_mask\"].unsqueeze(-1).expand(last_hidden_states.size()).float()\n",
    "\n",
    "    return torch.sum(last_hidden_states * input_mask_expanded, 1) / torch.clamp(input_mask_expanded.sum(1), min=1e-9)"
   ]
  },
  {
   "cell_type": "code",
   "execution_count": 41,
   "metadata": {},
   "outputs": [],
   "source": [
    "def bart_pad_cls_emb(sentences):\n",
    "    inputs = tokenizer(sentences, return_tensors=\"pt\", padding=True)\n",
    "    outputs = model(**inputs)\n",
    "\n",
    "    last_hidden_states = outputs.last_hidden_state\n",
    "    return last_hidden_states[:, 0]\n",
    "\n",
    "def bart_pad_mean_emb(sentences):\n",
    "    inputs = tokenizer(sentences, return_tensors=\"pt\", padding=True)\n",
    "    outputs = model(**inputs)\n",
    "\n",
    "    last_hidden_states = outputs.last_hidden_state\n",
    "    input_mask_expanded = inputs[\"attention_mask\"].unsqueeze(-1).expand(last_hidden_states.size()).float()\n",
    "\n",
    "    return torch.sum(last_hidden_states * input_mask_expanded, 1) / torch.clamp(input_mask_expanded.sum(1), min=1e-9)"
   ]
  },
  {
   "cell_type": "code",
   "execution_count": 38,
   "metadata": {},
   "outputs": [],
   "source": [
    "a = \"i love dogs\"\n",
    "b = \"i like dogs\"\n",
    "c = \"i hate cats\"\n",
    "d = \"earth is yellow and flat\"\n",
    "e = \"tonight is the dire of your fight\"\n",
    "abcde = [a, b, c, d, e]"
   ]
  },
  {
   "cell_type": "code",
   "execution_count": 39,
   "metadata": {},
   "outputs": [
    {
     "name": "stdout",
     "output_type": "stream",
     "text": [
      "tensor([[ 0.9770,  0.5219, -0.5908,  ...,  0.9328,  0.1308, -0.5148]],\n",
      "       grad_fn=<SelectBackward0>)\n",
      "tensor([[ 0.9248,  0.5461, -0.4824,  ...,  0.7143, -0.0326, -0.3788]],\n",
      "       grad_fn=<SelectBackward0>)\n",
      "tensor([[ 0.8559,  0.5523, -0.5329,  ...,  0.8630,  0.0196, -0.4594]],\n",
      "       grad_fn=<SelectBackward0>)\n",
      "tensor([[ 1.1855,  0.7464, -0.8031,  ...,  0.0654,  0.3510, -0.7310]],\n",
      "       grad_fn=<SelectBackward0>)\n",
      "tensor([[ 0.6374,  1.1278, -0.2586,  ..., -0.3083,  0.1837,  0.1355]],\n",
      "       grad_fn=<SelectBackward0>)\n"
     ]
    }
   ],
   "source": [
    "for i in abcde:\n",
    "    print(bart_cls_emb(i))"
   ]
  },
  {
   "cell_type": "code",
   "execution_count": 42,
   "metadata": {},
   "outputs": [
    {
     "name": "stdout",
     "output_type": "stream",
     "text": [
      "tensor([[ 0.9770,  0.5219, -0.5908,  ...,  0.9328,  0.1308, -0.5148]],\n",
      "       grad_fn=<SelectBackward0>)\n",
      "tensor([[ 0.9248,  0.5461, -0.4824,  ...,  0.7143, -0.0326, -0.3788]],\n",
      "       grad_fn=<SelectBackward0>)\n",
      "tensor([[ 0.8559,  0.5523, -0.5329,  ...,  0.8630,  0.0196, -0.4594]],\n",
      "       grad_fn=<SelectBackward0>)\n",
      "tensor([[ 1.1855,  0.7464, -0.8031,  ...,  0.0654,  0.3510, -0.7310]],\n",
      "       grad_fn=<SelectBackward0>)\n",
      "tensor([[ 0.6374,  1.1278, -0.2586,  ..., -0.3083,  0.1837,  0.1355]],\n",
      "       grad_fn=<SelectBackward0>)\n"
     ]
    }
   ],
   "source": [
    "for i in abcde:\n",
    "    print(bart_pad_cls_emb(i))"
   ]
  },
  {
   "cell_type": "code",
   "execution_count": 44,
   "metadata": {},
   "outputs": [
    {
     "name": "stdout",
     "output_type": "stream",
     "text": [
      "tensor([[ 0.9770,  0.5219, -0.5908,  ...,  0.9328,  0.1308, -0.5148],\n",
      "        [ 0.9248,  0.5461, -0.4824,  ...,  0.7143, -0.0326, -0.3788],\n",
      "        [ 0.8559,  0.5523, -0.5329,  ...,  0.8630,  0.0196, -0.4594],\n",
      "        [ 1.1855,  0.7464, -0.8031,  ...,  0.0654,  0.3510, -0.7310],\n",
      "        [ 0.6374,  1.1278, -0.2586,  ..., -0.3083,  0.1837,  0.1355]],\n",
      "       grad_fn=<SelectBackward0>)\n"
     ]
    }
   ],
   "source": [
    "print(bart_pad_cls_emb(abcde))"
   ]
  },
  {
   "cell_type": "code",
   "execution_count": 40,
   "metadata": {},
   "outputs": [
    {
     "name": "stdout",
     "output_type": "stream",
     "text": [
      "tensor([[ 0.1276,  0.8422, -0.4601,  ...,  0.7251,  0.2987,  0.0513]],\n",
      "       grad_fn=<DivBackward0>)\n",
      "tensor([[-0.0174,  0.8903, -0.3392,  ...,  0.5345,  0.2470,  0.2135]],\n",
      "       grad_fn=<DivBackward0>)\n",
      "tensor([[-1.5043e-02,  7.7883e-01, -3.3464e-01,  ...,  6.7676e-01,\n",
      "          1.2624e-01, -5.8051e-04]], grad_fn=<DivBackward0>)\n",
      "tensor([[ 0.4228,  0.3790, -0.9571,  ..., -0.1875,  0.1752, -0.5779]],\n",
      "       grad_fn=<DivBackward0>)\n",
      "tensor([[ 0.7454,  1.2256, -0.4385,  ..., -0.1347, -0.0076,  0.1285]],\n",
      "       grad_fn=<DivBackward0>)\n"
     ]
    }
   ],
   "source": [
    "for i in abcde:\n",
    "    print(bart_mean_emb(i))"
   ]
  },
  {
   "cell_type": "code",
   "execution_count": 43,
   "metadata": {},
   "outputs": [
    {
     "name": "stdout",
     "output_type": "stream",
     "text": [
      "tensor([[ 0.1276,  0.8422, -0.4601,  ...,  0.7251,  0.2987,  0.0513]],\n",
      "       grad_fn=<DivBackward0>)\n",
      "tensor([[-0.0174,  0.8903, -0.3392,  ...,  0.5345,  0.2470,  0.2135]],\n",
      "       grad_fn=<DivBackward0>)\n",
      "tensor([[-1.5043e-02,  7.7883e-01, -3.3464e-01,  ...,  6.7676e-01,\n",
      "          1.2624e-01, -5.8051e-04]], grad_fn=<DivBackward0>)\n",
      "tensor([[ 0.4228,  0.3790, -0.9571,  ..., -0.1875,  0.1752, -0.5779]],\n",
      "       grad_fn=<DivBackward0>)\n",
      "tensor([[ 0.7454,  1.2256, -0.4385,  ..., -0.1347, -0.0076,  0.1285]],\n",
      "       grad_fn=<DivBackward0>)\n"
     ]
    }
   ],
   "source": [
    "for i in abcde:\n",
    "    print(bart_pad_mean_emb(i))"
   ]
  },
  {
   "cell_type": "code",
   "execution_count": 45,
   "metadata": {},
   "outputs": [
    {
     "name": "stdout",
     "output_type": "stream",
     "text": [
      "tensor([[ 1.2758e-01,  8.4224e-01, -4.6007e-01,  ...,  7.2510e-01,\n",
      "          2.9873e-01,  5.1315e-02],\n",
      "        [-1.7448e-02,  8.9026e-01, -3.3915e-01,  ...,  5.3452e-01,\n",
      "          2.4703e-01,  2.1352e-01],\n",
      "        [-1.5043e-02,  7.7883e-01, -3.3464e-01,  ...,  6.7676e-01,\n",
      "          1.2624e-01, -5.8100e-04],\n",
      "        [ 4.2275e-01,  3.7902e-01, -9.5708e-01,  ..., -1.8747e-01,\n",
      "          1.7521e-01, -5.7789e-01],\n",
      "        [ 7.4544e-01,  1.2256e+00, -4.3848e-01,  ..., -1.3469e-01,\n",
      "         -7.5986e-03,  1.2847e-01]], grad_fn=<DivBackward0>)\n"
     ]
    }
   ],
   "source": [
    "print(bart_pad_mean_emb(abcde))"
   ]
  },
  {
   "cell_type": "code",
   "execution_count": 16,
   "metadata": {},
   "outputs": [
    {
     "data": {
      "text/plain": [
       "tensor(0.9938, grad_fn=<SumBackward1>)"
      ]
     },
     "execution_count": 16,
     "metadata": {},
     "output_type": "execute_result"
    }
   ],
   "source": [
    "torch.nn.CosineSimilarity(dim=0, eps=1e-8)(bart_cls_emb(a)[0], bart_cls_emb(b)[0])"
   ]
  },
  {
   "cell_type": "code",
   "execution_count": 17,
   "metadata": {},
   "outputs": [
    {
     "data": {
      "text/plain": [
       "tensor([0.9938], grad_fn=<SumBackward1>)"
      ]
     },
     "execution_count": 17,
     "metadata": {},
     "output_type": "execute_result"
    }
   ],
   "source": [
    "torch.nn.CosineSimilarity(dim=1, eps=1e-8)(bart_cls_emb(a), bart_cls_emb(b))"
   ]
  },
  {
   "cell_type": "code",
   "execution_count": 19,
   "metadata": {},
   "outputs": [
    {
     "data": {
      "text/plain": [
       "tensor([ 1.,  1.,  1.,  ...,  1., -1.,  1.], grad_fn=<SumBackward1>)"
      ]
     },
     "execution_count": 19,
     "metadata": {},
     "output_type": "execute_result"
    }
   ],
   "source": [
    "torch.nn.CosineSimilarity(dim=0, eps=1e-8)(bart_cls_emb(a), bart_cls_emb(b))"
   ]
  },
  {
   "cell_type": "code",
   "execution_count": 20,
   "metadata": {},
   "outputs": [],
   "source": [
    "cos_sim = torch.nn.CosineSimilarity(dim=1, eps=1e-8)"
   ]
  },
  {
   "cell_type": "code",
   "execution_count": 18,
   "metadata": {},
   "outputs": [
    {
     "data": {
      "text/plain": [
       "torch.Size([1, 1024])"
      ]
     },
     "execution_count": 18,
     "metadata": {},
     "output_type": "execute_result"
    }
   ],
   "source": [
    "bart_cls_emb(a).shape"
   ]
  },
  {
   "cell_type": "code",
   "execution_count": 49,
   "metadata": {},
   "outputs": [
    {
     "data": {
      "text/plain": [
       "(torch.Size([3, 2, 7, 9]),\n",
       " tensor([[[[0.1000, 0.2000, 0.3000, 0.4000, 0.5000, 0.6000, 0.7000, 0.8000,\n",
       "            0.9000],\n",
       "           [0.1000, 0.2000, 0.3000, 0.4000, 0.5000, 0.6000, 0.7000, 0.8000,\n",
       "            0.9000],\n",
       "           [0.1000, 0.2000, 0.3000, 0.4000, 0.5000, 0.6000, 0.7000, 0.8000,\n",
       "            0.9000],\n",
       "           [0.1000, 0.2000, 0.3000, 0.4000, 0.5000, 0.6000, 0.7000, 0.8000,\n",
       "            0.9000],\n",
       "           [0.1000, 0.2000, 0.3000, 0.4000, 0.5000, 0.6000, 0.7000, 0.8000,\n",
       "            0.9000],\n",
       "           [0.1000, 0.2000, 0.3000, 0.4000, 0.5000, 0.6000, 0.7000, 0.8000,\n",
       "            0.9000],\n",
       "           [0.1000, 0.2000, 0.3000, 0.4000, 0.5000, 0.6000, 0.7000, 0.8000,\n",
       "            0.9000]],\n",
       " \n",
       "          [[0.1000, 0.2000, 0.3000, 0.4000, 0.5000, 0.6000, 0.7000, 0.8000,\n",
       "            0.9000],\n",
       "           [0.1000, 0.2000, 0.3000, 0.4000, 0.5000, 0.6000, 0.7000, 0.8000,\n",
       "            0.9000],\n",
       "           [0.1000, 0.2000, 0.3000, 0.4000, 0.5000, 0.6000, 0.7000, 0.8000,\n",
       "            0.9000],\n",
       "           [0.1000, 0.2000, 0.3000, 0.4000, 0.5000, 0.6000, 0.7000, 0.8000,\n",
       "            0.9000],\n",
       "           [0.1000, 0.2000, 0.3000, 0.4000, 0.5000, 0.6000, 0.7000, 0.8000,\n",
       "            0.9000],\n",
       "           [0.1000, 0.2000, 0.3000, 0.4000, 0.5000, 0.6000, 0.7000, 0.8000,\n",
       "            0.9000],\n",
       "           [0.1000, 0.2000, 0.3000, 0.4000, 0.5000, 0.6000, 0.7000, 0.8000,\n",
       "            0.9000]]],\n",
       " \n",
       " \n",
       "         [[[0.1000, 0.2000, 0.3000, 0.4000, 0.5000, 0.6000, 0.7000, 0.8000,\n",
       "            0.9000],\n",
       "           [0.1000, 0.2000, 0.3000, 0.4000, 0.5000, 0.6000, 0.7000, 0.8000,\n",
       "            0.9000],\n",
       "           [0.1000, 0.2000, 0.3000, 0.4000, 0.5000, 0.6000, 0.7000, 0.8000,\n",
       "            0.9000],\n",
       "           [0.1000, 0.2000, 0.3000, 0.4000, 0.5000, 0.6000, 0.7000, 0.8000,\n",
       "            0.9000],\n",
       "           [0.1000, 0.2000, 0.3000, 0.4000, 0.5000, 0.6000, 0.7000, 0.8000,\n",
       "            0.9000],\n",
       "           [0.1000, 0.2000, 0.3000, 0.4000, 0.5000, 0.6000, 0.7000, 0.8000,\n",
       "            0.9000],\n",
       "           [0.1000, 0.2000, 0.3000, 0.4000, 0.5000, 0.6000, 0.7000, 0.8000,\n",
       "            0.9000]],\n",
       " \n",
       "          [[0.1000, 0.2000, 0.3000, 0.4000, 0.5000, 0.6000, 0.7000, 0.8000,\n",
       "            0.9000],\n",
       "           [0.1000, 0.2000, 0.3000, 0.4000, 0.5000, 0.6000, 0.7000, 0.8000,\n",
       "            0.9000],\n",
       "           [0.1000, 0.2000, 0.3000, 0.4000, 0.5000, 0.6000, 0.7000, 0.8000,\n",
       "            0.9000],\n",
       "           [0.1000, 0.2000, 0.3000, 0.4000, 0.5000, 0.6000, 0.7000, 0.8000,\n",
       "            0.9000],\n",
       "           [0.1000, 0.2000, 0.3000, 0.4000, 0.5000, 0.6000, 0.7000, 0.8000,\n",
       "            0.9000],\n",
       "           [0.1000, 0.2000, 0.3000, 0.4000, 0.5000, 0.6000, 0.7000, 0.8000,\n",
       "            0.9000],\n",
       "           [0.1000, 0.2000, 0.3000, 0.4000, 0.5000, 0.6000, 0.7000, 0.8000,\n",
       "            0.9000]]],\n",
       " \n",
       " \n",
       "         [[[0.1000, 0.2000, 0.3000, 0.4000, 0.5000, 0.6000, 0.7000, 0.8000,\n",
       "            0.9000],\n",
       "           [0.1000, 0.2000, 0.3000, 0.4000, 0.5000, 0.6000, 0.7000, 0.8000,\n",
       "            0.9000],\n",
       "           [0.1000, 0.2000, 0.3000, 0.4000, 0.5000, 0.6000, 0.7000, 0.8000,\n",
       "            0.9000],\n",
       "           [0.1000, 0.2000, 0.3000, 0.4000, 0.5000, 0.6000, 0.7000, 0.8000,\n",
       "            0.9000],\n",
       "           [0.1000, 0.2000, 0.3000, 0.4000, 0.5000, 0.6000, 0.7000, 0.8000,\n",
       "            0.9000],\n",
       "           [0.1000, 0.2000, 0.3000, 0.4000, 0.5000, 0.6000, 0.7000, 0.8000,\n",
       "            0.9000],\n",
       "           [0.1000, 0.2000, 0.3000, 0.4000, 0.5000, 0.6000, 0.7000, 0.8000,\n",
       "            0.9000]],\n",
       " \n",
       "          [[0.1000, 0.2000, 0.3000, 0.4000, 0.5000, 0.6000, 0.7000, 0.8000,\n",
       "            0.9000],\n",
       "           [0.1000, 0.2000, 0.3000, 0.4000, 0.5000, 0.6000, 0.7000, 0.8000,\n",
       "            0.9000],\n",
       "           [0.1000, 0.2000, 0.3000, 0.4000, 0.5000, 0.6000, 0.7000, 0.8000,\n",
       "            0.9000],\n",
       "           [0.1000, 0.2000, 0.3000, 0.4000, 0.5000, 0.6000, 0.7000, 0.8000,\n",
       "            0.9000],\n",
       "           [0.1000, 0.2000, 0.3000, 0.4000, 0.5000, 0.6000, 0.7000, 0.8000,\n",
       "            0.9000],\n",
       "           [0.1000, 0.2000, 0.3000, 0.4000, 0.5000, 0.6000, 0.7000, 0.8000,\n",
       "            0.9000],\n",
       "           [0.1000, 0.2000, 0.3000, 0.4000, 0.5000, 0.6000, 0.7000, 0.8000,\n",
       "            0.9000]]]]))"
      ]
     },
     "execution_count": 49,
     "metadata": {},
     "output_type": "execute_result"
    }
   ],
   "source": [
    "z = [0.1, 0.2, 0.3, 0.4, 0.5, 0.6, 0.7, 0.8, 0.9]\n",
    "z5 = [z, z, z, z, z]\n",
    "z7 = [z,z,z,z,z,z,z]\n",
    "z2 = [z7, z7]\n",
    "\n",
    "zz = torch.tensor([z2, z2, z2])\n",
    "zz.shape, zz"
   ]
  },
  {
   "cell_type": "code",
   "execution_count": 59,
   "metadata": {},
   "outputs": [
    {
     "data": {
      "text/plain": [
       "torch.Size([2, 7, 9])"
      ]
     },
     "execution_count": 59,
     "metadata": {},
     "output_type": "execute_result"
    }
   ],
   "source": [
    "torch.nn.CosineSimilarity(dim=0, eps=1e-8)(zz, torch.tensor(z)).shape"
   ]
  },
  {
   "cell_type": "code",
   "execution_count": 70,
   "metadata": {},
   "outputs": [
    {
     "data": {
      "text/plain": [
       "(torch.Size([3, 2, 7, 9]), torch.Size([2, 7, 9]), torch.Size([3, 7, 9]))"
      ]
     },
     "execution_count": 70,
     "metadata": {},
     "output_type": "execute_result"
    }
   ],
   "source": [
    "zz.shape, torch.tensor(z2).shape, torch.nn.CosineSimilarity(dim=1, eps=1e-8)(zz, torch.tensor(z2)).shape"
   ]
  },
  {
   "cell_type": "code",
   "execution_count": 79,
   "metadata": {},
   "outputs": [
    {
     "ename": "RuntimeError",
     "evalue": "The size of tensor a (3) must match the size of tensor b (2) at non-singleton dimension 0",
     "output_type": "error",
     "traceback": [
      "\u001b[1;31m---------------------------------------------------------------------------\u001b[0m",
      "\u001b[1;31mRuntimeError\u001b[0m                              Traceback (most recent call last)",
      "Cell \u001b[1;32mIn[79], line 1\u001b[0m\n\u001b[1;32m----> 1\u001b[0m zz\u001b[38;5;241m.\u001b[39mshape, torch\u001b[38;5;241m.\u001b[39mtensor([z2, z2])\u001b[38;5;241m.\u001b[39mshape, \u001b[43mtorch\u001b[49m\u001b[38;5;241;43m.\u001b[39;49m\u001b[43mnn\u001b[49m\u001b[38;5;241;43m.\u001b[39;49m\u001b[43mCosineSimilarity\u001b[49m\u001b[43m(\u001b[49m\u001b[43mdim\u001b[49m\u001b[38;5;241;43m=\u001b[39;49m\u001b[38;5;241;43m2\u001b[39;49m\u001b[43m,\u001b[49m\u001b[43m \u001b[49m\u001b[43meps\u001b[49m\u001b[38;5;241;43m=\u001b[39;49m\u001b[38;5;241;43m1e-8\u001b[39;49m\u001b[43m)\u001b[49m\u001b[43m(\u001b[49m\u001b[43mzz\u001b[49m\u001b[43m,\u001b[49m\u001b[43m \u001b[49m\u001b[43mtorch\u001b[49m\u001b[38;5;241;43m.\u001b[39;49m\u001b[43mtensor\u001b[49m\u001b[43m(\u001b[49m\u001b[43m[\u001b[49m\u001b[43mz2\u001b[49m\u001b[43m,\u001b[49m\u001b[43m \u001b[49m\u001b[43mz2\u001b[49m\u001b[43m]\u001b[49m\u001b[43m)\u001b[49m\u001b[43m)\u001b[49m\u001b[38;5;241m.\u001b[39mshape\n",
      "File \u001b[1;32mc:\\Users\\Audric Ho\\Downloads\\LLM related stuff\\open_source\\embedding\\bart\\bart_large-venv\\Lib\\site-packages\\torch\\nn\\modules\\module.py:1532\u001b[0m, in \u001b[0;36mModule._wrapped_call_impl\u001b[1;34m(self, *args, **kwargs)\u001b[0m\n\u001b[0;32m   1530\u001b[0m     \u001b[38;5;28;01mreturn\u001b[39;00m \u001b[38;5;28mself\u001b[39m\u001b[38;5;241m.\u001b[39m_compiled_call_impl(\u001b[38;5;241m*\u001b[39margs, \u001b[38;5;241m*\u001b[39m\u001b[38;5;241m*\u001b[39mkwargs)  \u001b[38;5;66;03m# type: ignore[misc]\u001b[39;00m\n\u001b[0;32m   1531\u001b[0m \u001b[38;5;28;01melse\u001b[39;00m:\n\u001b[1;32m-> 1532\u001b[0m     \u001b[38;5;28;01mreturn\u001b[39;00m \u001b[38;5;28;43mself\u001b[39;49m\u001b[38;5;241;43m.\u001b[39;49m\u001b[43m_call_impl\u001b[49m\u001b[43m(\u001b[49m\u001b[38;5;241;43m*\u001b[39;49m\u001b[43margs\u001b[49m\u001b[43m,\u001b[49m\u001b[43m \u001b[49m\u001b[38;5;241;43m*\u001b[39;49m\u001b[38;5;241;43m*\u001b[39;49m\u001b[43mkwargs\u001b[49m\u001b[43m)\u001b[49m\n",
      "File \u001b[1;32mc:\\Users\\Audric Ho\\Downloads\\LLM related stuff\\open_source\\embedding\\bart\\bart_large-venv\\Lib\\site-packages\\torch\\nn\\modules\\module.py:1541\u001b[0m, in \u001b[0;36mModule._call_impl\u001b[1;34m(self, *args, **kwargs)\u001b[0m\n\u001b[0;32m   1536\u001b[0m \u001b[38;5;66;03m# If we don't have any hooks, we want to skip the rest of the logic in\u001b[39;00m\n\u001b[0;32m   1537\u001b[0m \u001b[38;5;66;03m# this function, and just call forward.\u001b[39;00m\n\u001b[0;32m   1538\u001b[0m \u001b[38;5;28;01mif\u001b[39;00m \u001b[38;5;129;01mnot\u001b[39;00m (\u001b[38;5;28mself\u001b[39m\u001b[38;5;241m.\u001b[39m_backward_hooks \u001b[38;5;129;01mor\u001b[39;00m \u001b[38;5;28mself\u001b[39m\u001b[38;5;241m.\u001b[39m_backward_pre_hooks \u001b[38;5;129;01mor\u001b[39;00m \u001b[38;5;28mself\u001b[39m\u001b[38;5;241m.\u001b[39m_forward_hooks \u001b[38;5;129;01mor\u001b[39;00m \u001b[38;5;28mself\u001b[39m\u001b[38;5;241m.\u001b[39m_forward_pre_hooks\n\u001b[0;32m   1539\u001b[0m         \u001b[38;5;129;01mor\u001b[39;00m _global_backward_pre_hooks \u001b[38;5;129;01mor\u001b[39;00m _global_backward_hooks\n\u001b[0;32m   1540\u001b[0m         \u001b[38;5;129;01mor\u001b[39;00m _global_forward_hooks \u001b[38;5;129;01mor\u001b[39;00m _global_forward_pre_hooks):\n\u001b[1;32m-> 1541\u001b[0m     \u001b[38;5;28;01mreturn\u001b[39;00m \u001b[43mforward_call\u001b[49m\u001b[43m(\u001b[49m\u001b[38;5;241;43m*\u001b[39;49m\u001b[43margs\u001b[49m\u001b[43m,\u001b[49m\u001b[43m \u001b[49m\u001b[38;5;241;43m*\u001b[39;49m\u001b[38;5;241;43m*\u001b[39;49m\u001b[43mkwargs\u001b[49m\u001b[43m)\u001b[49m\n\u001b[0;32m   1543\u001b[0m \u001b[38;5;28;01mtry\u001b[39;00m:\n\u001b[0;32m   1544\u001b[0m     result \u001b[38;5;241m=\u001b[39m \u001b[38;5;28;01mNone\u001b[39;00m\n",
      "File \u001b[1;32mc:\\Users\\Audric Ho\\Downloads\\LLM related stuff\\open_source\\embedding\\bart\\bart_large-venv\\Lib\\site-packages\\torch\\nn\\modules\\distance.py:89\u001b[0m, in \u001b[0;36mCosineSimilarity.forward\u001b[1;34m(self, x1, x2)\u001b[0m\n\u001b[0;32m     88\u001b[0m \u001b[38;5;28;01mdef\u001b[39;00m \u001b[38;5;21mforward\u001b[39m(\u001b[38;5;28mself\u001b[39m, x1: Tensor, x2: Tensor) \u001b[38;5;241m-\u001b[39m\u001b[38;5;241m>\u001b[39m Tensor:\n\u001b[1;32m---> 89\u001b[0m     \u001b[38;5;28;01mreturn\u001b[39;00m \u001b[43mF\u001b[49m\u001b[38;5;241;43m.\u001b[39;49m\u001b[43mcosine_similarity\u001b[49m\u001b[43m(\u001b[49m\u001b[43mx1\u001b[49m\u001b[43m,\u001b[49m\u001b[43m \u001b[49m\u001b[43mx2\u001b[49m\u001b[43m,\u001b[49m\u001b[43m \u001b[49m\u001b[38;5;28;43mself\u001b[39;49m\u001b[38;5;241;43m.\u001b[39;49m\u001b[43mdim\u001b[49m\u001b[43m,\u001b[49m\u001b[43m \u001b[49m\u001b[38;5;28;43mself\u001b[39;49m\u001b[38;5;241;43m.\u001b[39;49m\u001b[43meps\u001b[49m\u001b[43m)\u001b[49m\n",
      "\u001b[1;31mRuntimeError\u001b[0m: The size of tensor a (3) must match the size of tensor b (2) at non-singleton dimension 0"
     ]
    }
   ],
   "source": [
    "zz.shape, torch.tensor([z2, z2]).shape, torch.nn.CosineSimilarity(dim=2, eps=1e-8)(zz, torch.tensor([z2, z2])).shape"
   ]
  },
  {
   "cell_type": "code",
   "execution_count": 53,
   "metadata": {},
   "outputs": [
    {
     "data": {
      "text/plain": [
       "tensor([[[1., 1., 1., 1., 1., 1., 1.],\n",
       "         [1., 1., 1., 1., 1., 1., 1.]],\n",
       "\n",
       "        [[1., 1., 1., 1., 1., 1., 1.],\n",
       "         [1., 1., 1., 1., 1., 1., 1.]],\n",
       "\n",
       "        [[1., 1., 1., 1., 1., 1., 1.],\n",
       "         [1., 1., 1., 1., 1., 1., 1.]]])"
      ]
     },
     "execution_count": 53,
     "metadata": {},
     "output_type": "execute_result"
    }
   ],
   "source": [
    "torch.nn.CosineSimilarity(dim=3, eps=1e-8)(zz, zz)"
   ]
  },
  {
   "cell_type": "code",
   "execution_count": 28,
   "metadata": {},
   "outputs": [
    {
     "data": {
      "text/plain": [
       "tensor([[ 1.1855,  0.7464, -0.8031,  ...,  0.0654,  0.3510, -0.7310]],\n",
       "       grad_fn=<SelectBackward0>)"
      ]
     },
     "execution_count": 28,
     "metadata": {},
     "output_type": "execute_result"
    }
   ],
   "source": [
    "bart_cls_emb(d)"
   ]
  },
  {
   "cell_type": "code",
   "execution_count": 81,
   "metadata": {},
   "outputs": [],
   "source": [
    "def get_simi_level(emb_func, a, b):\n",
    "    cos_sim = torch.nn.CosineSimilarity(dim=1, eps=1e-8)\n",
    "    return cos_sim(emb_func(a), emb_func(b))"
   ]
  },
  {
   "cell_type": "code",
   "execution_count": 83,
   "metadata": {},
   "outputs": [
    {
     "name": "stdout",
     "output_type": "stream",
     "text": [
      "i love dogs == i love dogs : tensor([1.0000], grad_fn=<SumBackward1>)\n",
      "i love dogs == i like dogs : tensor([0.9938], grad_fn=<SumBackward1>)\n",
      "i love dogs == i hate cats : tensor([0.9957], grad_fn=<SumBackward1>)\n",
      "i love dogs == earth is yellow and flat : tensor([0.6725], grad_fn=<SumBackward1>)\n",
      "i love dogs == tonight is the dire of your fight : tensor([0.7309], grad_fn=<SumBackward1>)\n",
      "\n",
      "i like dogs == i love dogs : tensor([0.9938], grad_fn=<SumBackward1>)\n",
      "i like dogs == i like dogs : tensor([1.0000], grad_fn=<SumBackward1>)\n",
      "i like dogs == i hate cats : tensor([0.9930], grad_fn=<SumBackward1>)\n",
      "i like dogs == earth is yellow and flat : tensor([0.6705], grad_fn=<SumBackward1>)\n",
      "i like dogs == tonight is the dire of your fight : tensor([0.7324], grad_fn=<SumBackward1>)\n",
      "\n",
      "i hate cats == i love dogs : tensor([0.9957], grad_fn=<SumBackward1>)\n",
      "i hate cats == i like dogs : tensor([0.9930], grad_fn=<SumBackward1>)\n",
      "i hate cats == i hate cats : tensor([1.0000], grad_fn=<SumBackward1>)\n",
      "i hate cats == earth is yellow and flat : tensor([0.6707], grad_fn=<SumBackward1>)\n",
      "i hate cats == tonight is the dire of your fight : tensor([0.7294], grad_fn=<SumBackward1>)\n",
      "\n",
      "earth is yellow and flat == i love dogs : tensor([0.6725], grad_fn=<SumBackward1>)\n",
      "earth is yellow and flat == i like dogs : tensor([0.6705], grad_fn=<SumBackward1>)\n",
      "earth is yellow and flat == i hate cats : tensor([0.6707], grad_fn=<SumBackward1>)\n",
      "earth is yellow and flat == earth is yellow and flat : tensor([1.0000], grad_fn=<SumBackward1>)\n",
      "earth is yellow and flat == tonight is the dire of your fight : tensor([0.5854], grad_fn=<SumBackward1>)\n",
      "\n",
      "tonight is the dire of your fight == i love dogs : tensor([0.7309], grad_fn=<SumBackward1>)\n",
      "tonight is the dire of your fight == i like dogs : tensor([0.7324], grad_fn=<SumBackward1>)\n",
      "tonight is the dire of your fight == i hate cats : tensor([0.7294], grad_fn=<SumBackward1>)\n",
      "tonight is the dire of your fight == earth is yellow and flat : tensor([0.5854], grad_fn=<SumBackward1>)\n",
      "tonight is the dire of your fight == tonight is the dire of your fight : tensor([1.0000], grad_fn=<SumBackward1>)\n",
      "\n"
     ]
    }
   ],
   "source": [
    "for i in abcde:\n",
    "    for j in abcde:\n",
    "        print(f\"{i} == {j} : {get_simi_level(bart_cls_emb, i, j)}\")\n",
    "    print()"
   ]
  },
  {
   "cell_type": "code",
   "execution_count": 84,
   "metadata": {},
   "outputs": [
    {
     "name": "stdout",
     "output_type": "stream",
     "text": [
      "i love dogs == i love dogs : tensor([1.0000], grad_fn=<SumBackward1>)\n",
      "i love dogs == i like dogs : tensor([0.9606], grad_fn=<SumBackward1>)\n",
      "i love dogs == i hate cats : tensor([0.9533], grad_fn=<SumBackward1>)\n",
      "i love dogs == earth is yellow and flat : tensor([0.5585], grad_fn=<SumBackward1>)\n",
      "i love dogs == tonight is the dire of your fight : tensor([0.4902], grad_fn=<SumBackward1>)\n",
      "\n",
      "i like dogs == i love dogs : tensor([0.9606], grad_fn=<SumBackward1>)\n",
      "i like dogs == i like dogs : tensor([1.], grad_fn=<SumBackward1>)\n",
      "i like dogs == i hate cats : tensor([0.9584], grad_fn=<SumBackward1>)\n",
      "i like dogs == earth is yellow and flat : tensor([0.5708], grad_fn=<SumBackward1>)\n",
      "i like dogs == tonight is the dire of your fight : tensor([0.5138], grad_fn=<SumBackward1>)\n",
      "\n",
      "i hate cats == i love dogs : tensor([0.9533], grad_fn=<SumBackward1>)\n",
      "i hate cats == i like dogs : tensor([0.9584], grad_fn=<SumBackward1>)\n",
      "i hate cats == i hate cats : tensor([1.], grad_fn=<SumBackward1>)\n",
      "i hate cats == earth is yellow and flat : tensor([0.5604], grad_fn=<SumBackward1>)\n",
      "i hate cats == tonight is the dire of your fight : tensor([0.5113], grad_fn=<SumBackward1>)\n",
      "\n",
      "earth is yellow and flat == i love dogs : tensor([0.5585], grad_fn=<SumBackward1>)\n",
      "earth is yellow and flat == i like dogs : tensor([0.5708], grad_fn=<SumBackward1>)\n",
      "earth is yellow and flat == i hate cats : tensor([0.5604], grad_fn=<SumBackward1>)\n",
      "earth is yellow and flat == earth is yellow and flat : tensor([1.0000], grad_fn=<SumBackward1>)\n",
      "earth is yellow and flat == tonight is the dire of your fight : tensor([0.4481], grad_fn=<SumBackward1>)\n",
      "\n",
      "tonight is the dire of your fight == i love dogs : tensor([0.4902], grad_fn=<SumBackward1>)\n",
      "tonight is the dire of your fight == i like dogs : tensor([0.5138], grad_fn=<SumBackward1>)\n",
      "tonight is the dire of your fight == i hate cats : tensor([0.5113], grad_fn=<SumBackward1>)\n",
      "tonight is the dire of your fight == earth is yellow and flat : tensor([0.4481], grad_fn=<SumBackward1>)\n",
      "tonight is the dire of your fight == tonight is the dire of your fight : tensor([1.0000], grad_fn=<SumBackward1>)\n",
      "\n"
     ]
    }
   ],
   "source": [
    "for i in abcde:\n",
    "    for j in abcde:\n",
    "        print(f\"{i} == {j} : {get_simi_level(bart_mean_emb, i, j)}\")\n",
    "    print()"
   ]
  },
  {
   "cell_type": "code",
   "execution_count": null,
   "metadata": {},
   "outputs": [],
   "source": []
  }
 ],
 "metadata": {
  "kernelspec": {
   "display_name": "bart_large-venv-kernel",
   "language": "python",
   "name": "bart_large-venv-kernel"
  },
  "language_info": {
   "codemirror_mode": {
    "name": "ipython",
    "version": 3
   },
   "file_extension": ".py",
   "mimetype": "text/x-python",
   "name": "python",
   "nbconvert_exporter": "python",
   "pygments_lexer": "ipython3",
   "version": "3.12.3"
  }
 },
 "nbformat": 4,
 "nbformat_minor": 2
}
